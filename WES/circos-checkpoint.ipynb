{
 "cells": [
  {
   "cell_type": "code",
   "execution_count": null,
   "id": "209d8b0f",
   "metadata": {},
   "outputs": [],
   "source": [
    "library(circlize)\n",
    "library(ComplexHeatmap)\n",
    "library(ggplot2)\n",
    "library(dplyr)\n",
    "library(GenomicRanges)\n",
    "library(stringr)"
   ]
  },
  {
   "cell_type": "code",
   "execution_count": 2,
   "id": "802cbda1",
   "metadata": {},
   "outputs": [],
   "source": [
    "library(ggpubr)"
   ]
  },
  {
   "cell_type": "markdown",
   "id": "7f179f97",
   "metadata": {},
   "source": [
    "### load the cytobands"
   ]
  },
  {
   "cell_type": "code",
   "execution_count": 49,
   "id": "ac5f5410",
   "metadata": {},
   "outputs": [],
   "source": [
    "genome = read.table('/disk1/pengweixing/database/hg38/hg38.cytoBand.clean.txt',header=F,sep=\"\\t\")\n",
    "colnames(genome) = c(\"chr\",\"start\",\"end\",\"arm\",\"gene\")"
   ]
  },
  {
   "cell_type": "markdown",
   "id": "9353cc51",
   "metadata": {},
   "source": [
    "### load the phenotype"
   ]
  },
  {
   "cell_type": "code",
   "execution_count": 50,
   "id": "bc087a71",
   "metadata": {},
   "outputs": [],
   "source": [
    "phe <- readRDS('../phe_113.rdata')"
   ]
  },
  {
   "cell_type": "code",
   "execution_count": 51,
   "id": "99e0a919",
   "metadata": {},
   "outputs": [],
   "source": [
    "high_names <- phe[phe$group==\"High\",]$sample\n",
    "low_names <- phe[phe$group==\"Low\",]$sample\n",
    "neg_names <- phe[phe$group==\"negative\",]$sample"
   ]
  },
  {
   "cell_type": "markdown",
   "id": "646c600d",
   "metadata": {},
   "source": [
    "### load the CNA data"
   ]
  },
  {
   "cell_type": "code",
   "execution_count": 52,
   "id": "e209f2cb",
   "metadata": {},
   "outputs": [],
   "source": [
    "data <- read.table('All.sample.merge.cnv',header=F)"
   ]
  },
  {
   "cell_type": "code",
   "execution_count": 53,
   "id": "f696d835",
   "metadata": {},
   "outputs": [],
   "source": [
    "colnames(data) = c(\"chr\",'start','end','cn','type','sample')"
   ]
  },
  {
   "cell_type": "code",
   "execution_count": 54,
   "id": "5fd1ecc0",
   "metadata": {},
   "outputs": [],
   "source": [
    "data$sample %>% paste0('9D',.) %>% str_replace('T','') -> data$sample"
   ]
  },
  {
   "cell_type": "code",
   "execution_count": 55,
   "id": "5214f813",
   "metadata": {},
   "outputs": [
    {
     "data": {
      "text/html": [
       "<table class=\"dataframe\">\n",
       "<caption>A data.frame: 6 × 6</caption>\n",
       "<thead>\n",
       "\t<tr><th></th><th scope=col>chr</th><th scope=col>start</th><th scope=col>end</th><th scope=col>cn</th><th scope=col>type</th><th scope=col>sample</th></tr>\n",
       "\t<tr><th></th><th scope=col>&lt;chr&gt;</th><th scope=col>&lt;int&gt;</th><th scope=col>&lt;int&gt;</th><th scope=col>&lt;dbl&gt;</th><th scope=col>&lt;chr&gt;</th><th scope=col>&lt;chr&gt;</th></tr>\n",
       "</thead>\n",
       "<tbody>\n",
       "\t<tr><th scope=row>1</th><td>chr9 </td><td>35546521</td><td> 36110079</td><td>3.0</td><td>gain</td><td>9DW0002</td></tr>\n",
       "\t<tr><th scope=row>2</th><td>chr12</td><td>92929042</td><td>133234356</td><td>3.0</td><td>gain</td><td>9DW0002</td></tr>\n",
       "\t<tr><th scope=row>3</th><td>chr17</td><td>  410342</td><td>   601896</td><td>5.5</td><td>gain</td><td>9DW0002</td></tr>\n",
       "\t<tr><th scope=row>4</th><td>chr17</td><td>  623532</td><td>   864050</td><td>4.0</td><td>gain</td><td>9DW0002</td></tr>\n",
       "\t<tr><th scope=row>5</th><td>chr19</td><td>29528432</td><td> 39386799</td><td>3.5</td><td>gain</td><td>9DW0002</td></tr>\n",
       "\t<tr><th scope=row>6</th><td>chr19</td><td>39388338</td><td> 58571389</td><td>4.0</td><td>gain</td><td>9DW0002</td></tr>\n",
       "</tbody>\n",
       "</table>\n"
      ],
      "text/latex": [
       "A data.frame: 6 × 6\n",
       "\\begin{tabular}{r|llllll}\n",
       "  & chr & start & end & cn & type & sample\\\\\n",
       "  & <chr> & <int> & <int> & <dbl> & <chr> & <chr>\\\\\n",
       "\\hline\n",
       "\t1 & chr9  & 35546521 &  36110079 & 3.0 & gain & 9DW0002\\\\\n",
       "\t2 & chr12 & 92929042 & 133234356 & 3.0 & gain & 9DW0002\\\\\n",
       "\t3 & chr17 &   410342 &    601896 & 5.5 & gain & 9DW0002\\\\\n",
       "\t4 & chr17 &   623532 &    864050 & 4.0 & gain & 9DW0002\\\\\n",
       "\t5 & chr19 & 29528432 &  39386799 & 3.5 & gain & 9DW0002\\\\\n",
       "\t6 & chr19 & 39388338 &  58571389 & 4.0 & gain & 9DW0002\\\\\n",
       "\\end{tabular}\n"
      ],
      "text/markdown": [
       "\n",
       "A data.frame: 6 × 6\n",
       "\n",
       "| <!--/--> | chr &lt;chr&gt; | start &lt;int&gt; | end &lt;int&gt; | cn &lt;dbl&gt; | type &lt;chr&gt; | sample &lt;chr&gt; |\n",
       "|---|---|---|---|---|---|---|\n",
       "| 1 | chr9  | 35546521 |  36110079 | 3.0 | gain | 9DW0002 |\n",
       "| 2 | chr12 | 92929042 | 133234356 | 3.0 | gain | 9DW0002 |\n",
       "| 3 | chr17 |   410342 |    601896 | 5.5 | gain | 9DW0002 |\n",
       "| 4 | chr17 |   623532 |    864050 | 4.0 | gain | 9DW0002 |\n",
       "| 5 | chr19 | 29528432 |  39386799 | 3.5 | gain | 9DW0002 |\n",
       "| 6 | chr19 | 39388338 |  58571389 | 4.0 | gain | 9DW0002 |\n",
       "\n"
      ],
      "text/plain": [
       "  chr   start    end       cn  type sample \n",
       "1 chr9  35546521  36110079 3.0 gain 9DW0002\n",
       "2 chr12 92929042 133234356 3.0 gain 9DW0002\n",
       "3 chr17   410342    601896 5.5 gain 9DW0002\n",
       "4 chr17   623532    864050 4.0 gain 9DW0002\n",
       "5 chr19 29528432  39386799 3.5 gain 9DW0002\n",
       "6 chr19 39388338  58571389 4.0 gain 9DW0002"
      ]
     },
     "metadata": {},
     "output_type": "display_data"
    }
   ],
   "source": [
    "head(data)"
   ]
  },
  {
   "cell_type": "markdown",
   "id": "a8638441",
   "metadata": {},
   "source": [
    "### remove chrX and chrY "
   ]
  },
  {
   "cell_type": "code",
   "execution_count": 56,
   "id": "d49230ce",
   "metadata": {},
   "outputs": [],
   "source": [
    "data$chr %>% str_detect('chrY|chrX') %>% !. -> index\n",
    "data2 <- data[index,]"
   ]
  },
  {
   "cell_type": "markdown",
   "id": "22eaf4bf",
   "metadata": {},
   "source": [
    "### divide into high,Low,Neg"
   ]
  },
  {
   "cell_type": "code",
   "execution_count": 57,
   "id": "b3311b02",
   "metadata": {},
   "outputs": [],
   "source": [
    "High_data <- filter(data2,sample %in%  high_names)\n",
    "Low_data <- filter(data2,sample %in%  low_names)\n",
    "Neg_data <- filter(data2,sample %in%  neg_names)"
   ]
  },
  {
   "cell_type": "markdown",
   "id": "8065286a",
   "metadata": {},
   "source": [
    "### visualization"
   ]
  },
  {
   "cell_type": "code",
   "execution_count": 58,
   "id": "238dfd6f",
   "metadata": {},
   "outputs": [
    {
     "data": {
      "text/html": [
       "<table class=\"dataframe\">\n",
       "<caption>A data.frame: 6 × 6</caption>\n",
       "<thead>\n",
       "\t<tr><th></th><th scope=col>chr</th><th scope=col>start</th><th scope=col>end</th><th scope=col>cn</th><th scope=col>type</th><th scope=col>sample</th></tr>\n",
       "\t<tr><th></th><th scope=col>&lt;chr&gt;</th><th scope=col>&lt;int&gt;</th><th scope=col>&lt;int&gt;</th><th scope=col>&lt;dbl&gt;</th><th scope=col>&lt;chr&gt;</th><th scope=col>&lt;chr&gt;</th></tr>\n",
       "</thead>\n",
       "<tbody>\n",
       "\t<tr><th scope=row>1</th><td>chr9 </td><td>35546521</td><td> 36110079</td><td>3.0</td><td>gain</td><td>9DW0002</td></tr>\n",
       "\t<tr><th scope=row>2</th><td>chr12</td><td>92929042</td><td>133234356</td><td>3.0</td><td>gain</td><td>9DW0002</td></tr>\n",
       "\t<tr><th scope=row>3</th><td>chr17</td><td>  410342</td><td>   601896</td><td>5.5</td><td>gain</td><td>9DW0002</td></tr>\n",
       "\t<tr><th scope=row>4</th><td>chr17</td><td>  623532</td><td>   864050</td><td>4.0</td><td>gain</td><td>9DW0002</td></tr>\n",
       "\t<tr><th scope=row>5</th><td>chr19</td><td>29528432</td><td> 39386799</td><td>3.5</td><td>gain</td><td>9DW0002</td></tr>\n",
       "\t<tr><th scope=row>6</th><td>chr19</td><td>39388338</td><td> 58571389</td><td>4.0</td><td>gain</td><td>9DW0002</td></tr>\n",
       "</tbody>\n",
       "</table>\n"
      ],
      "text/latex": [
       "A data.frame: 6 × 6\n",
       "\\begin{tabular}{r|llllll}\n",
       "  & chr & start & end & cn & type & sample\\\\\n",
       "  & <chr> & <int> & <int> & <dbl> & <chr> & <chr>\\\\\n",
       "\\hline\n",
       "\t1 & chr9  & 35546521 &  36110079 & 3.0 & gain & 9DW0002\\\\\n",
       "\t2 & chr12 & 92929042 & 133234356 & 3.0 & gain & 9DW0002\\\\\n",
       "\t3 & chr17 &   410342 &    601896 & 5.5 & gain & 9DW0002\\\\\n",
       "\t4 & chr17 &   623532 &    864050 & 4.0 & gain & 9DW0002\\\\\n",
       "\t5 & chr19 & 29528432 &  39386799 & 3.5 & gain & 9DW0002\\\\\n",
       "\t6 & chr19 & 39388338 &  58571389 & 4.0 & gain & 9DW0002\\\\\n",
       "\\end{tabular}\n"
      ],
      "text/markdown": [
       "\n",
       "A data.frame: 6 × 6\n",
       "\n",
       "| <!--/--> | chr &lt;chr&gt; | start &lt;int&gt; | end &lt;int&gt; | cn &lt;dbl&gt; | type &lt;chr&gt; | sample &lt;chr&gt; |\n",
       "|---|---|---|---|---|---|---|\n",
       "| 1 | chr9  | 35546521 |  36110079 | 3.0 | gain | 9DW0002 |\n",
       "| 2 | chr12 | 92929042 | 133234356 | 3.0 | gain | 9DW0002 |\n",
       "| 3 | chr17 |   410342 |    601896 | 5.5 | gain | 9DW0002 |\n",
       "| 4 | chr17 |   623532 |    864050 | 4.0 | gain | 9DW0002 |\n",
       "| 5 | chr19 | 29528432 |  39386799 | 3.5 | gain | 9DW0002 |\n",
       "| 6 | chr19 | 39388338 |  58571389 | 4.0 | gain | 9DW0002 |\n",
       "\n"
      ],
      "text/plain": [
       "  chr   start    end       cn  type sample \n",
       "1 chr9  35546521  36110079 3.0 gain 9DW0002\n",
       "2 chr12 92929042 133234356 3.0 gain 9DW0002\n",
       "3 chr17   410342    601896 5.5 gain 9DW0002\n",
       "4 chr17   623532    864050 4.0 gain 9DW0002\n",
       "5 chr19 29528432  39386799 3.5 gain 9DW0002\n",
       "6 chr19 39388338  58571389 4.0 gain 9DW0002"
      ]
     },
     "metadata": {},
     "output_type": "display_data"
    }
   ],
   "source": [
    "head(High_data)"
   ]
  },
  {
   "cell_type": "code",
   "execution_count": 59,
   "id": "3d9e2ec4",
   "metadata": {},
   "outputs": [],
   "source": [
    "#select_region = data.frame(chr=c(\"chr9\",\"chr15\",\"chr19\",\"chr21\",\"chr13\",\"chr14\"),\n",
    " #                          start=c(38443195,85880806,20321755,10713803,96563004,44321977),\n",
    "#                           end=c(78680586,99504843,29734921,19834956,113514077,60705558))\n",
    "highlight_region = data.frame(chr=c(\"chr15\",\"chr20\",\"chr5\"),start=c(85880806,34887374,702009),\n",
    "                           end=c(99504843,66107544,39643934))\n",
    "colnames(highlight_region) = c('chr','start','end')"
   ]
  },
  {
   "cell_type": "code",
   "execution_count": 60,
   "id": "e35a63d8",
   "metadata": {},
   "outputs": [],
   "source": [
    "lgd_points = Legend(at = c(\"loss\", \"gain\"), \n",
    "    legend_gp = gpar(fill = c(\"#009489\",\"#c73857\")), title_position = \"topleft\", title = '',row_gap = unit(2, \"mm\"))"
   ]
  },
  {
   "cell_type": "code",
   "execution_count": 64,
   "id": "2cb4b4aa",
   "metadata": {},
   "outputs": [
    {
     "data": {
      "text/html": [
       "<strong>png:</strong> 2"
      ],
      "text/latex": [
       "\\textbf{png:} 2"
      ],
      "text/markdown": [
       "**png:** 2"
      ],
      "text/plain": [
       "png \n",
       "  2 "
      ]
     },
     "metadata": {},
     "output_type": "display_data"
    }
   ],
   "source": [
    "n = length(unique(High_data$sample))\n",
    "all_sample = unique(High_data$sample)\n",
    "pdf('High_CNA_circos.pdf',width = 6,height =6 )\n",
    "circos.initializeWithIdeogram(genome)\n",
    "circos.genomicTrack(High_data, ylim = c(0, n ),\n",
    "                    \n",
    "    panel.fun = function(region, value, ...) {\n",
    "        \n",
    "        value2 = value[value$type==\"loss\",]\n",
    "        region2 = region[value$type==\"loss\",]\n",
    "        temp_sample = unique(value2$sample)\n",
    "        for(i in seq_along(temp_sample)){ \n",
    "            \n",
    "            pos = match(temp_sample[i],all_sample)\n",
    "            l = value2$sample == temp_sample[i]\n",
    "            circos.genomicRect(region2[l,,drop=FALSE], ytop = n-pos+1+0.4, ybottom = n - pos+1-0.4 ,\n",
    "            col = \"#009489\",border=NA)  \n",
    "        }\n",
    "        \n",
    "        value2 = value[value$type==\"gain\",]\n",
    "        region2 = region[value$type==\"gain\",]\n",
    "        temp_sample = unique(value2$sample)\n",
    "        \n",
    "        for(i in seq_along(temp_sample)){ \n",
    "            \n",
    "            pos = match(temp_sample[i],all_sample)\n",
    "            l = value2$sample == temp_sample[i]\n",
    "            circos.genomicRect(region2[l,,drop=FALSE], ytop = n-pos+1+0.4, ybottom = n - pos+1-0.4 ,\n",
    "            col = \"#c73857\",border=NA)  \n",
    "        }\n",
    "        \n",
    "},                                \n",
    ",bg.border = 'black',track.height = 0.5)\n",
    "\n",
    "#for(i in 1:nrow(highlight_region)){\n",
    "\n",
    "#    circos.rect(highlight_region$start[i], -1, highlight_region$end[i], n+12, highlight_region$chr[i],col=add_transparency('#800080',transparency=0.9),border=\"#800080\")\n",
    "\n",
    "#}\n",
    "#circos.genomicLink(tra[,c(1,2)], tra[,c(3,4)], col = 'red', border = NA)  \n",
    "draw(lgd_points)\n",
    "dev.off()\n",
    "circos.clear()"
   ]
  },
  {
   "cell_type": "code",
   "execution_count": 65,
   "id": "0ee24b9f",
   "metadata": {},
   "outputs": [
    {
     "data": {
      "text/html": [
       "<strong>png:</strong> 2"
      ],
      "text/latex": [
       "\\textbf{png:} 2"
      ],
      "text/markdown": [
       "**png:** 2"
      ],
      "text/plain": [
       "png \n",
       "  2 "
      ]
     },
     "metadata": {},
     "output_type": "display_data"
    }
   ],
   "source": [
    "n = length(unique(Neg_data$sample))\n",
    "all_sample = unique(Neg_data$sample)\n",
    "pdf('Neg_CNA_circos.pdf',width = 6,height = 6)\n",
    "circos.initializeWithIdeogram(genome)\n",
    "circos.genomicTrack(Neg_data, ylim = c(0, n ),\n",
    "                    \n",
    "    panel.fun = function(region, value, ...) {\n",
    "        \n",
    "        value2 = value[value$type==\"loss\",]\n",
    "        region2 = region[value$type==\"loss\",]\n",
    "        temp_sample = unique(value2$sample)\n",
    "        for(i in seq_along(temp_sample)){ \n",
    "            \n",
    "            pos = match(temp_sample[i],all_sample)\n",
    "            l = value2$sample == temp_sample[i]\n",
    "            circos.genomicRect(region2[l,,drop=FALSE], ytop = n-pos+1+0.4, ybottom = n - pos+1-0.4 ,\n",
    "            col = \"#009489\",border=NA)  \n",
    "        }\n",
    "        \n",
    "        value2 = value[value$type==\"gain\",]\n",
    "        region2 = region[value$type==\"gain\",]\n",
    "        temp_sample = unique(value2$sample)\n",
    "        \n",
    "        for(i in seq_along(temp_sample)){ \n",
    "            \n",
    "            pos = match(temp_sample[i],all_sample)\n",
    "            l = value2$sample == temp_sample[i]\n",
    "            circos.genomicRect(region2[l,,drop=FALSE], ytop = n-pos+1+0.4, ybottom = n - pos+1-0.4 ,\n",
    "            col = \"#c73857\",border=NA)  \n",
    "        }\n",
    "        \n",
    "},                                \n",
    ",bg.border = 'black',track.height = 0.5)\n",
    "\n",
    "#for(i in 1:nrow(select_region)){\n",
    " #   print(i)\n",
    "#    circos.rect(select_region$start[i], -1, select_region$end[i], n+8, select_region$chr[i],col=add_transparency('#800080',transparency=0.9),border=\"#800080\")\n",
    "\n",
    "#}\n",
    "#circos.genomicLink(tra[,c(1,2)], tra[,c(3,4)], col = 'red', border = NA)  \n",
    "draw(lgd_points)\n",
    "dev.off()\n",
    "circos.clear()"
   ]
  },
  {
   "cell_type": "code",
   "execution_count": 66,
   "id": "cb386fd4",
   "metadata": {},
   "outputs": [
    {
     "data": {
      "text/html": [
       "<strong>png:</strong> 2"
      ],
      "text/latex": [
       "\\textbf{png:} 2"
      ],
      "text/markdown": [
       "**png:** 2"
      ],
      "text/plain": [
       "png \n",
       "  2 "
      ]
     },
     "metadata": {},
     "output_type": "display_data"
    }
   ],
   "source": [
    "n = length(unique(Low_data$sample))\n",
    "all_sample = unique(Low_data$sample)\n",
    "pdf('Low_CNA_circos.pdf',width = 6,height = 6)\n",
    "circos.initializeWithIdeogram(genome)\n",
    "circos.genomicTrack(Low_data, ylim = c(0, n ),\n",
    "                    \n",
    "    panel.fun = function(region, value, ...) {\n",
    "        \n",
    "        value2 = value[value$type==\"loss\",]\n",
    "        region2 = region[value$type==\"loss\",]\n",
    "        temp_sample = unique(value2$sample)\n",
    "        for(i in seq_along(temp_sample)){ \n",
    "            \n",
    "            pos = match(temp_sample[i],all_sample)\n",
    "            l = value2$sample == temp_sample[i]\n",
    "            circos.genomicRect(region2[l,,drop=FALSE], ytop = n-pos+1+0.4, ybottom = n - pos+1-0.4 ,\n",
    "            col = \"#009489\",border=NA)  \n",
    "        }\n",
    "        \n",
    "        value2 = value[value$type==\"gain\",]\n",
    "        region2 = region[value$type==\"gain\",]\n",
    "        temp_sample = unique(value2$sample)\n",
    "        \n",
    "        for(i in seq_along(temp_sample)){ \n",
    "            \n",
    "            pos = match(temp_sample[i],all_sample)\n",
    "            l = value2$sample == temp_sample[i]\n",
    "            circos.genomicRect(region2[l,,drop=FALSE], ytop = n-pos+1+0.4, ybottom = n - pos+1-0.4 ,\n",
    "            col = \"#c73857\",border=NA)  \n",
    "        }\n",
    "        \n",
    "},                                \n",
    ",bg.border = 'black',track.height = 0.5)\n",
    "\n",
    "#for(i in 1:nrow(select_region)){\n",
    " #   print(i)\n",
    "#    circos.rect(select_region$start[i], -1, select_region$end[i], n+12, select_region$chr[i],col=add_transparency('#800080',transparency=0.9),border=\"#800080\")\n",
    "\n",
    "#}\n",
    "#circos.genomicLink(tra[,c(1,2)], tra[,c(3,4)], col = 'red', border = NA)  \n",
    "draw(lgd_points)\n",
    "dev.off()\n",
    "circos.clear()"
   ]
  },
  {
   "cell_type": "code",
   "execution_count": null,
   "id": "e8fa7852",
   "metadata": {},
   "outputs": [],
   "source": []
  },
  {
   "cell_type": "code",
   "execution_count": null,
   "id": "e0e2ae28",
   "metadata": {},
   "outputs": [],
   "source": []
  },
  {
   "cell_type": "code",
   "execution_count": null,
   "id": "0f2057a4",
   "metadata": {},
   "outputs": [],
   "source": []
  },
  {
   "cell_type": "code",
   "execution_count": null,
   "id": "97ffe10a",
   "metadata": {},
   "outputs": [],
   "source": []
  },
  {
   "cell_type": "code",
   "execution_count": null,
   "id": "11bd75ee",
   "metadata": {},
   "outputs": [],
   "source": []
  },
  {
   "cell_type": "code",
   "execution_count": null,
   "id": "4bcf18a0",
   "metadata": {},
   "outputs": [],
   "source": []
  }
 ],
 "metadata": {
  "kernelspec": {
   "display_name": "R",
   "language": "R",
   "name": "ir"
  },
  "language_info": {
   "codemirror_mode": "r",
   "file_extension": ".r",
   "mimetype": "text/x-r-source",
   "name": "R",
   "pygments_lexer": "r",
   "version": "4.2.2"
  }
 },
 "nbformat": 4,
 "nbformat_minor": 5
}
