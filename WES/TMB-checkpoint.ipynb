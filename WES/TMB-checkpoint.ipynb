{
 "cells": [
  {
   "cell_type": "code",
   "execution_count": null,
   "id": "8ffdb2ba",
   "metadata": {
    "scrolled": true
   },
   "outputs": [],
   "source": [
    "library(dplyr)\n",
    "library(DT)\n",
    "library(tidyverse)\n",
    "library(ggplot2)\n",
    "library(stringr)\n",
    "library(ggpubr)"
   ]
  },
  {
   "cell_type": "markdown",
   "id": "b82b63b4",
   "metadata": {},
   "source": [
    "### 1. load the all snvs"
   ]
  },
  {
   "cell_type": "code",
   "execution_count": 2,
   "id": "28722c7f",
   "metadata": {},
   "outputs": [],
   "source": [
    "snp <- read.table('all.maf',header=T,sep=\"\\t\",fill = T)"
   ]
  },
  {
   "cell_type": "code",
   "execution_count": 3,
   "id": "391e6116",
   "metadata": {},
   "outputs": [
    {
     "data": {
      "text/html": [
       "<table class=\"dataframe\">\n",
       "<caption>A data.frame: 6 × 11</caption>\n",
       "<thead>\n",
       "\t<tr><th></th><th scope=col>Hugo_Symbol</th><th scope=col>Chromosome</th><th scope=col>Start_Position</th><th scope=col>End_Position</th><th scope=col>Variant_Classification</th><th scope=col>Reference_Allele</th><th scope=col>Tumor_Seq_Allele2</th><th scope=col>Variant_Type</th><th scope=col>Tumor_Sample_Barcode</th><th scope=col>Protein_Change</th><th scope=col>BIOTYPE</th></tr>\n",
       "\t<tr><th></th><th scope=col>&lt;chr&gt;</th><th scope=col>&lt;chr&gt;</th><th scope=col>&lt;int&gt;</th><th scope=col>&lt;int&gt;</th><th scope=col>&lt;chr&gt;</th><th scope=col>&lt;chr&gt;</th><th scope=col>&lt;chr&gt;</th><th scope=col>&lt;chr&gt;</th><th scope=col>&lt;chr&gt;</th><th scope=col>&lt;chr&gt;</th><th scope=col>&lt;chr&gt;</th></tr>\n",
       "</thead>\n",
       "<tbody>\n",
       "\t<tr><th scope=row>1</th><td>LOC729737</td><td>chr1</td><td> 139148</td><td> 139148</td><td>non_coding_transcript_exon_variant</td><td>C</td><td>T</td><td>SNP</td><td>W0002_W0002B</td><td></td><td>pseudogene    </td></tr>\n",
       "\t<tr><th scope=row>2</th><td>SLC35E2B </td><td>chr1</td><td>1671469</td><td>1671469</td><td>intron_variant                    </td><td>G</td><td>A</td><td>SNP</td><td>W0002_W0002B</td><td></td><td>protein_coding</td></tr>\n",
       "\t<tr><th scope=row>3</th><td>WRAP73   </td><td>chr1</td><td>3627679</td><td>3627679</td><td>downstream_gene_variant           </td><td>C</td><td>A</td><td>SNP</td><td>W0002_W0002B</td><td></td><td>protein_coding</td></tr>\n",
       "\t<tr><th scope=row>4</th><td>NOL9     </td><td>chr1</td><td>6542016</td><td>6542016</td><td>intron_variant                    </td><td>G</td><td>C</td><td>SNP</td><td>W0002_W0002B</td><td></td><td>protein_coding</td></tr>\n",
       "\t<tr><th scope=row>5</th><td>KLHL21   </td><td>chr1</td><td>6586681</td><td>6586681</td><td>downstream_gene_variant           </td><td>C</td><td>T</td><td>SNP</td><td>W0002_W0002B</td><td></td><td>protein_coding</td></tr>\n",
       "\t<tr><th scope=row>6</th><td>CAMTA1   </td><td>chr1</td><td>7766275</td><td>7766275</td><td>intron_variant                    </td><td>G</td><td>A</td><td>SNP</td><td>W0002_W0002B</td><td></td><td>protein_coding</td></tr>\n",
       "</tbody>\n",
       "</table>\n"
      ],
      "text/latex": [
       "A data.frame: 6 × 11\n",
       "\\begin{tabular}{r|lllllllllll}\n",
       "  & Hugo\\_Symbol & Chromosome & Start\\_Position & End\\_Position & Variant\\_Classification & Reference\\_Allele & Tumor\\_Seq\\_Allele2 & Variant\\_Type & Tumor\\_Sample\\_Barcode & Protein\\_Change & BIOTYPE\\\\\n",
       "  & <chr> & <chr> & <int> & <int> & <chr> & <chr> & <chr> & <chr> & <chr> & <chr> & <chr>\\\\\n",
       "\\hline\n",
       "\t1 & LOC729737 & chr1 &  139148 &  139148 & non\\_coding\\_transcript\\_exon\\_variant & C & T & SNP & W0002\\_W0002B &  & pseudogene    \\\\\n",
       "\t2 & SLC35E2B  & chr1 & 1671469 & 1671469 & intron\\_variant                     & G & A & SNP & W0002\\_W0002B &  & protein\\_coding\\\\\n",
       "\t3 & WRAP73    & chr1 & 3627679 & 3627679 & downstream\\_gene\\_variant            & C & A & SNP & W0002\\_W0002B &  & protein\\_coding\\\\\n",
       "\t4 & NOL9      & chr1 & 6542016 & 6542016 & intron\\_variant                     & G & C & SNP & W0002\\_W0002B &  & protein\\_coding\\\\\n",
       "\t5 & KLHL21    & chr1 & 6586681 & 6586681 & downstream\\_gene\\_variant            & C & T & SNP & W0002\\_W0002B &  & protein\\_coding\\\\\n",
       "\t6 & CAMTA1    & chr1 & 7766275 & 7766275 & intron\\_variant                     & G & A & SNP & W0002\\_W0002B &  & protein\\_coding\\\\\n",
       "\\end{tabular}\n"
      ],
      "text/markdown": [
       "\n",
       "A data.frame: 6 × 11\n",
       "\n",
       "| <!--/--> | Hugo_Symbol &lt;chr&gt; | Chromosome &lt;chr&gt; | Start_Position &lt;int&gt; | End_Position &lt;int&gt; | Variant_Classification &lt;chr&gt; | Reference_Allele &lt;chr&gt; | Tumor_Seq_Allele2 &lt;chr&gt; | Variant_Type &lt;chr&gt; | Tumor_Sample_Barcode &lt;chr&gt; | Protein_Change &lt;chr&gt; | BIOTYPE &lt;chr&gt; |\n",
       "|---|---|---|---|---|---|---|---|---|---|---|---|\n",
       "| 1 | LOC729737 | chr1 |  139148 |  139148 | non_coding_transcript_exon_variant | C | T | SNP | W0002_W0002B | <!----> | pseudogene     |\n",
       "| 2 | SLC35E2B  | chr1 | 1671469 | 1671469 | intron_variant                     | G | A | SNP | W0002_W0002B | <!----> | protein_coding |\n",
       "| 3 | WRAP73    | chr1 | 3627679 | 3627679 | downstream_gene_variant            | C | A | SNP | W0002_W0002B | <!----> | protein_coding |\n",
       "| 4 | NOL9      | chr1 | 6542016 | 6542016 | intron_variant                     | G | C | SNP | W0002_W0002B | <!----> | protein_coding |\n",
       "| 5 | KLHL21    | chr1 | 6586681 | 6586681 | downstream_gene_variant            | C | T | SNP | W0002_W0002B | <!----> | protein_coding |\n",
       "| 6 | CAMTA1    | chr1 | 7766275 | 7766275 | intron_variant                     | G | A | SNP | W0002_W0002B | <!----> | protein_coding |\n",
       "\n"
      ],
      "text/plain": [
       "  Hugo_Symbol Chromosome Start_Position End_Position\n",
       "1 LOC729737   chr1        139148         139148     \n",
       "2 SLC35E2B    chr1       1671469        1671469     \n",
       "3 WRAP73      chr1       3627679        3627679     \n",
       "4 NOL9        chr1       6542016        6542016     \n",
       "5 KLHL21      chr1       6586681        6586681     \n",
       "6 CAMTA1      chr1       7766275        7766275     \n",
       "  Variant_Classification             Reference_Allele Tumor_Seq_Allele2\n",
       "1 non_coding_transcript_exon_variant C                T                \n",
       "2 intron_variant                     G                A                \n",
       "3 downstream_gene_variant            C                A                \n",
       "4 intron_variant                     G                C                \n",
       "5 downstream_gene_variant            C                T                \n",
       "6 intron_variant                     G                A                \n",
       "  Variant_Type Tumor_Sample_Barcode Protein_Change BIOTYPE       \n",
       "1 SNP          W0002_W0002B                        pseudogene    \n",
       "2 SNP          W0002_W0002B                        protein_coding\n",
       "3 SNP          W0002_W0002B                        protein_coding\n",
       "4 SNP          W0002_W0002B                        protein_coding\n",
       "5 SNP          W0002_W0002B                        protein_coding\n",
       "6 SNP          W0002_W0002B                        protein_coding"
      ]
     },
     "metadata": {},
     "output_type": "display_data"
    }
   ],
   "source": [
    "head(snp)"
   ]
  },
  {
   "cell_type": "code",
   "execution_count": 6,
   "id": "13657be9",
   "metadata": {},
   "outputs": [],
   "source": [
    "snp$pos <- paste0(snp$Chromosome,snp$Start_Position)"
   ]
  },
  {
   "cell_type": "code",
   "execution_count": 7,
   "id": "7bf046eb",
   "metadata": {},
   "outputs": [],
   "source": [
    "write.table(x=snp,file = \"all.addpos.maf\",quote = F,row.names = F,sep=\"\\t\")"
   ]
  },
  {
   "cell_type": "markdown",
   "id": "dc682e80",
   "metadata": {},
   "source": [
    "### 2. select cols"
   ]
  },
  {
   "cell_type": "code",
   "execution_count": 8,
   "id": "0e2afb0b",
   "metadata": {},
   "outputs": [],
   "source": [
    "snp2 <- snp[,c(2,3,4,8,9)]"
   ]
  },
  {
   "cell_type": "markdown",
   "id": "66c4831b",
   "metadata": {},
   "source": [
    "### 3.load the phenotypes"
   ]
  },
  {
   "cell_type": "code",
   "execution_count": 10,
   "id": "1b677e00",
   "metadata": {},
   "outputs": [],
   "source": [
    "phe <- readRDS('phe_113.rdata')"
   ]
  },
  {
   "cell_type": "code",
   "execution_count": 12,
   "id": "b64adf8b",
   "metadata": {},
   "outputs": [],
   "source": [
    "phe$sample %>% str_replace('9D','') -> rownames(phe)"
   ]
  },
  {
   "cell_type": "code",
   "execution_count": 90,
   "id": "c054a062",
   "metadata": {},
   "outputs": [],
   "source": [
    "phe$sample %>% str_replace('9D','') -> phe$sample"
   ]
  },
  {
   "cell_type": "code",
   "execution_count": 91,
   "id": "817b3814",
   "metadata": {},
   "outputs": [],
   "source": [
    "high_names <- filter(phe,group==\"High\") %>% rownames()\n",
    "neg_names <- filter(phe,group==\"negative\") %>% rownames()\n",
    "low_names <- filter(phe,group==\"Low\") %>% rownames()"
   ]
  },
  {
   "cell_type": "code",
   "execution_count": 92,
   "id": "a5c51507",
   "metadata": {},
   "outputs": [
    {
     "data": {
      "text/html": [
       "<table class=\"dataframe\">\n",
       "<caption>A data.frame: 6 × 20</caption>\n",
       "<thead>\n",
       "\t<tr><th></th><th scope=col>sample</th><th scope=col>name</th><th scope=col>ms_tumor</th><th scope=col>ms_normal</th><th scope=col>ms_ratio</th><th scope=col>status</th><th scope=col>year</th><th scope=col>group</th><th scope=col>group2</th><th scope=col>sex</th><th scope=col>age</th><th scope=col>area</th><th scope=col>smoke</th><th scope=col>alcohol</th><th scope=col>family_history</th><th scope=col>differentiation</th><th scope=col>number_of_lymph</th><th scope=col>Metastasis</th><th scope=col>TNM_stage</th><th scope=col>Stage</th></tr>\n",
       "\t<tr><th></th><th scope=col>&lt;chr&gt;</th><th scope=col>&lt;chr&gt;</th><th scope=col>&lt;dbl&gt;</th><th scope=col>&lt;dbl&gt;</th><th scope=col>&lt;dbl&gt;</th><th scope=col>&lt;int&gt;</th><th scope=col>&lt;dbl&gt;</th><th scope=col>&lt;chr&gt;</th><th scope=col>&lt;chr&gt;</th><th scope=col>&lt;chr&gt;</th><th scope=col>&lt;int&gt;</th><th scope=col>&lt;chr&gt;</th><th scope=col>&lt;chr&gt;</th><th scope=col>&lt;chr&gt;</th><th scope=col>&lt;chr&gt;</th><th scope=col>&lt;chr&gt;</th><th scope=col>&lt;int&gt;</th><th scope=col>&lt;chr&gt;</th><th scope=col>&lt;chr&gt;</th><th scope=col>&lt;chr&gt;</th></tr>\n",
       "</thead>\n",
       "<tbody>\n",
       "\t<tr><th scope=row>W0002</th><td>W0002</td><td>T2 </td><td>1.039</td><td>0.657</td><td>1.581431</td><td>1</td><td>3.347945</td><td>High    </td><td>High        </td><td>male  </td><td>64</td><td>higharea</td><td>no </td><td>no </td><td>negative</td><td>low   </td><td> 5</td><td>positive</td><td>T2N2M0 </td><td>IIIB</td></tr>\n",
       "\t<tr><th scope=row>W0003</th><td>W0003</td><td>T3 </td><td>0.832</td><td>0.939</td><td>0.886049</td><td>2</td><td>1.789041</td><td>Low     </td><td>Low_Negative</td><td>female</td><td>65</td><td>higharea</td><td>no </td><td>no </td><td>negative</td><td>low   </td><td>12</td><td>positive</td><td>T3N3M0 </td><td>IVA </td></tr>\n",
       "\t<tr><th scope=row>W0008</th><td>W0008</td><td>T8 </td><td>2.966</td><td>0.820</td><td>3.617073</td><td>1</td><td>3.342466</td><td>High    </td><td>High        </td><td>male  </td><td>82</td><td>higharea</td><td>yes</td><td>yes</td><td>positive</td><td>middle</td><td> 9</td><td>positive</td><td>T3N3M0 </td><td>IVA </td></tr>\n",
       "\t<tr><th scope=row>W0014</th><td>W0014</td><td>T14</td><td>1.120</td><td>0.550</td><td>2.036364</td><td>2</td><td>2.909589</td><td>High    </td><td>High        </td><td>male  </td><td>70</td><td>higharea</td><td>no </td><td>no </td><td>negative</td><td>middle</td><td> 6</td><td>positive</td><td>T3N2M0 </td><td>IIIB</td></tr>\n",
       "\t<tr><th scope=row>W0016</th><td>W0016</td><td>T16</td><td>   NA</td><td>   NA</td><td>0.000000</td><td>1</td><td>3.369863</td><td>negative</td><td>Low_Negative</td><td>male  </td><td>67</td><td>lowarea </td><td>yes</td><td>yes</td><td>positive</td><td>low   </td><td> 4</td><td>positive</td><td>T3N2M0 </td><td>IIIB</td></tr>\n",
       "\t<tr><th scope=row>W0021</th><td>W0021</td><td>T21</td><td>   NA</td><td>   NA</td><td>0.000000</td><td>1</td><td>3.367123</td><td>negative</td><td>Low_Negative</td><td>male  </td><td>60</td><td>higharea</td><td>no </td><td>no </td><td>positive</td><td>middle</td><td> 0</td><td>negative</td><td>T1bN0M0</td><td>IB  </td></tr>\n",
       "</tbody>\n",
       "</table>\n"
      ],
      "text/latex": [
       "A data.frame: 6 × 20\n",
       "\\begin{tabular}{r|llllllllllllllllllll}\n",
       "  & sample & name & ms\\_tumor & ms\\_normal & ms\\_ratio & status & year & group & group2 & sex & age & area & smoke & alcohol & family\\_history & differentiation & number\\_of\\_lymph & Metastasis & TNM\\_stage & Stage\\\\\n",
       "  & <chr> & <chr> & <dbl> & <dbl> & <dbl> & <int> & <dbl> & <chr> & <chr> & <chr> & <int> & <chr> & <chr> & <chr> & <chr> & <chr> & <int> & <chr> & <chr> & <chr>\\\\\n",
       "\\hline\n",
       "\tW0002 & W0002 & T2  & 1.039 & 0.657 & 1.581431 & 1 & 3.347945 & High     & High         & male   & 64 & higharea & no  & no  & negative & low    &  5 & positive & T2N2M0  & IIIB\\\\\n",
       "\tW0003 & W0003 & T3  & 0.832 & 0.939 & 0.886049 & 2 & 1.789041 & Low      & Low\\_Negative & female & 65 & higharea & no  & no  & negative & low    & 12 & positive & T3N3M0  & IVA \\\\\n",
       "\tW0008 & W0008 & T8  & 2.966 & 0.820 & 3.617073 & 1 & 3.342466 & High     & High         & male   & 82 & higharea & yes & yes & positive & middle &  9 & positive & T3N3M0  & IVA \\\\\n",
       "\tW0014 & W0014 & T14 & 1.120 & 0.550 & 2.036364 & 2 & 2.909589 & High     & High         & male   & 70 & higharea & no  & no  & negative & middle &  6 & positive & T3N2M0  & IIIB\\\\\n",
       "\tW0016 & W0016 & T16 &    NA &    NA & 0.000000 & 1 & 3.369863 & negative & Low\\_Negative & male   & 67 & lowarea  & yes & yes & positive & low    &  4 & positive & T3N2M0  & IIIB\\\\\n",
       "\tW0021 & W0021 & T21 &    NA &    NA & 0.000000 & 1 & 3.367123 & negative & Low\\_Negative & male   & 60 & higharea & no  & no  & positive & middle &  0 & negative & T1bN0M0 & IB  \\\\\n",
       "\\end{tabular}\n"
      ],
      "text/markdown": [
       "\n",
       "A data.frame: 6 × 20\n",
       "\n",
       "| <!--/--> | sample &lt;chr&gt; | name &lt;chr&gt; | ms_tumor &lt;dbl&gt; | ms_normal &lt;dbl&gt; | ms_ratio &lt;dbl&gt; | status &lt;int&gt; | year &lt;dbl&gt; | group &lt;chr&gt; | group2 &lt;chr&gt; | sex &lt;chr&gt; | age &lt;int&gt; | area &lt;chr&gt; | smoke &lt;chr&gt; | alcohol &lt;chr&gt; | family_history &lt;chr&gt; | differentiation &lt;chr&gt; | number_of_lymph &lt;int&gt; | Metastasis &lt;chr&gt; | TNM_stage &lt;chr&gt; | Stage &lt;chr&gt; |\n",
       "|---|---|---|---|---|---|---|---|---|---|---|---|---|---|---|---|---|---|---|---|---|\n",
       "| W0002 | W0002 | T2  | 1.039 | 0.657 | 1.581431 | 1 | 3.347945 | High     | High         | male   | 64 | higharea | no  | no  | negative | low    |  5 | positive | T2N2M0  | IIIB |\n",
       "| W0003 | W0003 | T3  | 0.832 | 0.939 | 0.886049 | 2 | 1.789041 | Low      | Low_Negative | female | 65 | higharea | no  | no  | negative | low    | 12 | positive | T3N3M0  | IVA  |\n",
       "| W0008 | W0008 | T8  | 2.966 | 0.820 | 3.617073 | 1 | 3.342466 | High     | High         | male   | 82 | higharea | yes | yes | positive | middle |  9 | positive | T3N3M0  | IVA  |\n",
       "| W0014 | W0014 | T14 | 1.120 | 0.550 | 2.036364 | 2 | 2.909589 | High     | High         | male   | 70 | higharea | no  | no  | negative | middle |  6 | positive | T3N2M0  | IIIB |\n",
       "| W0016 | W0016 | T16 |    NA |    NA | 0.000000 | 1 | 3.369863 | negative | Low_Negative | male   | 67 | lowarea  | yes | yes | positive | low    |  4 | positive | T3N2M0  | IIIB |\n",
       "| W0021 | W0021 | T21 |    NA |    NA | 0.000000 | 1 | 3.367123 | negative | Low_Negative | male   | 60 | higharea | no  | no  | positive | middle |  0 | negative | T1bN0M0 | IB   |\n",
       "\n"
      ],
      "text/plain": [
       "      sample name ms_tumor ms_normal ms_ratio status year     group   \n",
       "W0002 W0002  T2   1.039    0.657     1.581431 1      3.347945 High    \n",
       "W0003 W0003  T3   0.832    0.939     0.886049 2      1.789041 Low     \n",
       "W0008 W0008  T8   2.966    0.820     3.617073 1      3.342466 High    \n",
       "W0014 W0014  T14  1.120    0.550     2.036364 2      2.909589 High    \n",
       "W0016 W0016  T16     NA       NA     0.000000 1      3.369863 negative\n",
       "W0021 W0021  T21     NA       NA     0.000000 1      3.367123 negative\n",
       "      group2       sex    age area     smoke alcohol family_history\n",
       "W0002 High         male   64  higharea no    no      negative      \n",
       "W0003 Low_Negative female 65  higharea no    no      negative      \n",
       "W0008 High         male   82  higharea yes   yes     positive      \n",
       "W0014 High         male   70  higharea no    no      negative      \n",
       "W0016 Low_Negative male   67  lowarea  yes   yes     positive      \n",
       "W0021 Low_Negative male   60  higharea no    no      positive      \n",
       "      differentiation number_of_lymph Metastasis TNM_stage Stage\n",
       "W0002 low              5              positive   T2N2M0    IIIB \n",
       "W0003 low             12              positive   T3N3M0    IVA  \n",
       "W0008 middle           9              positive   T3N3M0    IVA  \n",
       "W0014 middle           6              positive   T3N2M0    IIIB \n",
       "W0016 low              4              positive   T3N2M0    IIIB \n",
       "W0021 middle           0              negative   T1bN0M0   IB   "
      ]
     },
     "metadata": {},
     "output_type": "display_data"
    }
   ],
   "source": [
    "head(phe)"
   ]
  },
  {
   "cell_type": "markdown",
   "id": "ba566bc7",
   "metadata": {},
   "source": [
    "### 4. filter with non-syn mutations"
   ]
  },
  {
   "cell_type": "code",
   "execution_count": 93,
   "id": "b467f6e7",
   "metadata": {},
   "outputs": [],
   "source": [
    "non_sense <- c(\"Nonsense_Mutation\",\"Missense_Mutation\",\"Splice_Site\",\"Frame_Shift_Ins\",\"In_Frame_Ins\",\n",
    "               \"Frame_Shift_Del\",\"In_Frame_Del\",\"Nonstop_Mutation\",\"Translation_Start_Site\",\"stop_retained_variant\",\n",
    "               \"exon_loss_variant\")"
   ]
  },
  {
   "cell_type": "code",
   "execution_count": 94,
   "id": "4ebf3a89",
   "metadata": {
    "scrolled": true
   },
   "outputs": [],
   "source": [
    "snp_mutations <- snp$Variant_Classification %in% non_sense %>% snp2[.,]"
   ]
  },
  {
   "cell_type": "code",
   "execution_count": 95,
   "id": "b7d129f0",
   "metadata": {
    "scrolled": true
   },
   "outputs": [],
   "source": [
    "snp_mutations$Tumor_Sample_Barcode %>% str_split('_') %>% sapply(.,FUN = function(x) x[1][1]) ->snp_mutations$Tumor_Sample_Barcode"
   ]
  },
  {
   "cell_type": "code",
   "execution_count": 96,
   "id": "184c3cfd",
   "metadata": {},
   "outputs": [
    {
     "data": {
      "text/html": [
       "<table class=\"dataframe\">\n",
       "<caption>A data.frame: 6 × 5</caption>\n",
       "<thead>\n",
       "\t<tr><th></th><th scope=col>Chromosome</th><th scope=col>Start_Position</th><th scope=col>End_Position</th><th scope=col>Variant_Type</th><th scope=col>Tumor_Sample_Barcode</th></tr>\n",
       "\t<tr><th></th><th scope=col>&lt;chr&gt;</th><th scope=col>&lt;int&gt;</th><th scope=col>&lt;int&gt;</th><th scope=col>&lt;chr&gt;</th><th scope=col>&lt;chr&gt;</th></tr>\n",
       "</thead>\n",
       "<tbody>\n",
       "\t<tr><th scope=row>17</th><td>chr1</td><td> 31814777</td><td> 31814777</td><td>SNP</td><td>W0002</td></tr>\n",
       "\t<tr><th scope=row>22</th><td>chr1</td><td> 36176378</td><td> 36176380</td><td>DEL</td><td>W0002</td></tr>\n",
       "\t<tr><th scope=row>29</th><td>chr1</td><td> 70173653</td><td> 70173653</td><td>SNP</td><td>W0002</td></tr>\n",
       "\t<tr><th scope=row>31</th><td>chr1</td><td> 74475676</td><td> 74475676</td><td>SNP</td><td>W0002</td></tr>\n",
       "\t<tr><th scope=row>39</th><td>chr1</td><td>101239759</td><td>101239759</td><td>SNP</td><td>W0002</td></tr>\n",
       "\t<tr><th scope=row>45</th><td>chr1</td><td>144435260</td><td>144435260</td><td>SNP</td><td>W0002</td></tr>\n",
       "</tbody>\n",
       "</table>\n"
      ],
      "text/latex": [
       "A data.frame: 6 × 5\n",
       "\\begin{tabular}{r|lllll}\n",
       "  & Chromosome & Start\\_Position & End\\_Position & Variant\\_Type & Tumor\\_Sample\\_Barcode\\\\\n",
       "  & <chr> & <int> & <int> & <chr> & <chr>\\\\\n",
       "\\hline\n",
       "\t17 & chr1 &  31814777 &  31814777 & SNP & W0002\\\\\n",
       "\t22 & chr1 &  36176378 &  36176380 & DEL & W0002\\\\\n",
       "\t29 & chr1 &  70173653 &  70173653 & SNP & W0002\\\\\n",
       "\t31 & chr1 &  74475676 &  74475676 & SNP & W0002\\\\\n",
       "\t39 & chr1 & 101239759 & 101239759 & SNP & W0002\\\\\n",
       "\t45 & chr1 & 144435260 & 144435260 & SNP & W0002\\\\\n",
       "\\end{tabular}\n"
      ],
      "text/markdown": [
       "\n",
       "A data.frame: 6 × 5\n",
       "\n",
       "| <!--/--> | Chromosome &lt;chr&gt; | Start_Position &lt;int&gt; | End_Position &lt;int&gt; | Variant_Type &lt;chr&gt; | Tumor_Sample_Barcode &lt;chr&gt; |\n",
       "|---|---|---|---|---|---|\n",
       "| 17 | chr1 |  31814777 |  31814777 | SNP | W0002 |\n",
       "| 22 | chr1 |  36176378 |  36176380 | DEL | W0002 |\n",
       "| 29 | chr1 |  70173653 |  70173653 | SNP | W0002 |\n",
       "| 31 | chr1 |  74475676 |  74475676 | SNP | W0002 |\n",
       "| 39 | chr1 | 101239759 | 101239759 | SNP | W0002 |\n",
       "| 45 | chr1 | 144435260 | 144435260 | SNP | W0002 |\n",
       "\n"
      ],
      "text/plain": [
       "   Chromosome Start_Position End_Position Variant_Type Tumor_Sample_Barcode\n",
       "17 chr1        31814777       31814777    SNP          W0002               \n",
       "22 chr1        36176378       36176380    DEL          W0002               \n",
       "29 chr1        70173653       70173653    SNP          W0002               \n",
       "31 chr1        74475676       74475676    SNP          W0002               \n",
       "39 chr1       101239759      101239759    SNP          W0002               \n",
       "45 chr1       144435260      144435260    SNP          W0002               "
      ]
     },
     "metadata": {},
     "output_type": "display_data"
    }
   ],
   "source": [
    "head(snp_mutations)"
   ]
  },
  {
   "cell_type": "code",
   "execution_count": 97,
   "id": "6ee342f1",
   "metadata": {
    "scrolled": true
   },
   "outputs": [],
   "source": [
    "snp_mutations$Tumor_Sample_Barcode %in% rownames(phe) %>% snp_mutations[.,] -> snp_mutations_intersect"
   ]
  },
  {
   "cell_type": "code",
   "execution_count": 98,
   "id": "d77996fa",
   "metadata": {},
   "outputs": [],
   "source": [
    "snp_mutations_intersect %>% mutate(new_label = \n",
    "                                   paste0(Chromosome,Start_Position)) %>% as.data.frame() -> snp_mutations_intersect"
   ]
  },
  {
   "cell_type": "code",
   "execution_count": 99,
   "id": "bbe90440",
   "metadata": {},
   "outputs": [],
   "source": [
    "snp_mutations_intersect$number = 1"
   ]
  },
  {
   "cell_type": "code",
   "execution_count": 100,
   "id": "a316f8b1",
   "metadata": {},
   "outputs": [
    {
     "data": {
      "text/html": [
       "<table class=\"dataframe\">\n",
       "<caption>A data.frame: 6 × 7</caption>\n",
       "<thead>\n",
       "\t<tr><th></th><th scope=col>Chromosome</th><th scope=col>Start_Position</th><th scope=col>End_Position</th><th scope=col>Variant_Type</th><th scope=col>Tumor_Sample_Barcode</th><th scope=col>new_label</th><th scope=col>number</th></tr>\n",
       "\t<tr><th></th><th scope=col>&lt;chr&gt;</th><th scope=col>&lt;int&gt;</th><th scope=col>&lt;int&gt;</th><th scope=col>&lt;chr&gt;</th><th scope=col>&lt;chr&gt;</th><th scope=col>&lt;chr&gt;</th><th scope=col>&lt;dbl&gt;</th></tr>\n",
       "</thead>\n",
       "<tbody>\n",
       "\t<tr><th scope=row>17</th><td>chr1</td><td> 31814777</td><td> 31814777</td><td>SNP</td><td>W0002</td><td>chr131814777 </td><td>1</td></tr>\n",
       "\t<tr><th scope=row>22</th><td>chr1</td><td> 36176378</td><td> 36176380</td><td>DEL</td><td>W0002</td><td>chr136176378 </td><td>1</td></tr>\n",
       "\t<tr><th scope=row>29</th><td>chr1</td><td> 70173653</td><td> 70173653</td><td>SNP</td><td>W0002</td><td>chr170173653 </td><td>1</td></tr>\n",
       "\t<tr><th scope=row>31</th><td>chr1</td><td> 74475676</td><td> 74475676</td><td>SNP</td><td>W0002</td><td>chr174475676 </td><td>1</td></tr>\n",
       "\t<tr><th scope=row>39</th><td>chr1</td><td>101239759</td><td>101239759</td><td>SNP</td><td>W0002</td><td>chr1101239759</td><td>1</td></tr>\n",
       "\t<tr><th scope=row>45</th><td>chr1</td><td>144435260</td><td>144435260</td><td>SNP</td><td>W0002</td><td>chr1144435260</td><td>1</td></tr>\n",
       "</tbody>\n",
       "</table>\n"
      ],
      "text/latex": [
       "A data.frame: 6 × 7\n",
       "\\begin{tabular}{r|lllllll}\n",
       "  & Chromosome & Start\\_Position & End\\_Position & Variant\\_Type & Tumor\\_Sample\\_Barcode & new\\_label & number\\\\\n",
       "  & <chr> & <int> & <int> & <chr> & <chr> & <chr> & <dbl>\\\\\n",
       "\\hline\n",
       "\t17 & chr1 &  31814777 &  31814777 & SNP & W0002 & chr131814777  & 1\\\\\n",
       "\t22 & chr1 &  36176378 &  36176380 & DEL & W0002 & chr136176378  & 1\\\\\n",
       "\t29 & chr1 &  70173653 &  70173653 & SNP & W0002 & chr170173653  & 1\\\\\n",
       "\t31 & chr1 &  74475676 &  74475676 & SNP & W0002 & chr174475676  & 1\\\\\n",
       "\t39 & chr1 & 101239759 & 101239759 & SNP & W0002 & chr1101239759 & 1\\\\\n",
       "\t45 & chr1 & 144435260 & 144435260 & SNP & W0002 & chr1144435260 & 1\\\\\n",
       "\\end{tabular}\n"
      ],
      "text/markdown": [
       "\n",
       "A data.frame: 6 × 7\n",
       "\n",
       "| <!--/--> | Chromosome &lt;chr&gt; | Start_Position &lt;int&gt; | End_Position &lt;int&gt; | Variant_Type &lt;chr&gt; | Tumor_Sample_Barcode &lt;chr&gt; | new_label &lt;chr&gt; | number &lt;dbl&gt; |\n",
       "|---|---|---|---|---|---|---|---|\n",
       "| 17 | chr1 |  31814777 |  31814777 | SNP | W0002 | chr131814777  | 1 |\n",
       "| 22 | chr1 |  36176378 |  36176380 | DEL | W0002 | chr136176378  | 1 |\n",
       "| 29 | chr1 |  70173653 |  70173653 | SNP | W0002 | chr170173653  | 1 |\n",
       "| 31 | chr1 |  74475676 |  74475676 | SNP | W0002 | chr174475676  | 1 |\n",
       "| 39 | chr1 | 101239759 | 101239759 | SNP | W0002 | chr1101239759 | 1 |\n",
       "| 45 | chr1 | 144435260 | 144435260 | SNP | W0002 | chr1144435260 | 1 |\n",
       "\n"
      ],
      "text/plain": [
       "   Chromosome Start_Position End_Position Variant_Type Tumor_Sample_Barcode\n",
       "17 chr1        31814777       31814777    SNP          W0002               \n",
       "22 chr1        36176378       36176380    DEL          W0002               \n",
       "29 chr1        70173653       70173653    SNP          W0002               \n",
       "31 chr1        74475676       74475676    SNP          W0002               \n",
       "39 chr1       101239759      101239759    SNP          W0002               \n",
       "45 chr1       144435260      144435260    SNP          W0002               \n",
       "   new_label     number\n",
       "17 chr131814777  1     \n",
       "22 chr136176378  1     \n",
       "29 chr170173653  1     \n",
       "31 chr174475676  1     \n",
       "39 chr1101239759 1     \n",
       "45 chr1144435260 1     "
      ]
     },
     "metadata": {},
     "output_type": "display_data"
    }
   ],
   "source": [
    "head(snp_mutations_intersect)"
   ]
  },
  {
   "cell_type": "markdown",
   "id": "c5abaa79",
   "metadata": {},
   "source": [
    "### 5. renames the sample"
   ]
  },
  {
   "cell_type": "code",
   "execution_count": 101,
   "id": "5364e7ca",
   "metadata": {},
   "outputs": [],
   "source": [
    "snp2$Tumor_Sample_Barcode <- paste0((snp2$Tumor_Sample_Barcode                           \n",
    "                                          %>% strsplit(\"_\") %>% sapply(function(x) x[[1]])))"
   ]
  },
  {
   "cell_type": "code",
   "execution_count": 102,
   "id": "4e44282d",
   "metadata": {},
   "outputs": [
    {
     "data": {
      "text/html": [
       "<table class=\"dataframe\">\n",
       "<caption>A data.frame: 6 × 5</caption>\n",
       "<thead>\n",
       "\t<tr><th></th><th scope=col>Chromosome</th><th scope=col>Start_Position</th><th scope=col>End_Position</th><th scope=col>Variant_Type</th><th scope=col>Tumor_Sample_Barcode</th></tr>\n",
       "\t<tr><th></th><th scope=col>&lt;chr&gt;</th><th scope=col>&lt;int&gt;</th><th scope=col>&lt;int&gt;</th><th scope=col>&lt;chr&gt;</th><th scope=col>&lt;chr&gt;</th></tr>\n",
       "</thead>\n",
       "<tbody>\n",
       "\t<tr><th scope=row>1</th><td>chr1</td><td> 139148</td><td> 139148</td><td>SNP</td><td>W0002</td></tr>\n",
       "\t<tr><th scope=row>2</th><td>chr1</td><td>1671469</td><td>1671469</td><td>SNP</td><td>W0002</td></tr>\n",
       "\t<tr><th scope=row>3</th><td>chr1</td><td>3627679</td><td>3627679</td><td>SNP</td><td>W0002</td></tr>\n",
       "\t<tr><th scope=row>4</th><td>chr1</td><td>6542016</td><td>6542016</td><td>SNP</td><td>W0002</td></tr>\n",
       "\t<tr><th scope=row>5</th><td>chr1</td><td>6586681</td><td>6586681</td><td>SNP</td><td>W0002</td></tr>\n",
       "\t<tr><th scope=row>6</th><td>chr1</td><td>7766275</td><td>7766275</td><td>SNP</td><td>W0002</td></tr>\n",
       "</tbody>\n",
       "</table>\n"
      ],
      "text/latex": [
       "A data.frame: 6 × 5\n",
       "\\begin{tabular}{r|lllll}\n",
       "  & Chromosome & Start\\_Position & End\\_Position & Variant\\_Type & Tumor\\_Sample\\_Barcode\\\\\n",
       "  & <chr> & <int> & <int> & <chr> & <chr>\\\\\n",
       "\\hline\n",
       "\t1 & chr1 &  139148 &  139148 & SNP & W0002\\\\\n",
       "\t2 & chr1 & 1671469 & 1671469 & SNP & W0002\\\\\n",
       "\t3 & chr1 & 3627679 & 3627679 & SNP & W0002\\\\\n",
       "\t4 & chr1 & 6542016 & 6542016 & SNP & W0002\\\\\n",
       "\t5 & chr1 & 6586681 & 6586681 & SNP & W0002\\\\\n",
       "\t6 & chr1 & 7766275 & 7766275 & SNP & W0002\\\\\n",
       "\\end{tabular}\n"
      ],
      "text/markdown": [
       "\n",
       "A data.frame: 6 × 5\n",
       "\n",
       "| <!--/--> | Chromosome &lt;chr&gt; | Start_Position &lt;int&gt; | End_Position &lt;int&gt; | Variant_Type &lt;chr&gt; | Tumor_Sample_Barcode &lt;chr&gt; |\n",
       "|---|---|---|---|---|---|\n",
       "| 1 | chr1 |  139148 |  139148 | SNP | W0002 |\n",
       "| 2 | chr1 | 1671469 | 1671469 | SNP | W0002 |\n",
       "| 3 | chr1 | 3627679 | 3627679 | SNP | W0002 |\n",
       "| 4 | chr1 | 6542016 | 6542016 | SNP | W0002 |\n",
       "| 5 | chr1 | 6586681 | 6586681 | SNP | W0002 |\n",
       "| 6 | chr1 | 7766275 | 7766275 | SNP | W0002 |\n",
       "\n"
      ],
      "text/plain": [
       "  Chromosome Start_Position End_Position Variant_Type Tumor_Sample_Barcode\n",
       "1 chr1        139148         139148      SNP          W0002               \n",
       "2 chr1       1671469        1671469      SNP          W0002               \n",
       "3 chr1       3627679        3627679      SNP          W0002               \n",
       "4 chr1       6542016        6542016      SNP          W0002               \n",
       "5 chr1       6586681        6586681      SNP          W0002               \n",
       "6 chr1       7766275        7766275      SNP          W0002               "
      ]
     },
     "metadata": {},
     "output_type": "display_data"
    }
   ],
   "source": [
    "head(snp2)"
   ]
  },
  {
   "cell_type": "markdown",
   "id": "904b451f",
   "metadata": {},
   "source": [
    "### 6. extract the samples which intersect with 128 samples"
   ]
  },
  {
   "cell_type": "code",
   "execution_count": 114,
   "id": "0e42d245",
   "metadata": {},
   "outputs": [],
   "source": [
    "snp2_113 <- snp2"
   ]
  },
  {
   "cell_type": "code",
   "execution_count": 116,
   "id": "30220aff",
   "metadata": {},
   "outputs": [],
   "source": [
    "snp_mutations_113 <-  snp_mutations"
   ]
  },
  {
   "cell_type": "code",
   "execution_count": 118,
   "id": "01defdd9",
   "metadata": {
    "scrolled": true
   },
   "outputs": [],
   "source": [
    "snp_mut_tmb <- as.data.frame(table(snp_mutations_113$Tumor_Sample_Barcode)/79)"
   ]
  },
  {
   "cell_type": "code",
   "execution_count": 119,
   "id": "e586e839",
   "metadata": {
    "scrolled": true
   },
   "outputs": [],
   "source": [
    "snp_tmb <- as.data.frame(table(snp2_113$Tumor_Sample_Barcode)/79)"
   ]
  },
  {
   "cell_type": "markdown",
   "id": "7a8693d0",
   "metadata": {},
   "source": [
    "### 7. reorder the samples by High, Low ,and Neg order"
   ]
  },
  {
   "cell_type": "code",
   "execution_count": 122,
   "id": "51196230",
   "metadata": {},
   "outputs": [],
   "source": [
    "phe_order <- phe$group %>% order() %>% phe[.,]"
   ]
  },
  {
   "cell_type": "code",
   "execution_count": 123,
   "id": "a072abac",
   "metadata": {},
   "outputs": [],
   "source": [
    "phe_order$sample %>% str_replace('9D','') -> phe_order$sample"
   ]
  },
  {
   "cell_type": "code",
   "execution_count": 124,
   "id": "1fca4afa",
   "metadata": {},
   "outputs": [],
   "source": [
    "rownames(snp_mut_tmb) <- snp_mut_tmb$Var1"
   ]
  },
  {
   "cell_type": "code",
   "execution_count": 125,
   "id": "5fb0b1d1",
   "metadata": {},
   "outputs": [],
   "source": [
    "rownames(snp_tmb) <- snp_tmb$Var1"
   ]
  },
  {
   "cell_type": "code",
   "execution_count": 126,
   "id": "fd11cc1d",
   "metadata": {
    "scrolled": true
   },
   "outputs": [],
   "source": [
    "snp_mut_tmb2 <- snp_mut_tmb[phe_order$sample,]\n",
    "snp_tmb2 <- snp_tmb[phe_order$sample,]"
   ]
  },
  {
   "cell_type": "code",
   "execution_count": 127,
   "id": "f637124f",
   "metadata": {
    "scrolled": true
   },
   "outputs": [],
   "source": [
    "snp_mut_tmb2$group <- phe_order$group"
   ]
  },
  {
   "cell_type": "code",
   "execution_count": 128,
   "id": "ef9f75b3",
   "metadata": {},
   "outputs": [],
   "source": [
    "snp_tmb2$group <- phe_order$group"
   ]
  },
  {
   "cell_type": "code",
   "execution_count": 129,
   "id": "2e41c248",
   "metadata": {},
   "outputs": [],
   "source": [
    "compare = list(c(\"High\",\"Low\"),c(\"High\",\"negative\"),c(\"Low\",\"negative\"))\n"
   ]
  },
  {
   "cell_type": "code",
   "execution_count": 130,
   "id": "b35f7fda",
   "metadata": {},
   "outputs": [],
   "source": [
    "p1 <- ggboxplot(snp_mut_tmb2,x=\"group\",y=\"Freq\",add=\"jitter\",add.params=list(shape=21, fill=\"orange\", size=3))+\n",
    "        geom_signif(comparisons = compare,step_increase = 0.1,map_signif_level = F,test = wilcox.test)+\n",
    "  ylab(\"Non synonymous frequency (/Mb)\") + xlab(\"\")\n",
    "       # facet_wrap(~Genes, scale=\"free\") "
   ]
  },
  {
   "cell_type": "code",
   "execution_count": 131,
   "id": "df46d35e",
   "metadata": {},
   "outputs": [
    {
     "data": {
      "text/html": [
       "<table class=\"dataframe\">\n",
       "<caption>A tibble: 3 × 6</caption>\n",
       "<thead>\n",
       "\t<tr><th scope=col>group</th><th scope=col>mean</th><th scope=col>median</th><th scope=col>min</th><th scope=col>max</th><th scope=col>n</th></tr>\n",
       "\t<tr><th scope=col>&lt;chr&gt;</th><th scope=col>&lt;dbl&gt;</th><th scope=col>&lt;dbl&gt;</th><th scope=col>&lt;dbl&gt;</th><th scope=col>&lt;dbl&gt;</th><th scope=col>&lt;int&gt;</th></tr>\n",
       "</thead>\n",
       "<tbody>\n",
       "\t<tr><td>High    </td><td>2.490356</td><td>2.132911</td><td>0.11392405</td><td>5.898734</td><td>42</td></tr>\n",
       "\t<tr><td>Low     </td><td>2.438819</td><td>2.189873</td><td>0.08860759</td><td>6.544304</td><td>45</td></tr>\n",
       "\t<tr><td>negative</td><td>2.152872</td><td>1.987342</td><td>0.10126582</td><td>4.911392</td><td>26</td></tr>\n",
       "</tbody>\n",
       "</table>\n"
      ],
      "text/latex": [
       "A tibble: 3 × 6\n",
       "\\begin{tabular}{llllll}\n",
       " group & mean & median & min & max & n\\\\\n",
       " <chr> & <dbl> & <dbl> & <dbl> & <dbl> & <int>\\\\\n",
       "\\hline\n",
       "\t High     & 2.490356 & 2.132911 & 0.11392405 & 5.898734 & 42\\\\\n",
       "\t Low      & 2.438819 & 2.189873 & 0.08860759 & 6.544304 & 45\\\\\n",
       "\t negative & 2.152872 & 1.987342 & 0.10126582 & 4.911392 & 26\\\\\n",
       "\\end{tabular}\n"
      ],
      "text/markdown": [
       "\n",
       "A tibble: 3 × 6\n",
       "\n",
       "| group &lt;chr&gt; | mean &lt;dbl&gt; | median &lt;dbl&gt; | min &lt;dbl&gt; | max &lt;dbl&gt; | n &lt;int&gt; |\n",
       "|---|---|---|---|---|---|\n",
       "| High     | 2.490356 | 2.132911 | 0.11392405 | 5.898734 | 42 |\n",
       "| Low      | 2.438819 | 2.189873 | 0.08860759 | 6.544304 | 45 |\n",
       "| negative | 2.152872 | 1.987342 | 0.10126582 | 4.911392 | 26 |\n",
       "\n"
      ],
      "text/plain": [
       "  group    mean     median   min        max      n \n",
       "1 High     2.490356 2.132911 0.11392405 5.898734 42\n",
       "2 Low      2.438819 2.189873 0.08860759 6.544304 45\n",
       "3 negative 2.152872 1.987342 0.10126582 4.911392 26"
      ]
     },
     "metadata": {},
     "output_type": "display_data"
    }
   ],
   "source": [
    "snp_mut_tmb2 %>%\n",
    "  group_by(group) %>%\n",
    "  summarise(mean = mean(Freq), median = median(Freq),min=min(Freq),max=max(Freq),n = n())"
   ]
  },
  {
   "cell_type": "code",
   "execution_count": 132,
   "id": "34cc18fc",
   "metadata": {},
   "outputs": [
    {
     "name": "stderr",
     "output_type": "stream",
     "text": [
      "Warning message in wilcox.test.default(c(3.69620253164557, 5.89873417721519, 1.94936708860759, :\n",
      "“cannot compute exact p-value with ties”\n",
      "Warning message in wilcox.test.default(c(3.69620253164557, 5.89873417721519, 1.94936708860759, :\n",
      "“cannot compute exact p-value with ties”\n",
      "Warning message in wilcox.test.default(c(1.15189873417722, 2.9493670886076, 3.15189873417722, :\n",
      "“cannot compute exact p-value with ties”\n"
     ]
    },
    {
     "data": {
      "image/png": "[encoded data removed]",
      "text/plain": [
       "plot without title"
      ]
     },
     "metadata": {
      "image/png": {
       "height": 360,
       "width": 360
      }
     },
     "output_type": "display_data"
    }
   ],
   "source": [
    "p1"
   ]
  },
  {
   "cell_type": "code",
   "execution_count": 133,
   "id": "8ea6201c",
   "metadata": {},
   "outputs": [
    {
     "name": "stderr",
     "output_type": "stream",
     "text": [
      "Warning message in wilcox.test.default(c(3.69620253164557, 5.89873417721519, 1.94936708860759, :\n",
      "“cannot compute exact p-value with ties”\n",
      "Warning message in wilcox.test.default(c(3.69620253164557, 5.89873417721519, 1.94936708860759, :\n",
      "“cannot compute exact p-value with ties”\n",
      "Warning message in wilcox.test.default(c(1.15189873417722, 2.9493670886076, 3.15189873417722, :\n",
      "“cannot compute exact p-value with ties”\n"
     ]
    }
   ],
   "source": [
    "ggsave(filename = \"Non-synonymous_TMB.pdf\",plot = p1,width = 4,height = 4)"
   ]
  },
  {
   "cell_type": "code",
   "execution_count": 134,
   "id": "18a8d0c1",
   "metadata": {},
   "outputs": [],
   "source": [
    "p2 <- ggboxplot(snp_tmb2,x=\"group\",y=\"Freq\",add=\"jitter\",add.params=list(shape=21, fill=\"orange\", size=3))+\n",
    "        geom_signif(comparisons = compare,step_increase = 0.1,map_signif_level = F,test = wilcox.test) +\n",
    "    ylab(\"SNV frequency (/Mb)\") + xlab(\"\")\n",
    "       # facet_wrap(~Genes, scale=\"free\") "
   ]
  },
  {
   "cell_type": "code",
   "execution_count": 135,
   "id": "e001c742",
   "metadata": {
    "scrolled": true
   },
   "outputs": [
    {
     "data": {
      "text/html": [
       "<table class=\"dataframe\">\n",
       "<caption>A tibble: 3 × 6</caption>\n",
       "<thead>\n",
       "\t<tr><th scope=col>group</th><th scope=col>mean</th><th scope=col>median</th><th scope=col>min</th><th scope=col>max</th><th scope=col>n</th></tr>\n",
       "\t<tr><th scope=col>&lt;chr&gt;</th><th scope=col>&lt;dbl&gt;</th><th scope=col>&lt;dbl&gt;</th><th scope=col>&lt;dbl&gt;</th><th scope=col>&lt;dbl&gt;</th><th scope=col>&lt;int&gt;</th></tr>\n",
       "</thead>\n",
       "<tbody>\n",
       "\t<tr><td>High    </td><td>8.494274</td><td>7.848101</td><td>0.6329114</td><td>21.53165</td><td>42</td></tr>\n",
       "\t<tr><td>Low     </td><td>7.669761</td><td>6.886076</td><td>0.7721519</td><td>20.32911</td><td>45</td></tr>\n",
       "\t<tr><td>negative</td><td>7.232717</td><td>6.550633</td><td>0.5569620</td><td>16.67089</td><td>26</td></tr>\n",
       "</tbody>\n",
       "</table>\n"
      ],
      "text/latex": [
       "A tibble: 3 × 6\n",
       "\\begin{tabular}{llllll}\n",
       " group & mean & median & min & max & n\\\\\n",
       " <chr> & <dbl> & <dbl> & <dbl> & <dbl> & <int>\\\\\n",
       "\\hline\n",
       "\t High     & 8.494274 & 7.848101 & 0.6329114 & 21.53165 & 42\\\\\n",
       "\t Low      & 7.669761 & 6.886076 & 0.7721519 & 20.32911 & 45\\\\\n",
       "\t negative & 7.232717 & 6.550633 & 0.5569620 & 16.67089 & 26\\\\\n",
       "\\end{tabular}\n"
      ],
      "text/markdown": [
       "\n",
       "A tibble: 3 × 6\n",
       "\n",
       "| group &lt;chr&gt; | mean &lt;dbl&gt; | median &lt;dbl&gt; | min &lt;dbl&gt; | max &lt;dbl&gt; | n &lt;int&gt; |\n",
       "|---|---|---|---|---|---|\n",
       "| High     | 8.494274 | 7.848101 | 0.6329114 | 21.53165 | 42 |\n",
       "| Low      | 7.669761 | 6.886076 | 0.7721519 | 20.32911 | 45 |\n",
       "| negative | 7.232717 | 6.550633 | 0.5569620 | 16.67089 | 26 |\n",
       "\n"
      ],
      "text/plain": [
       "  group    mean     median   min       max      n \n",
       "1 High     8.494274 7.848101 0.6329114 21.53165 42\n",
       "2 Low      7.669761 6.886076 0.7721519 20.32911 45\n",
       "3 negative 7.232717 6.550633 0.5569620 16.67089 26"
      ]
     },
     "metadata": {},
     "output_type": "display_data"
    }
   ],
   "source": [
    "snp_tmb2 %>%\n",
    "  group_by(group) %>%\n",
    "  summarise(mean = mean(Freq), median = median(Freq),min=min(Freq),max=max(Freq),n = n())"
   ]
  },
  {
   "cell_type": "code",
   "execution_count": 136,
   "id": "eb624345",
   "metadata": {},
   "outputs": [
    {
     "name": "stderr",
     "output_type": "stream",
     "text": [
      "Warning message in wilcox.test.default(c(14.9493670886076, 21.5316455696203, 7.05063291139241, :\n",
      "“cannot compute exact p-value with ties”\n",
      "Warning message in wilcox.test.default(c(14.9493670886076, 21.5316455696203, 7.05063291139241, :\n",
      "“cannot compute exact p-value with ties”\n",
      "Warning message in wilcox.test.default(c(3.92405063291139, 10.4810126582278, 12.1392405063291, :\n",
      "“cannot compute exact p-value with ties”\n"
     ]
    }
   ],
   "source": [
    "ggsave(filename = \"All_SNV_TMB.pdf\",plot = p2,width = 4,height = 4)"
   ]
  },
  {
   "cell_type": "code",
   "execution_count": 137,
   "id": "ba861b2e",
   "metadata": {},
   "outputs": [
    {
     "name": "stderr",
     "output_type": "stream",
     "text": [
      "Warning message in wilcox.test.default(c(14.9493670886076, 21.5316455696203, 7.05063291139241, :\n",
      "“cannot compute exact p-value with ties”\n",
      "Warning message in wilcox.test.default(c(14.9493670886076, 21.5316455696203, 7.05063291139241, :\n",
      "“cannot compute exact p-value with ties”\n",
      "Warning message in wilcox.test.default(c(3.92405063291139, 10.4810126582278, 12.1392405063291, :\n",
      "“cannot compute exact p-value with ties”\n"
     ]
    },
    {
     "data": {
      "image/png": "[encoded data removed]",
      "text/plain": [
       "plot without title"
      ]
     },
     "metadata": {
      "image/png": {
       "height": 360,
       "width": 360
      }
     },
     "output_type": "display_data"
    }
   ],
   "source": [
    "p2"
   ]
  },
  {
   "cell_type": "markdown",
   "id": "b3016375",
   "metadata": {},
   "source": [
    "### 8. barplot for snps for each sample"
   ]
  },
  {
   "cell_type": "code",
   "execution_count": 139,
   "id": "c7ec7aa5",
   "metadata": {},
   "outputs": [],
   "source": [
    "snp2_113[!snp2_113$Variant_Type==\"SNP\", 'Variant_Type'] = \"INDEL\""
   ]
  },
  {
   "cell_type": "code",
   "execution_count": 140,
   "id": "e9ad7897",
   "metadata": {
    "scrolled": true
   },
   "outputs": [],
   "source": [
    "snp_stat <- as.data.frame(table(snp2_113[,4:5] ))"
   ]
  },
  {
   "cell_type": "code",
   "execution_count": 141,
   "id": "aa288b6e",
   "metadata": {},
   "outputs": [],
   "source": [
    "snp_stat$Tumor_Sample_Barcode <- factor(snp_stat$Tumor_Sample_Barcode,phe_order$sample)"
   ]
  },
  {
   "cell_type": "code",
   "execution_count": 142,
   "id": "b4041695",
   "metadata": {},
   "outputs": [],
   "source": [
    "stat <- function(data){\n",
    "    return(list(min=min(data),max=max(data),median=median(data)))\n",
    "}"
   ]
  },
  {
   "cell_type": "code",
   "execution_count": 143,
   "id": "622b6d03",
   "metadata": {
    "scrolled": true
   },
   "outputs": [],
   "source": [
    "snp_stat_high <- filter(snp_stat,Tumor_Sample_Barcode %in% high_names)\n",
    "snp_stat_low <- filter(snp_stat,Tumor_Sample_Barcode %in% low_names)\n",
    "snp_stat_neg <- filter(snp_stat,Tumor_Sample_Barcode %in% neg_names)"
   ]
  },
  {
   "cell_type": "code",
   "execution_count": 144,
   "id": "2575e38f",
   "metadata": {
    "scrolled": false
   },
   "outputs": [],
   "source": [
    "snp_stat_high$group <- \"High\"\n",
    "snp_stat_low$group <- \"Low\"\n",
    "snp_stat_neg$group <- \"Neg\""
   ]
  },
  {
   "cell_type": "code",
   "execution_count": 145,
   "id": "ea692d2b",
   "metadata": {
    "scrolled": true
   },
   "outputs": [],
   "source": [
    "rbind(snp_stat_high,snp_stat_low,snp_stat_neg) -> snp_stat_all"
   ]
  },
  {
   "cell_type": "code",
   "execution_count": 146,
   "id": "a0ffad24",
   "metadata": {},
   "outputs": [],
   "source": [
    "p3 <- ggplot(snp_stat_all,aes(x=Tumor_Sample_Barcode,y=Freq,fill =Variant_Type ))+ geom_bar(stat=\"identity\") + theme_bw()+\n",
    "    theme(axis.text.x = element_text(angle = 45,hjust = 1),panel.grid = element_blank() ) +\n",
    "    scale_y_continuous(expand=expansion(mult=c(0,0.1)))+scale_fill_manual(values =c(\"#5FBDCE\",\"#04859D\"))+\n",
    "    ylab(\"The number of variants\") + xlab(\"High         Low          Neg\")+ geom_vline(xintercept = c(42.5,87.5))"
   ]
  },
  {
   "cell_type": "code",
   "execution_count": 147,
   "id": "697224a5",
   "metadata": {},
   "outputs": [
    {
     "data": {
      "image/png": "[encoded data removed]",
      "text/plain": [
       "plot without title"
      ]
     },
     "metadata": {
      "image/png": {
       "height": 360,
       "width": 900
      }
     },
     "output_type": "display_data"
    }
   ],
   "source": [
    "options(repr.plot.width=15,repr.plot.height=6)\n",
    "p3"
   ]
  },
  {
   "cell_type": "code",
   "execution_count": 148,
   "id": "a1d9431e",
   "metadata": {},
   "outputs": [],
   "source": [
    "compare = list(c(\"High\",\"Low\"),c(\"High\",\"Neg\"),c(\"Neg\",\"Low\"))"
   ]
  },
  {
   "cell_type": "code",
   "execution_count": 149,
   "id": "3e8d6a25",
   "metadata": {},
   "outputs": [
    {
     "data": {
      "text/html": [
       "<table class=\"dataframe\">\n",
       "<caption>A data.frame: 6 × 4</caption>\n",
       "<thead>\n",
       "\t<tr><th></th><th scope=col>Variant_Type</th><th scope=col>Tumor_Sample_Barcode</th><th scope=col>Freq</th><th scope=col>group</th></tr>\n",
       "\t<tr><th></th><th scope=col>&lt;fct&gt;</th><th scope=col>&lt;fct&gt;</th><th scope=col>&lt;int&gt;</th><th scope=col>&lt;chr&gt;</th></tr>\n",
       "</thead>\n",
       "<tbody>\n",
       "\t<tr><th scope=row>1</th><td>INDEL</td><td>W0002</td><td>  92</td><td>High</td></tr>\n",
       "\t<tr><th scope=row>2</th><td>SNP  </td><td>W0002</td><td>1089</td><td>High</td></tr>\n",
       "\t<tr><th scope=row>3</th><td>INDEL</td><td>W0008</td><td> 102</td><td>High</td></tr>\n",
       "\t<tr><th scope=row>4</th><td>SNP  </td><td>W0008</td><td>1599</td><td>High</td></tr>\n",
       "\t<tr><th scope=row>5</th><td>INDEL</td><td>W0014</td><td>  67</td><td>High</td></tr>\n",
       "\t<tr><th scope=row>6</th><td>SNP  </td><td>W0014</td><td> 490</td><td>High</td></tr>\n",
       "</tbody>\n",
       "</table>\n"
      ],
      "text/latex": [
       "A data.frame: 6 × 4\n",
       "\\begin{tabular}{r|llll}\n",
       "  & Variant\\_Type & Tumor\\_Sample\\_Barcode & Freq & group\\\\\n",
       "  & <fct> & <fct> & <int> & <chr>\\\\\n",
       "\\hline\n",
       "\t1 & INDEL & W0002 &   92 & High\\\\\n",
       "\t2 & SNP   & W0002 & 1089 & High\\\\\n",
       "\t3 & INDEL & W0008 &  102 & High\\\\\n",
       "\t4 & SNP   & W0008 & 1599 & High\\\\\n",
       "\t5 & INDEL & W0014 &   67 & High\\\\\n",
       "\t6 & SNP   & W0014 &  490 & High\\\\\n",
       "\\end{tabular}\n"
      ],
      "text/markdown": [
       "\n",
       "A data.frame: 6 × 4\n",
       "\n",
       "| <!--/--> | Variant_Type &lt;fct&gt; | Tumor_Sample_Barcode &lt;fct&gt; | Freq &lt;int&gt; | group &lt;chr&gt; |\n",
       "|---|---|---|---|---|\n",
       "| 1 | INDEL | W0002 |   92 | High |\n",
       "| 2 | SNP   | W0002 | 1089 | High |\n",
       "| 3 | INDEL | W0008 |  102 | High |\n",
       "| 4 | SNP   | W0008 | 1599 | High |\n",
       "| 5 | INDEL | W0014 |   67 | High |\n",
       "| 6 | SNP   | W0014 |  490 | High |\n",
       "\n"
      ],
      "text/plain": [
       "  Variant_Type Tumor_Sample_Barcode Freq group\n",
       "1 INDEL        W0002                  92 High \n",
       "2 SNP          W0002                1089 High \n",
       "3 INDEL        W0008                 102 High \n",
       "4 SNP          W0008                1599 High \n",
       "5 INDEL        W0014                  67 High \n",
       "6 SNP          W0014                 490 High "
      ]
     },
     "metadata": {},
     "output_type": "display_data"
    }
   ],
   "source": [
    "head(snp_stat_all)"
   ]
  },
  {
   "cell_type": "code",
   "execution_count": 150,
   "id": "da1935a0",
   "metadata": {},
   "outputs": [],
   "source": [
    "options(repr.plot.width=6,repr.plot.height=6)\n",
    "p_snp_indel <- ggboxplot(snp_stat_all[snp_stat_all$Variant_Type == \"INDEL\",],x=\"group\",y=\"Freq\",add=\"jitter\",add.params=list(shape=21, fill=\"orange\", size=3))+\n",
    "        geom_signif(comparisons = compare,step_increase = 0.1,map_signif_level = F,test = t.test) +\n",
    "        ylab(\"SNV number\") + xlab(\"\")"
   ]
  },
  {
   "cell_type": "code",
   "execution_count": 151,
   "id": "b5845fd6",
   "metadata": {},
   "outputs": [],
   "source": [
    "options(repr.plot.width=6,repr.plot.height=6)\n",
    "p_snp_snp <- ggboxplot(snp_stat_all[snp_stat_all$Variant_Type == \"SNP\",],x=\"group\",y=\"Freq\",add=\"jitter\",add.params=list(shape=21, fill=\"orange\", size=3))+\n",
    "        geom_signif(comparisons = compare,step_increase = 0.1,map_signif_level = F,test = t.test) +\n",
    "        ylab(\"SNV number\") + xlab(\"\")"
   ]
  },
  {
   "cell_type": "code",
   "execution_count": 152,
   "id": "0c0c7282",
   "metadata": {},
   "outputs": [],
   "source": [
    "ggsave(plot = p_snp_indel ,filename = \"indel_groups.boxplot.pdf\",width = 6,height = 6)"
   ]
  },
  {
   "cell_type": "code",
   "execution_count": 153,
   "id": "bf75bfe1",
   "metadata": {},
   "outputs": [],
   "source": [
    "ggsave(plot = p_snp_snp ,filename = \"SNV_groups.boxplot.pdf\",width = 6,height = 6)"
   ]
  },
  {
   "cell_type": "code",
   "execution_count": 154,
   "id": "4fe05050",
   "metadata": {},
   "outputs": [],
   "source": [
    "ggsave(filename = \"All_SNV_distribution2.pdf\",plot = p3,width = 18,height = 4)"
   ]
  },
  {
   "cell_type": "code",
   "execution_count": 157,
   "id": "9788987e",
   "metadata": {},
   "outputs": [],
   "source": [
    "openxlsx::write.xlsx(x = snp_stat,file = \"All_SNV_distribution.xlsx\",rowNames = F)"
   ]
  },
  {
   "cell_type": "markdown",
   "id": "8dc69fb6",
   "metadata": {},
   "source": [
    "### 9. mutation type frequency"
   ]
  },
  {
   "cell_type": "code",
   "execution_count": 158,
   "id": "c1d54bb0",
   "metadata": {},
   "outputs": [],
   "source": [
    "snp_snp <- filter(snp,Variant_Type==\"SNP\")"
   ]
  },
  {
   "cell_type": "code",
   "execution_count": 159,
   "id": "d1888f13",
   "metadata": {},
   "outputs": [],
   "source": [
    "snp_snp2 <- snp_snp[,c(\"Reference_Allele\",\"Tumor_Seq_Allele2\",\"Tumor_Sample_Barcode\")]"
   ]
  },
  {
   "cell_type": "code",
   "execution_count": 160,
   "id": "845e1da0",
   "metadata": {},
   "outputs": [],
   "source": [
    "snp_snp2$snp <- paste0(snp_snp2$Reference_Allele,\">\",snp_snp2$Tumor_Seq_Allele2)"
   ]
  },
  {
   "cell_type": "code",
   "execution_count": 161,
   "id": "36363dc3",
   "metadata": {},
   "outputs": [],
   "source": [
    "snp_snp2 <- snp_snp2[,3:4]"
   ]
  },
  {
   "cell_type": "code",
   "execution_count": 171,
   "id": "115b39ae",
   "metadata": {
    "scrolled": true
   },
   "outputs": [],
   "source": [
    "snp_snp2$Tumor_Sample_Barcode %>% str_replace('9D','')-> snp_snp2$Tumor_Sample_Barcode"
   ]
  },
  {
   "cell_type": "code",
   "execution_count": 174,
   "id": "9199da5e",
   "metadata": {},
   "outputs": [],
   "source": [
    "snp_snp2_113 <- snp_snp2"
   ]
  },
  {
   "cell_type": "code",
   "execution_count": 175,
   "id": "a1899880",
   "metadata": {},
   "outputs": [
    {
     "data": {
      "text/html": [
       "<table class=\"dataframe\">\n",
       "<caption>A data.frame: 6 × 2</caption>\n",
       "<thead>\n",
       "\t<tr><th></th><th scope=col>Tumor_Sample_Barcode</th><th scope=col>snp</th></tr>\n",
       "\t<tr><th></th><th scope=col>&lt;chr&gt;</th><th scope=col>&lt;chr&gt;</th></tr>\n",
       "</thead>\n",
       "<tbody>\n",
       "\t<tr><th scope=row>1</th><td>W0002</td><td>C&gt;T</td></tr>\n",
       "\t<tr><th scope=row>2</th><td>W0002</td><td>G&gt;A</td></tr>\n",
       "\t<tr><th scope=row>3</th><td>W0002</td><td>C&gt;A</td></tr>\n",
       "\t<tr><th scope=row>4</th><td>W0002</td><td>G&gt;C</td></tr>\n",
       "\t<tr><th scope=row>5</th><td>W0002</td><td>C&gt;T</td></tr>\n",
       "\t<tr><th scope=row>6</th><td>W0002</td><td>G&gt;A</td></tr>\n",
       "</tbody>\n",
       "</table>\n"
      ],
      "text/latex": [
       "A data.frame: 6 × 2\n",
       "\\begin{tabular}{r|ll}\n",
       "  & Tumor\\_Sample\\_Barcode & snp\\\\\n",
       "  & <chr> & <chr>\\\\\n",
       "\\hline\n",
       "\t1 & W0002 & C>T\\\\\n",
       "\t2 & W0002 & G>A\\\\\n",
       "\t3 & W0002 & C>A\\\\\n",
       "\t4 & W0002 & G>C\\\\\n",
       "\t5 & W0002 & C>T\\\\\n",
       "\t6 & W0002 & G>A\\\\\n",
       "\\end{tabular}\n"
      ],
      "text/markdown": [
       "\n",
       "A data.frame: 6 × 2\n",
       "\n",
       "| <!--/--> | Tumor_Sample_Barcode &lt;chr&gt; | snp &lt;chr&gt; |\n",
       "|---|---|---|\n",
       "| 1 | W0002 | C&gt;T |\n",
       "| 2 | W0002 | G&gt;A |\n",
       "| 3 | W0002 | C&gt;A |\n",
       "| 4 | W0002 | G&gt;C |\n",
       "| 5 | W0002 | C&gt;T |\n",
       "| 6 | W0002 | G&gt;A |\n",
       "\n"
      ],
      "text/plain": [
       "  Tumor_Sample_Barcode snp\n",
       "1 W0002                C>T\n",
       "2 W0002                G>A\n",
       "3 W0002                C>A\n",
       "4 W0002                G>C\n",
       "5 W0002                C>T\n",
       "6 W0002                G>A"
      ]
     },
     "metadata": {},
     "output_type": "display_data"
    }
   ],
   "source": [
    "head(snp_snp2_113)"
   ]
  },
  {
   "cell_type": "code",
   "execution_count": 178,
   "id": "3f35a3e7",
   "metadata": {},
   "outputs": [],
   "source": [
    "snp_snp2_113$snp2 = snp_snp2_113$snp"
   ]
  },
  {
   "cell_type": "code",
   "execution_count": 179,
   "id": "e2646ded",
   "metadata": {
    "scrolled": true
   },
   "outputs": [
    {
     "data": {
      "text/html": [
       "<table class=\"dataframe\">\n",
       "<caption>A data.frame: 6 × 3</caption>\n",
       "<thead>\n",
       "\t<tr><th></th><th scope=col>Tumor_Sample_Barcode</th><th scope=col>snp</th><th scope=col>snp2</th></tr>\n",
       "\t<tr><th></th><th scope=col>&lt;chr&gt;</th><th scope=col>&lt;chr&gt;</th><th scope=col>&lt;chr&gt;</th></tr>\n",
       "</thead>\n",
       "<tbody>\n",
       "\t<tr><th scope=row>1</th><td>W0002</td><td>C&gt;T</td><td>C&gt;T</td></tr>\n",
       "\t<tr><th scope=row>2</th><td>W0002</td><td>G&gt;A</td><td>G&gt;A</td></tr>\n",
       "\t<tr><th scope=row>3</th><td>W0002</td><td>C&gt;A</td><td>C&gt;A</td></tr>\n",
       "\t<tr><th scope=row>4</th><td>W0002</td><td>G&gt;C</td><td>G&gt;C</td></tr>\n",
       "\t<tr><th scope=row>5</th><td>W0002</td><td>C&gt;T</td><td>C&gt;T</td></tr>\n",
       "\t<tr><th scope=row>6</th><td>W0002</td><td>G&gt;A</td><td>G&gt;A</td></tr>\n",
       "</tbody>\n",
       "</table>\n"
      ],
      "text/latex": [
       "A data.frame: 6 × 3\n",
       "\\begin{tabular}{r|lll}\n",
       "  & Tumor\\_Sample\\_Barcode & snp & snp2\\\\\n",
       "  & <chr> & <chr> & <chr>\\\\\n",
       "\\hline\n",
       "\t1 & W0002 & C>T & C>T\\\\\n",
       "\t2 & W0002 & G>A & G>A\\\\\n",
       "\t3 & W0002 & C>A & C>A\\\\\n",
       "\t4 & W0002 & G>C & G>C\\\\\n",
       "\t5 & W0002 & C>T & C>T\\\\\n",
       "\t6 & W0002 & G>A & G>A\\\\\n",
       "\\end{tabular}\n"
      ],
      "text/markdown": [
       "\n",
       "A data.frame: 6 × 3\n",
       "\n",
       "| <!--/--> | Tumor_Sample_Barcode &lt;chr&gt; | snp &lt;chr&gt; | snp2 &lt;chr&gt; |\n",
       "|---|---|---|---|\n",
       "| 1 | W0002 | C&gt;T | C&gt;T |\n",
       "| 2 | W0002 | G&gt;A | G&gt;A |\n",
       "| 3 | W0002 | C&gt;A | C&gt;A |\n",
       "| 4 | W0002 | G&gt;C | G&gt;C |\n",
       "| 5 | W0002 | C&gt;T | C&gt;T |\n",
       "| 6 | W0002 | G&gt;A | G&gt;A |\n",
       "\n"
      ],
      "text/plain": [
       "  Tumor_Sample_Barcode snp snp2\n",
       "1 W0002                C>T C>T \n",
       "2 W0002                G>A G>A \n",
       "3 W0002                C>A C>A \n",
       "4 W0002                G>C G>C \n",
       "5 W0002                C>T C>T \n",
       "6 W0002                G>A G>A "
      ]
     },
     "metadata": {},
     "output_type": "display_data"
    }
   ],
   "source": [
    "head(snp_snp2_113)"
   ]
  },
  {
   "cell_type": "code",
   "execution_count": 180,
   "id": "3b5d21fc",
   "metadata": {},
   "outputs": [],
   "source": [
    "snp_snp2_113$snp %>% str_replace('G>A','C>T') %>% str_replace('G>C','C>G')%>% \n",
    "                str_replace('G>T','C>A')%>% str_replace('A>G','T>C')%>% str_replace('A>C','T>G')%>%\n",
    "                str_replace('A>T','C>A') -> snp_snp2_113$snp2"
   ]
  },
  {
   "cell_type": "code",
   "execution_count": 181,
   "id": "fafb7959",
   "metadata": {},
   "outputs": [],
   "source": [
    "snp_snp2_113 <- snp_snp2_113[,c(1,3)]"
   ]
  },
  {
   "cell_type": "code",
   "execution_count": 182,
   "id": "ca30c4fb",
   "metadata": {},
   "outputs": [],
   "source": [
    "high_names <- filter(phe,group==\"High\") %>% rownames()\n",
    "neg_names <- filter(phe,group==\"negative\") %>% rownames()\n",
    "low_names <- filter(phe,group==\"Low\") %>% rownames()"
   ]
  },
  {
   "cell_type": "code",
   "execution_count": 183,
   "id": "f86ffe80",
   "metadata": {
    "scrolled": true
   },
   "outputs": [],
   "source": [
    "snp_snp2_113_high <- filter(snp_snp2_113,Tumor_Sample_Barcode %in% high_names)\n",
    "snp_snp2_113_low <- filter(snp_snp2_113,Tumor_Sample_Barcode %in% low_names)\n",
    "snp_snp2_113_neg <- filter(snp_snp2_113,Tumor_Sample_Barcode %in% neg_names)"
   ]
  },
  {
   "cell_type": "code",
   "execution_count": 184,
   "id": "bcbe0da5",
   "metadata": {
    "scrolled": true
   },
   "outputs": [
    {
     "data": {
      "text/html": [
       "<style>\n",
       ".list-inline {list-style: none; margin:0; padding: 0}\n",
       ".list-inline>li {display: inline-block}\n",
       ".list-inline>li:not(:last-child)::after {content: \"\\00b7\"; padding: 0 .5ex}\n",
       "</style>\n",
       "<ol class=list-inline><li>'W0002'</li><li>'W0008'</li><li>'W0014'</li><li>'W0071'</li><li>'W0073'</li><li>'W0076'</li><li>'W0079'</li><li>'W0126'</li><li>'W0131'</li><li>'W0138'</li><li>'W0140'</li><li>'W0147'</li><li>'W0152'</li><li>'W0156'</li><li>'W0160'</li><li>'W0169'</li><li>'W0172'</li><li>'W0184'</li><li>'W0191'</li><li>'W0192'</li><li>'W0193'</li><li>'W0195'</li><li>'W0198'</li><li>'W0201'</li><li>'W0219'</li><li>'W0227'</li><li>'W0230'</li><li>'W0274'</li><li>'W0279'</li><li>'W0282'</li><li>'W0284'</li><li>'W0296'</li><li>'W0307'</li><li>'W0312'</li><li>'W0316'</li><li>'W0330'</li><li>'W0344'</li><li>'W0351'</li><li>'W0362'</li><li>'W0368'</li><li>'W0369'</li><li>'W0383'</li></ol>\n"
      ],
      "text/latex": [
       "\\begin{enumerate*}\n",
       "\\item 'W0002'\n",
       "\\item 'W0008'\n",
       "\\item 'W0014'\n",
       "\\item 'W0071'\n",
       "\\item 'W0073'\n",
       "\\item 'W0076'\n",
       "\\item 'W0079'\n",
       "\\item 'W0126'\n",
       "\\item 'W0131'\n",
       "\\item 'W0138'\n",
       "\\item 'W0140'\n",
       "\\item 'W0147'\n",
       "\\item 'W0152'\n",
       "\\item 'W0156'\n",
       "\\item 'W0160'\n",
       "\\item 'W0169'\n",
       "\\item 'W0172'\n",
       "\\item 'W0184'\n",
       "\\item 'W0191'\n",
       "\\item 'W0192'\n",
       "\\item 'W0193'\n",
       "\\item 'W0195'\n",
       "\\item 'W0198'\n",
       "\\item 'W0201'\n",
       "\\item 'W0219'\n",
       "\\item 'W0227'\n",
       "\\item 'W0230'\n",
       "\\item 'W0274'\n",
       "\\item 'W0279'\n",
       "\\item 'W0282'\n",
       "\\item 'W0284'\n",
       "\\item 'W0296'\n",
       "\\item 'W0307'\n",
       "\\item 'W0312'\n",
       "\\item 'W0316'\n",
       "\\item 'W0330'\n",
       "\\item 'W0344'\n",
       "\\item 'W0351'\n",
       "\\item 'W0362'\n",
       "\\item 'W0368'\n",
       "\\item 'W0369'\n",
       "\\item 'W0383'\n",
       "\\end{enumerate*}\n"
      ],
      "text/markdown": [
       "1. 'W0002'\n",
       "2. 'W0008'\n",
       "3. 'W0014'\n",
       "4. 'W0071'\n",
       "5. 'W0073'\n",
       "6. 'W0076'\n",
       "7. 'W0079'\n",
       "8. 'W0126'\n",
       "9. 'W0131'\n",
       "10. 'W0138'\n",
       "11. 'W0140'\n",
       "12. 'W0147'\n",
       "13. 'W0152'\n",
       "14. 'W0156'\n",
       "15. 'W0160'\n",
       "16. 'W0169'\n",
       "17. 'W0172'\n",
       "18. 'W0184'\n",
       "19. 'W0191'\n",
       "20. 'W0192'\n",
       "21. 'W0193'\n",
       "22. 'W0195'\n",
       "23. 'W0198'\n",
       "24. 'W0201'\n",
       "25. 'W0219'\n",
       "26. 'W0227'\n",
       "27. 'W0230'\n",
       "28. 'W0274'\n",
       "29. 'W0279'\n",
       "30. 'W0282'\n",
       "31. 'W0284'\n",
       "32. 'W0296'\n",
       "33. 'W0307'\n",
       "34. 'W0312'\n",
       "35. 'W0316'\n",
       "36. 'W0330'\n",
       "37. 'W0344'\n",
       "38. 'W0351'\n",
       "39. 'W0362'\n",
       "40. 'W0368'\n",
       "41. 'W0369'\n",
       "42. 'W0383'\n",
       "\n",
       "\n"
      ],
      "text/plain": [
       " [1] \"W0002\" \"W0008\" \"W0014\" \"W0071\" \"W0073\" \"W0076\" \"W0079\" \"W0126\" \"W0131\"\n",
       "[10] \"W0138\" \"W0140\" \"W0147\" \"W0152\" \"W0156\" \"W0160\" \"W0169\" \"W0172\" \"W0184\"\n",
       "[19] \"W0191\" \"W0192\" \"W0193\" \"W0195\" \"W0198\" \"W0201\" \"W0219\" \"W0227\" \"W0230\"\n",
       "[28] \"W0274\" \"W0279\" \"W0282\" \"W0284\" \"W0296\" \"W0307\" \"W0312\" \"W0316\" \"W0330\"\n",
       "[37] \"W0344\" \"W0351\" \"W0362\" \"W0368\" \"W0369\" \"W0383\""
      ]
     },
     "metadata": {},
     "output_type": "display_data"
    }
   ],
   "source": [
    "high_names"
   ]
  },
  {
   "cell_type": "code",
   "execution_count": 185,
   "id": "e32f3bf8",
   "metadata": {},
   "outputs": [],
   "source": [
    "snp_snp2_113_low2 <- as.data.frame(table(snp_snp2_113_low$snp2))\n",
    "snp_snp2_113_high2 <- as.data.frame(table(snp_snp2_113_high$snp2))\n",
    "snp_snp2_113_neg2 <- as.data.frame(table(snp_snp2_113_neg$snp2))"
   ]
  },
  {
   "cell_type": "code",
   "execution_count": 186,
   "id": "1621cfee",
   "metadata": {},
   "outputs": [],
   "source": [
    "snp_snp2_113_high2$group <- \"High\""
   ]
  },
  {
   "cell_type": "code",
   "execution_count": 187,
   "id": "c42ff096",
   "metadata": {},
   "outputs": [],
   "source": [
    "snp_snp2_113_low2$group <- \"Low\""
   ]
  },
  {
   "cell_type": "code",
   "execution_count": 188,
   "id": "f3d439f4",
   "metadata": {},
   "outputs": [],
   "source": [
    "snp_snp2_113_neg2$group <- \"Neg\""
   ]
  },
  {
   "cell_type": "code",
   "execution_count": 189,
   "id": "c0f1aa38",
   "metadata": {},
   "outputs": [],
   "source": [
    "snp_snp2_113_neg2 %>% mutate(Freq2 = Freq/sum(Freq)*100) -> snp_snp2_113_neg2\n",
    "snp_snp2_113_high2 %>% mutate(Freq2 = Freq/sum(Freq)*100) -> snp_snp2_113_high2\n",
    "snp_snp2_113_low2 %>% mutate(Freq2 = Freq/sum(Freq)*100) -> snp_snp2_113_low2"
   ]
  },
  {
   "cell_type": "code",
   "execution_count": 190,
   "id": "423eb75d",
   "metadata": {},
   "outputs": [],
   "source": [
    "all_snp_stat <- rbind(snp_snp2_113_high2,snp_snp2_113_low2,snp_snp2_113_neg2)"
   ]
  },
  {
   "cell_type": "code",
   "execution_count": 191,
   "id": "95282982",
   "metadata": {},
   "outputs": [
    {
     "data": {
      "text/html": [
       "<table class=\"dataframe\">\n",
       "<caption>A data.frame: 18 × 4</caption>\n",
       "<thead>\n",
       "\t<tr><th scope=col>Var1</th><th scope=col>Freq</th><th scope=col>group</th><th scope=col>Freq2</th></tr>\n",
       "\t<tr><th scope=col>&lt;fct&gt;</th><th scope=col>&lt;int&gt;</th><th scope=col>&lt;chr&gt;</th><th scope=col>&lt;dbl&gt;</th></tr>\n",
       "</thead>\n",
       "<tbody>\n",
       "\t<tr><td>C&gt;A</td><td> 4598</td><td>High</td><td>17.693462</td></tr>\n",
       "\t<tr><td>C&gt;G</td><td> 2218</td><td>High</td><td> 8.535037</td></tr>\n",
       "\t<tr><td>C&gt;T</td><td>11073</td><td>High</td><td>42.609766</td></tr>\n",
       "\t<tr><td>T&gt;A</td><td> 1038</td><td>High</td><td> 3.994305</td></tr>\n",
       "\t<tr><td>T&gt;C</td><td> 3877</td><td>High</td><td>14.918998</td></tr>\n",
       "\t<tr><td>T&gt;G</td><td> 3183</td><td>High</td><td>12.248432</td></tr>\n",
       "\t<tr><td>C&gt;A</td><td> 4343</td><td>Low </td><td>17.306236</td></tr>\n",
       "\t<tr><td>C&gt;G</td><td> 2129</td><td>Low </td><td> 8.483762</td></tr>\n",
       "\t<tr><td>C&gt;T</td><td>10770</td><td>Low </td><td>42.916916</td></tr>\n",
       "\t<tr><td>T&gt;A</td><td> 1009</td><td>Low </td><td> 4.020721</td></tr>\n",
       "\t<tr><td>T&gt;C</td><td> 3700</td><td>Low </td><td>14.743973</td></tr>\n",
       "\t<tr><td>T&gt;G</td><td> 3144</td><td>Low </td><td>12.528392</td></tr>\n",
       "\t<tr><td>C&gt;A</td><td> 2499</td><td>Neg </td><td>18.479627</td></tr>\n",
       "\t<tr><td>C&gt;G</td><td> 1222</td><td>Neg </td><td> 9.036456</td></tr>\n",
       "\t<tr><td>C&gt;T</td><td> 5773</td><td>Neg </td><td>42.690231</td></tr>\n",
       "\t<tr><td>T&gt;A</td><td><span style=white-space:pre-wrap>  553</span></td><td>Neg </td><td> 4.089329</td></tr>\n",
       "\t<tr><td>T&gt;C</td><td> 2075</td><td>Neg </td><td>15.344228</td></tr>\n",
       "\t<tr><td>T&gt;G</td><td> 1401</td><td>Neg </td><td>10.360127</td></tr>\n",
       "</tbody>\n",
       "</table>\n"
      ],
      "text/latex": [
       "A data.frame: 18 × 4\n",
       "\\begin{tabular}{llll}\n",
       " Var1 & Freq & group & Freq2\\\\\n",
       " <fct> & <int> & <chr> & <dbl>\\\\\n",
       "\\hline\n",
       "\t C>A &  4598 & High & 17.693462\\\\\n",
       "\t C>G &  2218 & High &  8.535037\\\\\n",
       "\t C>T & 11073 & High & 42.609766\\\\\n",
       "\t T>A &  1038 & High &  3.994305\\\\\n",
       "\t T>C &  3877 & High & 14.918998\\\\\n",
       "\t T>G &  3183 & High & 12.248432\\\\\n",
       "\t C>A &  4343 & Low  & 17.306236\\\\\n",
       "\t C>G &  2129 & Low  &  8.483762\\\\\n",
       "\t C>T & 10770 & Low  & 42.916916\\\\\n",
       "\t T>A &  1009 & Low  &  4.020721\\\\\n",
       "\t T>C &  3700 & Low  & 14.743973\\\\\n",
       "\t T>G &  3144 & Low  & 12.528392\\\\\n",
       "\t C>A &  2499 & Neg  & 18.479627\\\\\n",
       "\t C>G &  1222 & Neg  &  9.036456\\\\\n",
       "\t C>T &  5773 & Neg  & 42.690231\\\\\n",
       "\t T>A &   553 & Neg  &  4.089329\\\\\n",
       "\t T>C &  2075 & Neg  & 15.344228\\\\\n",
       "\t T>G &  1401 & Neg  & 10.360127\\\\\n",
       "\\end{tabular}\n"
      ],
      "text/markdown": [
       "\n",
       "A data.frame: 18 × 4\n",
       "\n",
       "| Var1 &lt;fct&gt; | Freq &lt;int&gt; | group &lt;chr&gt; | Freq2 &lt;dbl&gt; |\n",
       "|---|---|---|---|\n",
       "| C&gt;A |  4598 | High | 17.693462 |\n",
       "| C&gt;G |  2218 | High |  8.535037 |\n",
       "| C&gt;T | 11073 | High | 42.609766 |\n",
       "| T&gt;A |  1038 | High |  3.994305 |\n",
       "| T&gt;C |  3877 | High | 14.918998 |\n",
       "| T&gt;G |  3183 | High | 12.248432 |\n",
       "| C&gt;A |  4343 | Low  | 17.306236 |\n",
       "| C&gt;G |  2129 | Low  |  8.483762 |\n",
       "| C&gt;T | 10770 | Low  | 42.916916 |\n",
       "| T&gt;A |  1009 | Low  |  4.020721 |\n",
       "| T&gt;C |  3700 | Low  | 14.743973 |\n",
       "| T&gt;G |  3144 | Low  | 12.528392 |\n",
       "| C&gt;A |  2499 | Neg  | 18.479627 |\n",
       "| C&gt;G |  1222 | Neg  |  9.036456 |\n",
       "| C&gt;T |  5773 | Neg  | 42.690231 |\n",
       "| T&gt;A |   553 | Neg  |  4.089329 |\n",
       "| T&gt;C |  2075 | Neg  | 15.344228 |\n",
       "| T&gt;G |  1401 | Neg  | 10.360127 |\n",
       "\n"
      ],
      "text/plain": [
       "   Var1 Freq  group Freq2    \n",
       "1  C>A   4598 High  17.693462\n",
       "2  C>G   2218 High   8.535037\n",
       "3  C>T  11073 High  42.609766\n",
       "4  T>A   1038 High   3.994305\n",
       "5  T>C   3877 High  14.918998\n",
       "6  T>G   3183 High  12.248432\n",
       "7  C>A   4343 Low   17.306236\n",
       "8  C>G   2129 Low    8.483762\n",
       "9  C>T  10770 Low   42.916916\n",
       "10 T>A   1009 Low    4.020721\n",
       "11 T>C   3700 Low   14.743973\n",
       "12 T>G   3144 Low   12.528392\n",
       "13 C>A   2499 Neg   18.479627\n",
       "14 C>G   1222 Neg    9.036456\n",
       "15 C>T   5773 Neg   42.690231\n",
       "16 T>A    553 Neg    4.089329\n",
       "17 T>C   2075 Neg   15.344228\n",
       "18 T>G   1401 Neg   10.360127"
      ]
     },
     "metadata": {},
     "output_type": "display_data"
    }
   ],
   "source": [
    "all_snp_stat"
   ]
  },
  {
   "cell_type": "code",
   "execution_count": 192,
   "id": "c9968ca5",
   "metadata": {},
   "outputs": [],
   "source": [
    "p4 <- ggplot(all_snp_stat,aes(x=Var1,y=Freq2,fill =group ))+ geom_bar(stat=\"identity\", position=position_dodge())+ theme_bw()+\n",
    "    theme(panel.grid = element_blank(),axis.text = element_text(color=\"black\")) +\n",
    "    scale_y_continuous(expand=expansion(mult=c(0,0.1)))+scale_fill_manual(values =c(\"#BF3D30\",\"#5FBDCE\",\"#04859D\"))+\n",
    "    ylab(\"The ratio of each type of variants(%)\") +xlab(\"\")+ geom_vline(xintercept = c(42.5,87.5))"
   ]
  },
  {
   "cell_type": "code",
   "execution_count": 193,
   "id": "5824a67b",
   "metadata": {},
   "outputs": [
    {
     "data": {
      "image/png": "[encoded data removed]",
      "text/plain": [
       "plot without title"
      ]
     },
     "metadata": {
      "image/png": {
       "height": 360,
       "width": 360
      }
     },
     "output_type": "display_data"
    }
   ],
   "source": [
    "p4"
   ]
  },
  {
   "cell_type": "code",
   "execution_count": 194,
   "id": "31529bf1",
   "metadata": {},
   "outputs": [],
   "source": [
    "ggsave(filename = \"All_SNV_type_distribution.pdf\",plot = p4,width = 6,height = 4)"
   ]
  },
  {
   "cell_type": "code",
   "execution_count": 195,
   "id": "b038a71a",
   "metadata": {},
   "outputs": [],
   "source": [
    "openxlsx::write.xlsx(x = all_snp_stat,file = \"All_SNV_type_distribution.xls\",rowNames = F)"
   ]
  },
  {
   "cell_type": "code",
   "execution_count": null,
   "id": "6e8693ae",
   "metadata": {},
   "outputs": [],
   "source": []
  },
  {
   "cell_type": "code",
   "execution_count": null,
   "id": "51a79b49",
   "metadata": {},
   "outputs": [],
   "source": []
  },
  {
   "cell_type": "code",
   "execution_count": null,
   "id": "55095b68",
   "metadata": {},
   "outputs": [],
   "source": []
  },
  {
   "cell_type": "code",
   "execution_count": null,
   "id": "2b618953",
   "metadata": {},
   "outputs": [],
   "source": []
  },
  {
   "cell_type": "code",
   "execution_count": null,
   "id": "54466c17",
   "metadata": {},
   "outputs": [],
   "source": []
  },
  {
   "cell_type": "code",
   "execution_count": null,
   "id": "e5736d56",
   "metadata": {},
   "outputs": [],
   "source": []
  },
  {
   "cell_type": "code",
   "execution_count": null,
   "id": "07a5da51",
   "metadata": {},
   "outputs": [],
   "source": []
  }
 ],
 "metadata": {
  "kernelspec": {
   "display_name": "R",
   "language": "R",
   "name": "ir"
  },
  "language_info": {
   "codemirror_mode": "r",
   "file_extension": ".r",
   "mimetype": "text/x-r-source",
   "name": "R",
   "pygments_lexer": "r",
   "version": "4.2.2"
  }
 },
 "nbformat": 4,
 "nbformat_minor": 5
}
