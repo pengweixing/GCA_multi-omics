{
 "cells": [
  {
   "cell_type": "code",
   "execution_count": 1,
   "id": "ea87d137",
   "metadata": {
    "scrolled": true
   },
   "outputs": [
    {
     "name": "stderr",
     "output_type": "stream",
     "text": [
      "── \u001b[1mAttaching core tidyverse packages\u001b[22m ──────────────────────── tidyverse 2.0.0 ──\n",
      "\u001b[32m✔\u001b[39m \u001b[34mdplyr    \u001b[39m 1.1.4     \u001b[32m✔\u001b[39m \u001b[34mreadr    \u001b[39m 2.1.4\n",
      "\u001b[32m✔\u001b[39m \u001b[34mforcats  \u001b[39m 1.0.0     \u001b[32m✔\u001b[39m \u001b[34mstringr  \u001b[39m 1.5.1\n",
      "\u001b[32m✔\u001b[39m \u001b[34mggplot2  \u001b[39m 3.4.4     \u001b[32m✔\u001b[39m \u001b[34mtibble   \u001b[39m 3.2.1\n",
      "\u001b[32m✔\u001b[39m \u001b[34mlubridate\u001b[39m 1.9.3     \u001b[32m✔\u001b[39m \u001b[34mtidyr    \u001b[39m 1.3.0\n",
      "\u001b[32m✔\u001b[39m \u001b[34mpurrr    \u001b[39m 1.0.2     \n",
      "── \u001b[1mConflicts\u001b[22m ────────────────────────────────────────── tidyverse_conflicts() ──\n",
      "\u001b[31m✖\u001b[39m \u001b[34mlubridate\u001b[39m::\u001b[32m%within%()\u001b[39m masks \u001b[34mIRanges\u001b[39m::%within%()\n",
      "\u001b[31m✖\u001b[39m \u001b[34mdplyr\u001b[39m::\u001b[32mcollapse()\u001b[39m     masks \u001b[34mIRanges\u001b[39m::collapse()\n",
      "\u001b[31m✖\u001b[39m \u001b[34mdplyr\u001b[39m::\u001b[32mcombine()\u001b[39m      masks \u001b[34mBiocGenerics\u001b[39m::combine()\n",
      "\u001b[31m✖\u001b[39m \u001b[34mdplyr\u001b[39m::\u001b[32mdesc()\u001b[39m         masks \u001b[34mIRanges\u001b[39m::desc()\n",
      "\u001b[31m✖\u001b[39m \u001b[34mtidyr\u001b[39m::\u001b[32mexpand()\u001b[39m       masks \u001b[34mS4Vectors\u001b[39m::expand()\n",
      "\u001b[31m✖\u001b[39m \u001b[34mdplyr\u001b[39m::\u001b[32mfilter()\u001b[39m       masks \u001b[34mstats\u001b[39m::filter()\n",
      "\u001b[31m✖\u001b[39m \u001b[34mdplyr\u001b[39m::\u001b[32mfirst()\u001b[39m        masks \u001b[34mS4Vectors\u001b[39m::first()\n",
      "\u001b[31m✖\u001b[39m \u001b[34mdplyr\u001b[39m::\u001b[32mlag()\u001b[39m          masks \u001b[34mstats\u001b[39m::lag()\n",
      "\u001b[31m✖\u001b[39m \u001b[34mggplot2\u001b[39m::\u001b[32mPosition()\u001b[39m   masks \u001b[34mBiocGenerics\u001b[39m::Position(), \u001b[34mbase\u001b[39m::Position()\n",
      "\u001b[31m✖\u001b[39m \u001b[34mpurrr\u001b[39m::\u001b[32mreduce()\u001b[39m       masks \u001b[34mGenomicRanges\u001b[39m::reduce(), \u001b[34mIRanges\u001b[39m::reduce()\n",
      "\u001b[31m✖\u001b[39m \u001b[34mdplyr\u001b[39m::\u001b[32mrename()\u001b[39m       masks \u001b[34mS4Vectors\u001b[39m::rename()\n",
      "\u001b[31m✖\u001b[39m \u001b[34mlubridate\u001b[39m::\u001b[32msecond()\u001b[39m   masks \u001b[34mS4Vectors\u001b[39m::second()\n",
      "\u001b[31m✖\u001b[39m \u001b[34mlubridate\u001b[39m::\u001b[32msecond<-()\u001b[39m masks \u001b[34mS4Vectors\u001b[39m::second<-()\n",
      "\u001b[31m✖\u001b[39m \u001b[34mdplyr\u001b[39m::\u001b[32mslice()\u001b[39m        masks \u001b[34mIRanges\u001b[39m::slice()\n",
      "\u001b[36mℹ\u001b[39m Use the conflicted package (\u001b[3m\u001b[34m<http://conflicted.r-lib.org/>\u001b[39m\u001b[23m) to force all conflicts to become errors\n"
     ]
    }
   ],
   "source": [
    "library(karyoploteR)\n",
    "library(tidyverse)\n",
    "library(ggplot2)"
   ]
  },
  {
   "cell_type": "markdown",
   "id": "895c91c1",
   "metadata": {},
   "source": [
    "### load the cnv"
   ]
  },
  {
   "cell_type": "code",
   "execution_count": 2,
   "id": "329588fe",
   "metadata": {},
   "outputs": [],
   "source": [
    "high <- read.table('high')"
   ]
  },
  {
   "cell_type": "code",
   "execution_count": 3,
   "id": "415f796d",
   "metadata": {},
   "outputs": [],
   "source": [
    "low <- read.table('low')"
   ]
  },
  {
   "cell_type": "code",
   "execution_count": 4,
   "id": "d1af5f31",
   "metadata": {},
   "outputs": [],
   "source": [
    "neg <- read.table('neg')"
   ]
  },
  {
   "cell_type": "code",
   "execution_count": 5,
   "id": "53e305bc",
   "metadata": {},
   "outputs": [],
   "source": [
    "colnames(high) <-c(\"chr\",\"start\",\"end\",\"cn\",\"type\",\"sample\")"
   ]
  },
  {
   "cell_type": "code",
   "execution_count": 6,
   "id": "59d65646",
   "metadata": {},
   "outputs": [],
   "source": [
    "colnames(low) <-c(\"chr\",\"start\",\"end\",\"cn\",\"type\",\"sample\")"
   ]
  },
  {
   "cell_type": "code",
   "execution_count": 7,
   "id": "8b2e3585",
   "metadata": {},
   "outputs": [],
   "source": [
    "colnames(neg) <-c(\"chr\",\"start\",\"end\",\"cn\",\"type\",\"sample\")"
   ]
  },
  {
   "cell_type": "code",
   "execution_count": 8,
   "id": "077d8640",
   "metadata": {
    "scrolled": true
   },
   "outputs": [],
   "source": [
    "plot_params <- list(leftmargin = 0.1, rightmargin = 0.05, \n",
    "            topmargin = 120, bottommargin = 100, ideogramheight = 50, \n",
    "            ideogramlateralmargin = 0, data1height = 400, data1inmargin = 10, \n",
    "            data1outmargin = 20, data1min = 0, data1max = 1, \n",
    "            data2height = 0, data2inmargin = 0, data2outmargin = 0, \n",
    "            data2min = 0, data2max = 1)"
   ]
  },
  {
   "cell_type": "code",
   "execution_count": 9,
   "id": "37d82b47",
   "metadata": {},
   "outputs": [],
   "source": [
    "unique_high <- unique(high$sample)\n",
    "unique_low <- unique(low$sample)\n",
    "unique_neg <- unique(neg$sample)"
   ]
  },
  {
   "cell_type": "code",
   "execution_count": 21,
   "id": "bac2c3af",
   "metadata": {},
   "outputs": [
    {
     "data": {
      "text/html": [
       "88058272.5"
      ],
      "text/latex": [
       "88058272.5"
      ],
      "text/markdown": [
       "88058272.5"
      ],
      "text/plain": [
       "[1] 88058272"
      ]
     },
     "metadata": {},
     "output_type": "display_data"
    }
   ],
   "source": [
    "(87857749+88258796)/2"
   ]
  },
  {
   "cell_type": "code",
   "execution_count": 37,
   "id": "d8bc1bf4",
   "metadata": {
    "scrolled": false
   },
   "outputs": [
    {
     "data": {
      "text/html": [
       "<strong>png:</strong> 2"
      ],
      "text/latex": [
       "\\textbf{png:} 2"
      ],
      "text/markdown": [
       "**png:** 2"
      ],
      "text/plain": [
       "png \n",
       "  2 "
      ]
     },
     "metadata": {},
     "output_type": "display_data"
    }
   ],
   "source": [
    "pdf(file = \"Chr15.neg.amp.pdf\",width = 6,height = 5)\n",
    "kp <- plotKaryotype(chromosomes = \"chr15\",zoom =toGRanges(data.frame(\"chr15\", 87e6, 90e6)) ,\n",
    "                    genome = \"hg38\",plot.params=plot_params)\n",
    "kpAddBaseNumbers(kp,tick.dist = 500000)\n",
    "\n",
    "markers <- data.frame(chr=rep(\"chr15\",1), pos=c(88058272), labels=c(\"NTRK3\"))\n",
    "kpPlotMarkers(kp, chr=markers$chr, x=markers$pos, labels=markers$labels,y = 0.8)\n",
    "\n",
    "kpPlotRegions(kp, data=toGRanges(c(\"chr15:87857749-88258796\")), r0=0, r1=0.03, col = \"blue\", border=NA, lwd=3)\n",
    "\n",
    "temp_r1 = 0.03\n",
    "for(i in unique_neg){\n",
    "    neg %>% filter(sample==i) ->temp\n",
    "    regs <- GenomicRanges::reduce(toGRanges(temp))\n",
    "    kpPlotRegions(kp, data=regs, r0=temp_r1+0.015, r1=temp_r1+0.045, col = \"red\", border=NA, lwd=0)\n",
    "    temp_r1  = temp_r1+ 0.045\n",
    "\n",
    "}\n",
    "dev.off()"
   ]
  },
  {
   "cell_type": "code",
   "execution_count": 35,
   "id": "51682b9d",
   "metadata": {},
   "outputs": [
    {
     "data": {
      "text/html": [
       "<strong>png:</strong> 2"
      ],
      "text/latex": [
       "\\textbf{png:} 2"
      ],
      "text/markdown": [
       "**png:** 2"
      ],
      "text/plain": [
       "png \n",
       "  2 "
      ]
     },
     "metadata": {},
     "output_type": "display_data"
    }
   ],
   "source": [
    "pdf(file = \"Chr15.high.amp.pdf\",width = 6,height = 5)\n",
    "kp <- plotKaryotype(chromosomes = \"chr15\",zoom =toGRanges(data.frame(\"chr15\", 87e6, 90e6)) ,\n",
    "                    genome = \"hg38\",plot.params=plot_params)\n",
    "kpAddBaseNumbers(kp,tick.dist = 500000)\n",
    "\n",
    "markers <- data.frame(chr=rep(\"chr15\",1), pos=c(88058272), labels=c(\"NTRK3\"))\n",
    "kpPlotMarkers(kp, chr=markers$chr, x=markers$pos, labels=markers$labels,y = 0.8)\n",
    "\n",
    "kpPlotRegions(kp, data=toGRanges(c(\"chr15:87857749-88258796\")), r0=0, r1=0.03, col = \"blue\", border=NA, lwd=3)\n",
    "\n",
    "temp_r1 = 0.03\n",
    "for(i in unique_high){\n",
    "    high %>% filter(sample==i) ->temp\n",
    "    regs <- GenomicRanges::reduce(toGRanges(temp))\n",
    "    kpPlotRegions(kp, data=regs, r0=temp_r1+0.015, r1=temp_r1+0.045, col = \"red\", border=NA, lwd=0)\n",
    "    temp_r1  = temp_r1+ 0.045\n",
    "\n",
    "}\n",
    "dev.off()"
   ]
  },
  {
   "cell_type": "code",
   "execution_count": 36,
   "id": "095207e2",
   "metadata": {},
   "outputs": [
    {
     "data": {
      "text/html": [
       "<strong>png:</strong> 2"
      ],
      "text/latex": [
       "\\textbf{png:} 2"
      ],
      "text/markdown": [
       "**png:** 2"
      ],
      "text/plain": [
       "png \n",
       "  2 "
      ]
     },
     "metadata": {},
     "output_type": "display_data"
    }
   ],
   "source": [
    "pdf(file = \"Chr15.low.amp.pdf\",width = 6,height = 5)\n",
    "kp <- plotKaryotype(chromosomes = \"chr15\",zoom =toGRanges(data.frame(\"chr15\", 87e6, 90e6)) ,\n",
    "                    genome = \"hg38\",plot.params=plot_params)\n",
    "kpAddBaseNumbers(kp,tick.dist = 500000)\n",
    "\n",
    "markers <- data.frame(chr=rep(\"chr15\",1), pos=c(88058272), labels=c(\"NTRK3\"))\n",
    "kpPlotMarkers(kp, chr=markers$chr, x=markers$pos, labels=markers$labels,y = 0.8)\n",
    "\n",
    "kpPlotRegions(kp, data=toGRanges(c(\"chr15:87857749-88258796\")), r0=0, r1=0.03, col = \"blue\", border=NA, lwd=3)\n",
    "\n",
    "temp_r1 = 0.03\n",
    "for(i in unique_low){\n",
    "    low %>% filter(sample==i) ->temp\n",
    "    regs <- GenomicRanges::reduce(toGRanges(temp))\n",
    "    kpPlotRegions(kp, data=regs, r0=temp_r1+0.015, r1=temp_r1+0.045, col = \"red\", border=NA, lwd=0)\n",
    "    temp_r1  = temp_r1+ 0.045\n",
    "\n",
    "}\n",
    "dev.off()"
   ]
  },
  {
   "cell_type": "code",
   "execution_count": 33,
   "id": "6e2c9606",
   "metadata": {},
   "outputs": [
    {
     "data": {
      "text/html": [
       "8"
      ],
      "text/latex": [
       "8"
      ],
      "text/markdown": [
       "8"
      ],
      "text/plain": [
       "[1] 8"
      ]
     },
     "metadata": {},
     "output_type": "display_data"
    }
   ],
   "source": [
    "high$sample %>% unique() %>% length()"
   ]
  },
  {
   "cell_type": "code",
   "execution_count": 34,
   "id": "966d3c71",
   "metadata": {},
   "outputs": [
    {
     "data": {
      "text/html": [
       "5"
      ],
      "text/latex": [
       "5"
      ],
      "text/markdown": [
       "5"
      ],
      "text/plain": [
       "[1] 5"
      ]
     },
     "metadata": {},
     "output_type": "display_data"
    }
   ],
   "source": [
    "low$sample %>% unique() %>% length()"
   ]
  },
  {
   "cell_type": "code",
   "execution_count": 35,
   "id": "bb1089aa",
   "metadata": {},
   "outputs": [
    {
     "data": {
      "text/html": [
       "2"
      ],
      "text/latex": [
       "2"
      ],
      "text/markdown": [
       "2"
      ],
      "text/plain": [
       "[1] 2"
      ]
     },
     "metadata": {},
     "output_type": "display_data"
    }
   ],
   "source": [
    "neg$sample %>% unique() %>% length()"
   ]
  },
  {
   "cell_type": "code",
   "execution_count": 26,
   "id": "217bfa52",
   "metadata": {},
   "outputs": [],
   "source": [
    "aa <- data.frame(amp=c(12,8,4,0),un=c(113-12,42-8,45-4,26-0))"
   ]
  },
  {
   "cell_type": "code",
   "execution_count": 27,
   "id": "f298dc97",
   "metadata": {},
   "outputs": [],
   "source": [
    "rownames(aa) <- c(\"All\",\"High\",\"Low\",\"Neg\")\n",
    "aa$name = rownames(aa)\n",
    "aa %>% mutate(amp_per = amp/(amp+un),un_per=un/(amp+un)) -> aa2"
   ]
  },
  {
   "cell_type": "code",
   "execution_count": 28,
   "id": "3bfd6ce7",
   "metadata": {},
   "outputs": [
    {
     "data": {
      "text/html": [
       "<table class=\"dataframe\">\n",
       "<caption>A data.frame: 4 × 5</caption>\n",
       "<thead>\n",
       "\t<tr><th></th><th scope=col>amp</th><th scope=col>un</th><th scope=col>name</th><th scope=col>amp_per</th><th scope=col>un_per</th></tr>\n",
       "\t<tr><th></th><th scope=col>&lt;dbl&gt;</th><th scope=col>&lt;dbl&gt;</th><th scope=col>&lt;chr&gt;</th><th scope=col>&lt;dbl&gt;</th><th scope=col>&lt;dbl&gt;</th></tr>\n",
       "</thead>\n",
       "<tbody>\n",
       "\t<tr><th scope=row>All</th><td>12</td><td>101</td><td>All </td><td>0.10619469</td><td>0.8938053</td></tr>\n",
       "\t<tr><th scope=row>High</th><td> 8</td><td> 34</td><td>High</td><td>0.19047619</td><td>0.8095238</td></tr>\n",
       "\t<tr><th scope=row>Low</th><td> 4</td><td> 41</td><td>Low </td><td>0.08888889</td><td>0.9111111</td></tr>\n",
       "\t<tr><th scope=row>Neg</th><td> 0</td><td> 26</td><td>Neg </td><td>0.00000000</td><td>1.0000000</td></tr>\n",
       "</tbody>\n",
       "</table>\n"
      ],
      "text/latex": [
       "A data.frame: 4 × 5\n",
       "\\begin{tabular}{r|lllll}\n",
       "  & amp & un & name & amp\\_per & un\\_per\\\\\n",
       "  & <dbl> & <dbl> & <chr> & <dbl> & <dbl>\\\\\n",
       "\\hline\n",
       "\tAll & 12 & 101 & All  & 0.10619469 & 0.8938053\\\\\n",
       "\tHigh &  8 &  34 & High & 0.19047619 & 0.8095238\\\\\n",
       "\tLow &  4 &  41 & Low  & 0.08888889 & 0.9111111\\\\\n",
       "\tNeg &  0 &  26 & Neg  & 0.00000000 & 1.0000000\\\\\n",
       "\\end{tabular}\n"
      ],
      "text/markdown": [
       "\n",
       "A data.frame: 4 × 5\n",
       "\n",
       "| <!--/--> | amp &lt;dbl&gt; | un &lt;dbl&gt; | name &lt;chr&gt; | amp_per &lt;dbl&gt; | un_per &lt;dbl&gt; |\n",
       "|---|---|---|---|---|---|\n",
       "| All | 12 | 101 | All  | 0.10619469 | 0.8938053 |\n",
       "| High |  8 |  34 | High | 0.19047619 | 0.8095238 |\n",
       "| Low |  4 |  41 | Low  | 0.08888889 | 0.9111111 |\n",
       "| Neg |  0 |  26 | Neg  | 0.00000000 | 1.0000000 |\n",
       "\n"
      ],
      "text/plain": [
       "     amp un  name amp_per    un_per   \n",
       "All  12  101 All  0.10619469 0.8938053\n",
       "High  8   34 High 0.19047619 0.8095238\n",
       "Low   4   41 Low  0.08888889 0.9111111\n",
       "Neg   0   26 Neg  0.00000000 1.0000000"
      ]
     },
     "metadata": {},
     "output_type": "display_data"
    }
   ],
   "source": [
    "aa2"
   ]
  },
  {
   "cell_type": "code",
   "execution_count": 29,
   "id": "43a4c52d",
   "metadata": {},
   "outputs": [],
   "source": [
    "aa2[,3:5] %>% pivot_longer(!name, names_to = \"type\", values_to = \"percentage\") -> aa3"
   ]
  },
  {
   "cell_type": "code",
   "execution_count": 30,
   "id": "52a5ab5c",
   "metadata": {},
   "outputs": [],
   "source": [
    "aa3$type = factor(aa3$type,levels=c(\"un_per\",\"amp_per\"))"
   ]
  },
  {
   "cell_type": "code",
   "execution_count": 31,
   "id": "5fcc9cfa",
   "metadata": {},
   "outputs": [],
   "source": [
    "openxlsx::write.xlsx(x=aa2,rowNames = FALSE,file = \"Chr15.bar.xlsx\")"
   ]
  },
  {
   "cell_type": "code",
   "execution_count": 32,
   "id": "d6ce771e",
   "metadata": {},
   "outputs": [],
   "source": [
    "p <- ggplot(data=aa3, aes(x=name, y=percentage, fill=type)) + geom_bar(stat=\"identity\")+\n",
    "    scale_fill_manual(values=c(\"#61B7CF\",\"#025167\"))+theme_bw() + theme(axis.text = element_text(color=\"black\",size=15))+\n",
    "    xlab(\"\")+geom_text(aes(label = scales::percent(percentage)),color=\"white\",position=position_fill(vjust =0.5),size = 4)"
   ]
  },
  {
   "cell_type": "code",
   "execution_count": 33,
   "id": "6e191763",
   "metadata": {},
   "outputs": [],
   "source": [
    "ggsave(filename = \"Chr15.bar.pdf\",plot = p,width = 5,height = 4)"
   ]
  },
  {
   "cell_type": "code",
   "execution_count": 34,
   "id": "b7e3b620",
   "metadata": {},
   "outputs": [
    {
     "data": {
      "image/png": "[encoded data removed]",
      "text/plain": [
       "plot without title"
      ]
     },
     "metadata": {
      "image/png": {
       "height": 420,
       "width": 420
      }
     },
     "output_type": "display_data"
    }
   ],
   "source": [
    "p"
   ]
  },
  {
   "cell_type": "code",
   "execution_count": null,
   "id": "6ae7b2bc",
   "metadata": {},
   "outputs": [],
   "source": []
  },
  {
   "cell_type": "code",
   "execution_count": null,
   "id": "fcc01ffe",
   "metadata": {},
   "outputs": [],
   "source": []
  },
  {
   "cell_type": "code",
   "execution_count": null,
   "id": "078b4c17",
   "metadata": {},
   "outputs": [],
   "source": []
  },
  {
   "cell_type": "code",
   "execution_count": null,
   "id": "ee248cbb",
   "metadata": {},
   "outputs": [],
   "source": []
  }
 ],
 "metadata": {
  "kernelspec": {
   "display_name": "R",
   "language": "R",
   "name": "ir"
  },
  "language_info": {
   "codemirror_mode": "r",
   "file_extension": ".r",
   "mimetype": "text/x-r-source",
   "name": "R",
   "pygments_lexer": "r",
   "version": "4.2.2"
  }
 },
 "nbformat": 4,
 "nbformat_minor": 5
}
