{
 "cells": [
  {
   "cell_type": "code",
   "execution_count": 52,
   "id": "ea87d137",
   "metadata": {
    "scrolled": true
   },
   "outputs": [],
   "source": [
    "library(karyoploteR)"
   ]
  },
  {
   "cell_type": "code",
   "execution_count": 53,
   "id": "4086b6c5",
   "metadata": {},
   "outputs": [],
   "source": [
    "library(tidyverse)"
   ]
  },
  {
   "cell_type": "code",
   "execution_count": 54,
   "id": "febaf45a",
   "metadata": {},
   "outputs": [],
   "source": [
    "library(ggplot2)"
   ]
  },
  {
   "cell_type": "markdown",
   "id": "243be37d",
   "metadata": {},
   "source": [
    "### customize genome with CHM13"
   ]
  },
  {
   "cell_type": "code",
   "execution_count": 55,
   "id": "b06e879b",
   "metadata": {},
   "outputs": [],
   "source": [
    "custom.genome <- toGRanges(\"/disk1/pengweixing/database/hg38/hg38.fa.fai3\")"
   ]
  },
  {
   "cell_type": "markdown",
   "id": "895c91c1",
   "metadata": {},
   "source": [
    "### load the cnv"
   ]
  },
  {
   "cell_type": "code",
   "execution_count": 56,
   "id": "329588fe",
   "metadata": {},
   "outputs": [],
   "source": [
    "high <- read.table('high')"
   ]
  },
  {
   "cell_type": "code",
   "execution_count": 57,
   "id": "17337201",
   "metadata": {},
   "outputs": [],
   "source": [
    "low <- read.table('low')"
   ]
  },
  {
   "cell_type": "code",
   "execution_count": 58,
   "id": "643a31a5",
   "metadata": {},
   "outputs": [],
   "source": [
    "neg <- read.table('neg')"
   ]
  },
  {
   "cell_type": "code",
   "execution_count": 59,
   "id": "53e305bc",
   "metadata": {},
   "outputs": [],
   "source": [
    "colnames(high) <-c(\"chr\",\"start\",\"end\",\"cn\",\"type\",\"sample\")\n",
    "colnames(low) <-c(\"chr\",\"start\",\"end\",\"cn\",\"type\",\"sample\")\n",
    "colnames(neg) <-c(\"chr\",\"start\",\"end\",\"cn\",\"type\",\"sample\")"
   ]
  },
  {
   "cell_type": "code",
   "execution_count": 60,
   "id": "077d8640",
   "metadata": {
    "scrolled": true
   },
   "outputs": [],
   "source": [
    "plot_params <- list(leftmargin = 0.1, rightmargin = 0.05, \n",
    "            topmargin = 120, bottommargin = 100, ideogramheight = 50, \n",
    "            ideogramlateralmargin = 0, data1height = 400, data1inmargin = 10, \n",
    "            data1outmargin = 20, data1min = 0, data1max = 1, \n",
    "            data2height = 0, data2inmargin = 0, data2outmargin = 0, \n",
    "            data2min = 0, data2max = 1)"
   ]
  },
  {
   "cell_type": "code",
   "execution_count": 61,
   "id": "37d82b47",
   "metadata": {},
   "outputs": [],
   "source": [
    "unique_high <- unique(high$sample)"
   ]
  },
  {
   "cell_type": "code",
   "execution_count": 62,
   "id": "efbe80f4",
   "metadata": {},
   "outputs": [],
   "source": [
    "unique_low <- unique(low$sample)"
   ]
  },
  {
   "cell_type": "code",
   "execution_count": 63,
   "id": "cdf5a20f",
   "metadata": {},
   "outputs": [],
   "source": [
    "unique_neg <- unique(neg$sample)"
   ]
  },
  {
   "cell_type": "code",
   "execution_count": 64,
   "id": "0a74e784",
   "metadata": {},
   "outputs": [],
   "source": [
    "markers <- data.frame(chr=\"chr13\",pos=32357576, labels=\"BRCA2\")"
   ]
  },
  {
   "cell_type": "code",
   "execution_count": 68,
   "id": "d8bc1bf4",
   "metadata": {
    "scrolled": false
   },
   "outputs": [
    {
     "data": {
      "text/html": [
       "<strong>png:</strong> 2"
      ],
      "text/latex": [
       "\\textbf{png:} 2"
      ],
      "text/markdown": [
       "**png:** 2"
      ],
      "text/plain": [
       "png \n",
       "  2 "
      ]
     },
     "metadata": {},
     "output_type": "display_data"
    }
   ],
   "source": [
    "pdf(file = \"Chr13.low.amp.pdf\",width = 6,height = 5)\n",
    "kp <- plotKaryotype(chromosomes = \"chr13\",zoom =toGRanges(data.frame(\"chr13\", 31e6, 34e6)) ,\n",
    "                    genome = \"hg38\",plot.params=plot_params)\n",
    "kpAddBaseNumbers(kp,tick.dist = 500000)\n",
    "\n",
    "markers <- data.frame(chr=\"chr13\",pos=32357576, labels=\"BRCA2\")\n",
    "kpPlotMarkers(kp, chr=markers$chr, x=markers$pos, labels=markers$labels,y = 0.8)\n",
    "\n",
    "kpPlotRegions(kp, data=toGRanges(c(\"chr13:32313480-32401672\")), r0=0, r1=0.03, col = \"blue\", border=NA, lwd=3)\n",
    "\n",
    "temp_r1 = 0.03\n",
    "for(i in unique_low){\n",
    "    low %>% filter(sample==i) ->temp\n",
    "    regs <- GenomicRanges::reduce(toGRanges(temp))\n",
    "    kpPlotRegions(kp, data=regs, r0=temp_r1+0.015, r1=temp_r1+0.045, col = \"red\", border=NA, lwd=0)\n",
    "    temp_r1  = temp_r1+ 0.045\n",
    "\n",
    "}\n",
    "dev.off()"
   ]
  },
  {
   "cell_type": "code",
   "execution_count": 66,
   "id": "b396fbc0",
   "metadata": {},
   "outputs": [
    {
     "data": {
      "text/html": [
       "<strong>png:</strong> 2"
      ],
      "text/latex": [
       "\\textbf{png:} 2"
      ],
      "text/markdown": [
       "**png:** 2"
      ],
      "text/plain": [
       "png \n",
       "  2 "
      ]
     },
     "metadata": {},
     "output_type": "display_data"
    }
   ],
   "source": [
    "pdf(file = \"chr13.high.amp.pdf\",width = 6,height = 5)\n",
    "kp <- plotKaryotype(chromosomes = \"chr13\",zoom =toGRanges(data.frame(\"chr13\", 31e6, 34e6)) ,\n",
    "                    genome = \"hg38\",plot.params=plot_params)\n",
    "kpAddBaseNumbers(kp,tick.dist = 500000)\n",
    "\n",
    "kpPlotMarkers(kp, chr=markers$chr, x=markers$pos, labels=markers$labels,y = 0.8)\n",
    "\n",
    "kpPlotRegions(kp, data=toGRanges(c(\"chr13:32313480-32401672\")), r0=0, r1=0.03, col = \"blue\", border=NA, lwd=3)\n",
    "\n",
    "temp_r1 = 0.03\n",
    "for(i in unique_high){\n",
    "    high %>% filter(sample==i) ->temp\n",
    "    regs <- GenomicRanges::reduce(toGRanges(temp))\n",
    "    kpPlotRegions(kp, data=regs, r0=temp_r1+0.015, r1=temp_r1+0.045, col = \"red\", border=NA, lwd=0)\n",
    "    temp_r1  = temp_r1+ 0.045\n",
    "\n",
    "}\n",
    "dev.off()"
   ]
  },
  {
   "cell_type": "code",
   "execution_count": 67,
   "id": "fa9e07c0",
   "metadata": {
    "scrolled": false
   },
   "outputs": [
    {
     "data": {
      "text/html": [
       "<strong>png:</strong> 2"
      ],
      "text/latex": [
       "\\textbf{png:} 2"
      ],
      "text/markdown": [
       "**png:** 2"
      ],
      "text/plain": [
       "png \n",
       "  2 "
      ]
     },
     "metadata": {},
     "output_type": "display_data"
    }
   ],
   "source": [
    "pdf(file = \"Chr13.neg.amp.pdf\",width = 6,height = 5)\n",
    "kp <- plotKaryotype(chromosomes = \"chr13\",zoom =toGRanges(data.frame(\"chr13\", 31e6, 34e6)) ,\n",
    "                    genome = \"hg38\",plot.params=plot_params)\n",
    "kpAddBaseNumbers(kp,tick.dist = 500000)\n",
    "\n",
    "kpPlotMarkers(kp, chr=markers$chr, x=markers$pos, labels=markers$labels,y = 0.8)\n",
    "\n",
    "kpPlotRegions(kp, data=toGRanges(c(\"chr13:32313480-32401672\")), r0=0, r1=0.03, col = \"blue\", border=NA, lwd=3)\n",
    "\n",
    "temp_r1 = 0.03\n",
    "for(i in unique_neg){\n",
    "    neg %>% filter(sample==i) ->temp\n",
    "    regs <- GenomicRanges::reduce(toGRanges(temp))\n",
    "    kpPlotRegions(kp, data=regs, r0=temp_r1+0.015, r1=temp_r1+0.045, col = \"red\", border=NA, lwd=0)\n",
    "    temp_r1  = temp_r1+ 0.045\n",
    "\n",
    "}\n",
    "dev.off()"
   ]
  },
  {
   "cell_type": "code",
   "execution_count": 35,
   "id": "5fafd047",
   "metadata": {},
   "outputs": [
    {
     "data": {
      "text/html": [
       "14"
      ],
      "text/latex": [
       "14"
      ],
      "text/markdown": [
       "14"
      ],
      "text/plain": [
       "[1] 14"
      ]
     },
     "metadata": {},
     "output_type": "display_data"
    }
   ],
   "source": [
    "high$sample %>% unique() %>% length()"
   ]
  },
  {
   "cell_type": "code",
   "execution_count": 36,
   "id": "3649a8dc",
   "metadata": {},
   "outputs": [
    {
     "data": {
      "text/html": [
       "6"
      ],
      "text/latex": [
       "6"
      ],
      "text/markdown": [
       "6"
      ],
      "text/plain": [
       "[1] 6"
      ]
     },
     "metadata": {},
     "output_type": "display_data"
    }
   ],
   "source": [
    "low$sample %>% unique() %>% length()"
   ]
  },
  {
   "cell_type": "code",
   "execution_count": 37,
   "id": "b359bc76",
   "metadata": {},
   "outputs": [
    {
     "data": {
      "text/html": [
       "3"
      ],
      "text/latex": [
       "3"
      ],
      "text/markdown": [
       "3"
      ],
      "text/plain": [
       "[1] 3"
      ]
     },
     "metadata": {},
     "output_type": "display_data"
    }
   ],
   "source": [
    "neg$sample %>% unique() %>% length()"
   ]
  },
  {
   "cell_type": "code",
   "execution_count": 69,
   "id": "217bfa52",
   "metadata": {},
   "outputs": [],
   "source": [
    "aa <- data.frame(amp=c(13,9,2,2),un=c(113-13,42-9,45-2,26-2))"
   ]
  },
  {
   "cell_type": "code",
   "execution_count": 70,
   "id": "f298dc97",
   "metadata": {},
   "outputs": [],
   "source": [
    "rownames(aa) <- c(\"All\",\"High\",\"Low\",\"Neg\")\n",
    "aa$name = rownames(aa)\n",
    "aa %>% mutate(amp_per = amp/(amp+un),un_per=un/(amp+un)) -> aa2"
   ]
  },
  {
   "cell_type": "code",
   "execution_count": 71,
   "id": "43a4c52d",
   "metadata": {},
   "outputs": [],
   "source": [
    "aa2[,3:5] %>% pivot_longer(!name, names_to = \"type\", values_to = \"percentage\") -> aa3"
   ]
  },
  {
   "cell_type": "code",
   "execution_count": 72,
   "id": "c0fe6841",
   "metadata": {},
   "outputs": [],
   "source": [
    "aa3$type = factor(aa3$type,levels=c(\"un_per\",\"amp_per\"))"
   ]
  },
  {
   "cell_type": "code",
   "execution_count": 73,
   "id": "58c99bb2",
   "metadata": {},
   "outputs": [],
   "source": [
    "openxlsx::write.xlsx(x=aa2,rowNames = FALSE,file = \"Chr13.bar.xlsx\")"
   ]
  },
  {
   "cell_type": "code",
   "execution_count": 74,
   "id": "d6ce771e",
   "metadata": {},
   "outputs": [],
   "source": [
    "p <- ggplot(data=aa3, aes(x=name, y=percentage, fill=type)) + geom_bar(stat=\"identity\")+\n",
    "    scale_fill_manual(values=c(\"#61B7CF\",\"#025167\"))+theme_bw() + theme(axis.text = element_text(color=\"black\",size=15))+\n",
    "    xlab(\"\")+geom_text(aes(label = scales::percent(percentage)),color=\"white\",position=position_fill(vjust =0.5),size = 4)"
   ]
  },
  {
   "cell_type": "code",
   "execution_count": 75,
   "id": "6e191763",
   "metadata": {},
   "outputs": [],
   "source": [
    "ggsave(filename = \"Chr13.bar.pdf\",plot = p,width = 5,height = 4)"
   ]
  },
  {
   "cell_type": "code",
   "execution_count": 76,
   "id": "b7e3b620",
   "metadata": {},
   "outputs": [
    {
     "data": {
      "image/png": "[encoded data removed]",
      "text/plain": [
       "plot without title"
      ]
     },
     "metadata": {
      "image/png": {
       "height": 420,
       "width": 420
      }
     },
     "output_type": "display_data"
    }
   ],
   "source": [
    "p"
   ]
  },
  {
   "cell_type": "code",
   "execution_count": null,
   "id": "0920ba72",
   "metadata": {},
   "outputs": [],
   "source": []
  },
  {
   "cell_type": "code",
   "execution_count": null,
   "id": "9d5ee2e5",
   "metadata": {},
   "outputs": [],
   "source": []
  },
  {
   "cell_type": "code",
   "execution_count": null,
   "id": "6d7c0e59",
   "metadata": {},
   "outputs": [],
   "source": []
  },
  {
   "cell_type": "code",
   "execution_count": null,
   "id": "644da093",
   "metadata": {},
   "outputs": [],
   "source": []
  },
  {
   "cell_type": "code",
   "execution_count": null,
   "id": "6ae7b2bc",
   "metadata": {},
   "outputs": [],
   "source": []
  },
  {
   "cell_type": "code",
   "execution_count": null,
   "id": "fcc01ffe",
   "metadata": {},
   "outputs": [],
   "source": []
  },
  {
   "cell_type": "code",
   "execution_count": null,
   "id": "078b4c17",
   "metadata": {},
   "outputs": [],
   "source": []
  },
  {
   "cell_type": "code",
   "execution_count": null,
   "id": "ee248cbb",
   "metadata": {},
   "outputs": [],
   "source": []
  }
 ],
 "metadata": {
  "kernelspec": {
   "display_name": "R",
   "language": "R",
   "name": "ir"
  },
  "language_info": {
   "codemirror_mode": "r",
   "file_extension": ".r",
   "mimetype": "text/x-r-source",
   "name": "R",
   "pygments_lexer": "r",
   "version": "4.2.2"
  }
 },
 "nbformat": 4,
 "nbformat_minor": 5
}
