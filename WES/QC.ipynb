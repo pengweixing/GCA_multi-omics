{
 "cells": [
  {
   "cell_type": "code",
   "execution_count": null,
   "id": "13f342f7",
   "metadata": {},
   "outputs": [],
   "source": [
    "library(dplyr)\n",
    "library(ggplot2)\n",
    "library(stringr)"
   ]
  },
  {
   "cell_type": "code",
   "execution_count": 3,
   "id": "e94013d5",
   "metadata": {},
   "outputs": [],
   "source": [
    "data <- read.table('QCtable.txt',header=T)"
   ]
  },
  {
   "cell_type": "code",
   "execution_count": 8,
   "id": "a1a8e6ae",
   "metadata": {
    "scrolled": true
   },
   "outputs": [],
   "source": [
    "data %>% filter(Sample != c(\"W0356N\",\"W0356T\")) -> data"
   ]
  },
  {
   "cell_type": "code",
   "execution_count": 9,
   "id": "34efac2b",
   "metadata": {},
   "outputs": [],
   "source": [
    "phe <- readRDS(file = \"../phe_113.rdata\")"
   ]
  },
  {
   "cell_type": "code",
   "execution_count": 10,
   "id": "8764e5ed",
   "metadata": {
    "scrolled": true
   },
   "outputs": [],
   "source": [
    "data %>% filter(str_detect(Sample,'B|N')) -> Normal\n",
    "data %>% filter(str_detect(Sample,'T')) -> Tumor"
   ]
  },
  {
   "cell_type": "code",
   "execution_count": 11,
   "id": "9d924e04",
   "metadata": {},
   "outputs": [
    {
     "data": {
      "text/html": [
       "<table class=\"dataframe\">\n",
       "<caption>A data.frame: 6 × 12</caption>\n",
       "<thead>\n",
       "\t<tr><th></th><th scope=col>Sample</th><th scope=col>Total</th><th scope=col>Dups</th><th scope=col>MapRate</th><th scope=col>Unique</th><th scope=col>ProperPaired</th><th scope=col>Coverage...10x.</th><th scope=col>Coverage...30x.</th><th scope=col>Coverage...50x.</th><th scope=col>Coverage...100x.</th><th scope=col>MeanCoverage</th><th scope=col>TargetRegionCount</th></tr>\n",
       "\t<tr><th></th><th scope=col>&lt;chr&gt;</th><th scope=col>&lt;int&gt;</th><th scope=col>&lt;int&gt;</th><th scope=col>&lt;chr&gt;</th><th scope=col>&lt;int&gt;</th><th scope=col>&lt;int&gt;</th><th scope=col>&lt;dbl&gt;</th><th scope=col>&lt;dbl&gt;</th><th scope=col>&lt;dbl&gt;</th><th scope=col>&lt;dbl&gt;</th><th scope=col>&lt;dbl&gt;</th><th scope=col>&lt;int&gt;</th></tr>\n",
       "</thead>\n",
       "<tbody>\n",
       "\t<tr><th scope=row>1</th><td>W0002B</td><td>52470000</td><td>12850587</td><td>99.99%</td><td>52147066</td><td>39643953</td><td>97.19</td><td>89.80</td><td>79.30</td><td>48.41</td><td>109.98743</td><td>192262</td></tr>\n",
       "\t<tr><th scope=row>2</th><td>W0002T</td><td>90941826</td><td>23906074</td><td>99.99%</td><td>89795355</td><td>67076037</td><td>97.32</td><td>92.70</td><td>87.14</td><td>69.76</td><td>185.15245</td><td>192262</td></tr>\n",
       "\t<tr><th scope=row>3</th><td>W0003B</td><td>49204309</td><td>11687244</td><td>99.99%</td><td>48878963</td><td>37538804</td><td>96.89</td><td>88.81</td><td>77.53</td><td>44.87</td><td>103.15509</td><td>192262</td></tr>\n",
       "\t<tr><th scope=row>4</th><td>W0003T</td><td>78804701</td><td>20503806</td><td>99.99%</td><td>78240809</td><td>58326794</td><td>97.16</td><td>92.06</td><td>85.59</td><td>65.21</td><td>158.83316</td><td>192262</td></tr>\n",
       "\t<tr><th scope=row>5</th><td>W0008B</td><td>41489396</td><td> 8500218</td><td>99.99%</td><td>41206895</td><td>33007249</td><td>97.06</td><td>87.64</td><td>74.40</td><td>38.21</td><td> 92.08275</td><td>192262</td></tr>\n",
       "\t<tr><th scope=row>6</th><td>W0008T</td><td>79580088</td><td>17989225</td><td>99.99%</td><td>78493011</td><td>61630271</td><td>97.77</td><td>93.09</td><td>86.87</td><td>67.09</td><td>170.02646</td><td>192262</td></tr>\n",
       "</tbody>\n",
       "</table>\n"
      ],
      "text/latex": [
       "A data.frame: 6 × 12\n",
       "\\begin{tabular}{r|llllllllllll}\n",
       "  & Sample & Total & Dups & MapRate & Unique & ProperPaired & Coverage...10x. & Coverage...30x. & Coverage...50x. & Coverage...100x. & MeanCoverage & TargetRegionCount\\\\\n",
       "  & <chr> & <int> & <int> & <chr> & <int> & <int> & <dbl> & <dbl> & <dbl> & <dbl> & <dbl> & <int>\\\\\n",
       "\\hline\n",
       "\t1 & W0002B & 52470000 & 12850587 & 99.99\\% & 52147066 & 39643953 & 97.19 & 89.80 & 79.30 & 48.41 & 109.98743 & 192262\\\\\n",
       "\t2 & W0002T & 90941826 & 23906074 & 99.99\\% & 89795355 & 67076037 & 97.32 & 92.70 & 87.14 & 69.76 & 185.15245 & 192262\\\\\n",
       "\t3 & W0003B & 49204309 & 11687244 & 99.99\\% & 48878963 & 37538804 & 96.89 & 88.81 & 77.53 & 44.87 & 103.15509 & 192262\\\\\n",
       "\t4 & W0003T & 78804701 & 20503806 & 99.99\\% & 78240809 & 58326794 & 97.16 & 92.06 & 85.59 & 65.21 & 158.83316 & 192262\\\\\n",
       "\t5 & W0008B & 41489396 &  8500218 & 99.99\\% & 41206895 & 33007249 & 97.06 & 87.64 & 74.40 & 38.21 &  92.08275 & 192262\\\\\n",
       "\t6 & W0008T & 79580088 & 17989225 & 99.99\\% & 78493011 & 61630271 & 97.77 & 93.09 & 86.87 & 67.09 & 170.02646 & 192262\\\\\n",
       "\\end{tabular}\n"
      ],
      "text/markdown": [
       "\n",
       "A data.frame: 6 × 12\n",
       "\n",
       "| <!--/--> | Sample &lt;chr&gt; | Total &lt;int&gt; | Dups &lt;int&gt; | MapRate &lt;chr&gt; | Unique &lt;int&gt; | ProperPaired &lt;int&gt; | Coverage...10x. &lt;dbl&gt; | Coverage...30x. &lt;dbl&gt; | Coverage...50x. &lt;dbl&gt; | Coverage...100x. &lt;dbl&gt; | MeanCoverage &lt;dbl&gt; | TargetRegionCount &lt;int&gt; |\n",
       "|---|---|---|---|---|---|---|---|---|---|---|---|---|\n",
       "| 1 | W0002B | 52470000 | 12850587 | 99.99% | 52147066 | 39643953 | 97.19 | 89.80 | 79.30 | 48.41 | 109.98743 | 192262 |\n",
       "| 2 | W0002T | 90941826 | 23906074 | 99.99% | 89795355 | 67076037 | 97.32 | 92.70 | 87.14 | 69.76 | 185.15245 | 192262 |\n",
       "| 3 | W0003B | 49204309 | 11687244 | 99.99% | 48878963 | 37538804 | 96.89 | 88.81 | 77.53 | 44.87 | 103.15509 | 192262 |\n",
       "| 4 | W0003T | 78804701 | 20503806 | 99.99% | 78240809 | 58326794 | 97.16 | 92.06 | 85.59 | 65.21 | 158.83316 | 192262 |\n",
       "| 5 | W0008B | 41489396 |  8500218 | 99.99% | 41206895 | 33007249 | 97.06 | 87.64 | 74.40 | 38.21 |  92.08275 | 192262 |\n",
       "| 6 | W0008T | 79580088 | 17989225 | 99.99% | 78493011 | 61630271 | 97.77 | 93.09 | 86.87 | 67.09 | 170.02646 | 192262 |\n",
       "\n"
      ],
      "text/plain": [
       "  Sample Total    Dups     MapRate Unique   ProperPaired Coverage...10x.\n",
       "1 W0002B 52470000 12850587 99.99%  52147066 39643953     97.19          \n",
       "2 W0002T 90941826 23906074 99.99%  89795355 67076037     97.32          \n",
       "3 W0003B 49204309 11687244 99.99%  48878963 37538804     96.89          \n",
       "4 W0003T 78804701 20503806 99.99%  78240809 58326794     97.16          \n",
       "5 W0008B 41489396  8500218 99.99%  41206895 33007249     97.06          \n",
       "6 W0008T 79580088 17989225 99.99%  78493011 61630271     97.77          \n",
       "  Coverage...30x. Coverage...50x. Coverage...100x. MeanCoverage\n",
       "1 89.80           79.30           48.41            109.98743   \n",
       "2 92.70           87.14           69.76            185.15245   \n",
       "3 88.81           77.53           44.87            103.15509   \n",
       "4 92.06           85.59           65.21            158.83316   \n",
       "5 87.64           74.40           38.21             92.08275   \n",
       "6 93.09           86.87           67.09            170.02646   \n",
       "  TargetRegionCount\n",
       "1 192262           \n",
       "2 192262           \n",
       "3 192262           \n",
       "4 192262           \n",
       "5 192262           \n",
       "6 192262           "
      ]
     },
     "metadata": {},
     "output_type": "display_data"
    }
   ],
   "source": [
    "head(data)"
   ]
  },
  {
   "cell_type": "code",
   "execution_count": 12,
   "id": "9300e764",
   "metadata": {},
   "outputs": [],
   "source": [
    "openxlsx::write.xlsx(data,\"All.QC.xlsx\",rowNames = FALSE)"
   ]
  },
  {
   "cell_type": "code",
   "execution_count": null,
   "id": "aafed2ba",
   "metadata": {},
   "outputs": [],
   "source": []
  },
  {
   "cell_type": "code",
   "execution_count": 13,
   "id": "4ea107c7",
   "metadata": {},
   "outputs": [],
   "source": [
    "p = ggplot(data =Tumor,aes(x=Sample,y=MeanCoverage))+geom_bar(fill=\"#04859D\",stat=\"identity\")+\n",
    "theme_bw()+theme(axis.text.x = element_blank())+xlab(\"Tumor Samples\")+\n",
    "ylab(\"Mean Coverage\")+theme(panel.grid.major = element_blank()) "
   ]
  },
  {
   "cell_type": "code",
   "execution_count": 14,
   "id": "94dd7864",
   "metadata": {},
   "outputs": [
    {
     "data": {
      "image/png": "[encoded data removed]",
      "text/plain": [
       "plot without title"
      ]
     },
     "metadata": {
      "image/png": {
       "height": 420,
       "width": 420
      }
     },
     "output_type": "display_data"
    }
   ],
   "source": [
    "p"
   ]
  },
  {
   "cell_type": "code",
   "execution_count": 18,
   "id": "ffcab37c",
   "metadata": {},
   "outputs": [],
   "source": [
    "ggsave(filename = \"WES_tumor_Cov.barplot.pdf\",plot = p,height = 5,width = 10)"
   ]
  },
  {
   "cell_type": "code",
   "execution_count": 19,
   "id": "37fd9be4",
   "metadata": {},
   "outputs": [],
   "source": [
    "p_normal = ggplot(data = Normal,aes(x=Sample,y=MeanCoverage))+geom_bar(fill=\"#04859D\",stat=\"identity\")+\n",
    "theme_bw()+theme(axis.text.x = element_blank())+xlab(\"Tumor Samples\")+\n",
    "ylab(\"Mean Coverage\")+theme(panel.grid.major = element_blank()) "
   ]
  },
  {
   "cell_type": "code",
   "execution_count": 20,
   "id": "16e271b5",
   "metadata": {},
   "outputs": [],
   "source": [
    "ggsave(filename = \"WES_normal_Cov.barplot.pdf\",plot = p_normal,height = 5,width = 10)"
   ]
  },
  {
   "cell_type": "code",
   "execution_count": null,
   "id": "4bb1b2b3",
   "metadata": {},
   "outputs": [],
   "source": []
  },
  {
   "cell_type": "code",
   "execution_count": null,
   "id": "4c13df7c",
   "metadata": {},
   "outputs": [],
   "source": []
  },
  {
   "cell_type": "code",
   "execution_count": null,
   "id": "8df65d38",
   "metadata": {},
   "outputs": [],
   "source": []
  },
  {
   "cell_type": "code",
   "execution_count": null,
   "id": "a8d84151",
   "metadata": {},
   "outputs": [],
   "source": []
  },
  {
   "cell_type": "code",
   "execution_count": null,
   "id": "b1e3c062",
   "metadata": {},
   "outputs": [],
   "source": []
  },
  {
   "cell_type": "code",
   "execution_count": null,
   "id": "48c6dd14",
   "metadata": {},
   "outputs": [],
   "source": []
  },
  {
   "cell_type": "code",
   "execution_count": null,
   "id": "3dc8f86d",
   "metadata": {},
   "outputs": [],
   "source": []
  },
  {
   "cell_type": "code",
   "execution_count": null,
   "id": "fee817bd",
   "metadata": {},
   "outputs": [],
   "source": []
  },
  {
   "cell_type": "code",
   "execution_count": null,
   "id": "3994007c",
   "metadata": {},
   "outputs": [],
   "source": []
  }
 ],
 "metadata": {
  "kernelspec": {
   "display_name": "R",
   "language": "R",
   "name": "ir"
  },
  "language_info": {
   "codemirror_mode": "r",
   "file_extension": ".r",
   "mimetype": "text/x-r-source",
   "name": "R",
   "pygments_lexer": "r",
   "version": "4.2.2"
  }
 },
 "nbformat": 4,
 "nbformat_minor": 5
}
