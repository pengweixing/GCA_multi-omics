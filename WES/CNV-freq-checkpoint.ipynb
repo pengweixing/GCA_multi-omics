{
 "cells": [
  {
   "cell_type": "code",
   "execution_count": null,
   "id": "a6752690",
   "metadata": {},
   "outputs": [],
   "source": [
    "library(pheatmap)\n",
    "library(ComplexHeatmap)\n",
    "library(circlize)\n",
    "library(tidyverse)\n",
    "library( RColorBrewer )\n",
    "library(karyoploteR)\n",
    "library(bedtoolsr)\n",
    "library(\"bedr\");\n",
    "library(DT)"
   ]
  },
  {
   "cell_type": "markdown",
   "id": "9d67d160",
   "metadata": {},
   "source": [
    "### load the data"
   ]
  },
  {
   "cell_type": "code",
   "execution_count": 2,
   "id": "9f5d72bb",
   "metadata": {},
   "outputs": [],
   "source": [
    "high <- read.table('data_high.freq.txt',header=F)"
   ]
  },
  {
   "cell_type": "code",
   "execution_count": 3,
   "id": "eb7fe5dd",
   "metadata": {},
   "outputs": [],
   "source": [
    "low <- read.table('data_low.freq.txt',header=F)"
   ]
  },
  {
   "cell_type": "code",
   "execution_count": 4,
   "id": "5277426b",
   "metadata": {},
   "outputs": [],
   "source": [
    "neg <- read.table('data_neg.freq.txt',header=F)"
   ]
  },
  {
   "cell_type": "markdown",
   "id": "4eb85c1c",
   "metadata": {},
   "source": [
    "### merge all them together"
   ]
  },
  {
   "cell_type": "code",
   "execution_count": 5,
   "id": "51b428f3",
   "metadata": {
    "scrolled": true
   },
   "outputs": [],
   "source": [
    "all_data <- cbind(high,low$V4,neg$V4)"
   ]
  },
  {
   "cell_type": "code",
   "execution_count": 6,
   "id": "6db47c3e",
   "metadata": {},
   "outputs": [],
   "source": [
    "colnames(all_data) <- c(\"chr\",\"start\",\"end\",\"high\",\"low\",\"neg\")"
   ]
  },
  {
   "cell_type": "code",
   "execution_count": 7,
   "id": "8b306128",
   "metadata": {},
   "outputs": [],
   "source": [
    "all_data[!all_data$chr %in% c(\"chrX\",\"chrY\",\"chrM\"),] -> all_data2"
   ]
  },
  {
   "cell_type": "code",
   "execution_count": 8,
   "id": "6b0c63b8",
   "metadata": {},
   "outputs": [],
   "source": [
    "samp_number <- matrix(data = c(42,45,26),nrow = 3)"
   ]
  },
  {
   "cell_type": "markdown",
   "id": "64ce5a85",
   "metadata": {},
   "source": [
    "### add total sample number"
   ]
  },
  {
   "cell_type": "code",
   "execution_count": 9,
   "id": "16331b1c",
   "metadata": {},
   "outputs": [],
   "source": [
    "all_data2$high_total <- 42\n",
    "all_data2$low_total <- 45\n",
    "all_data2$neg_total <- 26"
   ]
  },
  {
   "cell_type": "markdown",
   "id": "e2140c9a",
   "metadata": {},
   "source": [
    "### calculate the frequncy "
   ]
  },
  {
   "cell_type": "code",
   "execution_count": 10,
   "id": "ef5e58b3",
   "metadata": {},
   "outputs": [],
   "source": [
    "all_data2$high_freq <- all_data2$high/42\n",
    "all_data2$low_freq <- all_data2$low/45\n",
    "all_data2$neg_freq <- all_data2$neg/26"
   ]
  },
  {
   "cell_type": "markdown",
   "id": "da1580eb",
   "metadata": {},
   "source": [
    "### calculate the p-value"
   ]
  },
  {
   "cell_type": "code",
   "execution_count": 11,
   "id": "3bb6f60e",
   "metadata": {},
   "outputs": [],
   "source": [
    "rlt <- as.data.frame(matrix(data=NA,nrow = nrow(all_data2)))\n",
    "colnames(rlt) <- \"Pvalue\"\n",
    "for(i in 1:nrow(all_data2)){\n",
    "    cbind(all_data2[i,4:6] %>% t(),samp_number - all_data2[i,4:6] %>% t()  ) -> a\n",
    "    fisher.test(a) ->b\n",
    "    b$p.value -> rlt[i,1]\n",
    "}\n"
   ]
  },
  {
   "cell_type": "code",
   "execution_count": 12,
   "id": "49610256",
   "metadata": {},
   "outputs": [],
   "source": [
    "cbind(all_data2,rlt) -> all_data3"
   ]
  },
  {
   "cell_type": "code",
   "execution_count": null,
   "id": "86900870",
   "metadata": {},
   "outputs": [],
   "source": [
    "openxlsx::write.xlsx(x=all_data3_sig,rowNames = FALSE,file = \"CNV_1M_bin_test_significant.xlsx\")"
   ]
  },
  {
   "cell_type": "code",
   "execution_count": 13,
   "id": "0ac763c7",
   "metadata": {
    "scrolled": true
   },
   "outputs": [],
   "source": [
    "all_data3 %>% filter(Pvalue<0.05) -> all_data3_sig"
   ]
  },
  {
   "cell_type": "code",
   "execution_count": null,
   "id": "c4b80ac8",
   "metadata": {},
   "outputs": [],
   "source": [
    "all_data3_sig %>% filter(high_freq>low_freq)"
   ]
  },
  {
   "cell_type": "code",
   "execution_count": 26,
   "id": "a1bc6854",
   "metadata": {},
   "outputs": [
    {
     "data": {
      "text/html": [
       "0"
      ],
      "text/latex": [
       "0"
      ],
      "text/markdown": [
       "0"
      ],
      "text/plain": [
       "[1] 0"
      ]
     },
     "metadata": {},
     "output_type": "display_data"
    }
   ],
   "source": [
    "length(which(all_data3_sig$low_freq > all_data3_sig$high_freq & all_data3_sig$low_freq > all_data3_sig$neg_freq))\n"
   ]
  },
  {
   "cell_type": "code",
   "execution_count": 61,
   "id": "38ac4242",
   "metadata": {},
   "outputs": [],
   "source": [
    "t(all_data3[,c('high_freq','low_freq','neg_freq')]) -> freq2"
   ]
  },
  {
   "cell_type": "code",
   "execution_count": 62,
   "id": "26bc9b9b",
   "metadata": {},
   "outputs": [
    {
     "data": {
      "text/html": [
       "<table class=\"dataframe\">\n",
       "<caption>A matrix: 3 × 2887 of type dbl</caption>\n",
       "<thead>\n",
       "\t<tr><th></th><th scope=col>1</th><th scope=col>2</th><th scope=col>3</th><th scope=col>4</th><th scope=col>5</th><th scope=col>6</th><th scope=col>7</th><th scope=col>8</th><th scope=col>9</th><th scope=col>10</th><th scope=col>⋯</th><th scope=col>2878</th><th scope=col>2879</th><th scope=col>2880</th><th scope=col>2881</th><th scope=col>2882</th><th scope=col>2883</th><th scope=col>2884</th><th scope=col>2885</th><th scope=col>2886</th><th scope=col>2887</th></tr>\n",
       "</thead>\n",
       "<tbody>\n",
       "\t<tr><th scope=row>high_freq</th><td>0.07142857</td><td>0.11904762</td><td>0.04761905</td><td>0.07142857</td><td>0.07142857</td><td>0.07142857</td><td>0.09523810</td><td>0.07142857</td><td>0.07142857</td><td>0.07142857</td><td>⋯</td><td>0.04761905</td><td>0.04761905</td><td>0.04761905</td><td>0.04761905</td><td>0.07142857</td><td>0.0952381</td><td>0.07142857</td><td>0.07142857</td><td>0.07142857</td><td>0.07142857</td></tr>\n",
       "\t<tr><th scope=row>low_freq</th><td>0.00000000</td><td>0.04444444</td><td>0.00000000</td><td>0.00000000</td><td>0.00000000</td><td>0.00000000</td><td>0.00000000</td><td>0.00000000</td><td>0.00000000</td><td>0.00000000</td><td>⋯</td><td>0.00000000</td><td>0.00000000</td><td>0.00000000</td><td>0.00000000</td><td>0.00000000</td><td>0.0000000</td><td>0.00000000</td><td>0.02222222</td><td>0.02222222</td><td>0.02222222</td></tr>\n",
       "\t<tr><th scope=row>neg_freq</th><td>0.00000000</td><td>0.00000000</td><td>0.00000000</td><td>0.00000000</td><td>0.00000000</td><td>0.00000000</td><td>0.03846154</td><td>0.00000000</td><td>0.00000000</td><td>0.00000000</td><td>⋯</td><td>0.00000000</td><td>0.00000000</td><td>0.00000000</td><td>0.00000000</td><td>0.00000000</td><td>0.0000000</td><td>0.00000000</td><td>0.00000000</td><td>0.00000000</td><td>0.00000000</td></tr>\n",
       "</tbody>\n",
       "</table>\n"
      ],
      "text/latex": [
       "A matrix: 3 × 2887 of type dbl\n",
       "\\begin{tabular}{r|lllllllllllllllllllll}\n",
       "  & 1 & 2 & 3 & 4 & 5 & 6 & 7 & 8 & 9 & 10 & ⋯ & 2878 & 2879 & 2880 & 2881 & 2882 & 2883 & 2884 & 2885 & 2886 & 2887\\\\\n",
       "\\hline\n",
       "\thigh\\_freq & 0.07142857 & 0.11904762 & 0.04761905 & 0.07142857 & 0.07142857 & 0.07142857 & 0.09523810 & 0.07142857 & 0.07142857 & 0.07142857 & ⋯ & 0.04761905 & 0.04761905 & 0.04761905 & 0.04761905 & 0.07142857 & 0.0952381 & 0.07142857 & 0.07142857 & 0.07142857 & 0.07142857\\\\\n",
       "\tlow\\_freq & 0.00000000 & 0.04444444 & 0.00000000 & 0.00000000 & 0.00000000 & 0.00000000 & 0.00000000 & 0.00000000 & 0.00000000 & 0.00000000 & ⋯ & 0.00000000 & 0.00000000 & 0.00000000 & 0.00000000 & 0.00000000 & 0.0000000 & 0.00000000 & 0.02222222 & 0.02222222 & 0.02222222\\\\\n",
       "\tneg\\_freq & 0.00000000 & 0.00000000 & 0.00000000 & 0.00000000 & 0.00000000 & 0.00000000 & 0.03846154 & 0.00000000 & 0.00000000 & 0.00000000 & ⋯ & 0.00000000 & 0.00000000 & 0.00000000 & 0.00000000 & 0.00000000 & 0.0000000 & 0.00000000 & 0.00000000 & 0.00000000 & 0.00000000\\\\\n",
       "\\end{tabular}\n"
      ],
      "text/markdown": [
       "\n",
       "A matrix: 3 × 2887 of type dbl\n",
       "\n",
       "| <!--/--> | 1 | 2 | 3 | 4 | 5 | 6 | 7 | 8 | 9 | 10 | ⋯ | 2878 | 2879 | 2880 | 2881 | 2882 | 2883 | 2884 | 2885 | 2886 | 2887 |\n",
       "|---|---|---|---|---|---|---|---|---|---|---|---|---|---|---|---|---|---|---|---|---|---|\n",
       "| high_freq | 0.07142857 | 0.11904762 | 0.04761905 | 0.07142857 | 0.07142857 | 0.07142857 | 0.09523810 | 0.07142857 | 0.07142857 | 0.07142857 | ⋯ | 0.04761905 | 0.04761905 | 0.04761905 | 0.04761905 | 0.07142857 | 0.0952381 | 0.07142857 | 0.07142857 | 0.07142857 | 0.07142857 |\n",
       "| low_freq | 0.00000000 | 0.04444444 | 0.00000000 | 0.00000000 | 0.00000000 | 0.00000000 | 0.00000000 | 0.00000000 | 0.00000000 | 0.00000000 | ⋯ | 0.00000000 | 0.00000000 | 0.00000000 | 0.00000000 | 0.00000000 | 0.0000000 | 0.00000000 | 0.02222222 | 0.02222222 | 0.02222222 |\n",
       "| neg_freq | 0.00000000 | 0.00000000 | 0.00000000 | 0.00000000 | 0.00000000 | 0.00000000 | 0.03846154 | 0.00000000 | 0.00000000 | 0.00000000 | ⋯ | 0.00000000 | 0.00000000 | 0.00000000 | 0.00000000 | 0.00000000 | 0.0000000 | 0.00000000 | 0.00000000 | 0.00000000 | 0.00000000 |\n",
       "\n"
      ],
      "text/plain": [
       "          1          2          3          4          5          6         \n",
       "high_freq 0.07142857 0.11904762 0.04761905 0.07142857 0.07142857 0.07142857\n",
       "low_freq  0.00000000 0.04444444 0.00000000 0.00000000 0.00000000 0.00000000\n",
       "neg_freq  0.00000000 0.00000000 0.00000000 0.00000000 0.00000000 0.00000000\n",
       "          7          8          9          10         ⋯ 2878       2879      \n",
       "high_freq 0.09523810 0.07142857 0.07142857 0.07142857 ⋯ 0.04761905 0.04761905\n",
       "low_freq  0.00000000 0.00000000 0.00000000 0.00000000 ⋯ 0.00000000 0.00000000\n",
       "neg_freq  0.03846154 0.00000000 0.00000000 0.00000000 ⋯ 0.00000000 0.00000000\n",
       "          2880       2881       2882       2883      2884       2885      \n",
       "high_freq 0.04761905 0.04761905 0.07142857 0.0952381 0.07142857 0.07142857\n",
       "low_freq  0.00000000 0.00000000 0.00000000 0.0000000 0.00000000 0.02222222\n",
       "neg_freq  0.00000000 0.00000000 0.00000000 0.0000000 0.00000000 0.00000000\n",
       "          2886       2887      \n",
       "high_freq 0.07142857 0.07142857\n",
       "low_freq  0.02222222 0.02222222\n",
       "neg_freq  0.00000000 0.00000000"
      ]
     },
     "metadata": {},
     "output_type": "display_data"
    }
   ],
   "source": [
    "freq2"
   ]
  },
  {
   "cell_type": "code",
   "execution_count": 63,
   "id": "f619e482",
   "metadata": {},
   "outputs": [],
   "source": [
    "options(repr.plot.height=3,repr.plot.width=15)\n",
    "col_fun = colorRamp2(c(min(freq2),max(freq2)/2, max(freq2)), c(\"#4575b4\",\"#ffffbf\",\"#d73027\"))\n",
    "column_ha = HeatmapAnnotation(group = all_data2$chr)\n",
    "p4 = Heatmap(freq2, cluster_rows = FALSE,show_row_names = T,show_column_names = F,  top_annotation  = column_ha,\n",
    "        cluster_columns = FALSE, border = \"white\",col = col_fun)"
   ]
  },
  {
   "cell_type": "code",
   "execution_count": 64,
   "id": "5f338535",
   "metadata": {},
   "outputs": [
    {
     "data": {
      "image/png": "[encoded data removed]",
      "text/plain": [
       "plot without title"
      ]
     },
     "metadata": {
      "image/png": {
       "height": 180,
       "width": 900
      }
     },
     "output_type": "display_data"
    }
   ],
   "source": [
    "p4"
   ]
  },
  {
   "cell_type": "code",
   "execution_count": 46,
   "id": "5c57405d",
   "metadata": {},
   "outputs": [
    {
     "data": {
      "text/html": [
       "<strong>png:</strong> 2"
      ],
      "text/latex": [
       "\\textbf{png:} 2"
      ],
      "text/markdown": [
       "**png:** 2"
      ],
      "text/plain": [
       "png \n",
       "  2 "
      ]
     },
     "metadata": {},
     "output_type": "display_data"
    }
   ],
   "source": [
    "pdf(file =\"CNV.freq.all.pdf\",width = 10,height = 2 )\n",
    "p4\n",
    "dev.off()"
   ]
  },
  {
   "cell_type": "markdown",
   "id": "0794abd9",
   "metadata": {},
   "source": [
    "### assign the non-significant with 0"
   ]
  },
  {
   "cell_type": "code",
   "execution_count": 65,
   "id": "4f0262bb",
   "metadata": {
    "scrolled": true
   },
   "outputs": [],
   "source": [
    "all_data3[all_data3$Pvalue >0.05,c('high_freq','low_freq','neg_freq')] =0"
   ]
  },
  {
   "cell_type": "code",
   "execution_count": 66,
   "id": "1c741dbf",
   "metadata": {},
   "outputs": [],
   "source": [
    "t(all_data3[,c('high_freq','low_freq','neg_freq')]) -> freq2"
   ]
  },
  {
   "cell_type": "code",
   "execution_count": 67,
   "id": "46c3a25c",
   "metadata": {},
   "outputs": [],
   "source": [
    "options(repr.plot.height=3,repr.plot.width=15)\n",
    "col_fun = colorRamp2(c(min(freq2),max(freq2)/2, max(freq2)), c(\"#4575b4\",\"#ffffbf\",\"#d73027\"))\n",
    "column_ha = HeatmapAnnotation(group = all_data2$chr)\n",
    "p1 = Heatmap(freq2, cluster_rows = FALSE,show_row_names = T,show_column_names = F,  top_annotation  = column_ha,\n",
    "        cluster_columns = FALSE, border = \"white\",col = col_fun)"
   ]
  },
  {
   "cell_type": "code",
   "execution_count": 68,
   "id": "1cd50152",
   "metadata": {},
   "outputs": [
    {
     "data": {
      "image/png": "[encoded data removed]",
      "text/plain": [
       "plot without title"
      ]
     },
     "metadata": {
      "image/png": {
       "height": 180,
       "width": 900
      }
     },
     "output_type": "display_data"
    }
   ],
   "source": [
    "p1"
   ]
  },
  {
   "cell_type": "code",
   "execution_count": 26,
   "id": "1fc36069",
   "metadata": {},
   "outputs": [
    {
     "data": {
      "text/html": [
       "<strong>png:</strong> 2"
      ],
      "text/latex": [
       "\\textbf{png:} 2"
      ],
      "text/markdown": [
       "**png:** 2"
      ],
      "text/plain": [
       "png \n",
       "  2 "
      ]
     },
     "metadata": {},
     "output_type": "display_data"
    }
   ],
   "source": [
    "pdf(file =\"CNV.freq.significant.pdf\",width = 10,height = 2 )\n",
    "p1\n",
    "dev.off()"
   ]
  },
  {
   "cell_type": "markdown",
   "id": "9323a409",
   "metadata": {},
   "source": [
    "### load all protein coding gene"
   ]
  },
  {
   "cell_type": "code",
   "execution_count": 69,
   "id": "497968ed",
   "metadata": {},
   "outputs": [],
   "source": [
    "pro_cod <- read.table('/disk1/pengweixing/database/hg38/hg38.v29.procod.gene.pos2',header=F)"
   ]
  },
  {
   "cell_type": "code",
   "execution_count": 70,
   "id": "bd8c5ae4",
   "metadata": {},
   "outputs": [],
   "source": [
    "colnames(pro_cod) <- c(\"chr\",\"start\",\"end\",\"gene\")"
   ]
  },
  {
   "cell_type": "code",
   "execution_count": 71,
   "id": "5640c91e",
   "metadata": {},
   "outputs": [],
   "source": [
    "makeGRangesFromDataFrame(pro_cod,keep.extra.columns = TRUE) -> pro_cod2"
   ]
  },
  {
   "cell_type": "code",
   "execution_count": 72,
   "id": "9f0ec6be",
   "metadata": {},
   "outputs": [
    {
     "data": {
      "text/html": [
       "<table class=\"dataframe\">\n",
       "<caption>A data.frame: 6 × 13</caption>\n",
       "<thead>\n",
       "\t<tr><th></th><th scope=col>chr</th><th scope=col>start</th><th scope=col>end</th><th scope=col>high</th><th scope=col>low</th><th scope=col>neg</th><th scope=col>high_total</th><th scope=col>low_total</th><th scope=col>neg_total</th><th scope=col>high_freq</th><th scope=col>low_freq</th><th scope=col>neg_freq</th><th scope=col>Pvalue</th></tr>\n",
       "\t<tr><th></th><th scope=col>&lt;chr&gt;</th><th scope=col>&lt;int&gt;</th><th scope=col>&lt;int&gt;</th><th scope=col>&lt;int&gt;</th><th scope=col>&lt;int&gt;</th><th scope=col>&lt;int&gt;</th><th scope=col>&lt;dbl&gt;</th><th scope=col>&lt;dbl&gt;</th><th scope=col>&lt;dbl&gt;</th><th scope=col>&lt;dbl&gt;</th><th scope=col>&lt;dbl&gt;</th><th scope=col>&lt;dbl&gt;</th><th scope=col>&lt;dbl&gt;</th></tr>\n",
       "</thead>\n",
       "<tbody>\n",
       "\t<tr><th scope=row>1</th><td>chr2</td><td>102000001</td><td>103000001</td><td>0</td><td>0</td><td>3</td><td>42</td><td>45</td><td>26</td><td>0.00000000</td><td>0</td><td>0.1153846</td><td>0.01110466</td></tr>\n",
       "\t<tr><th scope=row>2</th><td>chr2</td><td>160000001</td><td>161000001</td><td>2</td><td>0</td><td>3</td><td>42</td><td>45</td><td>26</td><td>0.04761905</td><td>0</td><td>0.1153846</td><td>0.04044795</td></tr>\n",
       "\t<tr><th scope=row>3</th><td>chr2</td><td>170000001</td><td>171000001</td><td>2</td><td>0</td><td>3</td><td>42</td><td>45</td><td>26</td><td>0.04761905</td><td>0</td><td>0.1153846</td><td>0.04044795</td></tr>\n",
       "\t<tr><th scope=row>4</th><td>chr2</td><td>173000001</td><td>174000001</td><td>2</td><td>0</td><td>3</td><td>42</td><td>45</td><td>26</td><td>0.04761905</td><td>0</td><td>0.1153846</td><td>0.04044795</td></tr>\n",
       "\t<tr><th scope=row>5</th><td>chr2</td><td>174000001</td><td>175000001</td><td>2</td><td>0</td><td>3</td><td>42</td><td>45</td><td>26</td><td>0.04761905</td><td>0</td><td>0.1153846</td><td>0.04044795</td></tr>\n",
       "\t<tr><th scope=row>6</th><td>chr2</td><td>208000001</td><td>209000001</td><td>3</td><td>0</td><td>4</td><td>42</td><td>45</td><td>26</td><td>0.07142857</td><td>0</td><td>0.1538462</td><td>0.01675661</td></tr>\n",
       "</tbody>\n",
       "</table>\n"
      ],
      "text/latex": [
       "A data.frame: 6 × 13\n",
       "\\begin{tabular}{r|lllllllllllll}\n",
       "  & chr & start & end & high & low & neg & high\\_total & low\\_total & neg\\_total & high\\_freq & low\\_freq & neg\\_freq & Pvalue\\\\\n",
       "  & <chr> & <int> & <int> & <int> & <int> & <int> & <dbl> & <dbl> & <dbl> & <dbl> & <dbl> & <dbl> & <dbl>\\\\\n",
       "\\hline\n",
       "\t1 & chr2 & 102000001 & 103000001 & 0 & 0 & 3 & 42 & 45 & 26 & 0.00000000 & 0 & 0.1153846 & 0.01110466\\\\\n",
       "\t2 & chr2 & 160000001 & 161000001 & 2 & 0 & 3 & 42 & 45 & 26 & 0.04761905 & 0 & 0.1153846 & 0.04044795\\\\\n",
       "\t3 & chr2 & 170000001 & 171000001 & 2 & 0 & 3 & 42 & 45 & 26 & 0.04761905 & 0 & 0.1153846 & 0.04044795\\\\\n",
       "\t4 & chr2 & 173000001 & 174000001 & 2 & 0 & 3 & 42 & 45 & 26 & 0.04761905 & 0 & 0.1153846 & 0.04044795\\\\\n",
       "\t5 & chr2 & 174000001 & 175000001 & 2 & 0 & 3 & 42 & 45 & 26 & 0.04761905 & 0 & 0.1153846 & 0.04044795\\\\\n",
       "\t6 & chr2 & 208000001 & 209000001 & 3 & 0 & 4 & 42 & 45 & 26 & 0.07142857 & 0 & 0.1538462 & 0.01675661\\\\\n",
       "\\end{tabular}\n"
      ],
      "text/markdown": [
       "\n",
       "A data.frame: 6 × 13\n",
       "\n",
       "| <!--/--> | chr &lt;chr&gt; | start &lt;int&gt; | end &lt;int&gt; | high &lt;int&gt; | low &lt;int&gt; | neg &lt;int&gt; | high_total &lt;dbl&gt; | low_total &lt;dbl&gt; | neg_total &lt;dbl&gt; | high_freq &lt;dbl&gt; | low_freq &lt;dbl&gt; | neg_freq &lt;dbl&gt; | Pvalue &lt;dbl&gt; |\n",
       "|---|---|---|---|---|---|---|---|---|---|---|---|---|---|\n",
       "| 1 | chr2 | 102000001 | 103000001 | 0 | 0 | 3 | 42 | 45 | 26 | 0.00000000 | 0 | 0.1153846 | 0.01110466 |\n",
       "| 2 | chr2 | 160000001 | 161000001 | 2 | 0 | 3 | 42 | 45 | 26 | 0.04761905 | 0 | 0.1153846 | 0.04044795 |\n",
       "| 3 | chr2 | 170000001 | 171000001 | 2 | 0 | 3 | 42 | 45 | 26 | 0.04761905 | 0 | 0.1153846 | 0.04044795 |\n",
       "| 4 | chr2 | 173000001 | 174000001 | 2 | 0 | 3 | 42 | 45 | 26 | 0.04761905 | 0 | 0.1153846 | 0.04044795 |\n",
       "| 5 | chr2 | 174000001 | 175000001 | 2 | 0 | 3 | 42 | 45 | 26 | 0.04761905 | 0 | 0.1153846 | 0.04044795 |\n",
       "| 6 | chr2 | 208000001 | 209000001 | 3 | 0 | 4 | 42 | 45 | 26 | 0.07142857 | 0 | 0.1538462 | 0.01675661 |\n",
       "\n"
      ],
      "text/plain": [
       "  chr  start     end       high low neg high_total low_total neg_total\n",
       "1 chr2 102000001 103000001 0    0   3   42         45        26       \n",
       "2 chr2 160000001 161000001 2    0   3   42         45        26       \n",
       "3 chr2 170000001 171000001 2    0   3   42         45        26       \n",
       "4 chr2 173000001 174000001 2    0   3   42         45        26       \n",
       "5 chr2 174000001 175000001 2    0   3   42         45        26       \n",
       "6 chr2 208000001 209000001 3    0   4   42         45        26       \n",
       "  high_freq  low_freq neg_freq  Pvalue    \n",
       "1 0.00000000 0        0.1153846 0.01110466\n",
       "2 0.04761905 0        0.1153846 0.04044795\n",
       "3 0.04761905 0        0.1153846 0.04044795\n",
       "4 0.04761905 0        0.1153846 0.04044795\n",
       "5 0.04761905 0        0.1153846 0.04044795\n",
       "6 0.07142857 0        0.1538462 0.01675661"
      ]
     },
     "metadata": {},
     "output_type": "display_data"
    }
   ],
   "source": [
    "head(all_data3_sig)"
   ]
  },
  {
   "cell_type": "code",
   "execution_count": 73,
   "id": "20a63ff3",
   "metadata": {
    "scrolled": true
   },
   "outputs": [],
   "source": [
    "sig_range <- makeGRangesFromDataFrame(all_data3_sig[,1:3])"
   ]
  },
  {
   "cell_type": "code",
   "execution_count": 74,
   "id": "b3b7f61e",
   "metadata": {
    "scrolled": true
   },
   "outputs": [
    {
     "data": {
      "text/plain": [
       "GRanges object with 1 range and 0 metadata columns:\n",
       "      seqnames              ranges strand\n",
       "         <Rle>           <IRanges>  <Rle>\n",
       "  [1]     chr2 102000001-103000001      *\n",
       "  -------\n",
       "  seqinfo: 15 sequences from an unspecified genome; no seqlengths"
      ]
     },
     "metadata": {},
     "output_type": "display_data"
    }
   ],
   "source": [
    "sig_range[1]"
   ]
  },
  {
   "cell_type": "code",
   "execution_count": 75,
   "id": "0c42ddd3",
   "metadata": {},
   "outputs": [],
   "source": [
    "cancergene <- read.table('/disk1/pengweixing/database/cancergene/merge.cancer.gene2',header=F)"
   ]
  },
  {
   "cell_type": "code",
   "execution_count": 76,
   "id": "3fa25a33",
   "metadata": {},
   "outputs": [],
   "source": [
    "cancergene <- cancergene$V1"
   ]
  },
  {
   "cell_type": "code",
   "execution_count": 77,
   "id": "e0885ce0",
   "metadata": {},
   "outputs": [],
   "source": [
    "all_data3_sig$cancergenes <- NA"
   ]
  },
  {
   "cell_type": "markdown",
   "id": "bc2aff93",
   "metadata": {},
   "source": [
    "### assign cancer gene"
   ]
  },
  {
   "cell_type": "code",
   "execution_count": null,
   "id": "9fc83868",
   "metadata": {
    "scrolled": true
   },
   "outputs": [],
   "source": [
    "for(i in 1:length(sig_range)){\n",
    "   intersect <- bedtoolsr::bt.intersect(pro_cod, sig_range[i])\n",
    "   genes <- intersect$V4\n",
    "   genes2 <- intersect(genes,cancergene) \n",
    "  \n",
    "    if(length(genes2)>1){\n",
    "       gene_string <- paste(genes2,collapse=',')\n",
    "    }else if(length(genes2)==1){\n",
    "        gene_string <- genes2\n",
    "    }else{\n",
    "        gene_string = \"\"\n",
    "    }\n",
    "   # print(gene_string)\n",
    "    all_data3_sig$cancergenes[i] <- gene_string\n",
    "    \n",
    "}"
   ]
  },
  {
   "cell_type": "code",
   "execution_count": 37,
   "id": "990b6193",
   "metadata": {},
   "outputs": [
    {
     "data": {
      "text/html": [
       "<table class=\"dataframe\">\n",
       "<caption>A data.frame: 6 × 14</caption>\n",
       "<thead>\n",
       "\t<tr><th></th><th scope=col>chr</th><th scope=col>start</th><th scope=col>end</th><th scope=col>high</th><th scope=col>low</th><th scope=col>neg</th><th scope=col>high_total</th><th scope=col>low_total</th><th scope=col>neg_total</th><th scope=col>high_freq</th><th scope=col>low_freq</th><th scope=col>neg_freq</th><th scope=col>Pvalue</th><th scope=col>cancergenes</th></tr>\n",
       "\t<tr><th></th><th scope=col>&lt;chr&gt;</th><th scope=col>&lt;int&gt;</th><th scope=col>&lt;int&gt;</th><th scope=col>&lt;int&gt;</th><th scope=col>&lt;int&gt;</th><th scope=col>&lt;int&gt;</th><th scope=col>&lt;dbl&gt;</th><th scope=col>&lt;dbl&gt;</th><th scope=col>&lt;dbl&gt;</th><th scope=col>&lt;dbl&gt;</th><th scope=col>&lt;dbl&gt;</th><th scope=col>&lt;dbl&gt;</th><th scope=col>&lt;dbl&gt;</th><th scope=col>&lt;chr&gt;</th></tr>\n",
       "</thead>\n",
       "<tbody>\n",
       "\t<tr><th scope=row>1</th><td>chr10</td><td>52000001</td><td>53000001</td><td>4</td><td>0</td><td>0</td><td>42</td><td>45</td><td>26</td><td>0.0952381</td><td>0</td><td>0.00000000</td><td>0.03666556</td><td>             </td></tr>\n",
       "\t<tr><th scope=row>2</th><td>chr10</td><td>53000001</td><td>54000001</td><td>4</td><td>0</td><td>0</td><td>42</td><td>45</td><td>26</td><td>0.0952381</td><td>0</td><td>0.00000000</td><td>0.03666556</td><td>             </td></tr>\n",
       "\t<tr><th scope=row>3</th><td>chr10</td><td>54000001</td><td>55000001</td><td>4</td><td>0</td><td>0</td><td>42</td><td>45</td><td>26</td><td>0.0952381</td><td>0</td><td>0.00000000</td><td>0.03666556</td><td>             </td></tr>\n",
       "\t<tr><th scope=row>4</th><td>chr11</td><td>57000001</td><td>58000001</td><td>4</td><td>0</td><td>0</td><td>42</td><td>45</td><td>26</td><td>0.0952381</td><td>0</td><td>0.00000000</td><td>0.03666556</td><td>CLP1,CTNND1  </td></tr>\n",
       "\t<tr><th scope=row>5</th><td>chr12</td><td>52000001</td><td>53000001</td><td>4</td><td>0</td><td>0</td><td>42</td><td>45</td><td>26</td><td>0.0952381</td><td>0</td><td>0.00000000</td><td>0.03666556</td><td>             </td></tr>\n",
       "\t<tr><th scope=row>6</th><td>chr12</td><td>53000001</td><td>54000001</td><td>5</td><td>0</td><td>1</td><td>42</td><td>45</td><td>26</td><td>0.1190476</td><td>0</td><td>0.03846154</td><td>0.02736278</td><td>HOXC13,HOXC11</td></tr>\n",
       "</tbody>\n",
       "</table>\n"
      ],
      "text/latex": [
       "A data.frame: 6 × 14\n",
       "\\begin{tabular}{r|llllllllllllll}\n",
       "  & chr & start & end & high & low & neg & high\\_total & low\\_total & neg\\_total & high\\_freq & low\\_freq & neg\\_freq & Pvalue & cancergenes\\\\\n",
       "  & <chr> & <int> & <int> & <int> & <int> & <int> & <dbl> & <dbl> & <dbl> & <dbl> & <dbl> & <dbl> & <dbl> & <chr>\\\\\n",
       "\\hline\n",
       "\t1 & chr10 & 52000001 & 53000001 & 4 & 0 & 0 & 42 & 45 & 26 & 0.0952381 & 0 & 0.00000000 & 0.03666556 &              \\\\\n",
       "\t2 & chr10 & 53000001 & 54000001 & 4 & 0 & 0 & 42 & 45 & 26 & 0.0952381 & 0 & 0.00000000 & 0.03666556 &              \\\\\n",
       "\t3 & chr10 & 54000001 & 55000001 & 4 & 0 & 0 & 42 & 45 & 26 & 0.0952381 & 0 & 0.00000000 & 0.03666556 &              \\\\\n",
       "\t4 & chr11 & 57000001 & 58000001 & 4 & 0 & 0 & 42 & 45 & 26 & 0.0952381 & 0 & 0.00000000 & 0.03666556 & CLP1,CTNND1  \\\\\n",
       "\t5 & chr12 & 52000001 & 53000001 & 4 & 0 & 0 & 42 & 45 & 26 & 0.0952381 & 0 & 0.00000000 & 0.03666556 &              \\\\\n",
       "\t6 & chr12 & 53000001 & 54000001 & 5 & 0 & 1 & 42 & 45 & 26 & 0.1190476 & 0 & 0.03846154 & 0.02736278 & HOXC13,HOXC11\\\\\n",
       "\\end{tabular}\n"
      ],
      "text/markdown": [
       "\n",
       "A data.frame: 6 × 14\n",
       "\n",
       "| <!--/--> | chr &lt;chr&gt; | start &lt;int&gt; | end &lt;int&gt; | high &lt;int&gt; | low &lt;int&gt; | neg &lt;int&gt; | high_total &lt;dbl&gt; | low_total &lt;dbl&gt; | neg_total &lt;dbl&gt; | high_freq &lt;dbl&gt; | low_freq &lt;dbl&gt; | neg_freq &lt;dbl&gt; | Pvalue &lt;dbl&gt; | cancergenes &lt;chr&gt; |\n",
       "|---|---|---|---|---|---|---|---|---|---|---|---|---|---|---|\n",
       "| 1 | chr10 | 52000001 | 53000001 | 4 | 0 | 0 | 42 | 45 | 26 | 0.0952381 | 0 | 0.00000000 | 0.03666556 | <!----> |\n",
       "| 2 | chr10 | 53000001 | 54000001 | 4 | 0 | 0 | 42 | 45 | 26 | 0.0952381 | 0 | 0.00000000 | 0.03666556 | <!----> |\n",
       "| 3 | chr10 | 54000001 | 55000001 | 4 | 0 | 0 | 42 | 45 | 26 | 0.0952381 | 0 | 0.00000000 | 0.03666556 | <!----> |\n",
       "| 4 | chr11 | 57000001 | 58000001 | 4 | 0 | 0 | 42 | 45 | 26 | 0.0952381 | 0 | 0.00000000 | 0.03666556 | CLP1,CTNND1   |\n",
       "| 5 | chr12 | 52000001 | 53000001 | 4 | 0 | 0 | 42 | 45 | 26 | 0.0952381 | 0 | 0.00000000 | 0.03666556 | <!----> |\n",
       "| 6 | chr12 | 53000001 | 54000001 | 5 | 0 | 1 | 42 | 45 | 26 | 0.1190476 | 0 | 0.03846154 | 0.02736278 | HOXC13,HOXC11 |\n",
       "\n"
      ],
      "text/plain": [
       "  chr   start    end      high low neg high_total low_total neg_total high_freq\n",
       "1 chr10 52000001 53000001 4    0   0   42         45        26        0.0952381\n",
       "2 chr10 53000001 54000001 4    0   0   42         45        26        0.0952381\n",
       "3 chr10 54000001 55000001 4    0   0   42         45        26        0.0952381\n",
       "4 chr11 57000001 58000001 4    0   0   42         45        26        0.0952381\n",
       "5 chr12 52000001 53000001 4    0   0   42         45        26        0.0952381\n",
       "6 chr12 53000001 54000001 5    0   1   42         45        26        0.1190476\n",
       "  low_freq neg_freq   Pvalue     cancergenes  \n",
       "1 0        0.00000000 0.03666556              \n",
       "2 0        0.00000000 0.03666556              \n",
       "3 0        0.00000000 0.03666556              \n",
       "4 0        0.00000000 0.03666556 CLP1,CTNND1  \n",
       "5 0        0.00000000 0.03666556              \n",
       "6 0        0.03846154 0.02736278 HOXC13,HOXC11"
      ]
     },
     "metadata": {},
     "output_type": "display_data"
    }
   ],
   "source": [
    "all_data3_sig %>% head()"
   ]
  },
  {
   "cell_type": "code",
   "execution_count": 38,
   "id": "5aefbede",
   "metadata": {},
   "outputs": [],
   "source": [
    "openxlsx::write.xlsx(x=all_data3_sig,rowNames = FALSE,file = \"CNV_1M_bin_test_significant.xlsx\")"
   ]
  },
  {
   "cell_type": "code",
   "execution_count": null,
   "id": "dddabb12",
   "metadata": {},
   "outputs": [],
   "source": []
  },
  {
   "cell_type": "code",
   "execution_count": null,
   "id": "9fe5cc6d",
   "metadata": {},
   "outputs": [],
   "source": []
  },
  {
   "cell_type": "code",
   "execution_count": null,
   "id": "c7fd7e97",
   "metadata": {},
   "outputs": [],
   "source": []
  },
  {
   "cell_type": "code",
   "execution_count": null,
   "id": "66910d32",
   "metadata": {},
   "outputs": [],
   "source": []
  },
  {
   "cell_type": "code",
   "execution_count": null,
   "id": "ad35702a",
   "metadata": {},
   "outputs": [],
   "source": []
  }
 ],
 "metadata": {
  "kernelspec": {
   "display_name": "R",
   "language": "R",
   "name": "ir"
  },
  "language_info": {
   "codemirror_mode": "r",
   "file_extension": ".r",
   "mimetype": "text/x-r-source",
   "name": "R",
   "pygments_lexer": "r",
   "version": "4.2.2"
  }
 },
 "nbformat": 4,
 "nbformat_minor": 5
}
