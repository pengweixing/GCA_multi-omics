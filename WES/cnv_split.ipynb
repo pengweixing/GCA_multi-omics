{
 "cells": [
  {
   "cell_type": "code",
   "execution_count": 114,
   "id": "26af6416",
   "metadata": {},
   "outputs": [],
   "source": [
    "library(tidyverse)"
   ]
  },
  {
   "cell_type": "code",
   "execution_count": 115,
   "id": "41326ff1",
   "metadata": {},
   "outputs": [],
   "source": [
    "data <- read.table('All.sample.merge.cnv',header=F)"
   ]
  },
  {
   "cell_type": "code",
   "execution_count": 116,
   "id": "0bfb6516",
   "metadata": {},
   "outputs": [],
   "source": [
    "cnvlist <- read.table('cnvkit_freec.list',header=F)"
   ]
  },
  {
   "cell_type": "code",
   "execution_count": 117,
   "id": "21637564",
   "metadata": {},
   "outputs": [],
   "source": [
    "colnames(data) <- c(\"chr\",\"start\",\"end\",\"cn\",\"type\",\"sample\")"
   ]
  },
  {
   "cell_type": "code",
   "execution_count": 118,
   "id": "4fcf907a",
   "metadata": {},
   "outputs": [
    {
     "data": {
      "text/html": [
       "<table class=\"dataframe\">\n",
       "<caption>A data.frame: 6 × 6</caption>\n",
       "<thead>\n",
       "\t<tr><th></th><th scope=col>chr</th><th scope=col>start</th><th scope=col>end</th><th scope=col>cn</th><th scope=col>type</th><th scope=col>sample</th></tr>\n",
       "\t<tr><th></th><th scope=col>&lt;chr&gt;</th><th scope=col>&lt;int&gt;</th><th scope=col>&lt;int&gt;</th><th scope=col>&lt;dbl&gt;</th><th scope=col>&lt;chr&gt;</th><th scope=col>&lt;chr&gt;</th></tr>\n",
       "</thead>\n",
       "<tbody>\n",
       "\t<tr><th scope=row>1</th><td>chr9 </td><td>35546521</td><td> 36110079</td><td>3.0</td><td>gain</td><td>W0002T</td></tr>\n",
       "\t<tr><th scope=row>2</th><td>chr12</td><td>92929042</td><td>133234356</td><td>3.0</td><td>gain</td><td>W0002T</td></tr>\n",
       "\t<tr><th scope=row>3</th><td>chr17</td><td>  410342</td><td>   601896</td><td>5.5</td><td>gain</td><td>W0002T</td></tr>\n",
       "\t<tr><th scope=row>4</th><td>chr17</td><td>  623532</td><td>   864050</td><td>4.0</td><td>gain</td><td>W0002T</td></tr>\n",
       "\t<tr><th scope=row>5</th><td>chr19</td><td>29528432</td><td> 39386799</td><td>3.5</td><td>gain</td><td>W0002T</td></tr>\n",
       "\t<tr><th scope=row>6</th><td>chr19</td><td>39388338</td><td> 58571389</td><td>4.0</td><td>gain</td><td>W0002T</td></tr>\n",
       "</tbody>\n",
       "</table>\n"
      ],
      "text/latex": [
       "A data.frame: 6 × 6\n",
       "\\begin{tabular}{r|llllll}\n",
       "  & chr & start & end & cn & type & sample\\\\\n",
       "  & <chr> & <int> & <int> & <dbl> & <chr> & <chr>\\\\\n",
       "\\hline\n",
       "\t1 & chr9  & 35546521 &  36110079 & 3.0 & gain & W0002T\\\\\n",
       "\t2 & chr12 & 92929042 & 133234356 & 3.0 & gain & W0002T\\\\\n",
       "\t3 & chr17 &   410342 &    601896 & 5.5 & gain & W0002T\\\\\n",
       "\t4 & chr17 &   623532 &    864050 & 4.0 & gain & W0002T\\\\\n",
       "\t5 & chr19 & 29528432 &  39386799 & 3.5 & gain & W0002T\\\\\n",
       "\t6 & chr19 & 39388338 &  58571389 & 4.0 & gain & W0002T\\\\\n",
       "\\end{tabular}\n"
      ],
      "text/markdown": [
       "\n",
       "A data.frame: 6 × 6\n",
       "\n",
       "| <!--/--> | chr &lt;chr&gt; | start &lt;int&gt; | end &lt;int&gt; | cn &lt;dbl&gt; | type &lt;chr&gt; | sample &lt;chr&gt; |\n",
       "|---|---|---|---|---|---|---|\n",
       "| 1 | chr9  | 35546521 |  36110079 | 3.0 | gain | W0002T |\n",
       "| 2 | chr12 | 92929042 | 133234356 | 3.0 | gain | W0002T |\n",
       "| 3 | chr17 |   410342 |    601896 | 5.5 | gain | W0002T |\n",
       "| 4 | chr17 |   623532 |    864050 | 4.0 | gain | W0002T |\n",
       "| 5 | chr19 | 29528432 |  39386799 | 3.5 | gain | W0002T |\n",
       "| 6 | chr19 | 39388338 |  58571389 | 4.0 | gain | W0002T |\n",
       "\n"
      ],
      "text/plain": [
       "  chr   start    end       cn  type sample\n",
       "1 chr9  35546521  36110079 3.0 gain W0002T\n",
       "2 chr12 92929042 133234356 3.0 gain W0002T\n",
       "3 chr17   410342    601896 5.5 gain W0002T\n",
       "4 chr17   623532    864050 4.0 gain W0002T\n",
       "5 chr19 29528432  39386799 3.5 gain W0002T\n",
       "6 chr19 39388338  58571389 4.0 gain W0002T"
      ]
     },
     "metadata": {},
     "output_type": "display_data"
    }
   ],
   "source": [
    "head(data)"
   ]
  },
  {
   "cell_type": "code",
   "execution_count": 119,
   "id": "c55a742e",
   "metadata": {},
   "outputs": [
    {
     "data": {
      "text/html": [
       "<table class=\"dataframe\">\n",
       "<caption>A data.frame: 6 × 3</caption>\n",
       "<thead>\n",
       "\t<tr><th></th><th scope=col>V1</th><th scope=col>V2</th><th scope=col>V3</th></tr>\n",
       "\t<tr><th></th><th scope=col>&lt;chr&gt;</th><th scope=col>&lt;chr&gt;</th><th scope=col>&lt;chr&gt;</th></tr>\n",
       "</thead>\n",
       "<tbody>\n",
       "\t<tr><th scope=row>1</th><td>W0002T</td><td>/disk1/pengweixing/esophageal/14.WES_hg38/02.cnvkit/W0002T/W0002T.recal.call2.cns</td><td>/disk1/pengweixing/esophageal/14.WES_hg38/03.freec/W0002Tbam2_CNVs</td></tr>\n",
       "\t<tr><th scope=row>2</th><td>W0003T</td><td>/disk1/pengweixing/esophageal/14.WES_hg38/02.cnvkit/W0003T/W0003T.recal.call2.cns</td><td>/disk1/pengweixing/esophageal/14.WES_hg38/03.freec/W0003Tbam2_CNVs</td></tr>\n",
       "\t<tr><th scope=row>3</th><td>W0008T</td><td>/disk1/pengweixing/esophageal/14.WES_hg38/02.cnvkit/W0008T/W0008T.recal.call2.cns</td><td>/disk1/pengweixing/esophageal/14.WES_hg38/03.freec/W0008Tbam2_CNVs</td></tr>\n",
       "\t<tr><th scope=row>4</th><td>W0014T</td><td>/disk1/pengweixing/esophageal/14.WES_hg38/02.cnvkit/W0014T/W0014T.recal.call2.cns</td><td>/disk1/pengweixing/esophageal/14.WES_hg38/03.freec/W0014Tbam2_CNVs</td></tr>\n",
       "\t<tr><th scope=row>5</th><td>W0016T</td><td>/disk1/pengweixing/esophageal/14.WES_hg38/02.cnvkit/W0016T/W0016T.recal.call2.cns</td><td>/disk1/pengweixing/esophageal/14.WES_hg38/03.freec/W0016Tbam2_CNVs</td></tr>\n",
       "\t<tr><th scope=row>6</th><td>W0021T</td><td>/disk1/pengweixing/esophageal/14.WES_hg38/02.cnvkit/W0021T/W0021T.recal.call2.cns</td><td>/disk1/pengweixing/esophageal/14.WES_hg38/03.freec/W0021Tbam2_CNVs</td></tr>\n",
       "</tbody>\n",
       "</table>\n"
      ],
      "text/latex": [
       "A data.frame: 6 × 3\n",
       "\\begin{tabular}{r|lll}\n",
       "  & V1 & V2 & V3\\\\\n",
       "  & <chr> & <chr> & <chr>\\\\\n",
       "\\hline\n",
       "\t1 & W0002T & /disk1/pengweixing/esophageal/14.WES\\_hg38/02.cnvkit/W0002T/W0002T.recal.call2.cns & /disk1/pengweixing/esophageal/14.WES\\_hg38/03.freec/W0002Tbam2\\_CNVs\\\\\n",
       "\t2 & W0003T & /disk1/pengweixing/esophageal/14.WES\\_hg38/02.cnvkit/W0003T/W0003T.recal.call2.cns & /disk1/pengweixing/esophageal/14.WES\\_hg38/03.freec/W0003Tbam2\\_CNVs\\\\\n",
       "\t3 & W0008T & /disk1/pengweixing/esophageal/14.WES\\_hg38/02.cnvkit/W0008T/W0008T.recal.call2.cns & /disk1/pengweixing/esophageal/14.WES\\_hg38/03.freec/W0008Tbam2\\_CNVs\\\\\n",
       "\t4 & W0014T & /disk1/pengweixing/esophageal/14.WES\\_hg38/02.cnvkit/W0014T/W0014T.recal.call2.cns & /disk1/pengweixing/esophageal/14.WES\\_hg38/03.freec/W0014Tbam2\\_CNVs\\\\\n",
       "\t5 & W0016T & /disk1/pengweixing/esophageal/14.WES\\_hg38/02.cnvkit/W0016T/W0016T.recal.call2.cns & /disk1/pengweixing/esophageal/14.WES\\_hg38/03.freec/W0016Tbam2\\_CNVs\\\\\n",
       "\t6 & W0021T & /disk1/pengweixing/esophageal/14.WES\\_hg38/02.cnvkit/W0021T/W0021T.recal.call2.cns & /disk1/pengweixing/esophageal/14.WES\\_hg38/03.freec/W0021Tbam2\\_CNVs\\\\\n",
       "\\end{tabular}\n"
      ],
      "text/markdown": [
       "\n",
       "A data.frame: 6 × 3\n",
       "\n",
       "| <!--/--> | V1 &lt;chr&gt; | V2 &lt;chr&gt; | V3 &lt;chr&gt; |\n",
       "|---|---|---|---|\n",
       "| 1 | W0002T | /disk1/pengweixing/esophageal/14.WES_hg38/02.cnvkit/W0002T/W0002T.recal.call2.cns | /disk1/pengweixing/esophageal/14.WES_hg38/03.freec/W0002Tbam2_CNVs |\n",
       "| 2 | W0003T | /disk1/pengweixing/esophageal/14.WES_hg38/02.cnvkit/W0003T/W0003T.recal.call2.cns | /disk1/pengweixing/esophageal/14.WES_hg38/03.freec/W0003Tbam2_CNVs |\n",
       "| 3 | W0008T | /disk1/pengweixing/esophageal/14.WES_hg38/02.cnvkit/W0008T/W0008T.recal.call2.cns | /disk1/pengweixing/esophageal/14.WES_hg38/03.freec/W0008Tbam2_CNVs |\n",
       "| 4 | W0014T | /disk1/pengweixing/esophageal/14.WES_hg38/02.cnvkit/W0014T/W0014T.recal.call2.cns | /disk1/pengweixing/esophageal/14.WES_hg38/03.freec/W0014Tbam2_CNVs |\n",
       "| 5 | W0016T | /disk1/pengweixing/esophageal/14.WES_hg38/02.cnvkit/W0016T/W0016T.recal.call2.cns | /disk1/pengweixing/esophageal/14.WES_hg38/03.freec/W0016Tbam2_CNVs |\n",
       "| 6 | W0021T | /disk1/pengweixing/esophageal/14.WES_hg38/02.cnvkit/W0021T/W0021T.recal.call2.cns | /disk1/pengweixing/esophageal/14.WES_hg38/03.freec/W0021Tbam2_CNVs |\n",
       "\n"
      ],
      "text/plain": [
       "  V1    \n",
       "1 W0002T\n",
       "2 W0003T\n",
       "3 W0008T\n",
       "4 W0014T\n",
       "5 W0016T\n",
       "6 W0021T\n",
       "  V2                                                                               \n",
       "1 /disk1/pengweixing/esophageal/14.WES_hg38/02.cnvkit/W0002T/W0002T.recal.call2.cns\n",
       "2 /disk1/pengweixing/esophageal/14.WES_hg38/02.cnvkit/W0003T/W0003T.recal.call2.cns\n",
       "3 /disk1/pengweixing/esophageal/14.WES_hg38/02.cnvkit/W0008T/W0008T.recal.call2.cns\n",
       "4 /disk1/pengweixing/esophageal/14.WES_hg38/02.cnvkit/W0014T/W0014T.recal.call2.cns\n",
       "5 /disk1/pengweixing/esophageal/14.WES_hg38/02.cnvkit/W0016T/W0016T.recal.call2.cns\n",
       "6 /disk1/pengweixing/esophageal/14.WES_hg38/02.cnvkit/W0021T/W0021T.recal.call2.cns\n",
       "  V3                                                                \n",
       "1 /disk1/pengweixing/esophageal/14.WES_hg38/03.freec/W0002Tbam2_CNVs\n",
       "2 /disk1/pengweixing/esophageal/14.WES_hg38/03.freec/W0003Tbam2_CNVs\n",
       "3 /disk1/pengweixing/esophageal/14.WES_hg38/03.freec/W0008Tbam2_CNVs\n",
       "4 /disk1/pengweixing/esophageal/14.WES_hg38/03.freec/W0014Tbam2_CNVs\n",
       "5 /disk1/pengweixing/esophageal/14.WES_hg38/03.freec/W0016Tbam2_CNVs\n",
       "6 /disk1/pengweixing/esophageal/14.WES_hg38/03.freec/W0021Tbam2_CNVs"
      ]
     },
     "metadata": {},
     "output_type": "display_data"
    }
   ],
   "source": [
    "head(cnvlist)"
   ]
  },
  {
   "cell_type": "code",
   "execution_count": 120,
   "id": "4f635337",
   "metadata": {},
   "outputs": [],
   "source": [
    "cnvlist$V1 %>% str_replace('T','') %>% unique() %>% paste0('9D',.) -> name"
   ]
  },
  {
   "cell_type": "code",
   "execution_count": 123,
   "id": "3c911d69",
   "metadata": {},
   "outputs": [],
   "source": [
    "phe_113 <- readRDS('../phe_113.rdata')"
   ]
  },
  {
   "cell_type": "code",
   "execution_count": 124,
   "id": "091b7d00",
   "metadata": {},
   "outputs": [],
   "source": [
    "phe_113 %>% filter(group==\"High\") %>% rownames() -> highnames\n",
    "phe_113 %>% filter(group==\"Low\") %>% rownames() -> lownames\n",
    "phe_113 %>% filter(group==\"negative\") %>% rownames() -> negnames"
   ]
  },
  {
   "cell_type": "code",
   "execution_count": 125,
   "id": "254375c6",
   "metadata": {},
   "outputs": [],
   "source": [
    "data$sample %>% paste0('9D',.) %>% str_replace('T','') -> data$sample"
   ]
  },
  {
   "cell_type": "code",
   "execution_count": 126,
   "id": "b0e121d1",
   "metadata": {},
   "outputs": [
    {
     "data": {
      "text/html": [
       "<table class=\"dataframe\">\n",
       "<caption>A data.frame: 6 × 6</caption>\n",
       "<thead>\n",
       "\t<tr><th></th><th scope=col>chr</th><th scope=col>start</th><th scope=col>end</th><th scope=col>cn</th><th scope=col>type</th><th scope=col>sample</th></tr>\n",
       "\t<tr><th></th><th scope=col>&lt;chr&gt;</th><th scope=col>&lt;int&gt;</th><th scope=col>&lt;int&gt;</th><th scope=col>&lt;dbl&gt;</th><th scope=col>&lt;chr&gt;</th><th scope=col>&lt;chr&gt;</th></tr>\n",
       "</thead>\n",
       "<tbody>\n",
       "\t<tr><th scope=row>1</th><td>chr9 </td><td>35546521</td><td> 36110079</td><td>3.0</td><td>gain</td><td>9DW0002</td></tr>\n",
       "\t<tr><th scope=row>2</th><td>chr12</td><td>92929042</td><td>133234356</td><td>3.0</td><td>gain</td><td>9DW0002</td></tr>\n",
       "\t<tr><th scope=row>3</th><td>chr17</td><td>  410342</td><td>   601896</td><td>5.5</td><td>gain</td><td>9DW0002</td></tr>\n",
       "\t<tr><th scope=row>4</th><td>chr17</td><td>  623532</td><td>   864050</td><td>4.0</td><td>gain</td><td>9DW0002</td></tr>\n",
       "\t<tr><th scope=row>5</th><td>chr19</td><td>29528432</td><td> 39386799</td><td>3.5</td><td>gain</td><td>9DW0002</td></tr>\n",
       "\t<tr><th scope=row>6</th><td>chr19</td><td>39388338</td><td> 58571389</td><td>4.0</td><td>gain</td><td>9DW0002</td></tr>\n",
       "</tbody>\n",
       "</table>\n"
      ],
      "text/latex": [
       "A data.frame: 6 × 6\n",
       "\\begin{tabular}{r|llllll}\n",
       "  & chr & start & end & cn & type & sample\\\\\n",
       "  & <chr> & <int> & <int> & <dbl> & <chr> & <chr>\\\\\n",
       "\\hline\n",
       "\t1 & chr9  & 35546521 &  36110079 & 3.0 & gain & 9DW0002\\\\\n",
       "\t2 & chr12 & 92929042 & 133234356 & 3.0 & gain & 9DW0002\\\\\n",
       "\t3 & chr17 &   410342 &    601896 & 5.5 & gain & 9DW0002\\\\\n",
       "\t4 & chr17 &   623532 &    864050 & 4.0 & gain & 9DW0002\\\\\n",
       "\t5 & chr19 & 29528432 &  39386799 & 3.5 & gain & 9DW0002\\\\\n",
       "\t6 & chr19 & 39388338 &  58571389 & 4.0 & gain & 9DW0002\\\\\n",
       "\\end{tabular}\n"
      ],
      "text/markdown": [
       "\n",
       "A data.frame: 6 × 6\n",
       "\n",
       "| <!--/--> | chr &lt;chr&gt; | start &lt;int&gt; | end &lt;int&gt; | cn &lt;dbl&gt; | type &lt;chr&gt; | sample &lt;chr&gt; |\n",
       "|---|---|---|---|---|---|---|\n",
       "| 1 | chr9  | 35546521 |  36110079 | 3.0 | gain | 9DW0002 |\n",
       "| 2 | chr12 | 92929042 | 133234356 | 3.0 | gain | 9DW0002 |\n",
       "| 3 | chr17 |   410342 |    601896 | 5.5 | gain | 9DW0002 |\n",
       "| 4 | chr17 |   623532 |    864050 | 4.0 | gain | 9DW0002 |\n",
       "| 5 | chr19 | 29528432 |  39386799 | 3.5 | gain | 9DW0002 |\n",
       "| 6 | chr19 | 39388338 |  58571389 | 4.0 | gain | 9DW0002 |\n",
       "\n"
      ],
      "text/plain": [
       "  chr   start    end       cn  type sample \n",
       "1 chr9  35546521  36110079 3.0 gain 9DW0002\n",
       "2 chr12 92929042 133234356 3.0 gain 9DW0002\n",
       "3 chr17   410342    601896 5.5 gain 9DW0002\n",
       "4 chr17   623532    864050 4.0 gain 9DW0002\n",
       "5 chr19 29528432  39386799 3.5 gain 9DW0002\n",
       "6 chr19 39388338  58571389 4.0 gain 9DW0002"
      ]
     },
     "metadata": {},
     "output_type": "display_data"
    }
   ],
   "source": [
    "head(data)"
   ]
  },
  {
   "cell_type": "code",
   "execution_count": 127,
   "id": "4867571e",
   "metadata": {},
   "outputs": [
    {
     "data": {
      "text/html": [
       "<style>\n",
       ".list-inline {list-style: none; margin:0; padding: 0}\n",
       ".list-inline>li {display: inline-block}\n",
       ".list-inline>li:not(:last-child)::after {content: \"\\00b7\"; padding: 0 .5ex}\n",
       "</style>\n",
       "<ol class=list-inline><li>'9DW0002'</li><li>'9DW0008'</li><li>'9DW0014'</li><li>'9DW0071'</li><li>'9DW0073'</li><li>'9DW0076'</li><li>'9DW0079'</li><li>'9DW0126'</li><li>'9DW0131'</li><li>'9DW0138'</li><li>'9DW0140'</li><li>'9DW0147'</li><li>'9DW0152'</li><li>'9DW0156'</li><li>'9DW0160'</li><li>'9DW0169'</li><li>'9DW0172'</li><li>'9DW0184'</li><li>'9DW0191'</li><li>'9DW0192'</li><li>'9DW0193'</li><li>'9DW0195'</li><li>'9DW0198'</li><li>'9DW0201'</li><li>'9DW0219'</li><li>'9DW0227'</li><li>'9DW0230'</li><li>'9DW0274'</li><li>'9DW0279'</li><li>'9DW0282'</li><li>'9DW0284'</li><li>'9DW0296'</li><li>'9DW0307'</li><li>'9DW0312'</li><li>'9DW0316'</li><li>'9DW0330'</li><li>'9DW0344'</li><li>'9DW0351'</li><li>'9DW0362'</li><li>'9DW0368'</li><li>'9DW0369'</li><li>'9DW0383'</li></ol>\n"
      ],
      "text/latex": [
       "\\begin{enumerate*}\n",
       "\\item '9DW0002'\n",
       "\\item '9DW0008'\n",
       "\\item '9DW0014'\n",
       "\\item '9DW0071'\n",
       "\\item '9DW0073'\n",
       "\\item '9DW0076'\n",
       "\\item '9DW0079'\n",
       "\\item '9DW0126'\n",
       "\\item '9DW0131'\n",
       "\\item '9DW0138'\n",
       "\\item '9DW0140'\n",
       "\\item '9DW0147'\n",
       "\\item '9DW0152'\n",
       "\\item '9DW0156'\n",
       "\\item '9DW0160'\n",
       "\\item '9DW0169'\n",
       "\\item '9DW0172'\n",
       "\\item '9DW0184'\n",
       "\\item '9DW0191'\n",
       "\\item '9DW0192'\n",
       "\\item '9DW0193'\n",
       "\\item '9DW0195'\n",
       "\\item '9DW0198'\n",
       "\\item '9DW0201'\n",
       "\\item '9DW0219'\n",
       "\\item '9DW0227'\n",
       "\\item '9DW0230'\n",
       "\\item '9DW0274'\n",
       "\\item '9DW0279'\n",
       "\\item '9DW0282'\n",
       "\\item '9DW0284'\n",
       "\\item '9DW0296'\n",
       "\\item '9DW0307'\n",
       "\\item '9DW0312'\n",
       "\\item '9DW0316'\n",
       "\\item '9DW0330'\n",
       "\\item '9DW0344'\n",
       "\\item '9DW0351'\n",
       "\\item '9DW0362'\n",
       "\\item '9DW0368'\n",
       "\\item '9DW0369'\n",
       "\\item '9DW0383'\n",
       "\\end{enumerate*}\n"
      ],
      "text/markdown": [
       "1. '9DW0002'\n",
       "2. '9DW0008'\n",
       "3. '9DW0014'\n",
       "4. '9DW0071'\n",
       "5. '9DW0073'\n",
       "6. '9DW0076'\n",
       "7. '9DW0079'\n",
       "8. '9DW0126'\n",
       "9. '9DW0131'\n",
       "10. '9DW0138'\n",
       "11. '9DW0140'\n",
       "12. '9DW0147'\n",
       "13. '9DW0152'\n",
       "14. '9DW0156'\n",
       "15. '9DW0160'\n",
       "16. '9DW0169'\n",
       "17. '9DW0172'\n",
       "18. '9DW0184'\n",
       "19. '9DW0191'\n",
       "20. '9DW0192'\n",
       "21. '9DW0193'\n",
       "22. '9DW0195'\n",
       "23. '9DW0198'\n",
       "24. '9DW0201'\n",
       "25. '9DW0219'\n",
       "26. '9DW0227'\n",
       "27. '9DW0230'\n",
       "28. '9DW0274'\n",
       "29. '9DW0279'\n",
       "30. '9DW0282'\n",
       "31. '9DW0284'\n",
       "32. '9DW0296'\n",
       "33. '9DW0307'\n",
       "34. '9DW0312'\n",
       "35. '9DW0316'\n",
       "36. '9DW0330'\n",
       "37. '9DW0344'\n",
       "38. '9DW0351'\n",
       "39. '9DW0362'\n",
       "40. '9DW0368'\n",
       "41. '9DW0369'\n",
       "42. '9DW0383'\n",
       "\n",
       "\n"
      ],
      "text/plain": [
       " [1] \"9DW0002\" \"9DW0008\" \"9DW0014\" \"9DW0071\" \"9DW0073\" \"9DW0076\" \"9DW0079\"\n",
       " [8] \"9DW0126\" \"9DW0131\" \"9DW0138\" \"9DW0140\" \"9DW0147\" \"9DW0152\" \"9DW0156\"\n",
       "[15] \"9DW0160\" \"9DW0169\" \"9DW0172\" \"9DW0184\" \"9DW0191\" \"9DW0192\" \"9DW0193\"\n",
       "[22] \"9DW0195\" \"9DW0198\" \"9DW0201\" \"9DW0219\" \"9DW0227\" \"9DW0230\" \"9DW0274\"\n",
       "[29] \"9DW0279\" \"9DW0282\" \"9DW0284\" \"9DW0296\" \"9DW0307\" \"9DW0312\" \"9DW0316\"\n",
       "[36] \"9DW0330\" \"9DW0344\" \"9DW0351\" \"9DW0362\" \"9DW0368\" \"9DW0369\" \"9DW0383\""
      ]
     },
     "metadata": {},
     "output_type": "display_data"
    }
   ],
   "source": [
    "highnames"
   ]
  },
  {
   "cell_type": "code",
   "execution_count": 128,
   "id": "57648434",
   "metadata": {},
   "outputs": [],
   "source": [
    "data$sample %in% highnames %>% data[.,] -> data_high"
   ]
  },
  {
   "cell_type": "code",
   "execution_count": 129,
   "id": "84e4cbb8",
   "metadata": {},
   "outputs": [],
   "source": [
    "data$sample %in% lownames %>% data[.,] -> data_low"
   ]
  },
  {
   "cell_type": "code",
   "execution_count": 130,
   "id": "66510e55",
   "metadata": {},
   "outputs": [],
   "source": [
    "data$sample %in% negnames %>% data[.,] -> data_neg"
   ]
  },
  {
   "cell_type": "code",
   "execution_count": 131,
   "id": "5ef37699",
   "metadata": {},
   "outputs": [],
   "source": [
    "write.table(x = data_high,file = \"data_high.txt\",quote = F,sep = \"\\t\",row.names = F)\n",
    "write.table(x = data_low,file = \"data_low.txt\",quote = F,sep = \"\\t\",row.names = F)\n",
    "write.table(x = data_neg,file = \"data_neg.txt\",quote = F,sep = \"\\t\",row.names = F)"
   ]
  },
  {
   "cell_type": "code",
   "execution_count": null,
   "id": "fe9c7a8b",
   "metadata": {},
   "outputs": [],
   "source": []
  },
  {
   "cell_type": "code",
   "execution_count": null,
   "id": "2208b13f",
   "metadata": {},
   "outputs": [],
   "source": []
  },
  {
   "cell_type": "code",
   "execution_count": null,
   "id": "e5ff260f",
   "metadata": {},
   "outputs": [],
   "source": []
  }
 ],
 "metadata": {
  "kernelspec": {
   "display_name": "R",
   "language": "R",
   "name": "ir"
  },
  "language_info": {
   "codemirror_mode": "r",
   "file_extension": ".r",
   "mimetype": "text/x-r-source",
   "name": "R",
   "pygments_lexer": "r",
   "version": "4.2.2"
  }
 },
 "nbformat": 4,
 "nbformat_minor": 5
}
