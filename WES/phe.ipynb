{
 "cells": [
  {
   "cell_type": "code",
   "execution_count": 2,
   "id": "6a9d2320",
   "metadata": {},
   "outputs": [],
   "source": [
    "data <- readRDS(\"phe_113.rdata\")"
   ]
  },
  {
   "cell_type": "code",
   "execution_count": null,
   "id": "3ca1737f",
   "metadata": {},
   "outputs": [],
   "source": [
    "library(tidyverse)"
   ]
  },
  {
   "cell_type": "code",
   "execution_count": 6,
   "id": "8fbed4d3",
   "metadata": {},
   "outputs": [
    {
     "data": {
      "text/html": [
       "<table class=\"dataframe\">\n",
       "<caption>A data.frame: 6 × 20</caption>\n",
       "<thead>\n",
       "\t<tr><th></th><th scope=col>sample</th><th scope=col>name</th><th scope=col>ms_tumor</th><th scope=col>ms_normal</th><th scope=col>ms_ratio</th><th scope=col>status</th><th scope=col>year</th><th scope=col>group</th><th scope=col>group2</th><th scope=col>sex</th><th scope=col>age</th><th scope=col>area</th><th scope=col>smoke</th><th scope=col>alcohol</th><th scope=col>family_history</th><th scope=col>differentiation</th><th scope=col>number_of_lymph</th><th scope=col>Metastasis</th><th scope=col>TNM_stage</th><th scope=col>Stage</th></tr>\n",
       "\t<tr><th></th><th scope=col>&lt;chr&gt;</th><th scope=col>&lt;chr&gt;</th><th scope=col>&lt;dbl&gt;</th><th scope=col>&lt;dbl&gt;</th><th scope=col>&lt;dbl&gt;</th><th scope=col>&lt;int&gt;</th><th scope=col>&lt;dbl&gt;</th><th scope=col>&lt;chr&gt;</th><th scope=col>&lt;chr&gt;</th><th scope=col>&lt;chr&gt;</th><th scope=col>&lt;int&gt;</th><th scope=col>&lt;chr&gt;</th><th scope=col>&lt;chr&gt;</th><th scope=col>&lt;chr&gt;</th><th scope=col>&lt;chr&gt;</th><th scope=col>&lt;chr&gt;</th><th scope=col>&lt;int&gt;</th><th scope=col>&lt;chr&gt;</th><th scope=col>&lt;chr&gt;</th><th scope=col>&lt;chr&gt;</th></tr>\n",
       "</thead>\n",
       "<tbody>\n",
       "\t<tr><th scope=row>9DW0002</th><td>9DW0002</td><td>T2 </td><td>1.039</td><td>0.657</td><td>1.581431</td><td>1</td><td>3.347945</td><td>High    </td><td>High        </td><td>male  </td><td>64</td><td>higharea</td><td>no </td><td>no </td><td>negative</td><td>low   </td><td> 5</td><td>positive</td><td>T2N2M0 </td><td>IIIB</td></tr>\n",
       "\t<tr><th scope=row>9DW0003</th><td>9DW0003</td><td>T3 </td><td>0.832</td><td>0.939</td><td>0.886049</td><td>2</td><td>1.789041</td><td>Low     </td><td>Low_Negative</td><td>female</td><td>65</td><td>higharea</td><td>no </td><td>no </td><td>negative</td><td>low   </td><td>12</td><td>positive</td><td>T3N3M0 </td><td>IVA </td></tr>\n",
       "\t<tr><th scope=row>9DW0008</th><td>9DW0008</td><td>T8 </td><td>2.966</td><td>0.820</td><td>3.617073</td><td>1</td><td>3.342466</td><td>High    </td><td>High        </td><td>male  </td><td>82</td><td>higharea</td><td>yes</td><td>yes</td><td>positive</td><td>middle</td><td> 9</td><td>positive</td><td>T3N3M0 </td><td>IVA </td></tr>\n",
       "\t<tr><th scope=row>9DW0014</th><td>9DW0014</td><td>T14</td><td>1.120</td><td>0.550</td><td>2.036364</td><td>2</td><td>2.909589</td><td>High    </td><td>High        </td><td>male  </td><td>70</td><td>higharea</td><td>no </td><td>no </td><td>negative</td><td>middle</td><td> 6</td><td>positive</td><td>T3N2M0 </td><td>IIIB</td></tr>\n",
       "\t<tr><th scope=row>9DW0016</th><td>9DW0016</td><td>T16</td><td>   NA</td><td>   NA</td><td>0.000000</td><td>1</td><td>3.369863</td><td>negative</td><td>Low_Negative</td><td>male  </td><td>67</td><td>lowarea </td><td>yes</td><td>yes</td><td>positive</td><td>low   </td><td> 4</td><td>positive</td><td>T3N2M0 </td><td>IIIB</td></tr>\n",
       "\t<tr><th scope=row>9DW0021</th><td>9DW0021</td><td>T21</td><td>   NA</td><td>   NA</td><td>0.000000</td><td>1</td><td>3.367123</td><td>negative</td><td>Low_Negative</td><td>male  </td><td>60</td><td>higharea</td><td>no </td><td>no </td><td>positive</td><td>middle</td><td> 0</td><td>negative</td><td>T1bN0M0</td><td>IB  </td></tr>\n",
       "</tbody>\n",
       "</table>\n"
      ],
      "text/latex": [
       "A data.frame: 6 × 20\n",
       "\\begin{tabular}{r|llllllllllllllllllll}\n",
       "  & sample & name & ms\\_tumor & ms\\_normal & ms\\_ratio & status & year & group & group2 & sex & age & area & smoke & alcohol & family\\_history & differentiation & number\\_of\\_lymph & Metastasis & TNM\\_stage & Stage\\\\\n",
       "  & <chr> & <chr> & <dbl> & <dbl> & <dbl> & <int> & <dbl> & <chr> & <chr> & <chr> & <int> & <chr> & <chr> & <chr> & <chr> & <chr> & <int> & <chr> & <chr> & <chr>\\\\\n",
       "\\hline\n",
       "\t9DW0002 & 9DW0002 & T2  & 1.039 & 0.657 & 1.581431 & 1 & 3.347945 & High     & High         & male   & 64 & higharea & no  & no  & negative & low    &  5 & positive & T2N2M0  & IIIB\\\\\n",
       "\t9DW0003 & 9DW0003 & T3  & 0.832 & 0.939 & 0.886049 & 2 & 1.789041 & Low      & Low\\_Negative & female & 65 & higharea & no  & no  & negative & low    & 12 & positive & T3N3M0  & IVA \\\\\n",
       "\t9DW0008 & 9DW0008 & T8  & 2.966 & 0.820 & 3.617073 & 1 & 3.342466 & High     & High         & male   & 82 & higharea & yes & yes & positive & middle &  9 & positive & T3N3M0  & IVA \\\\\n",
       "\t9DW0014 & 9DW0014 & T14 & 1.120 & 0.550 & 2.036364 & 2 & 2.909589 & High     & High         & male   & 70 & higharea & no  & no  & negative & middle &  6 & positive & T3N2M0  & IIIB\\\\\n",
       "\t9DW0016 & 9DW0016 & T16 &    NA &    NA & 0.000000 & 1 & 3.369863 & negative & Low\\_Negative & male   & 67 & lowarea  & yes & yes & positive & low    &  4 & positive & T3N2M0  & IIIB\\\\\n",
       "\t9DW0021 & 9DW0021 & T21 &    NA &    NA & 0.000000 & 1 & 3.367123 & negative & Low\\_Negative & male   & 60 & higharea & no  & no  & positive & middle &  0 & negative & T1bN0M0 & IB  \\\\\n",
       "\\end{tabular}\n"
      ],
      "text/markdown": [
       "\n",
       "A data.frame: 6 × 20\n",
       "\n",
       "| <!--/--> | sample &lt;chr&gt; | name &lt;chr&gt; | ms_tumor &lt;dbl&gt; | ms_normal &lt;dbl&gt; | ms_ratio &lt;dbl&gt; | status &lt;int&gt; | year &lt;dbl&gt; | group &lt;chr&gt; | group2 &lt;chr&gt; | sex &lt;chr&gt; | age &lt;int&gt; | area &lt;chr&gt; | smoke &lt;chr&gt; | alcohol &lt;chr&gt; | family_history &lt;chr&gt; | differentiation &lt;chr&gt; | number_of_lymph &lt;int&gt; | Metastasis &lt;chr&gt; | TNM_stage &lt;chr&gt; | Stage &lt;chr&gt; |\n",
       "|---|---|---|---|---|---|---|---|---|---|---|---|---|---|---|---|---|---|---|---|---|\n",
       "| 9DW0002 | 9DW0002 | T2  | 1.039 | 0.657 | 1.581431 | 1 | 3.347945 | High     | High         | male   | 64 | higharea | no  | no  | negative | low    |  5 | positive | T2N2M0  | IIIB |\n",
       "| 9DW0003 | 9DW0003 | T3  | 0.832 | 0.939 | 0.886049 | 2 | 1.789041 | Low      | Low_Negative | female | 65 | higharea | no  | no  | negative | low    | 12 | positive | T3N3M0  | IVA  |\n",
       "| 9DW0008 | 9DW0008 | T8  | 2.966 | 0.820 | 3.617073 | 1 | 3.342466 | High     | High         | male   | 82 | higharea | yes | yes | positive | middle |  9 | positive | T3N3M0  | IVA  |\n",
       "| 9DW0014 | 9DW0014 | T14 | 1.120 | 0.550 | 2.036364 | 2 | 2.909589 | High     | High         | male   | 70 | higharea | no  | no  | negative | middle |  6 | positive | T3N2M0  | IIIB |\n",
       "| 9DW0016 | 9DW0016 | T16 |    NA |    NA | 0.000000 | 1 | 3.369863 | negative | Low_Negative | male   | 67 | lowarea  | yes | yes | positive | low    |  4 | positive | T3N2M0  | IIIB |\n",
       "| 9DW0021 | 9DW0021 | T21 |    NA |    NA | 0.000000 | 1 | 3.367123 | negative | Low_Negative | male   | 60 | higharea | no  | no  | positive | middle |  0 | negative | T1bN0M0 | IB   |\n",
       "\n"
      ],
      "text/plain": [
       "        sample  name ms_tumor ms_normal ms_ratio status year     group   \n",
       "9DW0002 9DW0002 T2   1.039    0.657     1.581431 1      3.347945 High    \n",
       "9DW0003 9DW0003 T3   0.832    0.939     0.886049 2      1.789041 Low     \n",
       "9DW0008 9DW0008 T8   2.966    0.820     3.617073 1      3.342466 High    \n",
       "9DW0014 9DW0014 T14  1.120    0.550     2.036364 2      2.909589 High    \n",
       "9DW0016 9DW0016 T16     NA       NA     0.000000 1      3.369863 negative\n",
       "9DW0021 9DW0021 T21     NA       NA     0.000000 1      3.367123 negative\n",
       "        group2       sex    age area     smoke alcohol family_history\n",
       "9DW0002 High         male   64  higharea no    no      negative      \n",
       "9DW0003 Low_Negative female 65  higharea no    no      negative      \n",
       "9DW0008 High         male   82  higharea yes   yes     positive      \n",
       "9DW0014 High         male   70  higharea no    no      negative      \n",
       "9DW0016 Low_Negative male   67  lowarea  yes   yes     positive      \n",
       "9DW0021 Low_Negative male   60  higharea no    no      positive      \n",
       "        differentiation number_of_lymph Metastasis TNM_stage Stage\n",
       "9DW0002 low              5              positive   T2N2M0    IIIB \n",
       "9DW0003 low             12              positive   T3N3M0    IVA  \n",
       "9DW0008 middle           9              positive   T3N3M0    IVA  \n",
       "9DW0014 middle           6              positive   T3N2M0    IIIB \n",
       "9DW0016 low              4              positive   T3N2M0    IIIB \n",
       "9DW0021 middle           0              negative   T1bN0M0   IB   "
      ]
     },
     "metadata": {},
     "output_type": "display_data"
    }
   ],
   "source": [
    "head(data)"
   ]
  },
  {
   "cell_type": "code",
   "execution_count": 7,
   "id": "f513fc3f",
   "metadata": {},
   "outputs": [
    {
     "data": {
      "text/html": [
       "<table class=\"dataframe\">\n",
       "<caption>A data.frame: 3 × 2</caption>\n",
       "<thead>\n",
       "\t<tr><th scope=col>group</th><th scope=col>n</th></tr>\n",
       "\t<tr><th scope=col>&lt;chr&gt;</th><th scope=col>&lt;int&gt;</th></tr>\n",
       "</thead>\n",
       "<tbody>\n",
       "\t<tr><td>High    </td><td>42</td></tr>\n",
       "\t<tr><td>Low     </td><td>45</td></tr>\n",
       "\t<tr><td>negative</td><td>26</td></tr>\n",
       "</tbody>\n",
       "</table>\n"
      ],
      "text/latex": [
       "A data.frame: 3 × 2\n",
       "\\begin{tabular}{ll}\n",
       " group & n\\\\\n",
       " <chr> & <int>\\\\\n",
       "\\hline\n",
       "\t High     & 42\\\\\n",
       "\t Low      & 45\\\\\n",
       "\t negative & 26\\\\\n",
       "\\end{tabular}\n"
      ],
      "text/markdown": [
       "\n",
       "A data.frame: 3 × 2\n",
       "\n",
       "| group &lt;chr&gt; | n &lt;int&gt; |\n",
       "|---|---|\n",
       "| High     | 42 |\n",
       "| Low      | 45 |\n",
       "| negative | 26 |\n",
       "\n"
      ],
      "text/plain": [
       "  group    n \n",
       "1 High     42\n",
       "2 Low      45\n",
       "3 negative 26"
      ]
     },
     "metadata": {},
     "output_type": "display_data"
    }
   ],
   "source": [
    "data %>% count(group)"
   ]
  },
  {
   "cell_type": "code",
   "execution_count": null,
   "id": "2a244551",
   "metadata": {},
   "outputs": [],
   "source": []
  },
  {
   "cell_type": "code",
   "execution_count": null,
   "id": "8bf5b1c3",
   "metadata": {},
   "outputs": [],
   "source": []
  },
  {
   "cell_type": "code",
   "execution_count": null,
   "id": "d10ac34b",
   "metadata": {},
   "outputs": [],
   "source": []
  },
  {
   "cell_type": "code",
   "execution_count": null,
   "id": "4ea95e47",
   "metadata": {},
   "outputs": [],
   "source": []
  },
  {
   "cell_type": "code",
   "execution_count": null,
   "id": "6be2340f",
   "metadata": {},
   "outputs": [],
   "source": []
  },
  {
   "cell_type": "code",
   "execution_count": null,
   "id": "39f87705",
   "metadata": {},
   "outputs": [],
   "source": []
  }
 ],
 "metadata": {
  "kernelspec": {
   "display_name": "R",
   "language": "R",
   "name": "ir"
  },
  "language_info": {
   "codemirror_mode": "r",
   "file_extension": ".r",
   "mimetype": "text/x-r-source",
   "name": "R",
   "pygments_lexer": "r",
   "version": "4.2.2"
  }
 },
 "nbformat": 4,
 "nbformat_minor": 5
}
