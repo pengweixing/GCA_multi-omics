{
 "cells": [
  {
   "cell_type": "code",
   "execution_count": null,
   "id": "ea87d137",
   "metadata": {
    "scrolled": true
   },
   "outputs": [],
   "source": [
    "library(karyoploteR)"
   ]
  },
  {
   "cell_type": "code",
   "execution_count": null,
   "id": "4086b6c5",
   "metadata": {},
   "outputs": [],
   "source": [
    "library(tidyverse)"
   ]
  },
  {
   "cell_type": "code",
   "execution_count": 3,
   "id": "febaf45a",
   "metadata": {},
   "outputs": [],
   "source": [
    "library(ggplot2)"
   ]
  },
  {
   "cell_type": "markdown",
   "id": "243be37d",
   "metadata": {},
   "source": [
    "### customize genome with CHM13"
   ]
  },
  {
   "cell_type": "code",
   "execution_count": 49,
   "id": "b06e879b",
   "metadata": {},
   "outputs": [],
   "source": [
    "custom.genome <- toGRanges(\"/disk1/pengweixing/database/hg38/hg38.fa.fai3\")"
   ]
  },
  {
   "cell_type": "markdown",
   "id": "895c91c1",
   "metadata": {},
   "source": [
    "### load the cnv"
   ]
  },
  {
   "cell_type": "code",
   "execution_count": 50,
   "id": "329588fe",
   "metadata": {},
   "outputs": [],
   "source": [
    "high <- read.table('chr17_high.txt')"
   ]
  },
  {
   "cell_type": "code",
   "execution_count": 51,
   "id": "17337201",
   "metadata": {},
   "outputs": [],
   "source": [
    "low <- read.table('chr17_low.txt')"
   ]
  },
  {
   "cell_type": "code",
   "execution_count": 52,
   "id": "643a31a5",
   "metadata": {},
   "outputs": [],
   "source": [
    "neg <- read.table('chr17_neg.txt')"
   ]
  },
  {
   "cell_type": "code",
   "execution_count": 53,
   "id": "53e305bc",
   "metadata": {},
   "outputs": [],
   "source": [
    "colnames(high) <-c(\"chr\",\"start\",\"end\",\"cn\",\"type\",\"sample\")\n",
    "colnames(low) <-c(\"chr\",\"start\",\"end\",\"cn\",\"type\",\"sample\")\n",
    "colnames(neg) <-c(\"chr\",\"start\",\"end\",\"cn\",\"type\",\"sample\")"
   ]
  },
  {
   "cell_type": "code",
   "execution_count": 54,
   "id": "6b1341cf",
   "metadata": {},
   "outputs": [
    {
     "data": {
      "text/html": [
       "<style>\n",
       ".list-inline {list-style: none; margin:0; padding: 0}\n",
       ".list-inline>li {display: inline-block}\n",
       ".list-inline>li:not(:last-child)::after {content: \"\\00b7\"; padding: 0 .5ex}\n",
       "</style>\n",
       "<ol class=list-inline><li>6795306</li><li>777414</li><li>403361</li></ol>\n"
      ],
      "text/latex": [
       "\\begin{enumerate*}\n",
       "\\item 6795306\n",
       "\\item 777414\n",
       "\\item 403361\n",
       "\\end{enumerate*}\n"
      ],
      "text/markdown": [
       "1. 6795306\n",
       "2. 777414\n",
       "3. 403361\n",
       "\n",
       "\n"
      ],
      "text/plain": [
       "[1] 6795306  777414  403361"
      ]
     },
     "metadata": {},
     "output_type": "display_data"
    }
   ],
   "source": [
    "low$end -low$start"
   ]
  },
  {
   "cell_type": "code",
   "execution_count": 55,
   "id": "94410ef4",
   "metadata": {
    "scrolled": true
   },
   "outputs": [],
   "source": [
    "high %>% arrange(sample) -> high2"
   ]
  },
  {
   "cell_type": "code",
   "execution_count": 56,
   "id": "e375835d",
   "metadata": {},
   "outputs": [
    {
     "data": {
      "text/html": [
       "39514523"
      ],
      "text/latex": [
       "39514523"
      ],
      "text/markdown": [
       "39514523"
      ],
      "text/plain": [
       "[1] 39514523"
      ]
     },
     "metadata": {},
     "output_type": "display_data"
    }
   ],
   "source": [
    "(39459486+39569560)/2"
   ]
  },
  {
   "cell_type": "code",
   "execution_count": 57,
   "id": "a69dbadd",
   "metadata": {},
   "outputs": [
    {
     "data": {
      "text/html": [
       "39708373"
      ],
      "text/latex": [
       "39708373"
      ],
      "text/markdown": [
       "39708373"
      ],
      "text/plain": [
       "[1] 39708373"
      ]
     },
     "metadata": {},
     "output_type": "display_data"
    }
   ],
   "source": [
    "(39686084+39730662)/2"
   ]
  },
  {
   "cell_type": "code",
   "execution_count": 58,
   "id": "25ae9bb1",
   "metadata": {},
   "outputs": [],
   "source": [
    "markers <- data.frame(chr=\"chr17\",os=40549480, labels=\"ERBB2\")"
   ]
  },
  {
   "cell_type": "code",
   "execution_count": 59,
   "id": "077d8640",
   "metadata": {
    "scrolled": true
   },
   "outputs": [],
   "source": [
    "plot_params <- list(leftmargin = 0.1, rightmargin = 0.05, \n",
    "            topmargin = 120, bottommargin = 100, ideogramheight = 50, \n",
    "            ideogramlateralmargin = 0, data1height = 400, data1inmargin = 10, \n",
    "            data1outmargin = 20, data1min = 0, data1max = 1, \n",
    "            data2height = 0, data2inmargin = 0, data2outmargin = 0, \n",
    "            data2min = 0, data2max = 1)"
   ]
  },
  {
   "cell_type": "code",
   "execution_count": 60,
   "id": "37d82b47",
   "metadata": {},
   "outputs": [],
   "source": [
    "unique_high <- unique(high$sample)"
   ]
  },
  {
   "cell_type": "code",
   "execution_count": 61,
   "id": "efbe80f4",
   "metadata": {},
   "outputs": [],
   "source": [
    "unique_low <- unique(low$sample)"
   ]
  },
  {
   "cell_type": "code",
   "execution_count": 62,
   "id": "cdf5a20f",
   "metadata": {},
   "outputs": [],
   "source": [
    "unique_neg <- unique(neg$sample)"
   ]
  },
  {
   "cell_type": "code",
   "execution_count": 63,
   "id": "e1a7156c",
   "metadata": {},
   "outputs": [
    {
     "data": {
      "text/html": [
       "43084829.5"
      ],
      "text/latex": [
       "43084829.5"
      ],
      "text/markdown": [
       "43084829.5"
      ],
      "text/plain": [
       "[1] 43084830"
      ]
     },
     "metadata": {},
     "output_type": "display_data"
    }
   ],
   "source": [
    "(43042295+43127364)/2"
   ]
  },
  {
   "cell_type": "markdown",
   "id": "2a6abd71",
   "metadata": {},
   "source": [
    "## Low"
   ]
  },
  {
   "cell_type": "code",
   "execution_count": 72,
   "id": "d8bc1bf4",
   "metadata": {
    "scrolled": false
   },
   "outputs": [
    {
     "data": {
      "image/png": "[encoded data removed]",
      "text/plain": [
       "plot without title"
      ]
     },
     "metadata": {
      "image/png": {
       "height": 420,
       "width": 420
      }
     },
     "output_type": "display_data"
    }
   ],
   "source": [
    "#pdf(file = \"Chr17.low.amp.pdf\",width = 6,height = 5)\n",
    "kp <- plotKaryotype(chromosomes = \"chr17\",zoom =toGRanges(data.frame(\"chr17\", 38e6, 44e6)) ,\n",
    "                    genome = \"hg38\",plot.params=plot_params)\n",
    "kpAddBaseNumbers(kp,tick.dist = 500000)\n",
    "\n",
    "markers <- data.frame(chr=rep(\"chr17\",3), pos=c(39514523,39708373,43084829), labels=c(\"CDK12\",\"ERBB2\",\"BRCA1\"))\n",
    "kpPlotMarkers(kp, chr=markers$chr, x=markers$pos, labels=markers$labels,y = 0.8)\n",
    "\n",
    "kpPlotRegions(kp, data=toGRanges(c(\"chr17:39459486-39569560\",\n",
    "                                \"chr17:39686084-39730662\",\n",
    "                                 \"chr17:43042295-43127364\")), r0=0, r1=0.03, col = \"blue\", border=NA, lwd=3)\n",
    "\n",
    "temp_r1 = 0.03\n",
    "for(i in unique_low){\n",
    "    low %>% filter(sample==i) ->temp\n",
    "    regs <- GenomicRanges::reduce(toGRanges(temp))\n",
    "    kpPlotRegions(kp, data=regs, r0=temp_r1+0.015, r1=temp_r1+0.045, col = \"red\", border=NA, lwd=0)\n",
    "    temp_r1  = temp_r1+ 0.045\n",
    "\n",
    "}\n",
    "#dev.off()"
   ]
  },
  {
   "cell_type": "code",
   "execution_count": 66,
   "id": "4fabe5ed",
   "metadata": {},
   "outputs": [],
   "source": [
    "#high2 <- high[51:60,]"
   ]
  },
  {
   "cell_type": "code",
   "execution_count": 74,
   "id": "51e9562f",
   "metadata": {
    "scrolled": true
   },
   "outputs": [
    {
     "data": {
      "text/html": [
       "<table class=\"dataframe\">\n",
       "<caption>A data.frame: 76 × 6</caption>\n",
       "<thead>\n",
       "\t<tr><th scope=col>chr</th><th scope=col>start</th><th scope=col>end</th><th scope=col>cn</th><th scope=col>type</th><th scope=col>sample</th></tr>\n",
       "\t<tr><th scope=col>&lt;chr&gt;</th><th scope=col>&lt;int&gt;</th><th scope=col>&lt;int&gt;</th><th scope=col>&lt;dbl&gt;</th><th scope=col>&lt;chr&gt;</th><th scope=col>&lt;chr&gt;</th></tr>\n",
       "</thead>\n",
       "<tbody>\n",
       "\t<tr><td>chr17</td><td>30519938</td><td>32267925</td><td> 4.0</td><td>gain</td><td>9DW0008</td></tr>\n",
       "\t<tr><td>chr17</td><td>34581076</td><td>35101036</td><td> 3.5</td><td>gain</td><td>9DW0008</td></tr>\n",
       "\t<tr><td>chr17</td><td>39657007</td><td>40089456</td><td> 7.0</td><td>gain</td><td>9DW0008</td></tr>\n",
       "\t<tr><td>chr17</td><td>40093019</td><td>40193788</td><td> 5.5</td><td>gain</td><td>9DW0008</td></tr>\n",
       "\t<tr><td>chr17</td><td>40256459</td><td>40406493</td><td> 4.5</td><td>gain</td><td>9DW0008</td></tr>\n",
       "\t<tr><td>chr17</td><td>40406583</td><td>40835293</td><td> 5.5</td><td>gain</td><td>9DW0008</td></tr>\n",
       "\t<tr><td>chr17</td><td>41610853</td><td>41820461</td><td> 5.5</td><td>gain</td><td>9DW0008</td></tr>\n",
       "\t<tr><td>chr17</td><td>41820946</td><td>42334049</td><td> 4.5</td><td>gain</td><td>9DW0008</td></tr>\n",
       "\t<tr><td>chr17</td><td>43399732</td><td>43881589</td><td> 4.0</td><td>gain</td><td>9DW0008</td></tr>\n",
       "\t<tr><td>chr17</td><td>45222124</td><td>45274593</td><td> 5.0</td><td>gain</td><td>9DW0008</td></tr>\n",
       "\t<tr><td>chr17</td><td>47596352</td><td>47696337</td><td> 4.5</td><td>gain</td><td>9DW0008</td></tr>\n",
       "\t<tr><td>chr17</td><td>47696710</td><td>47840843</td><td> 5.5</td><td>gain</td><td>9DW0008</td></tr>\n",
       "\t<tr><td>chr17</td><td>47847298</td><td>48071579</td><td> 4.5</td><td>gain</td><td>9DW0008</td></tr>\n",
       "\t<tr><td>chr17</td><td>48075005</td><td>49973269</td><td> 3.5</td><td>gain</td><td>9DW0008</td></tr>\n",
       "\t<tr><td>chr17</td><td>43399732</td><td>45169809</td><td> 3.0</td><td>gain</td><td>9DW0014</td></tr>\n",
       "\t<tr><td>chr17</td><td>46929519</td><td>47429966</td><td> 3.0</td><td>gain</td><td>9DW0014</td></tr>\n",
       "\t<tr><td>chr17</td><td>47596352</td><td>48430120</td><td> 3.0</td><td>gain</td><td>9DW0014</td></tr>\n",
       "\t<tr><td>chr17</td><td>38951580</td><td>39738924</td><td>11.5</td><td>gain</td><td>9DW0071</td></tr>\n",
       "\t<tr><td>chr17</td><td>39627392</td><td>39686019</td><td> 3.5</td><td>gain</td><td>9DW0126</td></tr>\n",
       "\t<tr><td>chr17</td><td>39706989</td><td>39792933</td><td> 4.0</td><td>gain</td><td>9DW0126</td></tr>\n",
       "\t<tr><td>chr17</td><td>39829386</td><td>39870819</td><td> 4.5</td><td>gain</td><td>9DW0126</td></tr>\n",
       "\t<tr><td>chr17</td><td>39871463</td><td>40036154</td><td> 3.5</td><td>gain</td><td>9DW0126</td></tr>\n",
       "\t<tr><td>chr17</td><td>42670993</td><td>42672392</td><td> 0.5</td><td>loss</td><td>9DW0131</td></tr>\n",
       "\t<tr><td>chr17</td><td>39105853</td><td>39606599</td><td> 3.0</td><td>gain</td><td>9DW0152</td></tr>\n",
       "\t<tr><td>chr17</td><td>39627392</td><td>39635726</td><td> 4.0</td><td>gain</td><td>9DW0152</td></tr>\n",
       "\t<tr><td>chr17</td><td>39635815</td><td>39686019</td><td> 6.5</td><td>gain</td><td>9DW0152</td></tr>\n",
       "\t<tr><td>chr17</td><td>39706989</td><td>39715939</td><td> 6.0</td><td>gain</td><td>9DW0152</td></tr>\n",
       "\t<tr><td>chr17</td><td>39716300</td><td>39730291</td><td> 6.5</td><td>gain</td><td>9DW0152</td></tr>\n",
       "\t<tr><td>chr17</td><td>39730406</td><td>40296767</td><td> 3.0</td><td>gain</td><td>9DW0152</td></tr>\n",
       "\t<tr><td>chr17</td><td>38951580</td><td>39864126</td><td>17.5</td><td>gain</td><td>9DW0160</td></tr>\n",
       "\t<tr><td>⋮</td><td>⋮</td><td>⋮</td><td>⋮</td><td>⋮</td><td>⋮</td></tr>\n",
       "\t<tr><td>chr17</td><td>41486949</td><td>41988896</td><td> 4.0</td><td>gain</td><td>9DW0201</td></tr>\n",
       "\t<tr><td>chr17</td><td>41989403</td><td>42660707</td><td> 3.5</td><td>gain</td><td>9DW0201</td></tr>\n",
       "\t<tr><td>chr17</td><td>42773475</td><td>42990436</td><td> 3.5</td><td>gain</td><td>9DW0201</td></tr>\n",
       "\t<tr><td>chr17</td><td>44734089</td><td>45169809</td><td> 3.5</td><td>gain</td><td>9DW0201</td></tr>\n",
       "\t<tr><td>chr17</td><td>45222124</td><td>45290745</td><td> 4.0</td><td>gain</td><td>9DW0201</td></tr>\n",
       "\t<tr><td>chr17</td><td>48768988</td><td>49031973</td><td> 3.0</td><td>gain</td><td>9DW0279</td></tr>\n",
       "\t<tr><td>chr17</td><td>38937174</td><td>39531316</td><td> 5.5</td><td>gain</td><td>9DW0307</td></tr>\n",
       "\t<tr><td>chr17</td><td>39605450</td><td>39792933</td><td>61.0</td><td>gain</td><td>9DW0307</td></tr>\n",
       "\t<tr><td>chr17</td><td>39829386</td><td>40496425</td><td> 4.5</td><td>gain</td><td>9DW0307</td></tr>\n",
       "\t<tr><td>chr17</td><td>40554741</td><td>41848307</td><td>10.0</td><td>gain</td><td>9DW0307</td></tr>\n",
       "\t<tr><td>chr17</td><td>41853739</td><td>42207728</td><td> 5.0</td><td>gain</td><td>9DW0307</td></tr>\n",
       "\t<tr><td>chr17</td><td>42210170</td><td>44007773</td><td> 5.5</td><td>gain</td><td>9DW0307</td></tr>\n",
       "\t<tr><td>chr17</td><td>44008447</td><td>44322852</td><td> 5.0</td><td>gain</td><td>9DW0307</td></tr>\n",
       "\t<tr><td>chr17</td><td>49217738</td><td>49732720</td><td> 4.5</td><td>gain</td><td>9DW0307</td></tr>\n",
       "\t<tr><td>chr17</td><td>38850131</td><td>38898519</td><td> 4.0</td><td>gain</td><td>9DW0316</td></tr>\n",
       "\t<tr><td>chr17</td><td>38914324</td><td>40558942</td><td> 3.5</td><td>gain</td><td>9DW0316</td></tr>\n",
       "\t<tr><td>chr17</td><td>40565399</td><td>43400338</td><td> 3.0</td><td>gain</td><td>9DW0316</td></tr>\n",
       "\t<tr><td>chr17</td><td>43484037</td><td>45137988</td><td> 3.5</td><td>gain</td><td>9DW0316</td></tr>\n",
       "\t<tr><td>chr17</td><td>45139020</td><td>45169809</td><td> 6.0</td><td>gain</td><td>9DW0316</td></tr>\n",
       "\t<tr><td>chr17</td><td>38850131</td><td>39108973</td><td> 5.0</td><td>gain</td><td>9DW0351</td></tr>\n",
       "\t<tr><td>chr17</td><td>39109247</td><td>39520087</td><td> 6.0</td><td>gain</td><td>9DW0351</td></tr>\n",
       "\t<tr><td>chr17</td><td>39524673</td><td>39792933</td><td> 9.0</td><td>gain</td><td>9DW0351</td></tr>\n",
       "\t<tr><td>chr17</td><td>39829386</td><td>40565409</td><td> 5.0</td><td>gain</td><td>9DW0351</td></tr>\n",
       "\t<tr><td>chr17</td><td>40628784</td><td>40835293</td><td> 6.0</td><td>gain</td><td>9DW0351</td></tr>\n",
       "\t<tr><td>chr17</td><td>39490556</td><td>39791583</td><td>18.0</td><td>gain</td><td>9DW0368</td></tr>\n",
       "\t<tr><td>chr17</td><td>40645575</td><td>41348639</td><td> 3.5</td><td>gain</td><td>9DW0368</td></tr>\n",
       "\t<tr><td>chr17</td><td>34928047</td><td>35641975</td><td>13.5</td><td>gain</td><td>9DW0383</td></tr>\n",
       "\t<tr><td>chr17</td><td>38850361</td><td>39301075</td><td> 8.5</td><td>gain</td><td>9DW0383</td></tr>\n",
       "\t<tr><td>chr17</td><td>39303584</td><td>39944734</td><td>24.5</td><td>gain</td><td>9DW0383</td></tr>\n",
       "\t<tr><td>chr17</td><td>39965687</td><td>40036154</td><td>12.5</td><td>gain</td><td>9DW0383</td></tr>\n",
       "</tbody>\n",
       "</table>\n"
      ],
      "text/latex": [
       "A data.frame: 76 × 6\n",
       "\\begin{tabular}{llllll}\n",
       " chr & start & end & cn & type & sample\\\\\n",
       " <chr> & <int> & <int> & <dbl> & <chr> & <chr>\\\\\n",
       "\\hline\n",
       "\t chr17 & 30519938 & 32267925 &  4.0 & gain & 9DW0008\\\\\n",
       "\t chr17 & 34581076 & 35101036 &  3.5 & gain & 9DW0008\\\\\n",
       "\t chr17 & 39657007 & 40089456 &  7.0 & gain & 9DW0008\\\\\n",
       "\t chr17 & 40093019 & 40193788 &  5.5 & gain & 9DW0008\\\\\n",
       "\t chr17 & 40256459 & 40406493 &  4.5 & gain & 9DW0008\\\\\n",
       "\t chr17 & 40406583 & 40835293 &  5.5 & gain & 9DW0008\\\\\n",
       "\t chr17 & 41610853 & 41820461 &  5.5 & gain & 9DW0008\\\\\n",
       "\t chr17 & 41820946 & 42334049 &  4.5 & gain & 9DW0008\\\\\n",
       "\t chr17 & 43399732 & 43881589 &  4.0 & gain & 9DW0008\\\\\n",
       "\t chr17 & 45222124 & 45274593 &  5.0 & gain & 9DW0008\\\\\n",
       "\t chr17 & 47596352 & 47696337 &  4.5 & gain & 9DW0008\\\\\n",
       "\t chr17 & 47696710 & 47840843 &  5.5 & gain & 9DW0008\\\\\n",
       "\t chr17 & 47847298 & 48071579 &  4.5 & gain & 9DW0008\\\\\n",
       "\t chr17 & 48075005 & 49973269 &  3.5 & gain & 9DW0008\\\\\n",
       "\t chr17 & 43399732 & 45169809 &  3.0 & gain & 9DW0014\\\\\n",
       "\t chr17 & 46929519 & 47429966 &  3.0 & gain & 9DW0014\\\\\n",
       "\t chr17 & 47596352 & 48430120 &  3.0 & gain & 9DW0014\\\\\n",
       "\t chr17 & 38951580 & 39738924 & 11.5 & gain & 9DW0071\\\\\n",
       "\t chr17 & 39627392 & 39686019 &  3.5 & gain & 9DW0126\\\\\n",
       "\t chr17 & 39706989 & 39792933 &  4.0 & gain & 9DW0126\\\\\n",
       "\t chr17 & 39829386 & 39870819 &  4.5 & gain & 9DW0126\\\\\n",
       "\t chr17 & 39871463 & 40036154 &  3.5 & gain & 9DW0126\\\\\n",
       "\t chr17 & 42670993 & 42672392 &  0.5 & loss & 9DW0131\\\\\n",
       "\t chr17 & 39105853 & 39606599 &  3.0 & gain & 9DW0152\\\\\n",
       "\t chr17 & 39627392 & 39635726 &  4.0 & gain & 9DW0152\\\\\n",
       "\t chr17 & 39635815 & 39686019 &  6.5 & gain & 9DW0152\\\\\n",
       "\t chr17 & 39706989 & 39715939 &  6.0 & gain & 9DW0152\\\\\n",
       "\t chr17 & 39716300 & 39730291 &  6.5 & gain & 9DW0152\\\\\n",
       "\t chr17 & 39730406 & 40296767 &  3.0 & gain & 9DW0152\\\\\n",
       "\t chr17 & 38951580 & 39864126 & 17.5 & gain & 9DW0160\\\\\n",
       "\t ⋮ & ⋮ & ⋮ & ⋮ & ⋮ & ⋮\\\\\n",
       "\t chr17 & 41486949 & 41988896 &  4.0 & gain & 9DW0201\\\\\n",
       "\t chr17 & 41989403 & 42660707 &  3.5 & gain & 9DW0201\\\\\n",
       "\t chr17 & 42773475 & 42990436 &  3.5 & gain & 9DW0201\\\\\n",
       "\t chr17 & 44734089 & 45169809 &  3.5 & gain & 9DW0201\\\\\n",
       "\t chr17 & 45222124 & 45290745 &  4.0 & gain & 9DW0201\\\\\n",
       "\t chr17 & 48768988 & 49031973 &  3.0 & gain & 9DW0279\\\\\n",
       "\t chr17 & 38937174 & 39531316 &  5.5 & gain & 9DW0307\\\\\n",
       "\t chr17 & 39605450 & 39792933 & 61.0 & gain & 9DW0307\\\\\n",
       "\t chr17 & 39829386 & 40496425 &  4.5 & gain & 9DW0307\\\\\n",
       "\t chr17 & 40554741 & 41848307 & 10.0 & gain & 9DW0307\\\\\n",
       "\t chr17 & 41853739 & 42207728 &  5.0 & gain & 9DW0307\\\\\n",
       "\t chr17 & 42210170 & 44007773 &  5.5 & gain & 9DW0307\\\\\n",
       "\t chr17 & 44008447 & 44322852 &  5.0 & gain & 9DW0307\\\\\n",
       "\t chr17 & 49217738 & 49732720 &  4.5 & gain & 9DW0307\\\\\n",
       "\t chr17 & 38850131 & 38898519 &  4.0 & gain & 9DW0316\\\\\n",
       "\t chr17 & 38914324 & 40558942 &  3.5 & gain & 9DW0316\\\\\n",
       "\t chr17 & 40565399 & 43400338 &  3.0 & gain & 9DW0316\\\\\n",
       "\t chr17 & 43484037 & 45137988 &  3.5 & gain & 9DW0316\\\\\n",
       "\t chr17 & 45139020 & 45169809 &  6.0 & gain & 9DW0316\\\\\n",
       "\t chr17 & 38850131 & 39108973 &  5.0 & gain & 9DW0351\\\\\n",
       "\t chr17 & 39109247 & 39520087 &  6.0 & gain & 9DW0351\\\\\n",
       "\t chr17 & 39524673 & 39792933 &  9.0 & gain & 9DW0351\\\\\n",
       "\t chr17 & 39829386 & 40565409 &  5.0 & gain & 9DW0351\\\\\n",
       "\t chr17 & 40628784 & 40835293 &  6.0 & gain & 9DW0351\\\\\n",
       "\t chr17 & 39490556 & 39791583 & 18.0 & gain & 9DW0368\\\\\n",
       "\t chr17 & 40645575 & 41348639 &  3.5 & gain & 9DW0368\\\\\n",
       "\t chr17 & 34928047 & 35641975 & 13.5 & gain & 9DW0383\\\\\n",
       "\t chr17 & 38850361 & 39301075 &  8.5 & gain & 9DW0383\\\\\n",
       "\t chr17 & 39303584 & 39944734 & 24.5 & gain & 9DW0383\\\\\n",
       "\t chr17 & 39965687 & 40036154 & 12.5 & gain & 9DW0383\\\\\n",
       "\\end{tabular}\n"
      ],
      "text/markdown": [
       "\n",
       "A data.frame: 76 × 6\n",
       "\n",
       "| chr &lt;chr&gt; | start &lt;int&gt; | end &lt;int&gt; | cn &lt;dbl&gt; | type &lt;chr&gt; | sample &lt;chr&gt; |\n",
       "|---|---|---|---|---|---|\n",
       "| chr17 | 30519938 | 32267925 |  4.0 | gain | 9DW0008 |\n",
       "| chr17 | 34581076 | 35101036 |  3.5 | gain | 9DW0008 |\n",
       "| chr17 | 39657007 | 40089456 |  7.0 | gain | 9DW0008 |\n",
       "| chr17 | 40093019 | 40193788 |  5.5 | gain | 9DW0008 |\n",
       "| chr17 | 40256459 | 40406493 |  4.5 | gain | 9DW0008 |\n",
       "| chr17 | 40406583 | 40835293 |  5.5 | gain | 9DW0008 |\n",
       "| chr17 | 41610853 | 41820461 |  5.5 | gain | 9DW0008 |\n",
       "| chr17 | 41820946 | 42334049 |  4.5 | gain | 9DW0008 |\n",
       "| chr17 | 43399732 | 43881589 |  4.0 | gain | 9DW0008 |\n",
       "| chr17 | 45222124 | 45274593 |  5.0 | gain | 9DW0008 |\n",
       "| chr17 | 47596352 | 47696337 |  4.5 | gain | 9DW0008 |\n",
       "| chr17 | 47696710 | 47840843 |  5.5 | gain | 9DW0008 |\n",
       "| chr17 | 47847298 | 48071579 |  4.5 | gain | 9DW0008 |\n",
       "| chr17 | 48075005 | 49973269 |  3.5 | gain | 9DW0008 |\n",
       "| chr17 | 43399732 | 45169809 |  3.0 | gain | 9DW0014 |\n",
       "| chr17 | 46929519 | 47429966 |  3.0 | gain | 9DW0014 |\n",
       "| chr17 | 47596352 | 48430120 |  3.0 | gain | 9DW0014 |\n",
       "| chr17 | 38951580 | 39738924 | 11.5 | gain | 9DW0071 |\n",
       "| chr17 | 39627392 | 39686019 |  3.5 | gain | 9DW0126 |\n",
       "| chr17 | 39706989 | 39792933 |  4.0 | gain | 9DW0126 |\n",
       "| chr17 | 39829386 | 39870819 |  4.5 | gain | 9DW0126 |\n",
       "| chr17 | 39871463 | 40036154 |  3.5 | gain | 9DW0126 |\n",
       "| chr17 | 42670993 | 42672392 |  0.5 | loss | 9DW0131 |\n",
       "| chr17 | 39105853 | 39606599 |  3.0 | gain | 9DW0152 |\n",
       "| chr17 | 39627392 | 39635726 |  4.0 | gain | 9DW0152 |\n",
       "| chr17 | 39635815 | 39686019 |  6.5 | gain | 9DW0152 |\n",
       "| chr17 | 39706989 | 39715939 |  6.0 | gain | 9DW0152 |\n",
       "| chr17 | 39716300 | 39730291 |  6.5 | gain | 9DW0152 |\n",
       "| chr17 | 39730406 | 40296767 |  3.0 | gain | 9DW0152 |\n",
       "| chr17 | 38951580 | 39864126 | 17.5 | gain | 9DW0160 |\n",
       "| ⋮ | ⋮ | ⋮ | ⋮ | ⋮ | ⋮ |\n",
       "| chr17 | 41486949 | 41988896 |  4.0 | gain | 9DW0201 |\n",
       "| chr17 | 41989403 | 42660707 |  3.5 | gain | 9DW0201 |\n",
       "| chr17 | 42773475 | 42990436 |  3.5 | gain | 9DW0201 |\n",
       "| chr17 | 44734089 | 45169809 |  3.5 | gain | 9DW0201 |\n",
       "| chr17 | 45222124 | 45290745 |  4.0 | gain | 9DW0201 |\n",
       "| chr17 | 48768988 | 49031973 |  3.0 | gain | 9DW0279 |\n",
       "| chr17 | 38937174 | 39531316 |  5.5 | gain | 9DW0307 |\n",
       "| chr17 | 39605450 | 39792933 | 61.0 | gain | 9DW0307 |\n",
       "| chr17 | 39829386 | 40496425 |  4.5 | gain | 9DW0307 |\n",
       "| chr17 | 40554741 | 41848307 | 10.0 | gain | 9DW0307 |\n",
       "| chr17 | 41853739 | 42207728 |  5.0 | gain | 9DW0307 |\n",
       "| chr17 | 42210170 | 44007773 |  5.5 | gain | 9DW0307 |\n",
       "| chr17 | 44008447 | 44322852 |  5.0 | gain | 9DW0307 |\n",
       "| chr17 | 49217738 | 49732720 |  4.5 | gain | 9DW0307 |\n",
       "| chr17 | 38850131 | 38898519 |  4.0 | gain | 9DW0316 |\n",
       "| chr17 | 38914324 | 40558942 |  3.5 | gain | 9DW0316 |\n",
       "| chr17 | 40565399 | 43400338 |  3.0 | gain | 9DW0316 |\n",
       "| chr17 | 43484037 | 45137988 |  3.5 | gain | 9DW0316 |\n",
       "| chr17 | 45139020 | 45169809 |  6.0 | gain | 9DW0316 |\n",
       "| chr17 | 38850131 | 39108973 |  5.0 | gain | 9DW0351 |\n",
       "| chr17 | 39109247 | 39520087 |  6.0 | gain | 9DW0351 |\n",
       "| chr17 | 39524673 | 39792933 |  9.0 | gain | 9DW0351 |\n",
       "| chr17 | 39829386 | 40565409 |  5.0 | gain | 9DW0351 |\n",
       "| chr17 | 40628784 | 40835293 |  6.0 | gain | 9DW0351 |\n",
       "| chr17 | 39490556 | 39791583 | 18.0 | gain | 9DW0368 |\n",
       "| chr17 | 40645575 | 41348639 |  3.5 | gain | 9DW0368 |\n",
       "| chr17 | 34928047 | 35641975 | 13.5 | gain | 9DW0383 |\n",
       "| chr17 | 38850361 | 39301075 |  8.5 | gain | 9DW0383 |\n",
       "| chr17 | 39303584 | 39944734 | 24.5 | gain | 9DW0383 |\n",
       "| chr17 | 39965687 | 40036154 | 12.5 | gain | 9DW0383 |\n",
       "\n"
      ],
      "text/plain": [
       "   chr   start    end      cn   type sample \n",
       "1  chr17 30519938 32267925  4.0 gain 9DW0008\n",
       "2  chr17 34581076 35101036  3.5 gain 9DW0008\n",
       "3  chr17 39657007 40089456  7.0 gain 9DW0008\n",
       "4  chr17 40093019 40193788  5.5 gain 9DW0008\n",
       "5  chr17 40256459 40406493  4.5 gain 9DW0008\n",
       "6  chr17 40406583 40835293  5.5 gain 9DW0008\n",
       "7  chr17 41610853 41820461  5.5 gain 9DW0008\n",
       "8  chr17 41820946 42334049  4.5 gain 9DW0008\n",
       "9  chr17 43399732 43881589  4.0 gain 9DW0008\n",
       "10 chr17 45222124 45274593  5.0 gain 9DW0008\n",
       "11 chr17 47596352 47696337  4.5 gain 9DW0008\n",
       "12 chr17 47696710 47840843  5.5 gain 9DW0008\n",
       "13 chr17 47847298 48071579  4.5 gain 9DW0008\n",
       "14 chr17 48075005 49973269  3.5 gain 9DW0008\n",
       "15 chr17 43399732 45169809  3.0 gain 9DW0014\n",
       "16 chr17 46929519 47429966  3.0 gain 9DW0014\n",
       "17 chr17 47596352 48430120  3.0 gain 9DW0014\n",
       "18 chr17 38951580 39738924 11.5 gain 9DW0071\n",
       "19 chr17 39627392 39686019  3.5 gain 9DW0126\n",
       "20 chr17 39706989 39792933  4.0 gain 9DW0126\n",
       "21 chr17 39829386 39870819  4.5 gain 9DW0126\n",
       "22 chr17 39871463 40036154  3.5 gain 9DW0126\n",
       "23 chr17 42670993 42672392  0.5 loss 9DW0131\n",
       "24 chr17 39105853 39606599  3.0 gain 9DW0152\n",
       "25 chr17 39627392 39635726  4.0 gain 9DW0152\n",
       "26 chr17 39635815 39686019  6.5 gain 9DW0152\n",
       "27 chr17 39706989 39715939  6.0 gain 9DW0152\n",
       "28 chr17 39716300 39730291  6.5 gain 9DW0152\n",
       "29 chr17 39730406 40296767  3.0 gain 9DW0152\n",
       "30 chr17 38951580 39864126 17.5 gain 9DW0160\n",
       "⋮  ⋮     ⋮        ⋮        ⋮    ⋮    ⋮      \n",
       "47 chr17 41486949 41988896  4.0 gain 9DW0201\n",
       "48 chr17 41989403 42660707  3.5 gain 9DW0201\n",
       "49 chr17 42773475 42990436  3.5 gain 9DW0201\n",
       "50 chr17 44734089 45169809  3.5 gain 9DW0201\n",
       "51 chr17 45222124 45290745  4.0 gain 9DW0201\n",
       "52 chr17 48768988 49031973  3.0 gain 9DW0279\n",
       "53 chr17 38937174 39531316  5.5 gain 9DW0307\n",
       "54 chr17 39605450 39792933 61.0 gain 9DW0307\n",
       "55 chr17 39829386 40496425  4.5 gain 9DW0307\n",
       "56 chr17 40554741 41848307 10.0 gain 9DW0307\n",
       "57 chr17 41853739 42207728  5.0 gain 9DW0307\n",
       "58 chr17 42210170 44007773  5.5 gain 9DW0307\n",
       "59 chr17 44008447 44322852  5.0 gain 9DW0307\n",
       "60 chr17 49217738 49732720  4.5 gain 9DW0307\n",
       "61 chr17 38850131 38898519  4.0 gain 9DW0316\n",
       "62 chr17 38914324 40558942  3.5 gain 9DW0316\n",
       "63 chr17 40565399 43400338  3.0 gain 9DW0316\n",
       "64 chr17 43484037 45137988  3.5 gain 9DW0316\n",
       "65 chr17 45139020 45169809  6.0 gain 9DW0316\n",
       "66 chr17 38850131 39108973  5.0 gain 9DW0351\n",
       "67 chr17 39109247 39520087  6.0 gain 9DW0351\n",
       "68 chr17 39524673 39792933  9.0 gain 9DW0351\n",
       "69 chr17 39829386 40565409  5.0 gain 9DW0351\n",
       "70 chr17 40628784 40835293  6.0 gain 9DW0351\n",
       "71 chr17 39490556 39791583 18.0 gain 9DW0368\n",
       "72 chr17 40645575 41348639  3.5 gain 9DW0368\n",
       "73 chr17 34928047 35641975 13.5 gain 9DW0383\n",
       "74 chr17 38850361 39301075  8.5 gain 9DW0383\n",
       "75 chr17 39303584 39944734 24.5 gain 9DW0383\n",
       "76 chr17 39965687 40036154 12.5 gain 9DW0383"
      ]
     },
     "metadata": {},
     "output_type": "display_data"
    }
   ],
   "source": [
    "high"
   ]
  },
  {
   "cell_type": "code",
   "execution_count": 43,
   "id": "a72af183",
   "metadata": {},
   "outputs": [
    {
     "data": {
      "text/html": [
       "<style>\n",
       ".list-inline {list-style: none; margin:0; padding: 0}\n",
       ".list-inline>li {display: inline-block}\n",
       ".list-inline>li:not(:last-child)::after {content: \"\\00b7\"; padding: 0 .5ex}\n",
       "</style>\n",
       "<ol class=list-inline><li>76</li><li>6</li></ol>\n"
      ],
      "text/latex": [
       "\\begin{enumerate*}\n",
       "\\item 76\n",
       "\\item 6\n",
       "\\end{enumerate*}\n"
      ],
      "text/markdown": [
       "1. 76\n",
       "2. 6\n",
       "\n",
       "\n"
      ],
      "text/plain": [
       "[1] 76  6"
      ]
     },
     "metadata": {},
     "output_type": "display_data"
    }
   ],
   "source": [
    "dim(high)"
   ]
  },
  {
   "cell_type": "code",
   "execution_count": 68,
   "id": "fb1248e3",
   "metadata": {},
   "outputs": [],
   "source": [
    "unique_high <- unique(high$sample)"
   ]
  },
  {
   "cell_type": "code",
   "execution_count": 70,
   "id": "b396fbc0",
   "metadata": {},
   "outputs": [
    {
     "data": {
      "image/png": "[encoded data removed]",
      "text/plain": [
       "plot without title"
      ]
     },
     "metadata": {
      "image/png": {
       "height": 420,
       "width": 420
      }
     },
     "output_type": "display_data"
    }
   ],
   "source": [
    "#pdf(file = \"Chr17.high.amp.pdf\",width = 6,height = 5)\n",
    "kp <- plotKaryotype(chromosomes = \"chr17\",zoom =toGRanges(data.frame(\"chr17\", 38e6, 44e6)) ,\n",
    "                    genome = \"hg38\",plot.params=plot_params)\n",
    "kpAddBaseNumbers(kp,tick.dist = 1000000)\n",
    "\n",
    "markers <- data.frame(chr=rep(\"chr17\",3), pos=c(39514523,39708373,43084829), labels=c(\"CDK12\",\"ERBB2\",\"BRCA1\"))\n",
    "kpPlotMarkers(kp, chr=markers$chr, x=markers$pos, labels=markers$labels,y = 0.8)\n",
    "\n",
    "kpPlotRegions(kp, data=toGRanges(c(\"chr17:39459486-39569560\",\n",
    "                                \"chr17:39686084-39730662\",\n",
    "                                  \"chr17:43042295-43127364\")), r0=0, r1=0.03, col = \"blue\", border=NA, lwd=3)\n",
    "\n",
    "temp_r1 = 0.03\n",
    "for(i in unique_high){\n",
    "    high %>% filter(sample==i) ->temp\n",
    "    regs <- GenomicRanges::reduce(toGRanges(temp))\n",
    "    kpPlotRegions(kp, data=regs, r0=temp_r1+0.015, r1=temp_r1+0.045, col = \"red\", border=NA, lwd=0)\n",
    "    temp_r1  = temp_r1+ 0.045\n",
    "\n",
    "}\n",
    "#dev.off()"
   ]
  },
  {
   "cell_type": "code",
   "execution_count": 71,
   "id": "fa9e07c0",
   "metadata": {
    "scrolled": false
   },
   "outputs": [
    {
     "data": {
      "image/png": "[encoded data removed]",
      "text/plain": [
       "plot without title"
      ]
     },
     "metadata": {
      "image/png": {
       "height": 420,
       "width": 420
      }
     },
     "output_type": "display_data"
    }
   ],
   "source": [
    "#pdf(file = \"Chr17.neg.amp.pdf\",width = 6,height = 5)\n",
    "kp <- plotKaryotype(chromosomes = \"chr17\",zoom =toGRanges(data.frame(\"chr17\", 38e6, 44e6)) ,\n",
    "                    genome = \"hg38\",plot.params=plot_params)\n",
    "kpAddBaseNumbers(kp,tick.dist = 1000000)\n",
    "\n",
    "markers <- data.frame(chr=rep(\"chr17\",3), pos=c(39514523,39708373,43084829), labels=c(\"CDK12\",\"ERBB2\",\"BRCA1\"))\n",
    "kpPlotMarkers(kp, chr=markers$chr, x=markers$pos, labels=markers$labels,y = 0.8)\n",
    "\n",
    "kpPlotRegions(kp, data=toGRanges(c(\"chr17:39459486-39569560\",\n",
    "                                \"chr17:39686084-39730662\",\n",
    "                                  \"chr17:43042295-43127364\")), r0=0, r1=0.03, col = \"blue\", border=NA, lwd=3)\n",
    "\n",
    "temp_r1 = 0.03\n",
    "for(i in unique_neg){\n",
    "    neg %>% filter(sample==i) ->temp\n",
    "    regs <- GenomicRanges::reduce(toGRanges(temp))\n",
    "    kpPlotRegions(kp, data=regs, r0=temp_r1+0.015, r1=temp_r1+0.045, col = \"red\", border=NA, lwd=0)\n",
    "    temp_r1  = temp_r1+ 0.045\n",
    "\n",
    "}\n",
    "#dev.off()"
   ]
  },
  {
   "cell_type": "code",
   "execution_count": 33,
   "id": "5fafd047",
   "metadata": {},
   "outputs": [
    {
     "data": {
      "text/html": [
       "16"
      ],
      "text/latex": [
       "16"
      ],
      "text/markdown": [
       "16"
      ],
      "text/plain": [
       "[1] 16"
      ]
     },
     "metadata": {},
     "output_type": "display_data"
    }
   ],
   "source": [
    "high$sample %>% unique() %>% length()"
   ]
  },
  {
   "cell_type": "code",
   "execution_count": 34,
   "id": "3649a8dc",
   "metadata": {},
   "outputs": [
    {
     "data": {
      "text/html": [
       "1"
      ],
      "text/latex": [
       "1"
      ],
      "text/markdown": [
       "1"
      ],
      "text/plain": [
       "[1] 1"
      ]
     },
     "metadata": {},
     "output_type": "display_data"
    }
   ],
   "source": [
    "low$sample %>% unique() %>% length()"
   ]
  },
  {
   "cell_type": "code",
   "execution_count": 35,
   "id": "b359bc76",
   "metadata": {},
   "outputs": [
    {
     "data": {
      "text/html": [
       "1"
      ],
      "text/latex": [
       "1"
      ],
      "text/markdown": [
       "1"
      ],
      "text/plain": [
       "[1] 1"
      ]
     },
     "metadata": {},
     "output_type": "display_data"
    }
   ],
   "source": [
    "neg$sample %>% unique() %>% length()"
   ]
  },
  {
   "cell_type": "code",
   "execution_count": 36,
   "id": "217bfa52",
   "metadata": {},
   "outputs": [],
   "source": [
    "aa <- data.frame(amp=c(13,13,0,0),un=c(113-13,42-13,45-0,26-0))"
   ]
  },
  {
   "cell_type": "code",
   "execution_count": 37,
   "id": "f298dc97",
   "metadata": {},
   "outputs": [],
   "source": [
    "rownames(aa) <- c(\"All\",\"High\",\"Low\",\"Neg\")\n",
    "aa$name = rownames(aa)\n",
    "aa %>% mutate(amp_per = amp/(amp+un),un_per=un/(amp+un)) -> aa2"
   ]
  },
  {
   "cell_type": "code",
   "execution_count": 38,
   "id": "43a4c52d",
   "metadata": {},
   "outputs": [],
   "source": [
    "aa2[,3:5] %>% pivot_longer(!name, names_to = \"type\", values_to = \"percentage\") -> aa3"
   ]
  },
  {
   "cell_type": "code",
   "execution_count": 39,
   "id": "c0fe6841",
   "metadata": {},
   "outputs": [],
   "source": [
    "aa3$type = factor(aa3$type,levels=c(\"un_per\",\"amp_per\"))"
   ]
  },
  {
   "cell_type": "code",
   "execution_count": 40,
   "id": "58c99bb2",
   "metadata": {},
   "outputs": [],
   "source": [
    "openxlsx::write.xlsx(x=aa2,rowNames = FALSE,file = \"Chr17.bar.xlsx\")"
   ]
  },
  {
   "cell_type": "code",
   "execution_count": 41,
   "id": "d6ce771e",
   "metadata": {},
   "outputs": [],
   "source": [
    "p <- ggplot(data=aa3, aes(x=name, y=percentage, fill=type)) + geom_bar(stat=\"identity\")+\n",
    "    scale_fill_manual(values=c(\"#61B7CF\",\"#025167\"))+theme_bw() + theme(axis.text = element_text(color=\"black\",size=15))+\n",
    "    xlab(\"\")+geom_text(aes(label = scales::percent(percentage)),color=\"white\",position=position_fill(vjust =0.5),size = 4)"
   ]
  },
  {
   "cell_type": "code",
   "execution_count": 42,
   "id": "6e191763",
   "metadata": {},
   "outputs": [],
   "source": [
    "ggsave(filename = \"Chr17.bar.pdf\",plot = p,width = 5,height = 4)"
   ]
  },
  {
   "cell_type": "code",
   "execution_count": 43,
   "id": "b7e3b620",
   "metadata": {},
   "outputs": [
    {
     "data": {
      "image/png": "[encoded data removed]",
      "text/plain": [
       "plot without title"
      ]
     },
     "metadata": {
      "image/png": {
       "height": 420,
       "width": 420
      }
     },
     "output_type": "display_data"
    }
   ],
   "source": [
    "p"
   ]
  },
  {
   "cell_type": "code",
   "execution_count": null,
   "id": "0920ba72",
   "metadata": {},
   "outputs": [],
   "source": []
  },
  {
   "cell_type": "code",
   "execution_count": 75,
   "id": "9d5ee2e5",
   "metadata": {},
   "outputs": [],
   "source": [
    "aa <- data.frame(amp=c(3,1,0),un=c(42-3,45-1,26-0))"
   ]
  },
  {
   "cell_type": "code",
   "execution_count": 78,
   "id": "9bb589c9",
   "metadata": {},
   "outputs": [
    {
     "data": {
      "text/html": [
       "<table class=\"dataframe\">\n",
       "<caption>A data.frame: 3 × 2</caption>\n",
       "<thead>\n",
       "\t<tr><th scope=col>amp</th><th scope=col>un</th></tr>\n",
       "\t<tr><th scope=col>&lt;dbl&gt;</th><th scope=col>&lt;dbl&gt;</th></tr>\n",
       "</thead>\n",
       "<tbody>\n",
       "\t<tr><td>3</td><td>39</td></tr>\n",
       "\t<tr><td>1</td><td>44</td></tr>\n",
       "\t<tr><td>0</td><td>26</td></tr>\n",
       "</tbody>\n",
       "</table>\n"
      ],
      "text/latex": [
       "A data.frame: 3 × 2\n",
       "\\begin{tabular}{ll}\n",
       " amp & un\\\\\n",
       " <dbl> & <dbl>\\\\\n",
       "\\hline\n",
       "\t 3 & 39\\\\\n",
       "\t 1 & 44\\\\\n",
       "\t 0 & 26\\\\\n",
       "\\end{tabular}\n"
      ],
      "text/markdown": [
       "\n",
       "A data.frame: 3 × 2\n",
       "\n",
       "| amp &lt;dbl&gt; | un &lt;dbl&gt; |\n",
       "|---|---|\n",
       "| 3 | 39 |\n",
       "| 1 | 44 |\n",
       "| 0 | 26 |\n",
       "\n"
      ],
      "text/plain": [
       "  amp un\n",
       "1 3   39\n",
       "2 1   44\n",
       "3 0   26"
      ]
     },
     "metadata": {},
     "output_type": "display_data"
    }
   ],
   "source": [
    "aa"
   ]
  },
  {
   "cell_type": "code",
   "execution_count": 77,
   "id": "6d7c0e59",
   "metadata": {},
   "outputs": [
    {
     "name": "stderr",
     "output_type": "stream",
     "text": [
      "Warning message in chisq.test(aa):\n",
      "\"Chi-squared approximation may be incorrect\"\n"
     ]
    },
    {
     "data": {
      "text/plain": [
       "\n",
       "\tPearson's Chi-squared test\n",
       "\n",
       "data:  aa\n",
       "X-squared = 2.7797, df = 2, p-value = 0.2491\n"
      ]
     },
     "metadata": {},
     "output_type": "display_data"
    }
   ],
   "source": [
    "chisq.test(aa)"
   ]
  },
  {
   "cell_type": "code",
   "execution_count": null,
   "id": "644da093",
   "metadata": {},
   "outputs": [],
   "source": []
  },
  {
   "cell_type": "code",
   "execution_count": null,
   "id": "6ae7b2bc",
   "metadata": {},
   "outputs": [],
   "source": []
  },
  {
   "cell_type": "code",
   "execution_count": null,
   "id": "fcc01ffe",
   "metadata": {},
   "outputs": [],
   "source": []
  },
  {
   "cell_type": "code",
   "execution_count": null,
   "id": "078b4c17",
   "metadata": {},
   "outputs": [],
   "source": []
  },
  {
   "cell_type": "code",
   "execution_count": null,
   "id": "ee248cbb",
   "metadata": {},
   "outputs": [],
   "source": []
  }
 ],
 "metadata": {
  "kernelspec": {
   "display_name": "R",
   "language": "R",
   "name": "ir"
  },
  "language_info": {
   "codemirror_mode": "r",
   "file_extension": ".r",
   "mimetype": "text/x-r-source",
   "name": "R",
   "pygments_lexer": "r",
   "version": "4.2.2"
  }
 },
 "nbformat": 4,
 "nbformat_minor": 5
}
