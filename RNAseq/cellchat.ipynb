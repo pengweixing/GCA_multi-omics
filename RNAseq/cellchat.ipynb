{
 "cells": [
  {
   "cell_type": "code",
   "execution_count": null,
   "id": "b1357ca2",
   "metadata": {},
   "outputs": [],
   "source": [
    "library(CellChat)\n",
    "library(patchwork)\n",
    "library(ggvenn)\n",
    "library(pheatmap)\n",
    "library(RColorBrewer)\n",
    "library(ComplexHeatmap)\n",
    "library(DT)\n",
    "library(Matrix)\n",
    "library(circlize)\n",
    "library(dplyr)\n",
    "library(stringr)"
   ]
  },
  {
   "cell_type": "markdown",
   "id": "64ea8309",
   "metadata": {},
   "source": [
    "### 1. read tumor and normal data"
   ]
  },
  {
   "cell_type": "code",
   "execution_count": 6,
   "id": "e72b34a3",
   "metadata": {},
   "outputs": [],
   "source": [
    "tumor <- readRDS('../00.data/Tumor.tpm.Rdata')"
   ]
  },
  {
   "cell_type": "code",
   "execution_count": 7,
   "id": "cfaef7d4",
   "metadata": {},
   "outputs": [],
   "source": [
    "normal <- readRDS('../00.data/Normal.tpm.Rdata')"
   ]
  },
  {
   "cell_type": "code",
   "execution_count": 8,
   "id": "1a30c773",
   "metadata": {},
   "outputs": [
    {
     "data": {
      "text/html": [
       "<table class=\"dataframe\">\n",
       "<caption>A data.frame: 6 × 54</caption>\n",
       "<thead>\n",
       "\t<tr><th></th><th scope=col>9DW0030</th><th scope=col>9DW0038</th><th scope=col>9DW0039</th><th scope=col>9DW0049</th><th scope=col>9DW0052</th><th scope=col>9DW0056</th><th scope=col>9DW0064</th><th scope=col>9DW0068</th><th scope=col>9DW0073</th><th scope=col>9DW0074</th><th scope=col>⋯</th><th scope=col>9DW0344</th><th scope=col>9DW0348</th><th scope=col>9DW0351</th><th scope=col>9DW0362</th><th scope=col>9DW0368</th><th scope=col>9DW0377</th><th scope=col>9DW0378</th><th scope=col>9DW0380</th><th scope=col>9DW0383</th><th scope=col>9DW0388</th></tr>\n",
       "\t<tr><th></th><th scope=col>&lt;dbl&gt;</th><th scope=col>&lt;dbl&gt;</th><th scope=col>&lt;dbl&gt;</th><th scope=col>&lt;dbl&gt;</th><th scope=col>&lt;dbl&gt;</th><th scope=col>&lt;dbl&gt;</th><th scope=col>&lt;dbl&gt;</th><th scope=col>&lt;dbl&gt;</th><th scope=col>&lt;dbl&gt;</th><th scope=col>&lt;dbl&gt;</th><th scope=col>⋯</th><th scope=col>&lt;dbl&gt;</th><th scope=col>&lt;dbl&gt;</th><th scope=col>&lt;dbl&gt;</th><th scope=col>&lt;dbl&gt;</th><th scope=col>&lt;dbl&gt;</th><th scope=col>&lt;dbl&gt;</th><th scope=col>&lt;dbl&gt;</th><th scope=col>&lt;dbl&gt;</th><th scope=col>&lt;dbl&gt;</th><th scope=col>&lt;dbl&gt;</th></tr>\n",
       "</thead>\n",
       "<tbody>\n",
       "\t<tr><th scope=row>A1BG</th><td>  6.793832</td><td>  2.339765</td><td>  2.931239</td><td>12.105895</td><td>  9.699353</td><td>  4.508053</td><td>  2.098166</td><td>  1.045524</td><td>  7.960385</td><td>  1.815963</td><td>⋯</td><td>  2.527701</td><td>  0.839477</td><td>  6.534398</td><td>  2.029366</td><td> 2.461694</td><td>  4.510342</td><td>  4.705178</td><td>  3.159491</td><td>  1.937165</td><td>  2.709262</td></tr>\n",
       "\t<tr><th scope=row>A1BG-AS1</th><td>  2.229624</td><td>  0.693577</td><td>  0.767752</td><td> 0.725219</td><td>  3.026700</td><td>  1.681083</td><td>  1.806648</td><td>  0.518241</td><td>  4.562893</td><td>  0.638787</td><td>⋯</td><td>  1.336471</td><td>  0.588684</td><td>  1.386972</td><td>  0.508167</td><td> 0.562715</td><td>  2.397408</td><td>  1.719141</td><td>  1.208936</td><td>  0.813533</td><td>  1.279563</td></tr>\n",
       "\t<tr><th scope=row>A1CF</th><td>  0.099166</td><td>  0.000000</td><td>  2.930860</td><td> 7.725161</td><td>  1.652509</td><td>  3.330733</td><td>  0.041193</td><td>  3.914073</td><td>  0.012446</td><td>  0.168411</td><td>⋯</td><td>  4.209980</td><td>  0.000000</td><td> 15.530977</td><td>  0.000000</td><td>32.551016</td><td>  0.035345</td><td>  0.046124</td><td>  0.934952</td><td>  0.022244</td><td>  0.904858</td></tr>\n",
       "\t<tr><th scope=row>A2M</th><td>618.316979</td><td>282.864164</td><td>650.704958</td><td>27.339350</td><td>717.626515</td><td>270.008714</td><td>314.743489</td><td>243.104425</td><td>228.524684</td><td>138.544962</td><td>⋯</td><td>352.805683</td><td>430.454017</td><td>108.834804</td><td>786.610700</td><td>23.245277</td><td>549.354763</td><td>567.852384</td><td>179.334522</td><td>409.965012</td><td>431.952125</td></tr>\n",
       "\t<tr><th scope=row>A2M-AS1</th><td>  4.312236</td><td>  3.340083</td><td>  0.833381</td><td> 0.115584</td><td>  2.117325</td><td>  0.872245</td><td>  1.379249</td><td>  0.238519</td><td>  2.245094</td><td>  0.342342</td><td>⋯</td><td>  0.558941</td><td>  6.087254</td><td>  0.092414</td><td>  4.584583</td><td> 0.208061</td><td>  1.175654</td><td>  1.255308</td><td>  0.406795</td><td>  0.517140</td><td>  1.345734</td></tr>\n",
       "\t<tr><th scope=row>A2ML1</th><td>  0.160812</td><td>  0.025255</td><td>  0.053246</td><td> 0.022994</td><td>  0.082605</td><td>  0.042365</td><td>  0.000000</td><td>  0.000000</td><td>  0.000000</td><td>  0.127251</td><td>⋯</td><td>  1.279669</td><td>  0.304929</td><td>  0.000000</td><td>  0.052580</td><td> 0.045692</td><td>  0.054263</td><td>  0.018082</td><td>  0.444593</td><td>  0.000000</td><td>  0.009245</td></tr>\n",
       "</tbody>\n",
       "</table>\n"
      ],
      "text/latex": [
       "A data.frame: 6 × 54\n",
       "\\begin{tabular}{r|lllllllllllllllllllll}\n",
       "  & 9DW0030 & 9DW0038 & 9DW0039 & 9DW0049 & 9DW0052 & 9DW0056 & 9DW0064 & 9DW0068 & 9DW0073 & 9DW0074 & ⋯ & 9DW0344 & 9DW0348 & 9DW0351 & 9DW0362 & 9DW0368 & 9DW0377 & 9DW0378 & 9DW0380 & 9DW0383 & 9DW0388\\\\\n",
       "  & <dbl> & <dbl> & <dbl> & <dbl> & <dbl> & <dbl> & <dbl> & <dbl> & <dbl> & <dbl> & ⋯ & <dbl> & <dbl> & <dbl> & <dbl> & <dbl> & <dbl> & <dbl> & <dbl> & <dbl> & <dbl>\\\\\n",
       "\\hline\n",
       "\tA1BG &   6.793832 &   2.339765 &   2.931239 & 12.105895 &   9.699353 &   4.508053 &   2.098166 &   1.045524 &   7.960385 &   1.815963 & ⋯ &   2.527701 &   0.839477 &   6.534398 &   2.029366 &  2.461694 &   4.510342 &   4.705178 &   3.159491 &   1.937165 &   2.709262\\\\\n",
       "\tA1BG-AS1 &   2.229624 &   0.693577 &   0.767752 &  0.725219 &   3.026700 &   1.681083 &   1.806648 &   0.518241 &   4.562893 &   0.638787 & ⋯ &   1.336471 &   0.588684 &   1.386972 &   0.508167 &  0.562715 &   2.397408 &   1.719141 &   1.208936 &   0.813533 &   1.279563\\\\\n",
       "\tA1CF &   0.099166 &   0.000000 &   2.930860 &  7.725161 &   1.652509 &   3.330733 &   0.041193 &   3.914073 &   0.012446 &   0.168411 & ⋯ &   4.209980 &   0.000000 &  15.530977 &   0.000000 & 32.551016 &   0.035345 &   0.046124 &   0.934952 &   0.022244 &   0.904858\\\\\n",
       "\tA2M & 618.316979 & 282.864164 & 650.704958 & 27.339350 & 717.626515 & 270.008714 & 314.743489 & 243.104425 & 228.524684 & 138.544962 & ⋯ & 352.805683 & 430.454017 & 108.834804 & 786.610700 & 23.245277 & 549.354763 & 567.852384 & 179.334522 & 409.965012 & 431.952125\\\\\n",
       "\tA2M-AS1 &   4.312236 &   3.340083 &   0.833381 &  0.115584 &   2.117325 &   0.872245 &   1.379249 &   0.238519 &   2.245094 &   0.342342 & ⋯ &   0.558941 &   6.087254 &   0.092414 &   4.584583 &  0.208061 &   1.175654 &   1.255308 &   0.406795 &   0.517140 &   1.345734\\\\\n",
       "\tA2ML1 &   0.160812 &   0.025255 &   0.053246 &  0.022994 &   0.082605 &   0.042365 &   0.000000 &   0.000000 &   0.000000 &   0.127251 & ⋯ &   1.279669 &   0.304929 &   0.000000 &   0.052580 &  0.045692 &   0.054263 &   0.018082 &   0.444593 &   0.000000 &   0.009245\\\\\n",
       "\\end{tabular}\n"
      ],
      "text/markdown": [
       "\n",
       "A data.frame: 6 × 54\n",
       "\n",
       "| <!--/--> | 9DW0030 &lt;dbl&gt; | 9DW0038 &lt;dbl&gt; | 9DW0039 &lt;dbl&gt; | 9DW0049 &lt;dbl&gt; | 9DW0052 &lt;dbl&gt; | 9DW0056 &lt;dbl&gt; | 9DW0064 &lt;dbl&gt; | 9DW0068 &lt;dbl&gt; | 9DW0073 &lt;dbl&gt; | 9DW0074 &lt;dbl&gt; | ⋯ ⋯ | 9DW0344 &lt;dbl&gt; | 9DW0348 &lt;dbl&gt; | 9DW0351 &lt;dbl&gt; | 9DW0362 &lt;dbl&gt; | 9DW0368 &lt;dbl&gt; | 9DW0377 &lt;dbl&gt; | 9DW0378 &lt;dbl&gt; | 9DW0380 &lt;dbl&gt; | 9DW0383 &lt;dbl&gt; | 9DW0388 &lt;dbl&gt; |\n",
       "|---|---|---|---|---|---|---|---|---|---|---|---|---|---|---|---|---|---|---|---|---|---|\n",
       "| A1BG |   6.793832 |   2.339765 |   2.931239 | 12.105895 |   9.699353 |   4.508053 |   2.098166 |   1.045524 |   7.960385 |   1.815963 | ⋯ |   2.527701 |   0.839477 |   6.534398 |   2.029366 |  2.461694 |   4.510342 |   4.705178 |   3.159491 |   1.937165 |   2.709262 |\n",
       "| A1BG-AS1 |   2.229624 |   0.693577 |   0.767752 |  0.725219 |   3.026700 |   1.681083 |   1.806648 |   0.518241 |   4.562893 |   0.638787 | ⋯ |   1.336471 |   0.588684 |   1.386972 |   0.508167 |  0.562715 |   2.397408 |   1.719141 |   1.208936 |   0.813533 |   1.279563 |\n",
       "| A1CF |   0.099166 |   0.000000 |   2.930860 |  7.725161 |   1.652509 |   3.330733 |   0.041193 |   3.914073 |   0.012446 |   0.168411 | ⋯ |   4.209980 |   0.000000 |  15.530977 |   0.000000 | 32.551016 |   0.035345 |   0.046124 |   0.934952 |   0.022244 |   0.904858 |\n",
       "| A2M | 618.316979 | 282.864164 | 650.704958 | 27.339350 | 717.626515 | 270.008714 | 314.743489 | 243.104425 | 228.524684 | 138.544962 | ⋯ | 352.805683 | 430.454017 | 108.834804 | 786.610700 | 23.245277 | 549.354763 | 567.852384 | 179.334522 | 409.965012 | 431.952125 |\n",
       "| A2M-AS1 |   4.312236 |   3.340083 |   0.833381 |  0.115584 |   2.117325 |   0.872245 |   1.379249 |   0.238519 |   2.245094 |   0.342342 | ⋯ |   0.558941 |   6.087254 |   0.092414 |   4.584583 |  0.208061 |   1.175654 |   1.255308 |   0.406795 |   0.517140 |   1.345734 |\n",
       "| A2ML1 |   0.160812 |   0.025255 |   0.053246 |  0.022994 |   0.082605 |   0.042365 |   0.000000 |   0.000000 |   0.000000 |   0.127251 | ⋯ |   1.279669 |   0.304929 |   0.000000 |   0.052580 |  0.045692 |   0.054263 |   0.018082 |   0.444593 |   0.000000 |   0.009245 |\n",
       "\n"
      ],
      "text/plain": [
       "         9DW0030    9DW0038    9DW0039    9DW0049   9DW0052    9DW0056   \n",
       "A1BG       6.793832   2.339765   2.931239 12.105895   9.699353   4.508053\n",
       "A1BG-AS1   2.229624   0.693577   0.767752  0.725219   3.026700   1.681083\n",
       "A1CF       0.099166   0.000000   2.930860  7.725161   1.652509   3.330733\n",
       "A2M      618.316979 282.864164 650.704958 27.339350 717.626515 270.008714\n",
       "A2M-AS1    4.312236   3.340083   0.833381  0.115584   2.117325   0.872245\n",
       "A2ML1      0.160812   0.025255   0.053246  0.022994   0.082605   0.042365\n",
       "         9DW0064    9DW0068    9DW0073    9DW0074    ⋯ 9DW0344    9DW0348   \n",
       "A1BG       2.098166   1.045524   7.960385   1.815963 ⋯   2.527701   0.839477\n",
       "A1BG-AS1   1.806648   0.518241   4.562893   0.638787 ⋯   1.336471   0.588684\n",
       "A1CF       0.041193   3.914073   0.012446   0.168411 ⋯   4.209980   0.000000\n",
       "A2M      314.743489 243.104425 228.524684 138.544962 ⋯ 352.805683 430.454017\n",
       "A2M-AS1    1.379249   0.238519   2.245094   0.342342 ⋯   0.558941   6.087254\n",
       "A2ML1      0.000000   0.000000   0.000000   0.127251 ⋯   1.279669   0.304929\n",
       "         9DW0351    9DW0362    9DW0368   9DW0377    9DW0378    9DW0380   \n",
       "A1BG       6.534398   2.029366  2.461694   4.510342   4.705178   3.159491\n",
       "A1BG-AS1   1.386972   0.508167  0.562715   2.397408   1.719141   1.208936\n",
       "A1CF      15.530977   0.000000 32.551016   0.035345   0.046124   0.934952\n",
       "A2M      108.834804 786.610700 23.245277 549.354763 567.852384 179.334522\n",
       "A2M-AS1    0.092414   4.584583  0.208061   1.175654   1.255308   0.406795\n",
       "A2ML1      0.000000   0.052580  0.045692   0.054263   0.018082   0.444593\n",
       "         9DW0383    9DW0388   \n",
       "A1BG       1.937165   2.709262\n",
       "A1BG-AS1   0.813533   1.279563\n",
       "A1CF       0.022244   0.904858\n",
       "A2M      409.965012 431.952125\n",
       "A2M-AS1    0.517140   1.345734\n",
       "A2ML1      0.000000   0.009245"
      ]
     },
     "metadata": {},
     "output_type": "display_data"
    }
   ],
   "source": [
    "head(tumor)"
   ]
  },
  {
   "cell_type": "markdown",
   "id": "66f4960a",
   "metadata": {},
   "source": [
    "### 2. read the group info"
   ]
  },
  {
   "cell_type": "code",
   "execution_count": 9,
   "id": "8cdc1c85",
   "metadata": {},
   "outputs": [],
   "source": [
    "phe <- readRDS(\"../00.data/phe_RNA54.Rdata\")"
   ]
  },
  {
   "cell_type": "code",
   "execution_count": 10,
   "id": "04e0c7fb",
   "metadata": {},
   "outputs": [],
   "source": [
    "highnames <- filter(phe,group == \"High\") %>% select(sample) %>% .[,1]\n",
    "lownames <- filter(phe,group == \"Low\") %>% select(sample) %>% .[,1]\n",
    "negatives <- filter(phe,group == \"negative\") %>% select(sample) %>% .[,1]"
   ]
  },
  {
   "cell_type": "code",
   "execution_count": 11,
   "id": "7a7e46fb",
   "metadata": {},
   "outputs": [],
   "source": [
    "colnames(tumor) %>% str_replace('X','') %>% paste0(.,'T')  -> colnames(tumor)"
   ]
  },
  {
   "cell_type": "code",
   "execution_count": 12,
   "id": "d16a03da",
   "metadata": {},
   "outputs": [],
   "source": [
    "colnames(normal) %>% str_replace('X','') %>% paste0(.,'N')  -> colnames(normal)"
   ]
  },
  {
   "cell_type": "code",
   "execution_count": 13,
   "id": "5c47b722",
   "metadata": {},
   "outputs": [],
   "source": [
    "tumor_normal <- cbind(tumor,normal)"
   ]
  },
  {
   "cell_type": "code",
   "execution_count": 14,
   "id": "4063305f",
   "metadata": {
    "scrolled": false
   },
   "outputs": [
    {
     "data": {
      "text/html": [
       "<table class=\"dataframe\">\n",
       "<caption>A data.frame: 6 × 108</caption>\n",
       "<thead>\n",
       "\t<tr><th></th><th scope=col>9DW0030T</th><th scope=col>9DW0038T</th><th scope=col>9DW0039T</th><th scope=col>9DW0049T</th><th scope=col>9DW0052T</th><th scope=col>9DW0056T</th><th scope=col>9DW0064T</th><th scope=col>9DW0068T</th><th scope=col>9DW0073T</th><th scope=col>9DW0074T</th><th scope=col>⋯</th><th scope=col>9DW0344N</th><th scope=col>9DW0348N</th><th scope=col>9DW0351N</th><th scope=col>9DW0362N</th><th scope=col>9DW0368N</th><th scope=col>9DW0377N</th><th scope=col>9DW0378N</th><th scope=col>9DW0380N</th><th scope=col>9DW0383N</th><th scope=col>9DW0388N</th></tr>\n",
       "\t<tr><th></th><th scope=col>&lt;dbl&gt;</th><th scope=col>&lt;dbl&gt;</th><th scope=col>&lt;dbl&gt;</th><th scope=col>&lt;dbl&gt;</th><th scope=col>&lt;dbl&gt;</th><th scope=col>&lt;dbl&gt;</th><th scope=col>&lt;dbl&gt;</th><th scope=col>&lt;dbl&gt;</th><th scope=col>&lt;dbl&gt;</th><th scope=col>&lt;dbl&gt;</th><th scope=col>⋯</th><th scope=col>&lt;dbl&gt;</th><th scope=col>&lt;dbl&gt;</th><th scope=col>&lt;dbl&gt;</th><th scope=col>&lt;dbl&gt;</th><th scope=col>&lt;dbl&gt;</th><th scope=col>&lt;dbl&gt;</th><th scope=col>&lt;dbl&gt;</th><th scope=col>&lt;dbl&gt;</th><th scope=col>&lt;dbl&gt;</th><th scope=col>&lt;dbl&gt;</th></tr>\n",
       "</thead>\n",
       "<tbody>\n",
       "\t<tr><th scope=row>A1BG</th><td>  6.793832</td><td>  2.339765</td><td>  2.931239</td><td>12.105895</td><td>  9.699353</td><td>  4.508053</td><td>  2.098166</td><td>  1.045524</td><td>  7.960385</td><td>  1.815963</td><td>⋯</td><td>  9.022456</td><td>  2.449978</td><td> 2.798060</td><td>  2.131516</td><td>  2.639017</td><td>  1.806114</td><td>  3.968413</td><td>  1.225789</td><td> 2.259904</td><td> 10.502352</td></tr>\n",
       "\t<tr><th scope=row>A1BG-AS1</th><td>  2.229624</td><td>  0.693577</td><td>  0.767752</td><td> 0.725219</td><td>  3.026700</td><td>  1.681083</td><td>  1.806648</td><td>  0.518241</td><td>  4.562893</td><td>  0.638787</td><td>⋯</td><td>  6.594782</td><td>  1.734597</td><td> 1.035812</td><td>  1.118700</td><td>  3.011669</td><td>  1.071111</td><td>  1.950115</td><td>  0.680602</td><td> 0.319657</td><td>  5.330094</td></tr>\n",
       "\t<tr><th scope=row>A1CF</th><td>  0.099166</td><td>  0.000000</td><td>  2.930860</td><td> 7.725161</td><td>  1.652509</td><td>  3.330733</td><td>  0.041193</td><td>  3.914073</td><td>  0.012446</td><td>  0.168411</td><td>⋯</td><td>  0.191212</td><td>  0.004741</td><td> 0.171431</td><td>  0.000000</td><td>  0.079940</td><td>  0.000000</td><td>  0.008891</td><td>  0.000000</td><td> 0.179105</td><td>  0.000000</td></tr>\n",
       "\t<tr><th scope=row>A2M</th><td>618.316979</td><td>282.864164</td><td>650.704958</td><td>27.339350</td><td>717.626515</td><td>270.008714</td><td>314.743489</td><td>243.104425</td><td>228.524684</td><td>138.544962</td><td>⋯</td><td>442.243198</td><td>242.621683</td><td>60.079430</td><td>347.145610</td><td>153.669132</td><td>430.109186</td><td>175.851727</td><td> 47.573567</td><td>79.920630</td><td>144.733120</td></tr>\n",
       "\t<tr><th scope=row>A2M-AS1</th><td>  4.312236</td><td>  3.340083</td><td>  0.833381</td><td> 0.115584</td><td>  2.117325</td><td>  0.872245</td><td>  1.379249</td><td>  0.238519</td><td>  2.245094</td><td>  0.342342</td><td>⋯</td><td>  1.940707</td><td>  3.135638</td><td> 0.377770</td><td>  4.880282</td><td>  2.360360</td><td>  9.801350</td><td>  1.417181</td><td>  0.484844</td><td> 0.590398</td><td>  2.223325</td></tr>\n",
       "\t<tr><th scope=row>A2ML1</th><td>  0.160812</td><td>  0.025255</td><td>  0.053246</td><td> 0.022994</td><td>  0.082605</td><td>  0.042365</td><td>  0.000000</td><td>  0.000000</td><td>  0.000000</td><td>  0.127251</td><td>⋯</td><td>  0.548030</td><td>  1.410773</td><td> 0.000000</td><td>  1.380567</td><td>  0.495248</td><td>  0.212106</td><td>327.981385</td><td>518.859007</td><td> 0.092619</td><td>  0.131981</td></tr>\n",
       "</tbody>\n",
       "</table>\n"
      ],
      "text/latex": [
       "A data.frame: 6 × 108\n",
       "\\begin{tabular}{r|lllllllllllllllllllll}\n",
       "  & 9DW0030T & 9DW0038T & 9DW0039T & 9DW0049T & 9DW0052T & 9DW0056T & 9DW0064T & 9DW0068T & 9DW0073T & 9DW0074T & ⋯ & 9DW0344N & 9DW0348N & 9DW0351N & 9DW0362N & 9DW0368N & 9DW0377N & 9DW0378N & 9DW0380N & 9DW0383N & 9DW0388N\\\\\n",
       "  & <dbl> & <dbl> & <dbl> & <dbl> & <dbl> & <dbl> & <dbl> & <dbl> & <dbl> & <dbl> & ⋯ & <dbl> & <dbl> & <dbl> & <dbl> & <dbl> & <dbl> & <dbl> & <dbl> & <dbl> & <dbl>\\\\\n",
       "\\hline\n",
       "\tA1BG &   6.793832 &   2.339765 &   2.931239 & 12.105895 &   9.699353 &   4.508053 &   2.098166 &   1.045524 &   7.960385 &   1.815963 & ⋯ &   9.022456 &   2.449978 &  2.798060 &   2.131516 &   2.639017 &   1.806114 &   3.968413 &   1.225789 &  2.259904 &  10.502352\\\\\n",
       "\tA1BG-AS1 &   2.229624 &   0.693577 &   0.767752 &  0.725219 &   3.026700 &   1.681083 &   1.806648 &   0.518241 &   4.562893 &   0.638787 & ⋯ &   6.594782 &   1.734597 &  1.035812 &   1.118700 &   3.011669 &   1.071111 &   1.950115 &   0.680602 &  0.319657 &   5.330094\\\\\n",
       "\tA1CF &   0.099166 &   0.000000 &   2.930860 &  7.725161 &   1.652509 &   3.330733 &   0.041193 &   3.914073 &   0.012446 &   0.168411 & ⋯ &   0.191212 &   0.004741 &  0.171431 &   0.000000 &   0.079940 &   0.000000 &   0.008891 &   0.000000 &  0.179105 &   0.000000\\\\\n",
       "\tA2M & 618.316979 & 282.864164 & 650.704958 & 27.339350 & 717.626515 & 270.008714 & 314.743489 & 243.104425 & 228.524684 & 138.544962 & ⋯ & 442.243198 & 242.621683 & 60.079430 & 347.145610 & 153.669132 & 430.109186 & 175.851727 &  47.573567 & 79.920630 & 144.733120\\\\\n",
       "\tA2M-AS1 &   4.312236 &   3.340083 &   0.833381 &  0.115584 &   2.117325 &   0.872245 &   1.379249 &   0.238519 &   2.245094 &   0.342342 & ⋯ &   1.940707 &   3.135638 &  0.377770 &   4.880282 &   2.360360 &   9.801350 &   1.417181 &   0.484844 &  0.590398 &   2.223325\\\\\n",
       "\tA2ML1 &   0.160812 &   0.025255 &   0.053246 &  0.022994 &   0.082605 &   0.042365 &   0.000000 &   0.000000 &   0.000000 &   0.127251 & ⋯ &   0.548030 &   1.410773 &  0.000000 &   1.380567 &   0.495248 &   0.212106 & 327.981385 & 518.859007 &  0.092619 &   0.131981\\\\\n",
       "\\end{tabular}\n"
      ],
      "text/markdown": [
       "\n",
       "A data.frame: 6 × 108\n",
       "\n",
       "| <!--/--> | 9DW0030T &lt;dbl&gt; | 9DW0038T &lt;dbl&gt; | 9DW0039T &lt;dbl&gt; | 9DW0049T &lt;dbl&gt; | 9DW0052T &lt;dbl&gt; | 9DW0056T &lt;dbl&gt; | 9DW0064T &lt;dbl&gt; | 9DW0068T &lt;dbl&gt; | 9DW0073T &lt;dbl&gt; | 9DW0074T &lt;dbl&gt; | ⋯ ⋯ | 9DW0344N &lt;dbl&gt; | 9DW0348N &lt;dbl&gt; | 9DW0351N &lt;dbl&gt; | 9DW0362N &lt;dbl&gt; | 9DW0368N &lt;dbl&gt; | 9DW0377N &lt;dbl&gt; | 9DW0378N &lt;dbl&gt; | 9DW0380N &lt;dbl&gt; | 9DW0383N &lt;dbl&gt; | 9DW0388N &lt;dbl&gt; |\n",
       "|---|---|---|---|---|---|---|---|---|---|---|---|---|---|---|---|---|---|---|---|---|---|\n",
       "| A1BG |   6.793832 |   2.339765 |   2.931239 | 12.105895 |   9.699353 |   4.508053 |   2.098166 |   1.045524 |   7.960385 |   1.815963 | ⋯ |   9.022456 |   2.449978 |  2.798060 |   2.131516 |   2.639017 |   1.806114 |   3.968413 |   1.225789 |  2.259904 |  10.502352 |\n",
       "| A1BG-AS1 |   2.229624 |   0.693577 |   0.767752 |  0.725219 |   3.026700 |   1.681083 |   1.806648 |   0.518241 |   4.562893 |   0.638787 | ⋯ |   6.594782 |   1.734597 |  1.035812 |   1.118700 |   3.011669 |   1.071111 |   1.950115 |   0.680602 |  0.319657 |   5.330094 |\n",
       "| A1CF |   0.099166 |   0.000000 |   2.930860 |  7.725161 |   1.652509 |   3.330733 |   0.041193 |   3.914073 |   0.012446 |   0.168411 | ⋯ |   0.191212 |   0.004741 |  0.171431 |   0.000000 |   0.079940 |   0.000000 |   0.008891 |   0.000000 |  0.179105 |   0.000000 |\n",
       "| A2M | 618.316979 | 282.864164 | 650.704958 | 27.339350 | 717.626515 | 270.008714 | 314.743489 | 243.104425 | 228.524684 | 138.544962 | ⋯ | 442.243198 | 242.621683 | 60.079430 | 347.145610 | 153.669132 | 430.109186 | 175.851727 |  47.573567 | 79.920630 | 144.733120 |\n",
       "| A2M-AS1 |   4.312236 |   3.340083 |   0.833381 |  0.115584 |   2.117325 |   0.872245 |   1.379249 |   0.238519 |   2.245094 |   0.342342 | ⋯ |   1.940707 |   3.135638 |  0.377770 |   4.880282 |   2.360360 |   9.801350 |   1.417181 |   0.484844 |  0.590398 |   2.223325 |\n",
       "| A2ML1 |   0.160812 |   0.025255 |   0.053246 |  0.022994 |   0.082605 |   0.042365 |   0.000000 |   0.000000 |   0.000000 |   0.127251 | ⋯ |   0.548030 |   1.410773 |  0.000000 |   1.380567 |   0.495248 |   0.212106 | 327.981385 | 518.859007 |  0.092619 |   0.131981 |\n",
       "\n"
      ],
      "text/plain": [
       "         9DW0030T   9DW0038T   9DW0039T   9DW0049T  9DW0052T   9DW0056T  \n",
       "A1BG       6.793832   2.339765   2.931239 12.105895   9.699353   4.508053\n",
       "A1BG-AS1   2.229624   0.693577   0.767752  0.725219   3.026700   1.681083\n",
       "A1CF       0.099166   0.000000   2.930860  7.725161   1.652509   3.330733\n",
       "A2M      618.316979 282.864164 650.704958 27.339350 717.626515 270.008714\n",
       "A2M-AS1    4.312236   3.340083   0.833381  0.115584   2.117325   0.872245\n",
       "A2ML1      0.160812   0.025255   0.053246  0.022994   0.082605   0.042365\n",
       "         9DW0064T   9DW0068T   9DW0073T   9DW0074T   ⋯ 9DW0344N   9DW0348N  \n",
       "A1BG       2.098166   1.045524   7.960385   1.815963 ⋯   9.022456   2.449978\n",
       "A1BG-AS1   1.806648   0.518241   4.562893   0.638787 ⋯   6.594782   1.734597\n",
       "A1CF       0.041193   3.914073   0.012446   0.168411 ⋯   0.191212   0.004741\n",
       "A2M      314.743489 243.104425 228.524684 138.544962 ⋯ 442.243198 242.621683\n",
       "A2M-AS1    1.379249   0.238519   2.245094   0.342342 ⋯   1.940707   3.135638\n",
       "A2ML1      0.000000   0.000000   0.000000   0.127251 ⋯   0.548030   1.410773\n",
       "         9DW0351N  9DW0362N   9DW0368N   9DW0377N   9DW0378N   9DW0380N  \n",
       "A1BG      2.798060   2.131516   2.639017   1.806114   3.968413   1.225789\n",
       "A1BG-AS1  1.035812   1.118700   3.011669   1.071111   1.950115   0.680602\n",
       "A1CF      0.171431   0.000000   0.079940   0.000000   0.008891   0.000000\n",
       "A2M      60.079430 347.145610 153.669132 430.109186 175.851727  47.573567\n",
       "A2M-AS1   0.377770   4.880282   2.360360   9.801350   1.417181   0.484844\n",
       "A2ML1     0.000000   1.380567   0.495248   0.212106 327.981385 518.859007\n",
       "         9DW0383N  9DW0388N  \n",
       "A1BG      2.259904  10.502352\n",
       "A1BG-AS1  0.319657   5.330094\n",
       "A1CF      0.179105   0.000000\n",
       "A2M      79.920630 144.733120\n",
       "A2M-AS1   0.590398   2.223325\n",
       "A2ML1     0.092619   0.131981"
      ]
     },
     "metadata": {},
     "output_type": "display_data"
    }
   ],
   "source": [
    "head(tumor_normal)"
   ]
  },
  {
   "cell_type": "markdown",
   "id": "73d707e4",
   "metadata": {},
   "source": [
    "### 3. split the data into High,Low,Neg"
   ]
  },
  {
   "cell_type": "code",
   "execution_count": 15,
   "id": "94245202",
   "metadata": {},
   "outputs": [],
   "source": [
    "tumor_normal %>% colnames() %>% str_replace('T|N','') %in% highnames %>% tumor_normal[,.] -> High_data"
   ]
  },
  {
   "cell_type": "code",
   "execution_count": 16,
   "id": "089754ce",
   "metadata": {},
   "outputs": [],
   "source": [
    "tumor_normal %>% colnames() %>% str_replace('T|N','') %in% lownames %>% tumor_normal[,.] -> Low_data"
   ]
  },
  {
   "cell_type": "code",
   "execution_count": 17,
   "id": "e9735bca",
   "metadata": {},
   "outputs": [],
   "source": [
    "tumor_normal %>% colnames() %>% str_replace('T|N','') %in% negatives %>% tumor_normal[,.] -> Neg_data"
   ]
  },
  {
   "cell_type": "markdown",
   "id": "698563cc",
   "metadata": {},
   "source": [
    "### 4. create the labels for High,Low,Neg"
   ]
  },
  {
   "cell_type": "code",
   "execution_count": 18,
   "id": "d8772f9f",
   "metadata": {},
   "outputs": [],
   "source": [
    "High_data %>% colnames() %>% str_detect('T') %>% ifelse('Tumor','Normal') -> Highlabels\n",
    "Low_data %>% colnames() %>% str_detect('T') %>% ifelse('Tumor','Normal') -> Lowlabels\n",
    "Neg_data %>% colnames() %>% str_detect('T') %>% ifelse('Tumor','Normal') -> Neglabels"
   ]
  },
  {
   "cell_type": "markdown",
   "id": "de6d7fbc",
   "metadata": {},
   "source": [
    "### 5. covert the data into spartse matrix"
   ]
  },
  {
   "cell_type": "code",
   "execution_count": 19,
   "id": "0aa29ddc",
   "metadata": {},
   "outputs": [],
   "source": [
    "High_data2 <- Matrix(as.matrix(High_data), sparse = TRUE) \n",
    "Low_data2 <- Matrix(as.matrix(Low_data), sparse = TRUE) \n",
    "Neg_data2 <- Matrix(as.matrix(Neg_data), sparse = TRUE) "
   ]
  },
  {
   "cell_type": "code",
   "execution_count": 20,
   "id": "da62ee72",
   "metadata": {},
   "outputs": [],
   "source": [
    "meta_high <- as.data.frame(Highlabels)\n",
    "meta_low <- as.data.frame(Lowlabels)\n",
    "meta_neg <- as.data.frame(Neglabels)"
   ]
  },
  {
   "cell_type": "code",
   "execution_count": 21,
   "id": "98615277",
   "metadata": {
    "scrolled": true
   },
   "outputs": [],
   "source": [
    "rownames(meta_high) <- colnames(High_data2)\n",
    "rownames(meta_low) <- colnames(Low_data2)\n",
    "rownames(meta_neg) <- colnames(Neg_data2)"
   ]
  },
  {
   "cell_type": "code",
   "execution_count": 22,
   "id": "ceb86505",
   "metadata": {},
   "outputs": [
    {
     "data": {
      "text/html": [
       "<table class=\"dataframe\">\n",
       "<caption>A data.frame: 6 × 1</caption>\n",
       "<thead>\n",
       "\t<tr><th></th><th scope=col>Highlabels</th></tr>\n",
       "\t<tr><th></th><th scope=col>&lt;chr&gt;</th></tr>\n",
       "</thead>\n",
       "<tbody>\n",
       "\t<tr><th scope=row>9DW0073T</th><td>Tumor</td></tr>\n",
       "\t<tr><th scope=row>9DW0076T</th><td>Tumor</td></tr>\n",
       "\t<tr><th scope=row>9DW0079T</th><td>Tumor</td></tr>\n",
       "\t<tr><th scope=row>9DW0126T</th><td>Tumor</td></tr>\n",
       "\t<tr><th scope=row>9DW0169T</th><td>Tumor</td></tr>\n",
       "\t<tr><th scope=row>9DW0192T</th><td>Tumor</td></tr>\n",
       "</tbody>\n",
       "</table>\n"
      ],
      "text/latex": [
       "A data.frame: 6 × 1\n",
       "\\begin{tabular}{r|l}\n",
       "  & Highlabels\\\\\n",
       "  & <chr>\\\\\n",
       "\\hline\n",
       "\t9DW0073T & Tumor\\\\\n",
       "\t9DW0076T & Tumor\\\\\n",
       "\t9DW0079T & Tumor\\\\\n",
       "\t9DW0126T & Tumor\\\\\n",
       "\t9DW0169T & Tumor\\\\\n",
       "\t9DW0192T & Tumor\\\\\n",
       "\\end{tabular}\n"
      ],
      "text/markdown": [
       "\n",
       "A data.frame: 6 × 1\n",
       "\n",
       "| <!--/--> | Highlabels &lt;chr&gt; |\n",
       "|---|---|\n",
       "| 9DW0073T | Tumor |\n",
       "| 9DW0076T | Tumor |\n",
       "| 9DW0079T | Tumor |\n",
       "| 9DW0126T | Tumor |\n",
       "| 9DW0169T | Tumor |\n",
       "| 9DW0192T | Tumor |\n",
       "\n"
      ],
      "text/plain": [
       "         Highlabels\n",
       "9DW0073T Tumor     \n",
       "9DW0076T Tumor     \n",
       "9DW0079T Tumor     \n",
       "9DW0126T Tumor     \n",
       "9DW0169T Tumor     \n",
       "9DW0192T Tumor     "
      ]
     },
     "metadata": {},
     "output_type": "display_data"
    }
   ],
   "source": [
    "head(meta_high)"
   ]
  },
  {
   "cell_type": "markdown",
   "id": "77087f76",
   "metadata": {},
   "source": [
    "### 6. create the cellchat object"
   ]
  },
  {
   "cell_type": "code",
   "execution_count": 23,
   "id": "b30fb127",
   "metadata": {
    "scrolled": true
   },
   "outputs": [
    {
     "name": "stdout",
     "output_type": "stream",
     "text": [
      "[1] \"Create a CellChat object from a data matrix\"\n",
      "Set cell identities for the new CellChat object \n",
      "The cell groups used for CellChat analysis are  Normal Tumor \n",
      "[1] \"Create a CellChat object from a data matrix\"\n",
      "Set cell identities for the new CellChat object \n",
      "The cell groups used for CellChat analysis are  Normal Tumor \n",
      "[1] \"Create a CellChat object from a data matrix\"\n",
      "Set cell identities for the new CellChat object \n",
      "The cell groups used for CellChat analysis are  Normal Tumor \n"
     ]
    }
   ],
   "source": [
    "GCA_Highcellchat <- createCellChat(object = High_data2, meta = meta_high, group.by = \"Highlabels\")\n",
    "GCA_Lowcellchat <- createCellChat(object = Low_data2, meta = meta_low, group.by = \"Lowlabels\")\n",
    "GCA_Negcellchat <- createCellChat(object = Neg_data2, meta = meta_neg, group.by = \"Neglabels\")"
   ]
  },
  {
   "cell_type": "markdown",
   "id": "3db6099d",
   "metadata": {},
   "source": [
    "### 7. select the database for cell chat"
   ]
  },
  {
   "cell_type": "code",
   "execution_count": 24,
   "id": "34e70eff",
   "metadata": {},
   "outputs": [],
   "source": [
    "CellChatDB <- CellChatDB.human # use CellChatDB.mouse if running on mouse data\n",
    "CellChatDB.use <- subsetDB(CellChatDB, search = \"Secreted Signaling\")\n",
    "#CellChatDB.use <- CellChatDB"
   ]
  },
  {
   "cell_type": "code",
   "execution_count": 25,
   "id": "e28b782d",
   "metadata": {},
   "outputs": [],
   "source": [
    "GCA_Highcellchat@DB <- CellChatDB.use\n",
    "GCA_Lowcellchat@DB <- CellChatDB.use\n",
    "GCA_Negcellchat@DB <- CellChatDB.use"
   ]
  },
  {
   "cell_type": "markdown",
   "id": "8bed183c",
   "metadata": {},
   "source": [
    "### 8. subset the genes using ligand-receptor database"
   ]
  },
  {
   "cell_type": "code",
   "execution_count": 40,
   "id": "8daa37b5",
   "metadata": {},
   "outputs": [],
   "source": [
    "GCA_Highcellchat <- subsetData(GCA_Highcellchat)\n",
    "GCA_Lowcellchat <- subsetData(GCA_Lowcellchat)\n",
    "GCA_Negcellchat <- subsetData(GCA_Negcellchat)"
   ]
  },
  {
   "cell_type": "markdown",
   "id": "5e067b42",
   "metadata": {},
   "source": [
    "### 9. Identify Over Expressed Genes"
   ]
  },
  {
   "cell_type": "code",
   "execution_count": null,
   "id": "14df3f96",
   "metadata": {},
   "outputs": [],
   "source": [
    "GCA_Highcellchat <- identifyOverExpressedGenes(GCA_Highcellchat)\n",
    "GCA_Highcellchat <- identifyOverExpressedInteractions(GCA_Highcellchat)"
   ]
  },
  {
   "cell_type": "code",
   "execution_count": 42,
   "id": "b3bd16b9",
   "metadata": {},
   "outputs": [
    {
     "data": {
      "text/plain": [
       "An object of class CellChat created from a single dataset \n",
       " 22736 genes.\n",
       " 38 cells. \n",
       "CellChat analysis of single cell RNA-seq data! "
      ]
     },
     "metadata": {},
     "output_type": "display_data"
    }
   ],
   "source": [
    "GCA_Highcellchat"
   ]
  },
  {
   "cell_type": "code",
   "execution_count": null,
   "id": "51ff9a10",
   "metadata": {},
   "outputs": [],
   "source": [
    "GCA_Lowcellchat <- identifyOverExpressedGenes(GCA_Lowcellchat)\n",
    "GCA_Lowcellchat <- identifyOverExpressedInteractions(GCA_Lowcellchat)"
   ]
  },
  {
   "cell_type": "code",
   "execution_count": null,
   "id": "eea98bf8",
   "metadata": {},
   "outputs": [],
   "source": [
    "GCA_Negcellchat <- identifyOverExpressedGenes(GCA_Negcellchat)\n",
    "GCA_Negcellchat <- identifyOverExpressedInteractions(GCA_Negcellchat)"
   ]
  },
  {
   "cell_type": "markdown",
   "id": "f0882aa9",
   "metadata": {},
   "source": [
    "### 10. calculate the communication between ligand and receptor"
   ]
  },
  {
   "cell_type": "code",
   "execution_count": 45,
   "id": "052ce561",
   "metadata": {},
   "outputs": [
    {
     "name": "stdout",
     "output_type": "stream",
     "text": [
      "triMean is used for calculating the average gene expression per cell group. \n",
      "[1] \">>> Run CellChat on sc/snRNA-seq data <<< [2023-12-12 10:16:31]\"\n",
      "[1] \">>> CellChat inference is done. Parameter values are stored in `object@options$parameter` <<< [2023-12-12 10:17:39]\"\n"
     ]
    }
   ],
   "source": [
    "GCA_Highcellchat <- computeCommunProb(GCA_Highcellchat)\n",
    "GCA_Highcellchat <- filterCommunication(GCA_Highcellchat, min.cells = 5)\n",
    "GCA_Highcellchat <- computeCommunProbPathway(GCA_Highcellchat)\n",
    "GCA_Highcellchat <- aggregateNet(GCA_Highcellchat)"
   ]
  },
  {
   "cell_type": "code",
   "execution_count": 46,
   "id": "c50c3247",
   "metadata": {},
   "outputs": [
    {
     "name": "stdout",
     "output_type": "stream",
     "text": [
      "triMean is used for calculating the average gene expression per cell group. \n",
      "[1] \">>> Run CellChat on sc/snRNA-seq data <<< [2023-12-12 10:17:39]\"\n",
      "[1] \">>> CellChat inference is done. Parameter values are stored in `object@options$parameter` <<< [2023-12-12 10:19:34]\"\n"
     ]
    }
   ],
   "source": [
    "GCA_Lowcellchat <- computeCommunProb(GCA_Lowcellchat)\n",
    "GCA_Lowcellchat <- filterCommunication(GCA_Lowcellchat, min.cells = 5)\n",
    "GCA_Lowcellchat <- computeCommunProbPathway(GCA_Lowcellchat)\n",
    "GCA_Lowcellchat <- aggregateNet(GCA_Lowcellchat)"
   ]
  },
  {
   "cell_type": "code",
   "execution_count": 47,
   "id": "cbea5af4",
   "metadata": {
    "scrolled": true
   },
   "outputs": [
    {
     "name": "stdout",
     "output_type": "stream",
     "text": [
      "triMean is used for calculating the average gene expression per cell group. \n",
      "[1] \">>> Run CellChat on sc/snRNA-seq data <<< [2023-12-12 10:19:35]\"\n",
      "[1] \">>> CellChat inference is done. Parameter values are stored in `object@options$parameter` <<< [2023-12-12 10:20:53]\"\n"
     ]
    }
   ],
   "source": [
    "GCA_Negcellchat <- computeCommunProb(GCA_Negcellchat)\n",
    "GCA_Negcellchat <- filterCommunication(GCA_Negcellchat, min.cells = 5)\n",
    "GCA_Negcellchat <- computeCommunProbPathway(GCA_Negcellchat)\n",
    "GCA_Negcellchat <- aggregateNet(GCA_Negcellchat)"
   ]
  },
  {
   "cell_type": "markdown",
   "id": "d0d3b4c9",
   "metadata": {},
   "source": [
    "### 11. calculate the centrality for netAnalysis_signalingRole_heatmap"
   ]
  },
  {
   "cell_type": "code",
   "execution_count": 48,
   "id": "e2c4334e",
   "metadata": {},
   "outputs": [],
   "source": [
    "GCA_Highcellchat <- netAnalysis_computeCentrality(GCA_Highcellchat, slot.name = \"netP\") "
   ]
  },
  {
   "cell_type": "code",
   "execution_count": 49,
   "id": "66857044",
   "metadata": {},
   "outputs": [],
   "source": [
    "GCA_Lowcellchat <- netAnalysis_computeCentrality(GCA_Lowcellchat, slot.name = \"netP\") "
   ]
  },
  {
   "cell_type": "code",
   "execution_count": 50,
   "id": "79014fc1",
   "metadata": {},
   "outputs": [],
   "source": [
    "GCA_Negcellchat <- netAnalysis_computeCentrality(GCA_Negcellchat, slot.name = \"netP\") "
   ]
  },
  {
   "cell_type": "markdown",
   "id": "64735737",
   "metadata": {},
   "source": [
    "### 12. extract the ligand-receptors which were identified in each group"
   ]
  },
  {
   "cell_type": "code",
   "execution_count": 51,
   "id": "cc705846",
   "metadata": {},
   "outputs": [],
   "source": [
    "High.net <- subsetCommunication(GCA_Highcellchat)\n",
    "Low.net <- subsetCommunication(GCA_Lowcellchat)\n",
    "Neg.net <- subsetCommunication(GCA_Negcellchat)"
   ]
  },
  {
   "cell_type": "markdown",
   "id": "176829ac",
   "metadata": {},
   "source": [
    "### 13. heatmap of ongoing and incoming ligand-receptors for high group"
   ]
  },
  {
   "cell_type": "code",
   "execution_count": 69,
   "id": "ea2953d0",
   "metadata": {},
   "outputs": [],
   "source": [
    "Highsignaling = signaling = c(\"TGFFb\",\"EGF\",\"WNT\",\"CCL\",\"OSM\",\"BMP\",\"LIFR\",\"AGT\",\"IL1\",\"NRG\",\"IL6\",\"GDF\",\n",
    "                             \"MSTN\",\"PMCH\",\"EDA\",\"BRADYKININ\")\n",
    "#High.net$pathway_name %in% Highsignaling %>% ifelse(.,FALSE,TRUE) %>% High.net[.,] %>% \n",
    "#                                    select(pathway_name) %>% .[,1] %>% unique()  -> Highsignaling_self"
   ]
  },
  {
   "cell_type": "code",
   "execution_count": 70,
   "id": "3ef69ef1",
   "metadata": {},
   "outputs": [],
   "source": [
    "#ht1_self <- netAnalysis_signalingRole_heatmap2(GCA_Highcellchat, signaling = Highsignaling_self, \n",
    "#                                         pattern = \"outgoing\")\n",
    "#ht2_self <- netAnalysis_signalingRole_heatmap2(GCA_Highcellchat,signaling = Highsignaling_self,\n",
    "#                                         pattern = \"incoming\")"
   ]
  },
  {
   "cell_type": "code",
   "execution_count": 59,
   "id": "940d8c2b",
   "metadata": {},
   "outputs": [],
   "source": [
    "high_ht1 <- netAnalysis_signalingRole_heatmap2(GCA_Highcellchat, signaling = Highsignaling, \n",
    "                                         pattern = \"outgoing\")\n",
    "High_ht2 <- netAnalysis_signalingRole_heatmap2(GCA_Highcellchat,signaling = Highsignaling,\n",
    "                                         pattern = \"incoming\")"
   ]
  },
  {
   "cell_type": "code",
   "execution_count": 60,
   "id": "bec943e4",
   "metadata": {},
   "outputs": [],
   "source": [
    "### show all pathway"
   ]
  },
  {
   "cell_type": "code",
   "execution_count": 61,
   "id": "235f703f",
   "metadata": {
    "scrolled": true
   },
   "outputs": [],
   "source": [
    "high_all_in <- netAnalysis_signalingRole_heatmap2(GCA_Highcellchat, pattern = \"incoming\")\n",
    "high_all_out = netAnalysis_signalingRole_heatmap2(GCA_Highcellchat, pattern = \"outgoing\")"
   ]
  },
  {
   "cell_type": "code",
   "execution_count": null,
   "id": "d4cfebe2",
   "metadata": {},
   "outputs": [],
   "source": [
    "options(repr.plot.height=8,repr.plot.width=3)\n",
    "pheatmap(high_all_in,cluster_rows = F,cluster_cols = F)"
   ]
  },
  {
   "cell_type": "code",
   "execution_count": null,
   "id": "c98d8ce4",
   "metadata": {
    "scrolled": false
   },
   "outputs": [],
   "source": [
    "options(repr.plot.height=8,repr.plot.width=3)\n",
    "pheatmap(high_all_out,cluster_rows = F,cluster_cols = F)"
   ]
  },
  {
   "cell_type": "code",
   "execution_count": 73,
   "id": "726d1a49",
   "metadata": {},
   "outputs": [
    {
     "data": {
      "text/html": [
       "<strong>png:</strong> 2"
      ],
      "text/latex": [
       "\\textbf{png:} 2"
      ],
      "text/markdown": [
       "**png:** 2"
      ],
      "text/plain": [
       "png \n",
       "  2 "
      ]
     },
     "metadata": {},
     "output_type": "display_data"
    }
   ],
   "source": [
    "options(repr.plot.height=5,repr.plot.width=3)\n",
    "pdf(file =  \"High_heatmap_Outgoing.pdf\",height = 5,width = 3)\n",
    "pheatmap(high_ht1,cluster_rows = F,,cluster_cols = F,main = \"Outgoing\",legend = TRUE,\n",
    "         color = colorRampPalette(c(\"white\", \"#13701B\"))(50))\n",
    "dev.off()"
   ]
  },
  {
   "cell_type": "code",
   "execution_count": 74,
   "id": "08a44241",
   "metadata": {},
   "outputs": [
    {
     "data": {
      "text/html": [
       "<strong>png:</strong> 2"
      ],
      "text/latex": [
       "\\textbf{png:} 2"
      ],
      "text/markdown": [
       "**png:** 2"
      ],
      "text/plain": [
       "png \n",
       "  2 "
      ]
     },
     "metadata": {},
     "output_type": "display_data"
    }
   ],
   "source": [
    "options(repr.plot.height=5,repr.plot.width=3)\n",
    "pdf(file =  \"High_heatmap_Incoming.pdf\",height = 5,width = 3)\n",
    "pheatmap(High_ht2,cluster_rows = F,,cluster_cols = F,main = \"Incoming\",legend = TRUE,\n",
    "         color = colorRampPalette(c(\"white\", \"#13701B\"))(50))\n",
    "dev.off()"
   ]
  },
  {
   "cell_type": "code",
   "execution_count": 67,
   "id": "794fd768",
   "metadata": {},
   "outputs": [],
   "source": [
    "#options(repr.plot.height=5,repr.plot.width=3)\n",
    "#pdf(file =  \"High_heatmapself_Ongoing.pdf\",height = 5,width = 3)\n",
    "#pheatmap(ht1_self,cluster_rows = F,,cluster_cols = F,main = \"Outgoing\",legend = TRUE,\n",
    "#         color = colorRampPalette(c(\"white\", \"#13701B\"))(50))\n",
    "#dev.off()"
   ]
  },
  {
   "cell_type": "code",
   "execution_count": 68,
   "id": "f4b01b85",
   "metadata": {},
   "outputs": [],
   "source": [
    "#options(repr.plot.height=5,repr.plot.width=3)\n",
    "#pdf(file =  \"High_heatmapself_Incoming.pdf\",height = 5,width = 3)\n",
    "#pheatmap(ht2_self,cluster_rows = F,,cluster_cols = F,main = \"Incoming\",legend = TRUE,\n",
    "#         color = colorRampPalette(c(\"white\", \"#13701B\"))(50))\n",
    "#dev.off()"
   ]
  },
  {
   "cell_type": "markdown",
   "id": "7d56d987",
   "metadata": {},
   "source": [
    "### 14. heatmap of ongoing and incoming ligand-receptors for Low group"
   ]
  },
  {
   "cell_type": "code",
   "execution_count": 82,
   "id": "cd8c6c19",
   "metadata": {},
   "outputs": [],
   "source": [
    "while (!is.null(dev.list()))  dev.off()"
   ]
  },
  {
   "cell_type": "code",
   "execution_count": 99,
   "id": "00548088",
   "metadata": {},
   "outputs": [],
   "source": [
    "Lowsignaling = c(\"LIFR\",\"OSM\",\"IL6\",\"IL1\",\"AVP\",\"IL10\",\"SOMATOSTATIN\",\"CALCR\",\"IFN-I\",\n",
    "                 \"ENHO\", \"MSTN\")\n",
    "#Low.net$pathway_name %in% Lowsignaling %>% ifelse(.,FALSE,TRUE) %>% Low.net[.,] %>% \n",
    "#                                    select(pathway_name) %>% .[,1] %>% unique()  -> Lowsignaling_self"
   ]
  },
  {
   "cell_type": "code",
   "execution_count": 100,
   "id": "fd6431c1",
   "metadata": {},
   "outputs": [],
   "source": [
    "ht1_low <- netAnalysis_signalingRole_heatmap2(GCA_Lowcellchat, Lowsignaling, \n",
    "                                         pattern = \"outgoing\")\n",
    "ht2_low <- netAnalysis_signalingRole_heatmap2(GCA_Lowcellchat, Lowsignaling, \n",
    "                                         pattern = \"incoming\")"
   ]
  },
  {
   "cell_type": "code",
   "execution_count": 75,
   "id": "979d9b24",
   "metadata": {},
   "outputs": [],
   "source": [
    "lowallin= netAnalysis_signalingRole_heatmap2(GCA_Lowcellchat, pattern = \"outgoing\")"
   ]
  },
  {
   "cell_type": "code",
   "execution_count": 76,
   "id": "8ce84db0",
   "metadata": {},
   "outputs": [],
   "source": [
    "lowallout= netAnalysis_signalingRole_heatmap2(GCA_Lowcellchat, pattern = \"incoming\")"
   ]
  },
  {
   "cell_type": "code",
   "execution_count": null,
   "id": "6eb3a350",
   "metadata": {},
   "outputs": [],
   "source": [
    "options(repr.plot.height=7,repr.plot.width=3)\n",
    "pheatmap(lowallin,cluster_rows = F,cluster_cols = F)"
   ]
  },
  {
   "cell_type": "code",
   "execution_count": null,
   "id": "45d37e99",
   "metadata": {
    "scrolled": true
   },
   "outputs": [],
   "source": [
    "options(repr.plot.height=7,repr.plot.width=3)\n",
    "pheatmap(lowallout,cluster_rows = F,cluster_cols = F)"
   ]
  },
  {
   "cell_type": "code",
   "execution_count": 103,
   "id": "3ff6016d",
   "metadata": {},
   "outputs": [
    {
     "data": {
      "text/html": [
       "<strong>png:</strong> 2"
      ],
      "text/latex": [
       "\\textbf{png:} 2"
      ],
      "text/markdown": [
       "**png:** 2"
      ],
      "text/plain": [
       "png \n",
       "  2 "
      ]
     },
     "metadata": {},
     "output_type": "display_data"
    }
   ],
   "source": [
    "options(repr.plot.height=5,repr.plot.width=3)\n",
    "pdf(file =  \"Low_heatmap_Outgoing.pdf\",height = 5,width = 3)\n",
    "pheatmap(ht1_low,cluster_rows = F,,cluster_cols = F,main = \"Outgoing\",legend = TRUE,\n",
    "         color = colorRampPalette(c(\"white\", \"#13701B\"))(50))\n",
    "dev.off()"
   ]
  },
  {
   "cell_type": "code",
   "execution_count": 104,
   "id": "8af4f178",
   "metadata": {},
   "outputs": [
    {
     "data": {
      "text/html": [
       "<strong>png:</strong> 2"
      ],
      "text/latex": [
       "\\textbf{png:} 2"
      ],
      "text/markdown": [
       "**png:** 2"
      ],
      "text/plain": [
       "png \n",
       "  2 "
      ]
     },
     "metadata": {},
     "output_type": "display_data"
    }
   ],
   "source": [
    "options(repr.plot.height=5,repr.plot.width=3)\n",
    "pdf(file =  \"Low_heatmap_Incoming.pdf\",height = 5,width = 3)\n",
    "pheatmap(ht2_low,cluster_rows = F,,cluster_cols = F,main = \"Incoming\",legend = TRUE,\n",
    "         color = colorRampPalette(c(\"white\", \"#13701B\"))(50))\n",
    "dev.off()"
   ]
  },
  {
   "cell_type": "code",
   "execution_count": 121,
   "id": "b9636fb9",
   "metadata": {},
   "outputs": [
    {
     "data": {
      "text/html": [
       "<strong>png:</strong> 2"
      ],
      "text/latex": [
       "\\textbf{png:} 2"
      ],
      "text/markdown": [
       "**png:** 2"
      ],
      "text/plain": [
       "png \n",
       "  2 "
      ]
     },
     "metadata": {},
     "output_type": "display_data"
    }
   ],
   "source": [
    "#options(repr.plot.height=5,repr.plot.width=3)\n",
    "#pdf(file =  \"Low_heatmapself_ongoing.pdf\",height = 8,width = 3)\n",
    "#pheatmap(ht1_low_self,cluster_rows = F,,cluster_cols = F,main = \"Outgoing\",legend = TRUE,\n",
    "#         color = colorRampPalette(c(\"white\", \"#13701B\"))(50))\n",
    "#dev.off()"
   ]
  },
  {
   "cell_type": "code",
   "execution_count": 122,
   "id": "7702186c",
   "metadata": {},
   "outputs": [
    {
     "data": {
      "text/html": [
       "<strong>png:</strong> 2"
      ],
      "text/latex": [
       "\\textbf{png:} 2"
      ],
      "text/markdown": [
       "**png:** 2"
      ],
      "text/plain": [
       "png \n",
       "  2 "
      ]
     },
     "metadata": {},
     "output_type": "display_data"
    }
   ],
   "source": [
    "#options(repr.plot.height=5,repr.plot.width=3)\n",
    "#pdf(file =  \"Low_heatmapself_Incoming.pdf\",height = 8,width = 3)\n",
    "#pheatmap(ht2_low_self,cluster_rows = F,,cluster_cols = F,main = \"Incoming\",legend = TRUE,\n",
    "#         color = colorRampPalette(c(\"white\", \"#13701B\"))(50))\n",
    "#dev.off()"
   ]
  },
  {
   "cell_type": "markdown",
   "id": "c0409e69",
   "metadata": {},
   "source": [
    "### 15. heatmap of ongoing and incoming ligand-receptors for Neg group"
   ]
  },
  {
   "cell_type": "code",
   "execution_count": 119,
   "id": "08b109d1",
   "metadata": {},
   "outputs": [],
   "source": [
    "Negsignaling = c(\"ACTIVIN\",\"LIFR\",\"GDF\",\"NODAL\",\"IL10\",\"NRG\",\"IFN-I\",\"ENHO\",\"SEMA3\",\"BMP\",\"CALCR\")\n",
    "#Neg.net$pathway_name %in% Negsignaling %>% ifelse(.,FALSE,TRUE) %>% Neg.net[.,] %>% \n",
    "#                                    select(pathway_name) %>% .[,1] %>% unique()  -> Negsignaling_self"
   ]
  },
  {
   "cell_type": "code",
   "execution_count": 120,
   "id": "ef036d62",
   "metadata": {},
   "outputs": [],
   "source": [
    "ht1_neg <- netAnalysis_signalingRole_heatmap2(GCA_Negcellchat,Negsignaling, pattern = \"outgoing\")\n",
    "ht2_neg <- netAnalysis_signalingRole_heatmap2(GCA_Negcellchat,signaling = Negsignaling, pattern = \"incoming\")"
   ]
  },
  {
   "cell_type": "code",
   "execution_count": 128,
   "id": "63c42544",
   "metadata": {},
   "outputs": [],
   "source": [
    "#ht1_neg_self <- netAnalysis_signalingRole_heatmap2(GCA_Negcellchat,Negsignaling_self, pattern = \"outgoing\")\n",
    "#ht2_neg_self <- netAnalysis_signalingRole_heatmap2(GCA_Negcellchat,signaling = Negsignaling_self, pattern = \"incoming\")"
   ]
  },
  {
   "cell_type": "code",
   "execution_count": 111,
   "id": "31b45c9f",
   "metadata": {},
   "outputs": [],
   "source": [
    "neg_in= netAnalysis_signalingRole_heatmap2(GCA_Negcellchat, pattern = \"outgoing\")\n",
    "neg_out= netAnalysis_signalingRole_heatmap2(GCA_Negcellchat, pattern = \"incoming\")"
   ]
  },
  {
   "cell_type": "code",
   "execution_count": null,
   "id": "04a9675f",
   "metadata": {},
   "outputs": [],
   "source": [
    "options(repr.plot.height=9,repr.plot.width=3)\n",
    "pheatmap(neg_in,cluster_rows = F,cluster_cols = F)"
   ]
  },
  {
   "cell_type": "code",
   "execution_count": null,
   "id": "a0360a82",
   "metadata": {},
   "outputs": [],
   "source": [
    "options(repr.plot.height=9,repr.plot.width=3)\n",
    "pheatmap(neg_out,cluster_rows = F,cluster_cols = F)"
   ]
  },
  {
   "cell_type": "code",
   "execution_count": null,
   "id": "e0ba8b14",
   "metadata": {},
   "outputs": [],
   "source": []
  },
  {
   "cell_type": "code",
   "execution_count": 123,
   "id": "d062aadb",
   "metadata": {},
   "outputs": [
    {
     "data": {
      "text/html": [
       "<strong>png:</strong> 2"
      ],
      "text/latex": [
       "\\textbf{png:} 2"
      ],
      "text/markdown": [
       "**png:** 2"
      ],
      "text/plain": [
       "png \n",
       "  2 "
      ]
     },
     "metadata": {},
     "output_type": "display_data"
    }
   ],
   "source": [
    "options(repr.plot.height=5,repr.plot.width=3)\n",
    "pdf(file =  \"Neg_heatmap_ongoing.pdf\",height = 5,width = 3)\n",
    "pheatmap(ht1_neg,cluster_rows = F,,cluster_cols = F,main = \"Outgoing\",legend = TRUE,\n",
    "         color = colorRampPalette(c(\"white\", \"#13701B\"))(50))\n",
    "dev.off()"
   ]
  },
  {
   "cell_type": "code",
   "execution_count": 125,
   "id": "c628bd1c",
   "metadata": {},
   "outputs": [
    {
     "data": {
      "text/html": [
       "<strong>png:</strong> 2"
      ],
      "text/latex": [
       "\\textbf{png:} 2"
      ],
      "text/markdown": [
       "**png:** 2"
      ],
      "text/plain": [
       "png \n",
       "  2 "
      ]
     },
     "metadata": {},
     "output_type": "display_data"
    }
   ],
   "source": [
    "options(repr.plot.height=5,repr.plot.width=3)\n",
    "pdf(file =  \"Neg_heatmap_Incoming.pdf\",height = 5,width = 3)\n",
    "pheatmap(ht2_neg,cluster_rows = F,,cluster_cols = F,main = \"Incoming\",legend = TRUE,\n",
    "         color = colorRampPalette(c(\"white\", \"#13701B\"))(50))\n",
    "dev.off()"
   ]
  },
  {
   "cell_type": "code",
   "execution_count": 91,
   "id": "e9eb06f9",
   "metadata": {},
   "outputs": [
    {
     "data": {
      "text/html": [
       "<strong>png:</strong> 2"
      ],
      "text/latex": [
       "\\textbf{png:} 2"
      ],
      "text/markdown": [
       "**png:** 2"
      ],
      "text/plain": [
       "png \n",
       "  2 "
      ]
     },
     "metadata": {},
     "output_type": "display_data"
    }
   ],
   "source": [
    "#options(repr.plot.height=8,repr.plot.width=3)\n",
    "#pdf(file =  \"Neg_heatmapself_ongoing.pdf\",height = 8,width = 3)\n",
    "#pheatmap(ht1_neg_self,cluster_rows = F,,cluster_cols = F,main = \"Outgoing\",legend = TRUE,\n",
    "#         color = colorRampPalette(c(\"white\", \"#13701B\"))(50))\n",
    "#dev.off()"
   ]
  },
  {
   "cell_type": "code",
   "execution_count": 92,
   "id": "5ad68c1c",
   "metadata": {},
   "outputs": [
    {
     "data": {
      "text/html": [
       "<strong>png:</strong> 2"
      ],
      "text/latex": [
       "\\textbf{png:} 2"
      ],
      "text/markdown": [
       "**png:** 2"
      ],
      "text/plain": [
       "png \n",
       "  2 "
      ]
     },
     "metadata": {},
     "output_type": "display_data"
    }
   ],
   "source": [
    "#options(repr.plot.height=8,repr.plot.width=3)\n",
    "#pdf(file =  \"Neg_heatmapself_Incoming.pdf\",height = 8,width = 3)\n",
    "#pheatmap(ht2_neg_self,cluster_rows = F,,cluster_cols = F,main = \"Incoming\",legend = TRUE,\n",
    "#         color = colorRampPalette(c(\"white\", \"#13701B\"))(50))\n",
    "#dev.off()"
   ]
  },
  {
   "cell_type": "markdown",
   "id": "fbf0c9b8",
   "metadata": {},
   "source": [
    "### 16. Vennplot of ongoing and incoming ligand-receptors"
   ]
  },
  {
   "cell_type": "code",
   "execution_count": 126,
   "id": "be12a220",
   "metadata": {},
   "outputs": [],
   "source": [
    "options(repr.plot.height=6,repr.plot.width=8)\n",
    "x <- list(Neg=rownames(ht2_neg), Low=rownames(ht2_low),High=rownames(High_ht2))\n",
    "p_v = ggvenn(x, show_elements = T, label_sep = \"\\n\", fill_color = brewer.pal(name=\"Set2\",n=3))"
   ]
  },
  {
   "cell_type": "code",
   "execution_count": 127,
   "id": "86b8753a",
   "metadata": {
    "scrolled": false
   },
   "outputs": [
    {
     "data": {
      "text/html": [
       "<strong>png:</strong> 2"
      ],
      "text/latex": [
       "\\textbf{png:} 2"
      ],
      "text/markdown": [
       "**png:** 2"
      ],
      "text/plain": [
       "png \n",
       "  2 "
      ]
     },
     "metadata": {},
     "output_type": "display_data"
    }
   ],
   "source": [
    "pdf(file = \"venn.pdf\",width = 8,height = 8)\n",
    "p_v\n",
    "dev.off()"
   ]
  },
  {
   "cell_type": "code",
   "execution_count": 95,
   "id": "a6f449bd",
   "metadata": {},
   "outputs": [],
   "source": [
    "options(repr.plot.height=6,repr.plot.width=8)\n",
    "x <- list(Neg=rownames(ht2_neg_self), Low=rownames(ht2_low_self),High=rownames(ht1_self))\n",
    "p_v2 = ggvenn(x, show_elements = T, label_sep = \"\\n\", fill_color = brewer.pal(name=\"Set2\",n=3),\n",
    "              text_size = 1)"
   ]
  },
  {
   "cell_type": "code",
   "execution_count": 96,
   "id": "0e47a234",
   "metadata": {},
   "outputs": [
    {
     "data": {
      "image/png": "[encoded data removed]",
      "text/plain": [
       "plot without title"
      ]
     },
     "metadata": {
      "image/png": {
       "height": 360,
       "width": 480
      }
     },
     "output_type": "display_data"
    }
   ],
   "source": [
    "p_v2"
   ]
  },
  {
   "cell_type": "code",
   "execution_count": 97,
   "id": "5dd36389",
   "metadata": {},
   "outputs": [],
   "source": [
    "ggsave(filename = \"Paracrine_Venn.pdf\",plot = p_v,height = 6,width = 6)\n",
    "#ggsave(filename = \"Autocrine_Venn.pdf\",plot = p_v2,height = 6,width = 6)"
   ]
  },
  {
   "cell_type": "markdown",
   "id": "19e7310f",
   "metadata": {},
   "source": [
    "## Plot all circos for High,Low,Neg"
   ]
  },
  {
   "cell_type": "code",
   "execution_count": 128,
   "id": "fbb62efc",
   "metadata": {},
   "outputs": [
    {
     "data": {
      "text/html": [
       "<table class=\"dataframe\">\n",
       "<caption>A matrix: 11 × 2 of type dbl</caption>\n",
       "<thead>\n",
       "\t<tr><th></th><th scope=col>Normal</th><th scope=col>Tumor</th></tr>\n",
       "</thead>\n",
       "<tbody>\n",
       "\t<tr><th scope=row>LIFR</th><td>0</td><td>1</td></tr>\n",
       "\t<tr><th scope=row>OSM</th><td>0</td><td>1</td></tr>\n",
       "\t<tr><th scope=row>IL6</th><td>0</td><td>1</td></tr>\n",
       "\t<tr><th scope=row>IL1</th><td>0</td><td>1</td></tr>\n",
       "\t<tr><th scope=row>AVP</th><td>0</td><td>1</td></tr>\n",
       "\t<tr><th scope=row>IL10</th><td>1</td><td>0</td></tr>\n",
       "\t<tr><th scope=row>SOMATOSTATIN</th><td>1</td><td>0</td></tr>\n",
       "\t<tr><th scope=row>CALCR</th><td>1</td><td>0</td></tr>\n",
       "\t<tr><th scope=row>IFN-I</th><td>1</td><td>0</td></tr>\n",
       "\t<tr><th scope=row>ENHO</th><td>1</td><td>0</td></tr>\n",
       "\t<tr><th scope=row>MSTN</th><td>1</td><td>0</td></tr>\n",
       "</tbody>\n",
       "</table>\n"
      ],
      "text/latex": [
       "A matrix: 11 × 2 of type dbl\n",
       "\\begin{tabular}{r|ll}\n",
       "  & Normal & Tumor\\\\\n",
       "\\hline\n",
       "\tLIFR & 0 & 1\\\\\n",
       "\tOSM & 0 & 1\\\\\n",
       "\tIL6 & 0 & 1\\\\\n",
       "\tIL1 & 0 & 1\\\\\n",
       "\tAVP & 0 & 1\\\\\n",
       "\tIL10 & 1 & 0\\\\\n",
       "\tSOMATOSTATIN & 1 & 0\\\\\n",
       "\tCALCR & 1 & 0\\\\\n",
       "\tIFN-I & 1 & 0\\\\\n",
       "\tENHO & 1 & 0\\\\\n",
       "\tMSTN & 1 & 0\\\\\n",
       "\\end{tabular}\n"
      ],
      "text/markdown": [
       "\n",
       "A matrix: 11 × 2 of type dbl\n",
       "\n",
       "| <!--/--> | Normal | Tumor |\n",
       "|---|---|---|\n",
       "| LIFR | 0 | 1 |\n",
       "| OSM | 0 | 1 |\n",
       "| IL6 | 0 | 1 |\n",
       "| IL1 | 0 | 1 |\n",
       "| AVP | 0 | 1 |\n",
       "| IL10 | 1 | 0 |\n",
       "| SOMATOSTATIN | 1 | 0 |\n",
       "| CALCR | 1 | 0 |\n",
       "| IFN-I | 1 | 0 |\n",
       "| ENHO | 1 | 0 |\n",
       "| MSTN | 1 | 0 |\n",
       "\n"
      ],
      "text/plain": [
       "             Normal Tumor\n",
       "LIFR         0      1    \n",
       "OSM          0      1    \n",
       "IL6          0      1    \n",
       "IL1          0      1    \n",
       "AVP          0      1    \n",
       "IL10         1      0    \n",
       "SOMATOSTATIN 1      0    \n",
       "CALCR        1      0    \n",
       "IFN-I        1      0    \n",
       "ENHO         1      0    \n",
       "MSTN         1      0    "
      ]
     },
     "metadata": {},
     "output_type": "display_data"
    }
   ],
   "source": [
    "ht1_low"
   ]
  },
  {
   "cell_type": "code",
   "execution_count": null,
   "id": "8c68f612",
   "metadata": {
    "scrolled": true
   },
   "outputs": [],
   "source": [
    "for(name in rownames(ht1_low)){\n",
    "    \n",
    "    pdf(file = paste0(\"GCA_low_\",name,\".pdf\"),width = 6,height = 6)\n",
    "    netVisual_chord_gene2(GCA_Lowcellchat,title.name = name,color.use = c(\"#377EB8\",\"#E41A1C\"),\n",
    "                    signaling = name, lab.cex = 1, small.gap = 3.5)\n",
    "    dev.off()\n",
    "}"
   ]
  },
  {
   "cell_type": "code",
   "execution_count": null,
   "id": "02c225ae",
   "metadata": {
    "scrolled": true
   },
   "outputs": [],
   "source": [
    "for(name in rownames(high_ht1)){\n",
    "    \n",
    "    pdf(file = paste0(\"GCA_high_\",name,\".pdf\"),width = 6,height = 6)\n",
    "    netVisual_chord_gene2(GCA_Highcellchat,title.name = name,color.use = c(\"#377EB8\",\"#E41A1C\"),\n",
    "                    signaling = name, lab.cex = 1, small.gap = 3.5)\n",
    "    dev.off()\n",
    "}"
   ]
  },
  {
   "cell_type": "code",
   "execution_count": null,
   "id": "b3e6e1d2",
   "metadata": {},
   "outputs": [],
   "source": [
    "for(name in rownames(ht1_neg)){\n",
    "    \n",
    "    pdf(file = paste0(\"GCA_neg_\",name,\".pdf\"),width = 6,height = 6)\n",
    "    netVisual_chord_gene2(GCA_Negcellchat,title.name = name,color.use = c(\"#377EB8\",\"#E41A1C\"),\n",
    "                    signaling = name, lab.cex = 1, small.gap = 3.5)\n",
    "    dev.off()\n",
    "}"
   ]
  },
  {
   "cell_type": "code",
   "execution_count": null,
   "id": "03087c94",
   "metadata": {},
   "outputs": [],
   "source": [
    "pdf(file = paste0(\"GCA_low_\",\"NGR\",\".pdf\"),width = 6,height = 6)\n",
    "netVisual_chord_gene2(GCA_Lowcellchat,title.name = \"NRG\",color.use = c(\"#377EB8\",\"#E41A1C\"),\n",
    "                signaling = 'NRG', lab.cex = 1, small.gap = 3.5)\n",
    "dev.off()"
   ]
  },
  {
   "cell_type": "markdown",
   "id": "7615ada0",
   "metadata": {},
   "source": [
    "## Customized function"
   ]
  },
  {
   "cell_type": "code",
   "execution_count": 57,
   "id": "4d3e1682",
   "metadata": {},
   "outputs": [],
   "source": [
    "netAnalysis_signalingRole_heatmap2 <- function(object, signaling = NULL, pattern = c(\"outgoing\", \"incoming\",\"all\"), slot.name = \"netP\",\n",
    "                                              color.use = NULL, color.heatmap = \"BuGn\",\n",
    "                                              title = NULL, width = 10, height = 8, font.size = 8, font.size.title = 10, cluster.rows = FALSE, cluster.cols = FALSE){\n",
    "  pattern <- match.arg(pattern)\n",
    "  if (length(slot(object, slot.name)$centr) == 0) {\n",
    "    stop(\"Please run `netAnalysis_computeCentrality` to compute the network centrality scores! \")\n",
    "  }\n",
    "  centr <- slot(object, slot.name)$centr\n",
    "  outgoing <- matrix(0, nrow = nlevels(object@idents), ncol = length(centr))\n",
    "  incoming <- matrix(0, nrow = nlevels(object@idents), ncol = length(centr))\n",
    "  dimnames(outgoing) <- list(levels(object@idents), names(centr))\n",
    "  dimnames(incoming) <- dimnames(outgoing)\n",
    "  for (i in 1:length(centr)) {\n",
    "    outgoing[,i] <- centr[[i]]$outdeg\n",
    "    incoming[,i] <- centr[[i]]$indeg\n",
    "  }\n",
    "  if (pattern == \"outgoing\") {\n",
    "    mat <- t(outgoing)\n",
    "    legend.name <- \"Outgoing\"\n",
    "  } else if (pattern == \"incoming\") {\n",
    "    mat <- t(incoming)\n",
    "    legend.name <- \"Incoming\"\n",
    "  } else if (pattern == \"all\") {\n",
    "    mat <- t(outgoing+ incoming)\n",
    "    legend.name <- \"Overall\"\n",
    "  }\n",
    "  if (is.null(title)) {\n",
    "    title <- paste0(legend.name, \" signaling patterns\")\n",
    "  } else {\n",
    "    title <- paste0(paste0(legend.name, \" signaling patterns\"), \" - \",title)\n",
    "  }\n",
    "\n",
    "  if (!is.null(signaling)) {\n",
    "    mat1 <- mat[rownames(mat) %in% signaling, , drop = FALSE]\n",
    "    mat <- matrix(0, nrow = length(signaling), ncol = ncol(mat))\n",
    "    idx <- match(rownames(mat1), signaling)\n",
    "    mat[idx[!is.na(idx)], ] <- mat1\n",
    "    dimnames(mat) <- list(signaling, colnames(mat1))\n",
    "  }\n",
    "  mat.ori <- mat\n",
    "  mat <- sweep(mat, 1L, apply(mat, 1, max), '/', check.margin = FALSE)\n",
    "  mat[mat == 0] <- NA\n",
    "\n",
    "\n",
    "  if (is.null(color.use)) {\n",
    "    color.use <- scPalette(length(colnames(mat)))\n",
    "  }\n",
    "  color.heatmap.use = grDevices::colorRampPalette((RColorBrewer::brewer.pal(n = 9, name = color.heatmap)))(100)\n",
    "\n",
    "  df<- data.frame(group = colnames(mat)); rownames(df) <- colnames(mat)\n",
    "  names(color.use) <- colnames(mat)\n",
    "  col_annotation <- HeatmapAnnotation(df = df, col = list(group = color.use),which = \"column\",\n",
    "                                      show_legend = FALSE, show_annotation_name = FALSE,\n",
    "                                      simple_anno_size = grid::unit(0.2, \"cm\"))\n",
    "  ha2 = HeatmapAnnotation(Strength = anno_barplot(colSums(mat.ori), border = FALSE,gp = gpar(fill = color.use, col=color.use)), show_annotation_name = FALSE)\n",
    "\n",
    "  pSum <- rowSums(mat.ori)\n",
    "  pSum.original <- pSum\n",
    "  pSum <- -1/log(pSum)\n",
    "  pSum[is.na(pSum)] <- 0\n",
    "  idx1 <- which(is.infinite(pSum) | pSum < 0)\n",
    "  if (length(idx1) > 0) {\n",
    "    values.assign <- seq(max(pSum)*1.1, max(pSum)*1.5, length.out = length(idx1))\n",
    "    position <- sort(pSum.original[idx1], index.return = TRUE)$ix\n",
    "    pSum[idx1] <- values.assign[match(1:length(idx1), position)]\n",
    "  }\n",
    "\n",
    "  ha1 = rowAnnotation(Strength = anno_barplot(pSum, border = FALSE), show_annotation_name = FALSE)\n",
    "\n",
    "  if (min(mat, na.rm = T) == max(mat, na.rm = T)) {\n",
    "    legend.break <- max(mat, na.rm = T)\n",
    "  } else {\n",
    "    legend.break <- c(round(min(mat, na.rm = T), digits = 1), round(max(mat, na.rm = T), digits = 1))\n",
    "  }\n",
    "    mat[is.na(mat)]=0\n",
    "    return(mat)  \n",
    "}\n"
   ]
  },
  {
   "cell_type": "code",
   "execution_count": 58,
   "id": "c487636a",
   "metadata": {},
   "outputs": [],
   "source": [
    "netVisual_chord_gene2 <- function (object, slot.name = \"net\", color.use = NULL, signaling = NULL, \n",
    "          pairLR.use = NULL, net = NULL, sources.use = NULL, targets.use = NULL, \n",
    "          lab.cex = 0.8, small.gap = 1, big.gap = 10, annotationTrackHeight = c(0.03), \n",
    "          link.visible = TRUE, scale = FALSE, directional = 1, link.target.prop = TRUE, \n",
    "          reduce = -1, transparency = 0.4, link.border = NA, title.name = NULL, \n",
    "          legend.pos.x = 20, legend.pos.y = 20, show.legend = TRUE, \n",
    "          thresh = 0.05, ...) \n",
    "{\n",
    "  if (!is.null(pairLR.use)) {\n",
    "    if (!is.data.frame(pairLR.use)) {\n",
    "      stop(\"pairLR.use should be a data frame with a signle column named either 'interaction_name' or 'pathway_name' \")\n",
    "    }\n",
    "    else if (\"pathway_name\" %in% colnames(pairLR.use)) {\n",
    "      message(\"slot.name is set to be 'netP' when pairLR.use contains signaling pathways\")\n",
    "      slot.name = \"netP\"\n",
    "    }\n",
    "  }\n",
    "  if (!is.null(pairLR.use) & !is.null(signaling)) {\n",
    "    stop(\"Please do not assign values to 'signaling' when using 'pairLR.use'\")\n",
    "  }\n",
    "  if (is.null(net)) {\n",
    "    prob <- slot(object, \"net\")$prob\n",
    "    pval <- slot(object, \"net\")$pval\n",
    "    prob[pval > thresh] <- 0\n",
    "    net <- reshape2::melt(prob, value.name = \"prob\")\n",
    "    colnames(net)[1:3] <- c(\"source\", \"target\", \"interaction_name\")\n",
    "    pairLR = dplyr::select(object@LR$LRsig, c(\"interaction_name_2\", \n",
    "                                              \"pathway_name\", \"ligand\", \"receptor\", \"annotation\", \n",
    "                                              \"evidence\"))\n",
    "    idx <- match(net$interaction_name, rownames(pairLR))\n",
    "    temp <- pairLR[idx, ]\n",
    "    net <- cbind(net, temp)\n",
    "  }\n",
    "  if (!is.null(signaling)) {\n",
    "    pairLR.use <- data.frame()\n",
    "    for (i in 1:length(signaling)) {\n",
    "      pairLR.use.i <- searchPair(signaling = signaling[i], \n",
    "                                 pairLR.use = object@LR$LRsig, key = \"pathway_name\", \n",
    "                                 matching.exact = T, pair.only = T)\n",
    "      pairLR.use <- rbind(pairLR.use, pairLR.use.i)\n",
    "    }\n",
    "  }\n",
    "  if (!is.null(pairLR.use)) {\n",
    "    if (\"interaction_name\" %in% colnames(pairLR.use)) {\n",
    "      net <- subset(net, interaction_name %in% pairLR.use$interaction_name)\n",
    "    }\n",
    "    else if (\"pathway_name\" %in% colnames(pairLR.use)) {\n",
    "      net <- subset(net, pathway_name %in% as.character(pairLR.use$pathway_name))\n",
    "    }\n",
    "  }\n",
    "  if (slot.name == \"netP\") {\n",
    "    net <- dplyr::select(net, c(\"source\", \"target\", \"pathway_name\", \n",
    "                                \"prob\"))\n",
    "    net$source_target <- paste(net$source, net$target, sep = \"sourceTotarget\")\n",
    "    net <- net %>% dplyr::group_by(source_target, pathway_name) %>% \n",
    "      dplyr::summarize(prob = sum(prob))\n",
    "    a <- stringr::str_split(net$source_target, \"sourceTotarget\", \n",
    "                            simplify = T)\n",
    "    net$source <- as.character(a[, 1])\n",
    "    net$target <- as.character(a[, 2])\n",
    "    net$ligand <- net$pathway_name\n",
    "    net$receptor <- \" \"\n",
    "  }\n",
    "  if (!is.null(sources.use)) {\n",
    "    if (is.numeric(sources.use)) {\n",
    "      sources.use <- levels(object@idents)[sources.use]\n",
    "    }\n",
    "    net <- subset(net, source %in% sources.use)\n",
    "  }\n",
    "  else {\n",
    "    sources.use <- levels(object@idents)\n",
    "  }\n",
    "  if (!is.null(targets.use)) {\n",
    "    if (is.numeric(targets.use)) {\n",
    "      targets.use <- levels(object@idents)[targets.use]\n",
    "    }\n",
    "    net <- subset(net, target %in% targets.use)\n",
    "  }\n",
    "  else {\n",
    "    targets.use <- levels(object@idents)\n",
    "  }\n",
    "  df <- subset(net, prob > 0)\n",
    "  if (nrow(df) == 0) {\n",
    "    stop(\"No signaling links are inferred! \")\n",
    "  }\n",
    "  if (length(unique(net$ligand)) == 1) {\n",
    "    message(\"You may try the function `netVisual_chord_cell` for visualizing individual signaling pathway\")\n",
    "  }\n",
    "  df$id <- 1:nrow(df)\n",
    "  ligand.uni <- unique(df$ligand)\n",
    "  for (i in 1:length(ligand.uni)) {\n",
    "    df.i <- df[df$ligand == ligand.uni[i], ]\n",
    "    source.uni <- unique(df.i$source)\n",
    "    for (j in 1:length(source.uni)) {\n",
    "      df.i.j <- df.i[df.i$source == source.uni[j], ]\n",
    "      df.i.j$ligand <- paste0(df.i.j$ligand, paste(rep(\" \", \n",
    "                                                       j - 1), collapse = \"\"))\n",
    "      df$ligand[df$id %in% df.i.j$id] <- df.i.j$ligand\n",
    "    }\n",
    "  }\n",
    "  receptor.uni <- unique(df$receptor)\n",
    "  for (i in 1:length(receptor.uni)) {\n",
    "    df.i <- df[df$receptor == receptor.uni[i], ]\n",
    "    target.uni <- unique(df.i$target)\n",
    "    for (j in 1:length(target.uni)) {\n",
    "      df.i.j <- df.i[df.i$target == target.uni[j], ]\n",
    "      df.i.j$receptor <- paste0(df.i.j$receptor, paste(rep(\" \", \n",
    "                                                           j - 1), collapse = \"\"))\n",
    "      df$receptor[df$id %in% df.i.j$id] <- df.i.j$receptor\n",
    "    }\n",
    "  }\n",
    "  cell.order.sources <- levels(object@idents)[levels(object@idents) %in% \n",
    "                                                sources.use]\n",
    "  cell.order.targets <- levels(object@idents)[levels(object@idents) %in% \n",
    "                                                targets.use]\n",
    "  df$source <- factor(df$source, levels = cell.order.sources)\n",
    "  df$target <- factor(df$target, levels = cell.order.targets)\n",
    "  df.ordered.source <- df[with(df, order(source, -prob)), ]\n",
    "  df.ordered.target <- df[with(df, order(target, -prob)), ]\n",
    "  order.source <- unique(df.ordered.source[, c(\"ligand\", \"source\")])\n",
    "  order.target <- unique(df.ordered.target[, c(\"receptor\", \n",
    "                                               \"target\")])\n",
    "  order.sector <- c(order.source$ligand, order.target$receptor)\n",
    "  if (is.null(color.use)) {\n",
    "    color.use = scPalette(nlevels(object@idents))\n",
    "    names(color.use) <- levels(object@idents)\n",
    "    color.use <- color.use[levels(object@idents) %in% as.character(union(df$source, \n",
    "                                                                         df$target))]\n",
    "  }\n",
    "  else if (is.null(names(color.use))) {\n",
    "    names(color.use) <- levels(object@idents)\n",
    "    color.use <- color.use[levels(object@idents) %in% as.character(union(df$source, \n",
    "                                                                         df$target))]\n",
    "  }\n",
    "  edge.color <- color.use[as.character(df.ordered.source$source)]\n",
    "  names(edge.color) <- as.character(df.ordered.source$source)\n",
    "  grid.col.ligand <- color.use[as.character(order.source$source)]\n",
    "  names(grid.col.ligand) <- as.character(order.source$source)\n",
    "  grid.col.receptor <- color.use[as.character(order.target$target)]\n",
    "  names(grid.col.receptor) <- as.character(order.target$target)\n",
    "  grid.col <- c(as.character(grid.col.ligand), as.character(grid.col.receptor))\n",
    "  names(grid.col) <- order.sector\n",
    "  df.plot <- df.ordered.source[, c(\"ligand\", \"receptor\", \"prob\")]\n",
    "  if (directional == 2) {\n",
    "    link.arr.type = \"triangle\"\n",
    "  }\n",
    "  else {\n",
    "    link.arr.type = \"big.arrow\"\n",
    "  }\n",
    "  circos.clear()\n",
    "  chordDiagram(df.plot, order = order.sector, col = edge.color, \n",
    "               grid.col = grid.col, transparency = transparency, link.border = link.border, \n",
    "               directional = directional, direction.type = c(\"diffHeight+arrows\"), link.arr.type = link.arr.type, annotationTrack = \"grid\", \n",
    "               annotationTrackHeight = annotationTrackHeight, preAllocateTracks = list(track.height = max(strwidth(order.sector))), \n",
    "               small.gap = small.gap, big.gap = big.gap, link.visible = link.visible, \n",
    "               scale = scale, link.target.prop = link.target.prop, reduce = reduce, \n",
    "               ...)\n",
    "  col = c(\"Normal\" = \"#E41A1C\",\"Tumor\" = \"#377EB8\")\n",
    "  circos.track(track.index = 1, panel.fun = function(x, y) {\n",
    "    xlim = get.cell.meta.data(\"xlim\")\n",
    "    xplot = get.cell.meta.data(\"xplot\")\n",
    "    ylim = get.cell.meta.data(\"ylim\")\n",
    "    sector.name = get.cell.meta.data(\"sector.index\")\n",
    "    circos.text(mean(xlim), ylim[1], sector.name, facing = \"clockwise\", \n",
    "                niceFacing = TRUE, adj = c(0, 0.5), cex = lab.cex)\n",
    "    \n",
    "  }, bg.border = NA)\n",
    "  if (show.legend) {\n",
    "    lgd <- ComplexHeatmap::Legend(at = names(color.use), \n",
    "                                  type = \"grid\", legend_gp = grid::gpar(fill = color.use), \n",
    "                                  title = \"Cell State\")\n",
    "    ComplexHeatmap::draw(lgd, x = unit(1, \"npc\") - unit(legend.pos.x, \n",
    "                                                        \"mm\"), y = unit(legend.pos.y, \"mm\"), just = c(\"right\", \n",
    "                                                                                                      \"bottom\"))\n",
    "  }\n",
    "   title(title.name)\n",
    "#  circos.clear()\n",
    "  if (!is.null(title.name)) {\n",
    "    text(-0, 1.5, title.name, cex = 1)\n",
    "  }\n",
    "  gg <- recordPlot()\n",
    " # return(gg)\n",
    "}\n",
    "  "
   ]
  },
  {
   "cell_type": "code",
   "execution_count": null,
   "id": "39f3c1de",
   "metadata": {},
   "outputs": [],
   "source": []
  },
  {
   "cell_type": "code",
   "execution_count": null,
   "id": "61f69a67",
   "metadata": {},
   "outputs": [],
   "source": []
  },
  {
   "cell_type": "code",
   "execution_count": null,
   "id": "db850918",
   "metadata": {},
   "outputs": [],
   "source": []
  },
  {
   "cell_type": "code",
   "execution_count": null,
   "id": "b6cc510d",
   "metadata": {},
   "outputs": [],
   "source": []
  },
  {
   "cell_type": "code",
   "execution_count": null,
   "id": "a045ab1a",
   "metadata": {},
   "outputs": [],
   "source": []
  },
  {
   "cell_type": "code",
   "execution_count": null,
   "id": "32dba8ae",
   "metadata": {},
   "outputs": [],
   "source": []
  },
  {
   "cell_type": "code",
   "execution_count": null,
   "id": "ad07ca9f",
   "metadata": {},
   "outputs": [],
   "source": []
  },
  {
   "cell_type": "code",
   "execution_count": null,
   "id": "0d540413",
   "metadata": {},
   "outputs": [],
   "source": []
  },
  {
   "cell_type": "code",
   "execution_count": null,
   "id": "453bc750",
   "metadata": {},
   "outputs": [],
   "source": []
  },
  {
   "cell_type": "code",
   "execution_count": null,
   "id": "a964c068",
   "metadata": {},
   "outputs": [],
   "source": []
  },
  {
   "cell_type": "code",
   "execution_count": null,
   "id": "81faef69",
   "metadata": {},
   "outputs": [],
   "source": []
  },
  {
   "cell_type": "code",
   "execution_count": null,
   "id": "ac5b02a9",
   "metadata": {},
   "outputs": [],
   "source": []
  },
  {
   "cell_type": "code",
   "execution_count": null,
   "id": "96ffcbe4",
   "metadata": {},
   "outputs": [],
   "source": []
  },
  {
   "cell_type": "code",
   "execution_count": null,
   "id": "1c5e0c9a",
   "metadata": {},
   "outputs": [],
   "source": []
  },
  {
   "cell_type": "code",
   "execution_count": null,
   "id": "e25addaa",
   "metadata": {},
   "outputs": [],
   "source": []
  },
  {
   "cell_type": "code",
   "execution_count": null,
   "id": "653ca668",
   "metadata": {},
   "outputs": [],
   "source": []
  }
 ],
 "metadata": {
  "kernelspec": {
   "display_name": "R",
   "language": "R",
   "name": "ir"
  },
  "language_info": {
   "codemirror_mode": "r",
   "file_extension": ".r",
   "mimetype": "text/x-r-source",
   "name": "R",
   "pygments_lexer": "r",
   "version": "4.2.2"
  }
 },
 "nbformat": 4,
 "nbformat_minor": 5
}
