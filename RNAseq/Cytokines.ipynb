{
 "cells": [
  {
   "cell_type": "code",
   "execution_count": null,
   "id": "0d74eaed",
   "metadata": {},
   "outputs": [],
   "source": [
    "library(tidyverse)"
   ]
  },
  {
   "cell_type": "code",
   "execution_count": 2,
   "id": "58a730e3",
   "metadata": {},
   "outputs": [],
   "source": [
    "library(ggplot2)\n",
    "library(ggpubr)"
   ]
  },
  {
   "cell_type": "code",
   "execution_count": 3,
   "id": "8bea1fe6",
   "metadata": {},
   "outputs": [],
   "source": [
    "library(pheatmap)"
   ]
  },
  {
   "cell_type": "code",
   "execution_count": 4,
   "id": "11e8d9cb",
   "metadata": {},
   "outputs": [],
   "source": [
    "load('../02.differential/Deseq2_TvsN_FC2.Rdata')"
   ]
  },
  {
   "cell_type": "code",
   "execution_count": 5,
   "id": "31943509",
   "metadata": {},
   "outputs": [],
   "source": [
    "cytokines <- read.table('cytokine.txt',header=F)"
   ]
  },
  {
   "cell_type": "code",
   "execution_count": 15,
   "id": "525a54ab",
   "metadata": {},
   "outputs": [],
   "source": [
    "alldiffgenes <- unique(c(rlt_high_tn$diff %>% rownames(), rlt_low_tn$diff %>% rownames() ,rlt_neg_tn$diff %>% rownames()))"
   ]
  },
  {
   "cell_type": "code",
   "execution_count": 16,
   "id": "67185561",
   "metadata": {},
   "outputs": [],
   "source": [
    "genes_intersect <- intersect(cytokines$V1,alldiffgenes)"
   ]
  },
  {
   "cell_type": "code",
   "execution_count": 17,
   "id": "0f0e955a",
   "metadata": {},
   "outputs": [],
   "source": [
    "openxlsx::write.xlsx( as.data.frame(genes_intersect),\n",
    "           rowNames = FALSE, file = \"cytokines.xlsx\")"
   ]
  },
  {
   "cell_type": "code",
   "execution_count": 22,
   "id": "08a2b53d",
   "metadata": {
    "scrolled": true
   },
   "outputs": [],
   "source": [
    "rlt_high_tn$all[genes_intersect,] %>% select(log2FoldChange,padj) %>% \n",
    "    mutate(log2FoldChange=ifelse(padj<0.05,log2FoldChange,0)) %>% \n",
    "    mutate(log2FoldChange=ifelse(abs(log2FoldChange)>=1,log2FoldChange,0))  %>% \n",
    "    select(log2FoldChange) -> high_cytokines"
   ]
  },
  {
   "cell_type": "code",
   "execution_count": 23,
   "id": "4a8400bb",
   "metadata": {
    "scrolled": true
   },
   "outputs": [],
   "source": [
    "rlt_low_tn$all[genes_intersect,] %>% select(log2FoldChange,padj) %>% \n",
    "    mutate(log2FoldChange=ifelse(padj<0.05,log2FoldChange,0)) %>% \n",
    "    mutate(log2FoldChange=ifelse(abs(log2FoldChange)>=1,log2FoldChange,0))  %>% \n",
    "    select(log2FoldChange) -> low_cytokines"
   ]
  },
  {
   "cell_type": "code",
   "execution_count": 24,
   "id": "041fb631",
   "metadata": {},
   "outputs": [],
   "source": [
    "rlt_neg_tn$all[genes_intersect,] %>% select(log2FoldChange,padj) %>% \n",
    "    mutate(log2FoldChange=ifelse(padj<0.05,log2FoldChange,0)) %>% \n",
    "    mutate(log2FoldChange=ifelse(abs(log2FoldChange)>=1,log2FoldChange,0))  %>% \n",
    "    select(log2FoldChange) -> neg_cytokines"
   ]
  },
  {
   "cell_type": "code",
   "execution_count": 27,
   "id": "23b7f118",
   "metadata": {
    "scrolled": true
   },
   "outputs": [],
   "source": [
    "merge_cytokines_raw <- cbind(high_cytokines,low_cytokines,neg_cytokines)"
   ]
  },
  {
   "cell_type": "code",
   "execution_count": 28,
   "id": "a0b89770",
   "metadata": {},
   "outputs": [],
   "source": [
    "merge_cytokines <- cbind(high_cytokines,low_cytokines,neg_cytokines)"
   ]
  },
  {
   "cell_type": "code",
   "execution_count": 29,
   "id": "519d3b49",
   "metadata": {},
   "outputs": [],
   "source": [
    "colnames(merge_cytokines) <- c(\"high\",\"low\",\"neg\")"
   ]
  },
  {
   "cell_type": "code",
   "execution_count": 30,
   "id": "55c9653f",
   "metadata": {
    "scrolled": true
   },
   "outputs": [],
   "source": [
    "merge_cytokines[merge_cytokines>0]=1\n",
    "merge_cytokines[merge_cytokines<0]=-1"
   ]
  },
  {
   "cell_type": "code",
   "execution_count": 31,
   "id": "25a8b84a",
   "metadata": {
    "scrolled": true
   },
   "outputs": [],
   "source": [
    "temp <- hclust(dist(merge_cytokines))"
   ]
  },
  {
   "cell_type": "code",
   "execution_count": 32,
   "id": "6cb76c41",
   "metadata": {},
   "outputs": [],
   "source": [
    "merge_cytokines <- merge_cytokines[temp$order,]"
   ]
  },
  {
   "cell_type": "code",
   "execution_count": 35,
   "id": "595eeeca",
   "metadata": {},
   "outputs": [],
   "source": [
    "#openxlsx::write.xlsx(merge_cytokines, rowNames = TRUE, file = \"cytokines_order.xlsx\")"
   ]
  },
  {
   "cell_type": "code",
   "execution_count": 43,
   "id": "72a3c687",
   "metadata": {},
   "outputs": [],
   "source": [
    "merge_cytokines_reorder <- openxlsx::read.xlsx(xlsxFile = \"cytokines_order.xlsx\",rowNames = TRUE)"
   ]
  },
  {
   "cell_type": "code",
   "execution_count": 44,
   "id": "5be90282",
   "metadata": {},
   "outputs": [],
   "source": [
    "while (!is.null(dev.list())) dev.off()"
   ]
  },
  {
   "cell_type": "code",
   "execution_count": 45,
   "id": "dfb87ba3",
   "metadata": {
    "scrolled": false
   },
   "outputs": [],
   "source": [
    "options(repr.plot.width=3,repr.plot.height=10)\n",
    "pheatmap(merge_cytokines_reorder,cluster_cols = F,cluster_rows = F,color=c(\"#008110\",\"white\", \"#BF3730\"),\n",
    "         filename = \"cytokines.pdf\",width = 3,height=10,\n",
    "        fontsize_row = 5) \n"
   ]
  },
  {
   "cell_type": "code",
   "execution_count": 46,
   "id": "b06b6a47",
   "metadata": {},
   "outputs": [],
   "source": [
    "merge_cytokines_raw[rownames(merge_cytokines_reorder),] -> merge_cytokines_raw2"
   ]
  },
  {
   "cell_type": "code",
   "execution_count": 47,
   "id": "d50daa77",
   "metadata": {},
   "outputs": [],
   "source": [
    "merge_cytokines_raw2[merge_cytokines_raw2>5]=5"
   ]
  },
  {
   "cell_type": "code",
   "execution_count": 48,
   "id": "b193f6f4",
   "metadata": {},
   "outputs": [],
   "source": [
    "merge_cytokines_raw2[merge_cytokines_raw2< -5]=-5"
   ]
  },
  {
   "cell_type": "code",
   "execution_count": 49,
   "id": "8515fd25",
   "metadata": {},
   "outputs": [],
   "source": [
    "colnames(merge_cytokines_raw2) <- c(\"high\",\"low\",\"neg\")"
   ]
  },
  {
   "cell_type": "code",
   "execution_count": 51,
   "id": "cc39831a",
   "metadata": {},
   "outputs": [],
   "source": [
    "options(repr.plot.width=3,repr.plot.height=10)\n",
    "pheatmap(merge_cytokines_raw2,cluster_cols = F,cluster_rows = F, color=colorRampPalette(c(\"#008110\",\"white\", \"#BF3730\"))(100),\n",
    "                filename = \"cytokines2.pdf\",width = 3,height=10,\n",
    "         fontsize_row = 5)\n"
   ]
  },
  {
   "cell_type": "code",
   "execution_count": null,
   "id": "b786592d",
   "metadata": {},
   "outputs": [],
   "source": []
  },
  {
   "cell_type": "code",
   "execution_count": null,
   "id": "fd63a0bf",
   "metadata": {},
   "outputs": [],
   "source": []
  },
  {
   "cell_type": "code",
   "execution_count": null,
   "id": "22f6f904",
   "metadata": {},
   "outputs": [],
   "source": []
  },
  {
   "cell_type": "code",
   "execution_count": null,
   "id": "83a9d3e1",
   "metadata": {},
   "outputs": [],
   "source": []
  },
  {
   "cell_type": "code",
   "execution_count": null,
   "id": "98d97ae1",
   "metadata": {},
   "outputs": [],
   "source": []
  },
  {
   "cell_type": "code",
   "execution_count": null,
   "id": "13cc773b",
   "metadata": {},
   "outputs": [],
   "source": []
  },
  {
   "cell_type": "code",
   "execution_count": null,
   "id": "232df6b5",
   "metadata": {},
   "outputs": [],
   "source": []
  }
 ],
 "metadata": {
  "kernelspec": {
   "display_name": "R",
   "language": "R",
   "name": "ir"
  },
  "language_info": {
   "codemirror_mode": "r",
   "file_extension": ".r",
   "mimetype": "text/x-r-source",
   "name": "R",
   "pygments_lexer": "r",
   "version": "4.2.2"
  }
 },
 "nbformat": 4,
 "nbformat_minor": 5
}
