{
 "cells": [
  {
   "cell_type": "code",
   "execution_count": 1,
   "id": "70a0a503",
   "metadata": {},
   "outputs": [
    {
     "name": "stderr",
     "output_type": "stream",
     "text": [
      "── \u001b[1mAttaching core tidyverse packages\u001b[22m ──────────────────────── tidyverse 2.0.0 ──\n",
      "\u001b[32m✔\u001b[39m \u001b[34mdplyr    \u001b[39m 1.1.4     \u001b[32m✔\u001b[39m \u001b[34mreadr    \u001b[39m 2.1.5\n",
      "\u001b[32m✔\u001b[39m \u001b[34mforcats  \u001b[39m 1.0.0     \u001b[32m✔\u001b[39m \u001b[34mstringr  \u001b[39m 1.5.1\n",
      "\u001b[32m✔\u001b[39m \u001b[34mlubridate\u001b[39m 1.9.3     \u001b[32m✔\u001b[39m \u001b[34mtibble   \u001b[39m 3.2.1\n",
      "\u001b[32m✔\u001b[39m \u001b[34mpurrr    \u001b[39m 1.0.2     \u001b[32m✔\u001b[39m \u001b[34mtidyr    \u001b[39m 1.3.0\n",
      "── \u001b[1mConflicts\u001b[22m ────────────────────────────────────────── tidyverse_conflicts() ──\n",
      "\u001b[31m✖\u001b[39m \u001b[34mdplyr\u001b[39m::\u001b[32mfilter()\u001b[39m masks \u001b[34mstats\u001b[39m::filter()\n",
      "\u001b[31m✖\u001b[39m \u001b[34mdplyr\u001b[39m::\u001b[32mlag()\u001b[39m    masks \u001b[34mstats\u001b[39m::lag()\n",
      "\u001b[36mℹ\u001b[39m Use the conflicted package (\u001b[3m\u001b[34m<http://conflicted.r-lib.org/>\u001b[39m\u001b[23m) to force all conflicts to become errors\n"
     ]
    }
   ],
   "source": [
    "library(ggplot2)\n",
    "library(tidyverse)"
   ]
  },
  {
   "cell_type": "code",
   "execution_count": 2,
   "id": "0371e82c",
   "metadata": {},
   "outputs": [],
   "source": [
    "library(ggpubr)"
   ]
  },
  {
   "cell_type": "code",
   "execution_count": 3,
   "id": "f4ca734e",
   "metadata": {},
   "outputs": [],
   "source": [
    "load('02.differential/Deseq2_TvsN_FC2.Rdata')"
   ]
  },
  {
   "cell_type": "code",
   "execution_count": 4,
   "id": "9d093350",
   "metadata": {},
   "outputs": [],
   "source": [
    "tumor <- readRDS(file = \"./00.data/Tumor.tpm.Rdata\")\n",
    "normal <- readRDS(file = \"./00.data/Normal.tpm.Rdata\")"
   ]
  },
  {
   "cell_type": "code",
   "execution_count": 5,
   "id": "fde17fe8",
   "metadata": {},
   "outputs": [],
   "source": [
    "phe <- readRDS(\"./00.data/phe_RNA54.Rdata\")"
   ]
  },
  {
   "cell_type": "code",
   "execution_count": 6,
   "id": "b532fa24",
   "metadata": {},
   "outputs": [
    {
     "data": {
      "text/html": [
       "<style>\n",
       ".list-inline {list-style: none; margin:0; padding: 0}\n",
       ".list-inline>li {display: inline-block}\n",
       ".list-inline>li:not(:last-child)::after {content: \"\\00b7\"; padding: 0 .5ex}\n",
       "</style>\n",
       "<ol class=list-inline><li>'normal'</li><li>'phe'</li><li>'rlt_high_tn'</li><li>'rlt_low_tn'</li><li>'rlt_neg_tn'</li><li>'tumor'</li></ol>\n"
      ],
      "text/latex": [
       "\\begin{enumerate*}\n",
       "\\item 'normal'\n",
       "\\item 'phe'\n",
       "\\item 'rlt\\_high\\_tn'\n",
       "\\item 'rlt\\_low\\_tn'\n",
       "\\item 'rlt\\_neg\\_tn'\n",
       "\\item 'tumor'\n",
       "\\end{enumerate*}\n"
      ],
      "text/markdown": [
       "1. 'normal'\n",
       "2. 'phe'\n",
       "3. 'rlt_high_tn'\n",
       "4. 'rlt_low_tn'\n",
       "5. 'rlt_neg_tn'\n",
       "6. 'tumor'\n",
       "\n",
       "\n"
      ],
      "text/plain": [
       "[1] \"normal\"      \"phe\"         \"rlt_high_tn\" \"rlt_low_tn\"  \"rlt_neg_tn\" \n",
       "[6] \"tumor\"      "
      ]
     },
     "metadata": {},
     "output_type": "display_data"
    }
   ],
   "source": [
    "ls()"
   ]
  },
  {
   "cell_type": "code",
   "execution_count": 7,
   "id": "2d6c9a2a",
   "metadata": {
    "scrolled": true
   },
   "outputs": [
    {
     "data": {
      "text/html": [
       "<style>\n",
       ".list-inline {list-style: none; margin:0; padding: 0}\n",
       ".list-inline>li {display: inline-block}\n",
       ".list-inline>li:not(:last-child)::after {content: \"\\00b7\"; padding: 0 .5ex}\n",
       "</style>\n",
       "<ol class=list-inline><li>'negative'</li><li>'negative'</li><li>'negative'</li><li>'negative'</li><li>'negative'</li><li>'negative'</li><li>'negative'</li><li>'Low'</li><li>'High'</li><li>'Low'</li><li>'High'</li><li>'High'</li><li>'Low'</li><li>'Low'</li><li>'negative'</li><li>'negative'</li><li>'negative'</li><li>'negative'</li><li>'negative'</li><li>'High'</li><li>'Low'</li><li>'High'</li><li>'High'</li><li>'High'</li><li>'Low'</li><li>'High'</li><li>'Low'</li><li>'High'</li><li>'High'</li><li>'High'</li><li>'negative'</li><li>'negative'</li><li>'negative'</li><li>'negative'</li><li>'Low'</li><li>'High'</li><li>'Low'</li><li>'Low'</li><li>'Low'</li><li>'High'</li><li>'Low'</li><li>'Low'</li><li>'High'</li><li>'Low'</li><li>'High'</li><li>'Low'</li><li>'High'</li><li>'High'</li><li>'High'</li><li>'negative'</li><li>'Low'</li><li>'Low'</li><li>'High'</li><li>'Low'</li></ol>\n"
      ],
      "text/latex": [
       "\\begin{enumerate*}\n",
       "\\item 'negative'\n",
       "\\item 'negative'\n",
       "\\item 'negative'\n",
       "\\item 'negative'\n",
       "\\item 'negative'\n",
       "\\item 'negative'\n",
       "\\item 'negative'\n",
       "\\item 'Low'\n",
       "\\item 'High'\n",
       "\\item 'Low'\n",
       "\\item 'High'\n",
       "\\item 'High'\n",
       "\\item 'Low'\n",
       "\\item 'Low'\n",
       "\\item 'negative'\n",
       "\\item 'negative'\n",
       "\\item 'negative'\n",
       "\\item 'negative'\n",
       "\\item 'negative'\n",
       "\\item 'High'\n",
       "\\item 'Low'\n",
       "\\item 'High'\n",
       "\\item 'High'\n",
       "\\item 'High'\n",
       "\\item 'Low'\n",
       "\\item 'High'\n",
       "\\item 'Low'\n",
       "\\item 'High'\n",
       "\\item 'High'\n",
       "\\item 'High'\n",
       "\\item 'negative'\n",
       "\\item 'negative'\n",
       "\\item 'negative'\n",
       "\\item 'negative'\n",
       "\\item 'Low'\n",
       "\\item 'High'\n",
       "\\item 'Low'\n",
       "\\item 'Low'\n",
       "\\item 'Low'\n",
       "\\item 'High'\n",
       "\\item 'Low'\n",
       "\\item 'Low'\n",
       "\\item 'High'\n",
       "\\item 'Low'\n",
       "\\item 'High'\n",
       "\\item 'Low'\n",
       "\\item 'High'\n",
       "\\item 'High'\n",
       "\\item 'High'\n",
       "\\item 'negative'\n",
       "\\item 'Low'\n",
       "\\item 'Low'\n",
       "\\item 'High'\n",
       "\\item 'Low'\n",
       "\\end{enumerate*}\n"
      ],
      "text/markdown": [
       "1. 'negative'\n",
       "2. 'negative'\n",
       "3. 'negative'\n",
       "4. 'negative'\n",
       "5. 'negative'\n",
       "6. 'negative'\n",
       "7. 'negative'\n",
       "8. 'Low'\n",
       "9. 'High'\n",
       "10. 'Low'\n",
       "11. 'High'\n",
       "12. 'High'\n",
       "13. 'Low'\n",
       "14. 'Low'\n",
       "15. 'negative'\n",
       "16. 'negative'\n",
       "17. 'negative'\n",
       "18. 'negative'\n",
       "19. 'negative'\n",
       "20. 'High'\n",
       "21. 'Low'\n",
       "22. 'High'\n",
       "23. 'High'\n",
       "24. 'High'\n",
       "25. 'Low'\n",
       "26. 'High'\n",
       "27. 'Low'\n",
       "28. 'High'\n",
       "29. 'High'\n",
       "30. 'High'\n",
       "31. 'negative'\n",
       "32. 'negative'\n",
       "33. 'negative'\n",
       "34. 'negative'\n",
       "35. 'Low'\n",
       "36. 'High'\n",
       "37. 'Low'\n",
       "38. 'Low'\n",
       "39. 'Low'\n",
       "40. 'High'\n",
       "41. 'Low'\n",
       "42. 'Low'\n",
       "43. 'High'\n",
       "44. 'Low'\n",
       "45. 'High'\n",
       "46. 'Low'\n",
       "47. 'High'\n",
       "48. 'High'\n",
       "49. 'High'\n",
       "50. 'negative'\n",
       "51. 'Low'\n",
       "52. 'Low'\n",
       "53. 'High'\n",
       "54. 'Low'\n",
       "\n",
       "\n"
      ],
      "text/plain": [
       " [1] \"negative\" \"negative\" \"negative\" \"negative\" \"negative\" \"negative\"\n",
       " [7] \"negative\" \"Low\"      \"High\"     \"Low\"      \"High\"     \"High\"    \n",
       "[13] \"Low\"      \"Low\"      \"negative\" \"negative\" \"negative\" \"negative\"\n",
       "[19] \"negative\" \"High\"     \"Low\"      \"High\"     \"High\"     \"High\"    \n",
       "[25] \"Low\"      \"High\"     \"Low\"      \"High\"     \"High\"     \"High\"    \n",
       "[31] \"negative\" \"negative\" \"negative\" \"negative\" \"Low\"      \"High\"    \n",
       "[37] \"Low\"      \"Low\"      \"Low\"      \"High\"     \"Low\"      \"Low\"     \n",
       "[43] \"High\"     \"Low\"      \"High\"     \"Low\"      \"High\"     \"High\"    \n",
       "[49] \"High\"     \"negative\" \"Low\"      \"Low\"      \"High\"     \"Low\"     "
      ]
     },
     "metadata": {},
     "output_type": "display_data"
    }
   ],
   "source": [
    "phe[colnames(tumor),'group']"
   ]
  },
  {
   "cell_type": "code",
   "execution_count": 14,
   "id": "6c71e551",
   "metadata": {
    "scrolled": true
   },
   "outputs": [],
   "source": [
    "tumor[c('TMEM173','MB21D1'),] %>% t() %>% as.data.frame() %>% mutate(group=phe[colnames(tumor),'group'],type='tumor') -> tumor_temp\n",
    "normal[c('TMEM173','MB21D1'),] %>% t() %>% as.data.frame() %>% mutate(group=phe[colnames(normal),'group'],type='normal') -> normal_temp\n"
   ]
  },
  {
   "cell_type": "code",
   "execution_count": 15,
   "id": "1ceff219",
   "metadata": {},
   "outputs": [],
   "source": [
    "data_temp <- rbind(tumor_temp,normal_temp)"
   ]
  },
  {
   "cell_type": "code",
   "execution_count": 16,
   "id": "2d6da34b",
   "metadata": {},
   "outputs": [
    {
     "data": {
      "text/html": [
       "<table class=\"dataframe\">\n",
       "<caption>A data.frame: 6 × 4</caption>\n",
       "<thead>\n",
       "\t<tr><th></th><th scope=col>TMEM173</th><th scope=col>MB21D1</th><th scope=col>group</th><th scope=col>type</th></tr>\n",
       "\t<tr><th></th><th scope=col>&lt;dbl&gt;</th><th scope=col>&lt;dbl&gt;</th><th scope=col>&lt;chr&gt;</th><th scope=col>&lt;chr&gt;</th></tr>\n",
       "</thead>\n",
       "<tbody>\n",
       "\t<tr><th scope=row>9DW0030</th><td>53.973213</td><td> 8.728100</td><td>negative</td><td>tumor</td></tr>\n",
       "\t<tr><th scope=row>9DW0038</th><td>28.147148</td><td> 1.478817</td><td>negative</td><td>tumor</td></tr>\n",
       "\t<tr><th scope=row>9DW0039</th><td>45.015609</td><td> 6.807999</td><td>negative</td><td>tumor</td></tr>\n",
       "\t<tr><th scope=row>9DW0049</th><td> 7.601627</td><td> 3.618360</td><td>negative</td><td>tumor</td></tr>\n",
       "\t<tr><th scope=row>9DW0052</th><td>72.415940</td><td> 4.373038</td><td>negative</td><td>tumor</td></tr>\n",
       "\t<tr><th scope=row>9DW0056</th><td>71.921451</td><td>12.300306</td><td>negative</td><td>tumor</td></tr>\n",
       "</tbody>\n",
       "</table>\n"
      ],
      "text/latex": [
       "A data.frame: 6 × 4\n",
       "\\begin{tabular}{r|llll}\n",
       "  & TMEM173 & MB21D1 & group & type\\\\\n",
       "  & <dbl> & <dbl> & <chr> & <chr>\\\\\n",
       "\\hline\n",
       "\t9DW0030 & 53.973213 &  8.728100 & negative & tumor\\\\\n",
       "\t9DW0038 & 28.147148 &  1.478817 & negative & tumor\\\\\n",
       "\t9DW0039 & 45.015609 &  6.807999 & negative & tumor\\\\\n",
       "\t9DW0049 &  7.601627 &  3.618360 & negative & tumor\\\\\n",
       "\t9DW0052 & 72.415940 &  4.373038 & negative & tumor\\\\\n",
       "\t9DW0056 & 71.921451 & 12.300306 & negative & tumor\\\\\n",
       "\\end{tabular}\n"
      ],
      "text/markdown": [
       "\n",
       "A data.frame: 6 × 4\n",
       "\n",
       "| <!--/--> | TMEM173 &lt;dbl&gt; | MB21D1 &lt;dbl&gt; | group &lt;chr&gt; | type &lt;chr&gt; |\n",
       "|---|---|---|---|---|\n",
       "| 9DW0030 | 53.973213 |  8.728100 | negative | tumor |\n",
       "| 9DW0038 | 28.147148 |  1.478817 | negative | tumor |\n",
       "| 9DW0039 | 45.015609 |  6.807999 | negative | tumor |\n",
       "| 9DW0049 |  7.601627 |  3.618360 | negative | tumor |\n",
       "| 9DW0052 | 72.415940 |  4.373038 | negative | tumor |\n",
       "| 9DW0056 | 71.921451 | 12.300306 | negative | tumor |\n",
       "\n"
      ],
      "text/plain": [
       "        TMEM173   MB21D1    group    type \n",
       "9DW0030 53.973213  8.728100 negative tumor\n",
       "9DW0038 28.147148  1.478817 negative tumor\n",
       "9DW0039 45.015609  6.807999 negative tumor\n",
       "9DW0049  7.601627  3.618360 negative tumor\n",
       "9DW0052 72.415940  4.373038 negative tumor\n",
       "9DW0056 71.921451 12.300306 negative tumor"
      ]
     },
     "metadata": {},
     "output_type": "display_data"
    }
   ],
   "source": [
    "head(data_temp)"
   ]
  },
  {
   "cell_type": "code",
   "execution_count": 20,
   "id": "e348dfc7",
   "metadata": {},
   "outputs": [
    {
     "data": {
      "text/html": [
       "<table class=\"dataframe\">\n",
       "<caption>A data.frame: 2 × 7</caption>\n",
       "<thead>\n",
       "\t<tr><th></th><th scope=col>baseMean</th><th scope=col>log2FoldChange</th><th scope=col>lfcSE</th><th scope=col>stat</th><th scope=col>pvalue</th><th scope=col>padj</th><th scope=col>category</th></tr>\n",
       "\t<tr><th></th><th scope=col>&lt;dbl&gt;</th><th scope=col>&lt;dbl&gt;</th><th scope=col>&lt;dbl&gt;</th><th scope=col>&lt;dbl&gt;</th><th scope=col>&lt;dbl&gt;</th><th scope=col>&lt;dbl&gt;</th><th scope=col>&lt;chr&gt;</th></tr>\n",
       "</thead>\n",
       "<tbody>\n",
       "\t<tr><th scope=row>TMEM173</th><td>1777.583</td><td>0.1695276</td><td>0.2289496</td><td>0.7404584</td><td>0.4590219231</td><td>0.612816751</td><td>tumor</td></tr>\n",
       "\t<tr><th scope=row>MB21D1</th><td> 204.158</td><td>0.9111747</td><td>0.2663429</td><td>3.4210595</td><td>0.0006237768</td><td>0.004085523</td><td>tumor</td></tr>\n",
       "</tbody>\n",
       "</table>\n"
      ],
      "text/latex": [
       "A data.frame: 2 × 7\n",
       "\\begin{tabular}{r|lllllll}\n",
       "  & baseMean & log2FoldChange & lfcSE & stat & pvalue & padj & category\\\\\n",
       "  & <dbl> & <dbl> & <dbl> & <dbl> & <dbl> & <dbl> & <chr>\\\\\n",
       "\\hline\n",
       "\tTMEM173 & 1777.583 & 0.1695276 & 0.2289496 & 0.7404584 & 0.4590219231 & 0.612816751 & tumor\\\\\n",
       "\tMB21D1 &  204.158 & 0.9111747 & 0.2663429 & 3.4210595 & 0.0006237768 & 0.004085523 & tumor\\\\\n",
       "\\end{tabular}\n"
      ],
      "text/markdown": [
       "\n",
       "A data.frame: 2 × 7\n",
       "\n",
       "| <!--/--> | baseMean &lt;dbl&gt; | log2FoldChange &lt;dbl&gt; | lfcSE &lt;dbl&gt; | stat &lt;dbl&gt; | pvalue &lt;dbl&gt; | padj &lt;dbl&gt; | category &lt;chr&gt; |\n",
       "|---|---|---|---|---|---|---|---|\n",
       "| TMEM173 | 1777.583 | 0.1695276 | 0.2289496 | 0.7404584 | 0.4590219231 | 0.612816751 | tumor |\n",
       "| MB21D1 |  204.158 | 0.9111747 | 0.2663429 | 3.4210595 | 0.0006237768 | 0.004085523 | tumor |\n",
       "\n"
      ],
      "text/plain": [
       "        baseMean log2FoldChange lfcSE     stat      pvalue       padj       \n",
       "TMEM173 1777.583 0.1695276      0.2289496 0.7404584 0.4590219231 0.612816751\n",
       "MB21D1   204.158 0.9111747      0.2663429 3.4210595 0.0006237768 0.004085523\n",
       "        category\n",
       "TMEM173 tumor   \n",
       "MB21D1  tumor   "
      ]
     },
     "metadata": {},
     "output_type": "display_data"
    }
   ],
   "source": [
    "rlt_high_tn$all[c('TMEM173','MB21D1'),]"
   ]
  },
  {
   "cell_type": "code",
   "execution_count": 21,
   "id": "fac2a0a4",
   "metadata": {},
   "outputs": [
    {
     "data": {
      "text/html": [
       "<table class=\"dataframe\">\n",
       "<caption>A data.frame: 2 × 7</caption>\n",
       "<thead>\n",
       "\t<tr><th></th><th scope=col>baseMean</th><th scope=col>log2FoldChange</th><th scope=col>lfcSE</th><th scope=col>stat</th><th scope=col>pvalue</th><th scope=col>padj</th><th scope=col>category</th></tr>\n",
       "\t<tr><th></th><th scope=col>&lt;dbl&gt;</th><th scope=col>&lt;dbl&gt;</th><th scope=col>&lt;dbl&gt;</th><th scope=col>&lt;dbl&gt;</th><th scope=col>&lt;dbl&gt;</th><th scope=col>&lt;dbl&gt;</th><th scope=col>&lt;chr&gt;</th></tr>\n",
       "</thead>\n",
       "<tbody>\n",
       "\t<tr><th scope=row>TMEM173</th><td>2087.7864</td><td>0.8361954</td><td>0.2616871</td><td>3.195401</td><td>1.396365e-03</td><td>0.0071028381</td><td>tumor</td></tr>\n",
       "\t<tr><th scope=row>MB21D1</th><td> 224.3893</td><td>1.0612287</td><td>0.2621837</td><td>4.047653</td><td>5.173379e-05</td><td>0.0004706934</td><td>tumor</td></tr>\n",
       "</tbody>\n",
       "</table>\n"
      ],
      "text/latex": [
       "A data.frame: 2 × 7\n",
       "\\begin{tabular}{r|lllllll}\n",
       "  & baseMean & log2FoldChange & lfcSE & stat & pvalue & padj & category\\\\\n",
       "  & <dbl> & <dbl> & <dbl> & <dbl> & <dbl> & <dbl> & <chr>\\\\\n",
       "\\hline\n",
       "\tTMEM173 & 2087.7864 & 0.8361954 & 0.2616871 & 3.195401 & 1.396365e-03 & 0.0071028381 & tumor\\\\\n",
       "\tMB21D1 &  224.3893 & 1.0612287 & 0.2621837 & 4.047653 & 5.173379e-05 & 0.0004706934 & tumor\\\\\n",
       "\\end{tabular}\n"
      ],
      "text/markdown": [
       "\n",
       "A data.frame: 2 × 7\n",
       "\n",
       "| <!--/--> | baseMean &lt;dbl&gt; | log2FoldChange &lt;dbl&gt; | lfcSE &lt;dbl&gt; | stat &lt;dbl&gt; | pvalue &lt;dbl&gt; | padj &lt;dbl&gt; | category &lt;chr&gt; |\n",
       "|---|---|---|---|---|---|---|---|\n",
       "| TMEM173 | 2087.7864 | 0.8361954 | 0.2616871 | 3.195401 | 1.396365e-03 | 0.0071028381 | tumor |\n",
       "| MB21D1 |  224.3893 | 1.0612287 | 0.2621837 | 4.047653 | 5.173379e-05 | 0.0004706934 | tumor |\n",
       "\n"
      ],
      "text/plain": [
       "        baseMean  log2FoldChange lfcSE     stat     pvalue       padj        \n",
       "TMEM173 2087.7864 0.8361954      0.2616871 3.195401 1.396365e-03 0.0071028381\n",
       "MB21D1   224.3893 1.0612287      0.2621837 4.047653 5.173379e-05 0.0004706934\n",
       "        category\n",
       "TMEM173 tumor   \n",
       "MB21D1  tumor   "
      ]
     },
     "metadata": {},
     "output_type": "display_data"
    }
   ],
   "source": [
    "rlt_low_tn$all[c('TMEM173','MB21D1'),]"
   ]
  },
  {
   "cell_type": "code",
   "execution_count": 22,
   "id": "b1f599ef",
   "metadata": {},
   "outputs": [
    {
     "data": {
      "text/html": [
       "<table class=\"dataframe\">\n",
       "<caption>A data.frame: 2 × 7</caption>\n",
       "<thead>\n",
       "\t<tr><th></th><th scope=col>baseMean</th><th scope=col>log2FoldChange</th><th scope=col>lfcSE</th><th scope=col>stat</th><th scope=col>pvalue</th><th scope=col>padj</th><th scope=col>category</th></tr>\n",
       "\t<tr><th></th><th scope=col>&lt;dbl&gt;</th><th scope=col>&lt;dbl&gt;</th><th scope=col>&lt;dbl&gt;</th><th scope=col>&lt;dbl&gt;</th><th scope=col>&lt;dbl&gt;</th><th scope=col>&lt;dbl&gt;</th><th scope=col>&lt;chr&gt;</th></tr>\n",
       "</thead>\n",
       "<tbody>\n",
       "\t<tr><th scope=row>TMEM173</th><td>1874.9512</td><td>1.0921378</td><td>0.2447674</td><td>4.461942</td><td>8.122034e-06</td><td>0.0001474365</td><td>tumor</td></tr>\n",
       "\t<tr><th scope=row>MB21D1</th><td> 238.8469</td><td>0.9029909</td><td>0.2544643</td><td>3.548596</td><td>3.872909e-04</td><td>0.0030271043</td><td>tumor</td></tr>\n",
       "</tbody>\n",
       "</table>\n"
      ],
      "text/latex": [
       "A data.frame: 2 × 7\n",
       "\\begin{tabular}{r|lllllll}\n",
       "  & baseMean & log2FoldChange & lfcSE & stat & pvalue & padj & category\\\\\n",
       "  & <dbl> & <dbl> & <dbl> & <dbl> & <dbl> & <dbl> & <chr>\\\\\n",
       "\\hline\n",
       "\tTMEM173 & 1874.9512 & 1.0921378 & 0.2447674 & 4.461942 & 8.122034e-06 & 0.0001474365 & tumor\\\\\n",
       "\tMB21D1 &  238.8469 & 0.9029909 & 0.2544643 & 3.548596 & 3.872909e-04 & 0.0030271043 & tumor\\\\\n",
       "\\end{tabular}\n"
      ],
      "text/markdown": [
       "\n",
       "A data.frame: 2 × 7\n",
       "\n",
       "| <!--/--> | baseMean &lt;dbl&gt; | log2FoldChange &lt;dbl&gt; | lfcSE &lt;dbl&gt; | stat &lt;dbl&gt; | pvalue &lt;dbl&gt; | padj &lt;dbl&gt; | category &lt;chr&gt; |\n",
       "|---|---|---|---|---|---|---|---|\n",
       "| TMEM173 | 1874.9512 | 1.0921378 | 0.2447674 | 4.461942 | 8.122034e-06 | 0.0001474365 | tumor |\n",
       "| MB21D1 |  238.8469 | 0.9029909 | 0.2544643 | 3.548596 | 3.872909e-04 | 0.0030271043 | tumor |\n",
       "\n"
      ],
      "text/plain": [
       "        baseMean  log2FoldChange lfcSE     stat     pvalue       padj        \n",
       "TMEM173 1874.9512 1.0921378      0.2447674 4.461942 8.122034e-06 0.0001474365\n",
       "MB21D1   238.8469 0.9029909      0.2544643 3.548596 3.872909e-04 0.0030271043\n",
       "        category\n",
       "TMEM173 tumor   \n",
       "MB21D1  tumor   "
      ]
     },
     "metadata": {},
     "output_type": "display_data"
    }
   ],
   "source": [
    "rlt_neg_tn$all[c('TMEM173','MB21D1'),]"
   ]
  },
  {
   "cell_type": "code",
   "execution_count": 33,
   "id": "df4b5744",
   "metadata": {},
   "outputs": [],
   "source": [
    "options(repr.plot.height=4,repr.plot.width=8)\n",
    "f_labels <- data.frame(group = c(\"High\", \"Low\", \"negative\"), label = c(\"\", \"\", \"***\\nFC>2\"))\n",
    "p_tmem173 <- ggboxplot(data_temp,x=\"type\",y=\"TMEM173\",add=\"jitter\",add.params=list(shape=21, fill=\"orange\", size=3)\n",
    "         )+ylab(\"Proportion\") + \n",
    "        geom_signif(comparisons=list(c(\"tumor\", \"normal\")),annotations=c(\"\"))+ \n",
    "                facet_wrap(~group, scale=\"free\")+\n",
    "     geom_text(x = 1.5, y = 110, aes(label = label), data = f_labels)"
   ]
  },
  {
   "cell_type": "code",
   "execution_count": 34,
   "id": "6b031090",
   "metadata": {},
   "outputs": [],
   "source": [
    "options(repr.plot.height=4,repr.plot.width=8)\n",
    "f_labels <- data.frame(group = c(\"High\", \"Low\", \"negative\"), label = c(\"\", \"**\\nFC>2\", \"\"))\n",
    "p_mb21d1 <- ggboxplot(data_temp,x=\"type\",y=\"MB21D1\",add=\"jitter\",add.params=list(shape=21, fill=\"orange\", size=3)\n",
    "         )+ylab(\"Proportion\") + \n",
    "        geom_signif(comparisons=list(c(\"tumor\", \"normal\")),annotations=c(\"\"))+ \n",
    "                facet_wrap(~group, scale=\"free\")+  \n",
    "    geom_text(x = 1.5, y = 14.3, aes(label = label), data = f_labels)"
   ]
  },
  {
   "cell_type": "code",
   "execution_count": 100,
   "id": "7fd4842f",
   "metadata": {},
   "outputs": [],
   "source": [
    "ggsave(filename = \"TMEM_box.pdf\",plot =p_tmem173 ,width =8 ,height =4 )"
   ]
  },
  {
   "cell_type": "code",
   "execution_count": 101,
   "id": "05c31cfc",
   "metadata": {},
   "outputs": [],
   "source": [
    "ggsave(filename = \"MB21D1_box.pdf\",plot =p_mb21d1 ,width =8 ,height =4 )"
   ]
  },
  {
   "cell_type": "markdown",
   "id": "3a011e37",
   "metadata": {},
   "source": [
    "### for inflammationgenes"
   ]
  },
  {
   "cell_type": "code",
   "execution_count": 42,
   "id": "a0aaec24",
   "metadata": {},
   "outputs": [],
   "source": [
    "inflammation_genes <- c(\"PSMB10\", \"HLA-DQA1\", \"HLA-DRB1\",\"CMKLR1\", \"HLA-E\", \"NKG7\", \"CD8A\", \"CCL5\", \"CXCL9\",\n",
    "                        \"CD27\", \"CXCR6\", \"IDO1\",\"STAT1\", \"TIGIT\", \"LAG3\", \"CD274\", \"PDCD1LG2\", \"CD276\",\"CCL5\")"
   ]
  },
  {
   "cell_type": "code",
   "execution_count": 126,
   "id": "e2ab1569",
   "metadata": {},
   "outputs": [],
   "source": [
    "inflammation_genes <- unique(inflammation_genes)"
   ]
  },
  {
   "cell_type": "code",
   "execution_count": 127,
   "id": "a4c34c1b",
   "metadata": {},
   "outputs": [],
   "source": [
    "phe %>% filter(group==\"High\") %>% rownames() %>% tumor[,.] -> high_tumor\n",
    "phe %>% filter(group==\"Low\") %>% rownames() %>% tumor[,.] -> low_tumor\n",
    "phe %>% filter(group==\"negative\") %>% rownames() %>% tumor[,.] -> neg_tumor"
   ]
  },
  {
   "cell_type": "code",
   "execution_count": 128,
   "id": "58501b93",
   "metadata": {},
   "outputs": [],
   "source": [
    "phe %>% filter(group==\"High\") %>% rownames() %>% normal[,.] -> high_normal\n",
    "phe %>% filter(group==\"Low\") %>% rownames() %>% normal[,.] -> low_normal\n",
    "phe %>% filter(group==\"negative\") %>% rownames() %>% normal[,.] -> neg_normal"
   ]
  },
  {
   "cell_type": "code",
   "execution_count": 129,
   "id": "634a0ccd",
   "metadata": {},
   "outputs": [],
   "source": [
    "high_tumor[inflammation_genes,] %>% t() %>% as.data.frame() %>% mutate(type='tumor') -> hightumor_temp2\n",
    "high_normal[inflammation_genes,] %>% t() %>% as.data.frame() %>% mutate(type='normal') -> highnormal_temp2\n",
    "low_tumor[inflammation_genes,] %>% t() %>% as.data.frame() %>% mutate(type='tumor') -> lowtumor_temp2\n",
    "low_normal[inflammation_genes,] %>% t() %>% as.data.frame() %>% mutate(type='normal') -> lownormal_temp2\n",
    "neg_tumor[inflammation_genes,] %>% t() %>% as.data.frame() %>% mutate(type='tumor') -> negtumor_temp2\n",
    "neg_normal[inflammation_genes,] %>% t() %>% as.data.frame() %>% mutate(type='normal') -> negnormal_temp2"
   ]
  },
  {
   "cell_type": "code",
   "execution_count": 130,
   "id": "f4e763fb",
   "metadata": {},
   "outputs": [],
   "source": [
    "pivot_longer(hightumor_temp2,!type, names_to = \"gene\", values_to = \"tpm\") -> hightumor_temp2\n",
    "pivot_longer(lowtumor_temp2,!type, names_to = \"gene\", values_to = \"tpm\") -> lowtumor_temp2\n",
    "pivot_longer(negtumor_temp2,!type, names_to = \"gene\", values_to = \"tpm\") -> negtumor_temp2\n",
    "pivot_longer(highnormal_temp2,!type, names_to = \"gene\", values_to = \"tpm\") -> highnormal_temp2\n",
    "pivot_longer(lownormal_temp2,!type, names_to = \"gene\", values_to = \"tpm\") -> lownormal_temp2\n",
    "pivot_longer(negnormal_temp2,!type, names_to = \"gene\", values_to = \"tpm\") -> negnormal_temp2"
   ]
  },
  {
   "cell_type": "code",
   "execution_count": 131,
   "id": "2159bc10",
   "metadata": {},
   "outputs": [],
   "source": [
    "rbind(hightumor_temp2,highnormal_temp2) -> High_tn\n",
    "rbind(lowtumor_temp2,lownormal_temp2) -> Low_tn\n",
    "rbind(negtumor_temp2,negnormal_temp2) -> Neg_tn"
   ]
  },
  {
   "cell_type": "code",
   "execution_count": 132,
   "id": "22eadaeb",
   "metadata": {},
   "outputs": [
    {
     "data": {
      "text/html": [
       "<table class=\"dataframe\">\n",
       "<caption>A tibble: 6 × 3</caption>\n",
       "<thead>\n",
       "\t<tr><th scope=col>type</th><th scope=col>gene</th><th scope=col>tpm</th></tr>\n",
       "\t<tr><th scope=col>&lt;chr&gt;</th><th scope=col>&lt;chr&gt;</th><th scope=col>&lt;dbl&gt;</th></tr>\n",
       "</thead>\n",
       "<tbody>\n",
       "\t<tr><td>tumor</td><td>PSMB10  </td><td>155.969181</td></tr>\n",
       "\t<tr><td>tumor</td><td>HLA-DQA1</td><td>282.394408</td></tr>\n",
       "\t<tr><td>tumor</td><td>HLA-DRB1</td><td>856.941785</td></tr>\n",
       "\t<tr><td>tumor</td><td>CMKLR1  </td><td>  5.999578</td></tr>\n",
       "\t<tr><td>tumor</td><td>HLA-E   </td><td>995.996347</td></tr>\n",
       "\t<tr><td>tumor</td><td>NKG7    </td><td> 37.073469</td></tr>\n",
       "</tbody>\n",
       "</table>\n"
      ],
      "text/latex": [
       "A tibble: 6 × 3\n",
       "\\begin{tabular}{lll}\n",
       " type & gene & tpm\\\\\n",
       " <chr> & <chr> & <dbl>\\\\\n",
       "\\hline\n",
       "\t tumor & PSMB10   & 155.969181\\\\\n",
       "\t tumor & HLA-DQA1 & 282.394408\\\\\n",
       "\t tumor & HLA-DRB1 & 856.941785\\\\\n",
       "\t tumor & CMKLR1   &   5.999578\\\\\n",
       "\t tumor & HLA-E    & 995.996347\\\\\n",
       "\t tumor & NKG7     &  37.073469\\\\\n",
       "\\end{tabular}\n"
      ],
      "text/markdown": [
       "\n",
       "A tibble: 6 × 3\n",
       "\n",
       "| type &lt;chr&gt; | gene &lt;chr&gt; | tpm &lt;dbl&gt; |\n",
       "|---|---|---|\n",
       "| tumor | PSMB10   | 155.969181 |\n",
       "| tumor | HLA-DQA1 | 282.394408 |\n",
       "| tumor | HLA-DRB1 | 856.941785 |\n",
       "| tumor | CMKLR1   |   5.999578 |\n",
       "| tumor | HLA-E    | 995.996347 |\n",
       "| tumor | NKG7     |  37.073469 |\n",
       "\n"
      ],
      "text/plain": [
       "  type  gene     tpm       \n",
       "1 tumor PSMB10   155.969181\n",
       "2 tumor HLA-DQA1 282.394408\n",
       "3 tumor HLA-DRB1 856.941785\n",
       "4 tumor CMKLR1     5.999578\n",
       "5 tumor HLA-E    995.996347\n",
       "6 tumor NKG7      37.073469"
      ]
     },
     "metadata": {},
     "output_type": "display_data"
    }
   ],
   "source": [
    "head(High_tn)"
   ]
  },
  {
   "cell_type": "code",
   "execution_count": 133,
   "id": "02503775",
   "metadata": {},
   "outputs": [],
   "source": [
    "#options(repr.plot.height=16,repr.plot.width=16)\n",
    "p_high <- ggboxplot(High_tn,x=\"type\",y=\"tpm\",add=\"jitter\",add.params=list(shape=21, fill=\"orange\", size=3)\n",
    "         )+ylab(\"Proportion\") + facet_wrap(~gene, scale=\"free\")+geom_signif(comparisons=list(c(\"tumor\", \"normal\")),annotations=c(\"\"))"
   ]
  },
  {
   "cell_type": "code",
   "execution_count": 134,
   "id": "cfbcb062",
   "metadata": {},
   "outputs": [],
   "source": [
    "ggsave(filename = \"High_inflammation_box.pdf\",plot =p_high ,width =10 ,height =10)"
   ]
  },
  {
   "cell_type": "code",
   "execution_count": 135,
   "id": "349ed3fc",
   "metadata": {},
   "outputs": [],
   "source": [
    "#options(repr.plot.height=16,repr.plot.width=16)\n",
    "p_low <- ggboxplot(Low_tn,x=\"type\",y=\"tpm\",add=\"jitter\",add.params=list(shape=21, fill=\"orange\", size=3)\n",
    "         )+ylab(\"Proportion\") + facet_wrap(~gene, scale=\"free\")+geom_signif(comparisons=list(c(\"tumor\", \"normal\")),annotations=c(\"\"))"
   ]
  },
  {
   "cell_type": "code",
   "execution_count": 136,
   "id": "3864ad38",
   "metadata": {},
   "outputs": [],
   "source": [
    "ggsave(filename = \"Low_inflammation_box.pdf\",plot = p_low ,width =10 ,height =10)"
   ]
  },
  {
   "cell_type": "code",
   "execution_count": 137,
   "id": "f23e65cd",
   "metadata": {},
   "outputs": [],
   "source": [
    "#options(repr.plot.height=16,repr.plot.width=16)\n",
    "p_neg <- ggboxplot(Neg_tn,x=\"type\",y=\"tpm\",add=\"jitter\",add.params=list(shape=21, fill=\"orange\", size=3)\n",
    "         )+ylab(\"Proportion\") + facet_wrap(~gene, scale=\"free\")+   geom_signif(comparisons=list(c(\"tumor\", \"normal\")),annotations=c(\"\"))"
   ]
  },
  {
   "cell_type": "code",
   "execution_count": 138,
   "id": "4222234f",
   "metadata": {},
   "outputs": [],
   "source": [
    "ggsave(filename = \"Neg_inflammation_box.pdf\",plot = p_neg ,width =10 ,height =10)"
   ]
  },
  {
   "cell_type": "code",
   "execution_count": null,
   "id": "cd868a28",
   "metadata": {},
   "outputs": [],
   "source": [
    "rlt_high_tn$diff[inflammation_genes,]"
   ]
  },
  {
   "cell_type": "code",
   "execution_count": null,
   "id": "d94489ba",
   "metadata": {},
   "outputs": [],
   "source": []
  },
  {
   "cell_type": "code",
   "execution_count": null,
   "id": "5989492f",
   "metadata": {},
   "outputs": [],
   "source": []
  },
  {
   "cell_type": "code",
   "execution_count": null,
   "id": "c70284c1",
   "metadata": {},
   "outputs": [],
   "source": []
  },
  {
   "cell_type": "code",
   "execution_count": null,
   "id": "47b07a02",
   "metadata": {},
   "outputs": [],
   "source": []
  },
  {
   "cell_type": "code",
   "execution_count": null,
   "id": "a7eb3236",
   "metadata": {},
   "outputs": [],
   "source": []
  },
  {
   "cell_type": "code",
   "execution_count": null,
   "id": "176c75c5",
   "metadata": {},
   "outputs": [],
   "source": []
  },
  {
   "cell_type": "code",
   "execution_count": null,
   "id": "b94d87ca",
   "metadata": {},
   "outputs": [],
   "source": []
  }
 ],
 "metadata": {
  "kernelspec": {
   "display_name": "R",
   "language": "R",
   "name": "ir"
  },
  "language_info": {
   "codemirror_mode": "r",
   "file_extension": ".r",
   "mimetype": "text/x-r-source",
   "name": "R",
   "pygments_lexer": "r",
   "version": "4.2.2"
  }
 },
 "nbformat": 4,
 "nbformat_minor": 5
}
