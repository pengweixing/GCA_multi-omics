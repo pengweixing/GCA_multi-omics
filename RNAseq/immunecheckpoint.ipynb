{
 "cells": [
  {
   "cell_type": "code",
   "execution_count": null,
   "id": "13bd2bb5",
   "metadata": {},
   "outputs": [],
   "source": [
    "library(ComplexHeatmap)"
   ]
  },
  {
   "cell_type": "code",
   "execution_count": null,
   "id": "46aca010",
   "metadata": {},
   "outputs": [],
   "source": [
    "library(stringr)\n",
    "library(dplyr)"
   ]
  },
  {
   "cell_type": "code",
   "execution_count": 4,
   "id": "bce841f1",
   "metadata": {},
   "outputs": [],
   "source": [
    "library(readxl)"
   ]
  },
  {
   "cell_type": "code",
   "execution_count": 7,
   "id": "0b24d8b2",
   "metadata": {},
   "outputs": [],
   "source": [
    "load('../02.differential/Deseq2_TvsN_FC2.Rdata')"
   ]
  },
  {
   "cell_type": "markdown",
   "id": "2e5035f3",
   "metadata": {},
   "source": [
    "## check immune checkpoints"
   ]
  },
  {
   "cell_type": "code",
   "execution_count": 8,
   "id": "ffd1e97c",
   "metadata": {},
   "outputs": [],
   "source": [
    "Sti_immunecheckpoint <- c(\"CD27\",\"CD70\",## stimulatory, T cell receptor, APC ligand\n",
    "                      \"CD28\",\"CD80\",\"CD86\",## stimulatory, CD4+ T cell receptor, APC ligand *2       \n",
    "                      \"CD40\",\"CD40LG\",## stimulatory,  CD4+ T cell ligand,APC cell receptor\n",
    "                      \"IL2RB\",\"IL2\",## stimulatory, receptor, CD4+ Tcell ligand\n",
    "                      \"TNFRSF9\",\"CDC37L1\",## stimulatory, Tcell receptor, APC ligand\n",
    "                      \"TNFRSF4\",\"TNFSF4\",## stimulatory, (OX40:OX40L) Tregs Receptor, APC ligand\n",
    "                      \"TNFRSF18\",\"TNFSF18\",## stimulatory (aka,GITR), CD8+ T cell Receptor, APC ligand \n",
    "                      \"ICOS\",\"ICOSLG\",## stimulatory, CD4+ T cell Receptor, APC ligand\n",
    "                       \"CD276\", ## No receptory, APC ligand\n",
    "                        \"TMIGD2\",\"HHLA2\"### Receptor , APC\n",
    "                      )"
   ]
  },
  {
   "cell_type": "code",
   "execution_count": 9,
   "id": "1c64078e",
   "metadata": {},
   "outputs": [],
   "source": [
    "Inh_immunecheckpoint <- c(\"CTLA4\",\"CD80\",\"CD86\",## Inhibitory,Tregs receptor, APC ligand *2\n",
    "                      \"ADORA2A\",\"ADORA2B\",##Inhibitory , Tcell receptor, ligand: adenosine\n",
    "                      \"BTLA\",\"TNFRSF14\", ##Inhibitory, aka TNFRSF14 HVEM, Tcell receptor, APC ligand\n",
    "                      \"IDO1\", ###Inhibitory, NA ,APC enzyme\n",
    "                      \"LAG3\",\"FGL1\", ###Inhibitory, Tcell receptor,APC ligand.\n",
    "                      \"CYBB\", ##Inhibitory enzyme\n",
    "                      \"PDCD1\",\"CD274\",\"PDCD1LG2\",##Inhibitory Tcell receptor, APC ligand\n",
    "                      \"HAVCR2\",\"HMGB1\",\"LGALS9\",\"CEACAM1\",##aka,TIM-3,Inhibitory, Tcell receptor, APC ligand *3\n",
    "                      \"VSIR\",\"IGSF11\",##Inhibitory, Tcell receptor, APC ligand\n",
    "                      \"SIGLEC7\",##Inhibitory, Tcell receptor , ligand: sugar\n",
    "                      \"TIGIT\",\"PVR\",\"NECTIN2\",##Inhibitory, Tcell ligand, APC recetpor\n",
    "                      \"SIRPA\",\"CD47\" ##Inhibitory, immune ligand, APC recetpor\n",
    "                      )"
   ]
  },
  {
   "cell_type": "code",
   "execution_count": 10,
   "id": "5f88448a",
   "metadata": {},
   "outputs": [],
   "source": [
    "rlt_high_tn$all[c(Sti_immunecheckpoint,Inh_immunecheckpoint),] -> rlt_high_tn_ic\n",
    "rlt_low_tn$all[c(Sti_immunecheckpoint,Inh_immunecheckpoint),] -> rlt_low_tn_ic\n",
    "rlt_neg_tn$all[c(Sti_immunecheckpoint,Inh_immunecheckpoint),] -> rlt_neg_tn_ic"
   ]
  },
  {
   "cell_type": "code",
   "execution_count": 11,
   "id": "479d8c1c",
   "metadata": {},
   "outputs": [
    {
     "name": "stderr",
     "output_type": "stream",
     "text": [
      "Warning message in file.create(to[okay]):\n",
      "“cannot create file '13.immune_checkpoint/ImmuneCheckpoint.xlsx', reason 'No such file or directory'”\n"
     ]
    }
   ],
   "source": [
    "openxlsx::write.xlsx(list('High' = rlt_high_tn_ic,\n",
    "                          'Low' = rlt_low_tn_ic,\n",
    "                          'Neg' = rlt_neg_tn_ic),\n",
    "           rowNames = TRUE, file = \"13.immune_checkpoint/ImmuneCheckpoint.xlsx\")"
   ]
  },
  {
   "cell_type": "code",
   "execution_count": 12,
   "id": "6645f0bc",
   "metadata": {},
   "outputs": [],
   "source": [
    "get_data <- function(data){\n",
    "    \n",
    "    sti_2 <- data$all[Sti_immunecheckpoint[c(2,4,5,7,9,11,13,15,17,18,20)],][,c('log2FoldChange','padj')]## apc\n",
    "    sti_1 <- data$all[Sti_immunecheckpoint[c(1,3,3,6,8,10,12,14,16,100,19)],][,c('log2FoldChange','padj')]## receptor\n",
    "    sti_im_ck <- cbind(sti_1,sti_2)\n",
    "    colnames(sti_im_ck) <- c('LC1','Padj1','LC2','Padj2')\n",
    "    rownames(sti_im_ck) <- paste0(rownames(sti_1),\"_\",rownames(sti_2))\n",
    "    sti_im_ck_lc <- sti_im_ck[,c(1,3)]\n",
    "    sti_im_ck_p <- sti_im_ck[,c(2,4)]\n",
    "  #  sti_im_ck_p <- -log10(sti_im_ck_p)\n",
    "\n",
    "    Inb_2 <- data$all[Inh_immunecheckpoint[c(2,3,100,100,7,8,10,100,13,14,16,17,18,20,100,23,24,26)],][,c('log2FoldChange','padj')]\n",
    "    Inb_1 <- data$all[Inh_immunecheckpoint[c(1,1,4,  5,  6,100,9,11,12,12,15,15,15,19,21, 22,22,25)],][,c('log2FoldChange','padj')]\n",
    "    Inb_im_ck <- cbind(Inb_1,Inb_2)\n",
    "    colnames(Inb_im_ck) <- c('LC1','Padj1','LC2','Padj2')\n",
    "    rownames(Inb_im_ck) <- paste0(rownames(Inb_1),\"_\",rownames(Inb_2))\n",
    "    Inb_im_ck_lc <- Inb_im_ck[,c(1,3)]\n",
    "    Inb_im_ck_p <- Inb_im_ck[,c(2,4)]\n",
    "  #  Inb_im_ck_p <- -log10(Inb_im_ck_p)\n",
    "\n",
    "    High_LC <- rbind(sti_im_ck_lc,Inb_im_ck_lc)\n",
    "    High_p <- rbind(sti_im_ck_p,Inb_im_ck_p)\n",
    "    \n",
    "    return(list(LC=High_LC,P=High_p))\n",
    "}\n"
   ]
  },
  {
   "cell_type": "code",
   "execution_count": 13,
   "id": "ef9884b4",
   "metadata": {},
   "outputs": [],
   "source": [
    "High_immc <- get_data(rlt_high_tn)\n",
    "Low_immc <- get_data(rlt_low_tn)\n",
    "Neg_immc <- get_data(rlt_neg_tn)"
   ]
  },
  {
   "cell_type": "code",
   "execution_count": 14,
   "id": "49470245",
   "metadata": {},
   "outputs": [],
   "source": [
    "Immune_rec <- cbind(High_immc$LC$LC1,Low_immc$LC$LC1,Neg_immc$LC$LC1)\n",
    "Apc_lig <- cbind(High_immc$LC$LC2,Low_immc$LC$LC2,Neg_immc$LC$LC2)\n",
    "Immune_rec_p <- cbind(High_immc$P$Padj1,Low_immc$P$Padj1,Neg_immc$P$Padj1)\n",
    "Apc_lig_p <- cbind(High_immc$P$Padj2,Low_immc$P$Padj2,Neg_immc$P$Padj2)"
   ]
  },
  {
   "cell_type": "code",
   "execution_count": 15,
   "id": "f5c7f76f",
   "metadata": {},
   "outputs": [],
   "source": [
    "rownames(Immune_rec) <- High_immc$LC %>% rownames() %>% str_split(\"_\") %>% lapply(.,function(x) x[1][1]) %>% unlist()\n",
    "rownames(Apc_lig) <- High_immc$LC %>% rownames() %>% str_split(\"_\") %>% lapply(.,function(x) x[2][1]) %>% unlist()\n",
    "colnames(Immune_rec) <- c(\"High\",\"Low\",\"Neg\")\n",
    "colnames(Apc_lig) <- c(\"High\",\"Low\",\"Neg\")"
   ]
  },
  {
   "cell_type": "code",
   "execution_count": 16,
   "id": "8a957aa7",
   "metadata": {},
   "outputs": [],
   "source": [
    "immc_name <- High_immc$LC %>% rownames() %>% str_split(\"_\") %>% lapply(.,function(x) x[1][1]) %>% unlist()"
   ]
  },
  {
   "cell_type": "code",
   "execution_count": 17,
   "id": "1bf11ebe",
   "metadata": {},
   "outputs": [],
   "source": [
    "immc_name %>% str_split(\"\\\\.\") %>% lapply(.,function(x) x[1][1])%>% unlist() ->immc_name"
   ]
  },
  {
   "cell_type": "code",
   "execution_count": 18,
   "id": "a1211634",
   "metadata": {},
   "outputs": [],
   "source": [
    "apc_name <- High_immc$LC %>% rownames() %>% str_split(\"_\") %>% lapply(.,function(x) x[2][1]) %>% unlist()"
   ]
  },
  {
   "cell_type": "code",
   "execution_count": 19,
   "id": "e52f2b98",
   "metadata": {},
   "outputs": [],
   "source": [
    "apc_name %>% str_split(\"\\\\.\") %>% lapply(.,function(x) x[1][1])%>% unlist() ->apc_name"
   ]
  },
  {
   "cell_type": "code",
   "execution_count": 20,
   "id": "f2663a9e",
   "metadata": {},
   "outputs": [],
   "source": [
    "options(repr.plot.width = 3, repr.plot.height = 8)"
   ]
  },
  {
   "cell_type": "code",
   "execution_count": 21,
   "id": "30892e53",
   "metadata": {},
   "outputs": [],
   "source": [
    "ha_r = rowAnnotation(foo = anno_text(apc_name, location = 0, just = \"left\"))\n",
    "ha_l = rowAnnotation(foo = anno_text(immc_name, location = 1, just = \"right\"))"
   ]
  },
  {
   "cell_type": "code",
   "execution_count": 22,
   "id": "9a6d2a3d",
   "metadata": {},
   "outputs": [],
   "source": [
    "col_fun = circlize::colorRamp2(c(max(na.omit(Apc_lig)), 0, min(na.omit(Apc_lig))), c(\"red\", \"white\", \"green\"))"
   ]
  },
  {
   "cell_type": "code",
   "execution_count": 23,
   "id": "82adfc8b",
   "metadata": {},
   "outputs": [],
   "source": [
    "lgd = Legend(labels = \"FC>=1\", type = \"points\",pch = 18, size = unit(5, 'mm'),\n",
    "           direction = 'horizontal'\n",
    "   )"
   ]
  },
  {
   "cell_type": "code",
   "execution_count": 24,
   "id": "e99e0f77",
   "metadata": {
    "scrolled": false
   },
   "outputs": [],
   "source": [
    "heat <- Heatmap(Immune_rec, name = \"FoldChange\", col = col_fun, rect_gp = gpar(type = \"none\"), \n",
    "    cell_fun = function(j, i, x, y, width, height, fill) {\n",
    "    \n",
    "        if(Immune_rec_p[i,j]<=0.05 && !is.na(Immune_rec[i,j])){\n",
    "            grid.rect(x = x, y = y, width = width, height = height, \n",
    "            gp = gpar(fill =col_fun(Immune_rec[i, j]), col = \"grey\"))\n",
    "        #      grid.circle(x = x, y = y, r = abs(Immune_rec[i, j])/2 * min(unit.c(width, height)), \n",
    "         #       gp = gpar(fill = col_fun(Immune_rec[i, j]), col = NA))\n",
    "             if(abs(Immune_rec[i,j])>=1){\n",
    "                  grid.points(x = x, y = y, pch = 18, size = unit(4, \"mm\"))}\n",
    "        }else{\n",
    "            grid.rect(x = x, y = y, width = width, height = height, \n",
    "            gp = gpar(col = \"grey\", fill = NA))\n",
    "            \n",
    "        }        \n",
    "     \n",
    "    }, left_annotation = ha_l,\n",
    "        cluster_rows = FALSE, cluster_columns = FALSE,\n",
    "    show_row_names = FALSE, show_column_names = FALSE)"
   ]
  },
  {
   "cell_type": "code",
   "execution_count": 30,
   "id": "5471f477",
   "metadata": {},
   "outputs": [
    {
     "data": {
      "text/html": [
       "<strong>png:</strong> 2"
      ],
      "text/latex": [
       "\\textbf{png:} 2"
      ],
      "text/markdown": [
       "**png:** 2"
      ],
      "text/plain": [
       "png \n",
       "  2 "
      ]
     },
     "metadata": {},
     "output_type": "display_data"
    }
   ],
   "source": [
    "pdf(file = \"Immune_checkpoint_immune_genes.pdf\",width = 3,height = 8)\n",
    "draw(heat,heatmap_legend_list = lgd)\n",
    "dev.off()"
   ]
  },
  {
   "cell_type": "code",
   "execution_count": 31,
   "id": "757d36dd",
   "metadata": {},
   "outputs": [],
   "source": [
    "heat2 <- Heatmap(Apc_lig, name = \"FoldChange\", col = col_fun, rect_gp = gpar(type = \"none\"), \n",
    "    cell_fun = function(j, i, x, y, width, height, fill) {\n",
    "       # print(i)\n",
    "        if(Apc_lig_p[i,j]<=0.05 && !is.na(Apc_lig[i,j])){\n",
    "            grid.rect(x = x, y = y, width = width, height = height, \n",
    "            gp = gpar(fill =col_fun(Apc_lig[i, j]), col = \"grey\"))\n",
    "         #      grid.circle(x = x, y = y, r = abs(Apc_lig[i, j])/2 * min(unit.c(width, height)), \n",
    "         #       gp = gpar(fill = col_fun(Apc_lig[i, j]), col = NA))\n",
    "            if(abs(Apc_lig[i,j])>=1){\n",
    "                  grid.points(x = x, y = y, pch = 18, size = unit(4, \"mm\"))\n",
    "            }\n",
    "        }else{\n",
    "            grid.rect(x = x, y = y, width = width, height = height, \n",
    "            gp = gpar(col = \"grey\", fill = NA))\n",
    "            \n",
    "        }        \n",
    "     \n",
    "    }, right_annotation = ha_r,\n",
    "        cluster_rows = FALSE, cluster_columns = FALSE,\n",
    "    show_row_names = FALSE, show_column_names = FALSE)"
   ]
  },
  {
   "cell_type": "code",
   "execution_count": 32,
   "id": "9e054702",
   "metadata": {},
   "outputs": [
    {
     "data": {
      "text/html": [
       "<strong>png:</strong> 2"
      ],
      "text/latex": [
       "\\textbf{png:} 2"
      ],
      "text/markdown": [
       "**png:** 2"
      ],
      "text/plain": [
       "png \n",
       "  2 "
      ]
     },
     "metadata": {},
     "output_type": "display_data"
    }
   ],
   "source": [
    "pdf(file = \"Immunecheckpoint_apc_genes.pdf\",width = 3,height = 8)\n",
    "draw(heat2,heatmap_legend_list = lgd)\n",
    "dev.off()"
   ]
  },
  {
   "cell_type": "code",
   "execution_count": null,
   "id": "92db3b69",
   "metadata": {},
   "outputs": [],
   "source": []
  },
  {
   "cell_type": "code",
   "execution_count": null,
   "id": "ac5e13d0",
   "metadata": {},
   "outputs": [],
   "source": []
  },
  {
   "cell_type": "code",
   "execution_count": null,
   "id": "b85cb6e0",
   "metadata": {},
   "outputs": [],
   "source": []
  },
  {
   "cell_type": "code",
   "execution_count": null,
   "id": "4cb152c7",
   "metadata": {},
   "outputs": [],
   "source": []
  },
  {
   "cell_type": "code",
   "execution_count": null,
   "id": "d84199cd",
   "metadata": {},
   "outputs": [],
   "source": []
  },
  {
   "cell_type": "code",
   "execution_count": null,
   "id": "a88df390",
   "metadata": {},
   "outputs": [],
   "source": []
  },
  {
   "cell_type": "code",
   "execution_count": null,
   "id": "d96cb89b",
   "metadata": {},
   "outputs": [],
   "source": []
  }
 ],
 "metadata": {
  "kernelspec": {
   "display_name": "R",
   "language": "R",
   "name": "ir"
  },
  "language_info": {
   "codemirror_mode": "r",
   "file_extension": ".r",
   "mimetype": "text/x-r-source",
   "name": "R",
   "pygments_lexer": "r",
   "version": "4.2.2"
  }
 },
 "nbformat": 4,
 "nbformat_minor": 5
}
