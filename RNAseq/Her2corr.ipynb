{
 "cells": [
  {
   "cell_type": "code",
   "execution_count": 1,
   "id": "bdf7dd81",
   "metadata": {},
   "outputs": [
    {
     "name": "stderr",
     "output_type": "stream",
     "text": [
      "── \u001b[1mAttaching core tidyverse packages\u001b[22m ──────────────────────── tidyverse 2.0.0 ──\n",
      "\u001b[32m✔\u001b[39m \u001b[34mdplyr    \u001b[39m 1.1.4     \u001b[32m✔\u001b[39m \u001b[34mreadr    \u001b[39m 2.1.4\n",
      "\u001b[32m✔\u001b[39m \u001b[34mforcats  \u001b[39m 1.0.0     \u001b[32m✔\u001b[39m \u001b[34mstringr  \u001b[39m 1.5.1\n",
      "\u001b[32m✔\u001b[39m \u001b[34mggplot2  \u001b[39m 3.4.4     \u001b[32m✔\u001b[39m \u001b[34mtibble   \u001b[39m 3.2.1\n",
      "\u001b[32m✔\u001b[39m \u001b[34mlubridate\u001b[39m 1.9.3     \u001b[32m✔\u001b[39m \u001b[34mtidyr    \u001b[39m 1.3.0\n",
      "\u001b[32m✔\u001b[39m \u001b[34mpurrr    \u001b[39m 1.0.2     \n",
      "── \u001b[1mConflicts\u001b[22m ────────────────────────────────────────── tidyverse_conflicts() ──\n",
      "\u001b[31m✖\u001b[39m \u001b[34mdplyr\u001b[39m::\u001b[32mfilter()\u001b[39m masks \u001b[34mstats\u001b[39m::filter()\n",
      "\u001b[31m✖\u001b[39m \u001b[34mdplyr\u001b[39m::\u001b[32mlag()\u001b[39m    masks \u001b[34mstats\u001b[39m::lag()\n",
      "\u001b[36mℹ\u001b[39m Use the conflicted package (\u001b[3m\u001b[34m<http://conflicted.r-lib.org/>\u001b[39m\u001b[23m) to force all conflicts to become errors\n"
     ]
    }
   ],
   "source": [
    "library(tidyverse)"
   ]
  },
  {
   "cell_type": "code",
   "execution_count": 2,
   "id": "7d76c88a",
   "metadata": {},
   "outputs": [],
   "source": [
    "library(ggpubr)\n",
    "library(ggplot2)"
   ]
  },
  {
   "cell_type": "code",
   "execution_count": 3,
   "id": "12a62495",
   "metadata": {},
   "outputs": [],
   "source": [
    "library(DT)"
   ]
  },
  {
   "cell_type": "code",
   "execution_count": 4,
   "id": "a8616752",
   "metadata": {},
   "outputs": [],
   "source": [
    "tumor_ms <- read.table('/disk1/pengweixing/esophageal/15.MS/data_ms_rmdup_tumor.txt',header=T)"
   ]
  },
  {
   "cell_type": "code",
   "execution_count": 5,
   "id": "74fe7ede",
   "metadata": {},
   "outputs": [],
   "source": [
    "colnames(tumor_ms) %>% str_replace('X','') -> colnames(tumor_ms)"
   ]
  },
  {
   "cell_type": "code",
   "execution_count": 6,
   "id": "bae7424f",
   "metadata": {},
   "outputs": [],
   "source": [
    "her2_ms <- tumor_ms['ERBB2',]"
   ]
  },
  {
   "cell_type": "code",
   "execution_count": 7,
   "id": "bc978f91",
   "metadata": {},
   "outputs": [
    {
     "data": {
      "text/html": [
       "<table class=\"dataframe\">\n",
       "<caption>A data.frame: 1 × 128</caption>\n",
       "<thead>\n",
       "\t<tr><th></th><th scope=col>9DW0001</th><th scope=col>9DW0014</th><th scope=col>9DW0002</th><th scope=col>9DW0003</th><th scope=col>9DW0008</th><th scope=col>9DW0068</th><th scope=col>9DW0071</th><th scope=col>9DW0073</th><th scope=col>9DW0074</th><th scope=col>9DW0075</th><th scope=col>⋯</th><th scope=col>9DW0270</th><th scope=col>9DW0271</th><th scope=col>9DW0372</th><th scope=col>9DW0373</th><th scope=col>9DW0374</th><th scope=col>9DW0377</th><th scope=col>9DW0400</th><th scope=col>9DW0403</th><th scope=col>9DW0404</th><th scope=col>9DW0408</th></tr>\n",
       "\t<tr><th></th><th scope=col>&lt;dbl&gt;</th><th scope=col>&lt;dbl&gt;</th><th scope=col>&lt;dbl&gt;</th><th scope=col>&lt;dbl&gt;</th><th scope=col>&lt;dbl&gt;</th><th scope=col>&lt;dbl&gt;</th><th scope=col>&lt;dbl&gt;</th><th scope=col>&lt;dbl&gt;</th><th scope=col>&lt;dbl&gt;</th><th scope=col>&lt;dbl&gt;</th><th scope=col>⋯</th><th scope=col>&lt;dbl&gt;</th><th scope=col>&lt;dbl&gt;</th><th scope=col>&lt;dbl&gt;</th><th scope=col>&lt;dbl&gt;</th><th scope=col>&lt;dbl&gt;</th><th scope=col>&lt;dbl&gt;</th><th scope=col>&lt;dbl&gt;</th><th scope=col>&lt;dbl&gt;</th><th scope=col>&lt;dbl&gt;</th><th scope=col>&lt;dbl&gt;</th></tr>\n",
       "</thead>\n",
       "<tbody>\n",
       "\t<tr><th scope=row>ERBB2</th><td>0.895</td><td>1.12</td><td>1.039</td><td>0.832</td><td>2.966</td><td>1.022</td><td>3.915</td><td>1.224</td><td>1.056</td><td>1.03</td><td>⋯</td><td>NA</td><td>NA</td><td>NA</td><td>NA</td><td>NA</td><td>NA</td><td>NA</td><td>NA</td><td>NA</td><td>NA</td></tr>\n",
       "</tbody>\n",
       "</table>\n"
      ],
      "text/latex": [
       "A data.frame: 1 × 128\n",
       "\\begin{tabular}{r|lllllllllllllllllllll}\n",
       "  & 9DW0001 & 9DW0014 & 9DW0002 & 9DW0003 & 9DW0008 & 9DW0068 & 9DW0071 & 9DW0073 & 9DW0074 & 9DW0075 & ⋯ & 9DW0270 & 9DW0271 & 9DW0372 & 9DW0373 & 9DW0374 & 9DW0377 & 9DW0400 & 9DW0403 & 9DW0404 & 9DW0408\\\\\n",
       "  & <dbl> & <dbl> & <dbl> & <dbl> & <dbl> & <dbl> & <dbl> & <dbl> & <dbl> & <dbl> & ⋯ & <dbl> & <dbl> & <dbl> & <dbl> & <dbl> & <dbl> & <dbl> & <dbl> & <dbl> & <dbl>\\\\\n",
       "\\hline\n",
       "\tERBB2 & 0.895 & 1.12 & 1.039 & 0.832 & 2.966 & 1.022 & 3.915 & 1.224 & 1.056 & 1.03 & ⋯ & NA & NA & NA & NA & NA & NA & NA & NA & NA & NA\\\\\n",
       "\\end{tabular}\n"
      ],
      "text/markdown": [
       "\n",
       "A data.frame: 1 × 128\n",
       "\n",
       "| <!--/--> | 9DW0001 &lt;dbl&gt; | 9DW0014 &lt;dbl&gt; | 9DW0002 &lt;dbl&gt; | 9DW0003 &lt;dbl&gt; | 9DW0008 &lt;dbl&gt; | 9DW0068 &lt;dbl&gt; | 9DW0071 &lt;dbl&gt; | 9DW0073 &lt;dbl&gt; | 9DW0074 &lt;dbl&gt; | 9DW0075 &lt;dbl&gt; | ⋯ ⋯ | 9DW0270 &lt;dbl&gt; | 9DW0271 &lt;dbl&gt; | 9DW0372 &lt;dbl&gt; | 9DW0373 &lt;dbl&gt; | 9DW0374 &lt;dbl&gt; | 9DW0377 &lt;dbl&gt; | 9DW0400 &lt;dbl&gt; | 9DW0403 &lt;dbl&gt; | 9DW0404 &lt;dbl&gt; | 9DW0408 &lt;dbl&gt; |\n",
       "|---|---|---|---|---|---|---|---|---|---|---|---|---|---|---|---|---|---|---|---|---|---|\n",
       "| ERBB2 | 0.895 | 1.12 | 1.039 | 0.832 | 2.966 | 1.022 | 3.915 | 1.224 | 1.056 | 1.03 | ⋯ | NA | NA | NA | NA | NA | NA | NA | NA | NA | NA |\n",
       "\n"
      ],
      "text/plain": [
       "      9DW0001 9DW0014 9DW0002 9DW0003 9DW0008 9DW0068 9DW0071 9DW0073 9DW0074\n",
       "ERBB2 0.895   1.12    1.039   0.832   2.966   1.022   3.915   1.224   1.056  \n",
       "      9DW0075 ⋯ 9DW0270 9DW0271 9DW0372 9DW0373 9DW0374 9DW0377 9DW0400 9DW0403\n",
       "ERBB2 1.03    ⋯ NA      NA      NA      NA      NA      NA      NA      NA     \n",
       "      9DW0404 9DW0408\n",
       "ERBB2 NA      NA     "
      ]
     },
     "metadata": {},
     "output_type": "display_data"
    }
   ],
   "source": [
    "her2_ms"
   ]
  },
  {
   "cell_type": "code",
   "execution_count": 8,
   "id": "3ae9d98d",
   "metadata": {},
   "outputs": [],
   "source": [
    "data <- readRDS('../00.data/Tumor.tpm.Rdata')"
   ]
  },
  {
   "cell_type": "code",
   "execution_count": 9,
   "id": "8b7e3de9",
   "metadata": {},
   "outputs": [],
   "source": [
    "her2_RNA <- data['ERBB2',]"
   ]
  },
  {
   "cell_type": "code",
   "execution_count": 43,
   "id": "00f172bb",
   "metadata": {},
   "outputs": [],
   "source": [
    "her2_RNA %>% t()%>% as.data.frame() %>% saveRDS(object = .,file = \"/disk1/pengweixing/esophageal/12.RNAseq_hg38/HER2_box_for_alltumor/GCA_her2_RNA.Rdata\")"
   ]
  },
  {
   "cell_type": "code",
   "execution_count": 10,
   "id": "441f453b",
   "metadata": {},
   "outputs": [],
   "source": [
    "saveRDS(object = her2_RNA,file = \"GCA_her2_RNA.Rdata\")"
   ]
  },
  {
   "cell_type": "code",
   "execution_count": 14,
   "id": "63a2cd89",
   "metadata": {},
   "outputs": [],
   "source": [
    "phe <- readRDS('/disk1/pengweixing/esophageal/12.RNAseq_hg38/00.data/phe_RNA54.Rdata')"
   ]
  },
  {
   "cell_type": "code",
   "execution_count": 15,
   "id": "51666671",
   "metadata": {},
   "outputs": [],
   "source": [
    "colnames(data) %>% str_replace('X','') -> colnames(data)"
   ]
  },
  {
   "cell_type": "code",
   "execution_count": 16,
   "id": "64d2d8bd",
   "metadata": {},
   "outputs": [],
   "source": [
    "phe$sample %>% intersect(colnames(data)) -> isct_names"
   ]
  },
  {
   "cell_type": "code",
   "execution_count": 17,
   "id": "af8948ef",
   "metadata": {},
   "outputs": [],
   "source": [
    "her2_ms_54 <- her2_ms[,isct_names]"
   ]
  },
  {
   "cell_type": "code",
   "execution_count": 18,
   "id": "cd0155c4",
   "metadata": {},
   "outputs": [],
   "source": [
    "her2_RNA_54 <- her2_RNA[,isct_names]"
   ]
  },
  {
   "cell_type": "code",
   "execution_count": 19,
   "id": "6eefd836",
   "metadata": {},
   "outputs": [],
   "source": [
    "her2_ms_54[is.na(her2_ms_54)] = 0"
   ]
  },
  {
   "cell_type": "code",
   "execution_count": 20,
   "id": "6874fbfb",
   "metadata": {},
   "outputs": [],
   "source": [
    "combined <- t(rbind(her2_ms_54,her2_RNA_54))"
   ]
  },
  {
   "cell_type": "code",
   "execution_count": 21,
   "id": "45df3154",
   "metadata": {},
   "outputs": [],
   "source": [
    "colnames(combined) <- c(\"ERBB2_MS\",\"ERBB2_RNA\")"
   ]
  },
  {
   "cell_type": "code",
   "execution_count": 22,
   "id": "8fabfdc6",
   "metadata": {},
   "outputs": [
    {
     "name": "stderr",
     "output_type": "stream",
     "text": [
      "Warning message in file.create(to[okay]):\n",
      "“cannot create file 'Corr_MS_RNAseq_HER2/ERBB2_MS_RNAseq_exp.xlsx', reason 'No such file or directory'”\n"
     ]
    }
   ],
   "source": [
    "openxlsx::write.xlsx(as.data.frame(combined), file = \"Corr_MS_RNAseq_HER2/ERBB2_MS_RNAseq_exp.xlsx\",rowNames=T)"
   ]
  },
  {
   "cell_type": "code",
   "execution_count": 23,
   "id": "bd569946",
   "metadata": {},
   "outputs": [],
   "source": [
    "her2_ms_54[is.na(her2_ms_54)] = 0"
   ]
  },
  {
   "cell_type": "code",
   "execution_count": 24,
   "id": "cfd24a67",
   "metadata": {},
   "outputs": [],
   "source": [
    "her2_ms_54 <- as.numeric(her2_ms_54)\n",
    "her2_RNA_54 <- as.numeric(her2_RNA_54)"
   ]
  },
  {
   "cell_type": "code",
   "execution_count": 25,
   "id": "00ee43c9",
   "metadata": {},
   "outputs": [
    {
     "data": {
      "text/html": [
       "0.564324882819336"
      ],
      "text/latex": [
       "0.564324882819336"
      ],
      "text/markdown": [
       "0.564324882819336"
      ],
      "text/plain": [
       "[1] 0.5643249"
      ]
     },
     "metadata": {},
     "output_type": "display_data"
    }
   ],
   "source": [
    "cor(her2_ms_54,as.numeric(her2_RNA_54),method=\"spearman\")"
   ]
  },
  {
   "cell_type": "code",
   "execution_count": 39,
   "id": "a8dd0245",
   "metadata": {},
   "outputs": [
    {
     "data": {
      "text/html": [
       "0.755923861136091"
      ],
      "text/latex": [
       "0.755923861136091"
      ],
      "text/markdown": [
       "0.755923861136091"
      ],
      "text/plain": [
       "[1] 0.7559239"
      ]
     },
     "metadata": {},
     "output_type": "display_data"
    }
   ],
   "source": [
    "cor(her2_ms_54,as.numeric(her2_RNA_54))"
   ]
  },
  {
   "cell_type": "markdown",
   "id": "c7407aa7",
   "metadata": {},
   "source": [
    "### correlation between HER2 RNA and HER2 MS"
   ]
  },
  {
   "cell_type": "code",
   "execution_count": 31,
   "id": "277faec8",
   "metadata": {},
   "outputs": [
    {
     "data": {
      "image/png": "[encoded data removed]",
      "text/plain": [
       "plot without title"
      ]
     },
     "metadata": {
      "image/png": {
       "height": 420,
       "width": 420
      }
     },
     "output_type": "display_data"
    }
   ],
   "source": [
    "#pdf(file=\"Corr_MS_RNAseq_HER2/HER2_MS_RNAseq.pdf\",height = 6,width=6)\n",
    "plot(her2_ms_54,as.numeric(her2_RNA_54), pch=19)\n",
    "#dev.off()"
   ]
  },
  {
   "cell_type": "code",
   "execution_count": 29,
   "id": "689b0f87",
   "metadata": {},
   "outputs": [],
   "source": [
    "temp <- data.frame(MS=log2(her2_ms_54+1),RNA=log2(as.numeric(her2_RNA_54)))"
   ]
  },
  {
   "cell_type": "code",
   "execution_count": 38,
   "id": "a77a9974",
   "metadata": {},
   "outputs": [
    {
     "data": {
      "text/html": [
       "<strong>png:</strong> 2"
      ],
      "text/latex": [
       "\\textbf{png:} 2"
      ],
      "text/markdown": [
       "**png:** 2"
      ],
      "text/plain": [
       "png \n",
       "  2 "
      ]
     },
     "metadata": {},
     "output_type": "display_data"
    }
   ],
   "source": [
    "pdf(file=\"HER2_MS_RNAseq.pdf\",height = 6,width=6)\n",
    "plot(temp$MS,temp$RNA, pch=19,xlab = \"MS_abundance\",ylab = \"RNA_tpm / log2\")\n",
    "dev.off()"
   ]
  },
  {
   "cell_type": "code",
   "execution_count": 30,
   "id": "88505b22",
   "metadata": {},
   "outputs": [
    {
     "name": "stderr",
     "output_type": "stream",
     "text": [
      "\u001b[1m\u001b[22m`geom_smooth()` using formula = 'y ~ x'\n"
     ]
    },
    {
     "data": {
      "image/png": "[encoded data removed]",
      "text/plain": [
       "plot without title"
      ]
     },
     "metadata": {
      "image/png": {
       "height": 420,
       "width": 420
      }
     },
     "output_type": "display_data"
    }
   ],
   "source": [
    "ggplot(data=temp, aes(x=MS, y=RNA)) + geom_point()+  stat_smooth(method=\"lm\",color=\"black\", se=FALSE) +theme_bw()"
   ]
  },
  {
   "cell_type": "code",
   "execution_count": 164,
   "id": "c10777cc",
   "metadata": {},
   "outputs": [
    {
     "data": {
      "text/html": [
       "<strong>png:</strong> 2"
      ],
      "text/latex": [
       "\\textbf{png:} 2"
      ],
      "text/markdown": [
       "**png:** 2"
      ],
      "text/plain": [
       "png \n",
       "  2 "
      ]
     },
     "metadata": {},
     "output_type": "display_data"
    }
   ],
   "source": [
    "pdf(file=\"Corr_MS_RNAseq_HER2/HER2_MS_RNAseq.log2.pdf\",height = 6,width=6)\n",
    "plot(log2(her2_ms_54+1),log2(as.numeric(her2_RNA_54)),pch=19)\n",
    "dev.off()"
   ]
  },
  {
   "cell_type": "code",
   "execution_count": 8,
   "id": "0a96337d",
   "metadata": {},
   "outputs": [],
   "source": [
    "phe2 <- phe[isct_names,]"
   ]
  },
  {
   "cell_type": "code",
   "execution_count": 20,
   "id": "196ae917",
   "metadata": {},
   "outputs": [
    {
     "data": {
      "text/html": [
       "<table class=\"dataframe\">\n",
       "<caption>A data.frame: 1 × 54</caption>\n",
       "<thead>\n",
       "\t<tr><th></th><th scope=col>9DW0068</th><th scope=col>9DW0073</th><th scope=col>9DW0074</th><th scope=col>9DW0079</th><th scope=col>9DW0076</th><th scope=col>9DW0085</th><th scope=col>9DW0092</th><th scope=col>9DW0126</th><th scope=col>9DW0154</th><th scope=col>9DW0169</th><th scope=col>⋯</th><th scope=col>9DW0109</th><th scope=col>9DW0110</th><th scope=col>9DW0117</th><th scope=col>9DW0123</th><th scope=col>9DW0125</th><th scope=col>9DW0250</th><th scope=col>9DW0251</th><th scope=col>9DW0261</th><th scope=col>9DW0262</th><th scope=col>9DW0377</th></tr>\n",
       "\t<tr><th></th><th scope=col>&lt;dbl&gt;</th><th scope=col>&lt;dbl&gt;</th><th scope=col>&lt;dbl&gt;</th><th scope=col>&lt;dbl&gt;</th><th scope=col>&lt;dbl&gt;</th><th scope=col>&lt;dbl&gt;</th><th scope=col>&lt;dbl&gt;</th><th scope=col>&lt;dbl&gt;</th><th scope=col>&lt;dbl&gt;</th><th scope=col>&lt;dbl&gt;</th><th scope=col>⋯</th><th scope=col>&lt;dbl&gt;</th><th scope=col>&lt;dbl&gt;</th><th scope=col>&lt;dbl&gt;</th><th scope=col>&lt;dbl&gt;</th><th scope=col>&lt;dbl&gt;</th><th scope=col>&lt;dbl&gt;</th><th scope=col>&lt;dbl&gt;</th><th scope=col>&lt;dbl&gt;</th><th scope=col>&lt;dbl&gt;</th><th scope=col>&lt;dbl&gt;</th></tr>\n",
       "</thead>\n",
       "<tbody>\n",
       "\t<tr><th scope=row>ERBB2</th><td>1.022</td><td>1.224</td><td>1.056</td><td>2.233</td><td>1.198</td><td>0.856</td><td>0.841</td><td>1.567</td><td>0.861</td><td>2.187</td><td>⋯</td><td>NA</td><td>NA</td><td>NA</td><td>NA</td><td>NA</td><td>NA</td><td>NA</td><td>NA</td><td>NA</td><td>NA</td></tr>\n",
       "</tbody>\n",
       "</table>\n"
      ],
      "text/latex": [
       "A data.frame: 1 × 54\n",
       "\\begin{tabular}{r|lllllllllllllllllllll}\n",
       "  & 9DW0068 & 9DW0073 & 9DW0074 & 9DW0079 & 9DW0076 & 9DW0085 & 9DW0092 & 9DW0126 & 9DW0154 & 9DW0169 & ⋯ & 9DW0109 & 9DW0110 & 9DW0117 & 9DW0123 & 9DW0125 & 9DW0250 & 9DW0251 & 9DW0261 & 9DW0262 & 9DW0377\\\\\n",
       "  & <dbl> & <dbl> & <dbl> & <dbl> & <dbl> & <dbl> & <dbl> & <dbl> & <dbl> & <dbl> & ⋯ & <dbl> & <dbl> & <dbl> & <dbl> & <dbl> & <dbl> & <dbl> & <dbl> & <dbl> & <dbl>\\\\\n",
       "\\hline\n",
       "\tERBB2 & 1.022 & 1.224 & 1.056 & 2.233 & 1.198 & 0.856 & 0.841 & 1.567 & 0.861 & 2.187 & ⋯ & NA & NA & NA & NA & NA & NA & NA & NA & NA & NA\\\\\n",
       "\\end{tabular}\n"
      ],
      "text/markdown": [
       "\n",
       "A data.frame: 1 × 54\n",
       "\n",
       "| <!--/--> | 9DW0068 &lt;dbl&gt; | 9DW0073 &lt;dbl&gt; | 9DW0074 &lt;dbl&gt; | 9DW0079 &lt;dbl&gt; | 9DW0076 &lt;dbl&gt; | 9DW0085 &lt;dbl&gt; | 9DW0092 &lt;dbl&gt; | 9DW0126 &lt;dbl&gt; | 9DW0154 &lt;dbl&gt; | 9DW0169 &lt;dbl&gt; | ⋯ ⋯ | 9DW0109 &lt;dbl&gt; | 9DW0110 &lt;dbl&gt; | 9DW0117 &lt;dbl&gt; | 9DW0123 &lt;dbl&gt; | 9DW0125 &lt;dbl&gt; | 9DW0250 &lt;dbl&gt; | 9DW0251 &lt;dbl&gt; | 9DW0261 &lt;dbl&gt; | 9DW0262 &lt;dbl&gt; | 9DW0377 &lt;dbl&gt; |\n",
       "|---|---|---|---|---|---|---|---|---|---|---|---|---|---|---|---|---|---|---|---|---|---|\n",
       "| ERBB2 | 1.022 | 1.224 | 1.056 | 2.233 | 1.198 | 0.856 | 0.841 | 1.567 | 0.861 | 2.187 | ⋯ | NA | NA | NA | NA | NA | NA | NA | NA | NA | NA |\n",
       "\n"
      ],
      "text/plain": [
       "      9DW0068 9DW0073 9DW0074 9DW0079 9DW0076 9DW0085 9DW0092 9DW0126 9DW0154\n",
       "ERBB2 1.022   1.224   1.056   2.233   1.198   0.856   0.841   1.567   0.861  \n",
       "      9DW0169 ⋯ 9DW0109 9DW0110 9DW0117 9DW0123 9DW0125 9DW0250 9DW0251 9DW0261\n",
       "ERBB2 2.187   ⋯ NA      NA      NA      NA      NA      NA      NA      NA     \n",
       "      9DW0262 9DW0377\n",
       "ERBB2 NA      NA     "
      ]
     },
     "metadata": {},
     "output_type": "display_data"
    }
   ],
   "source": [
    "head(her2_ms_54)"
   ]
  },
  {
   "cell_type": "code",
   "execution_count": null,
   "id": "90b41def",
   "metadata": {},
   "outputs": [],
   "source": []
  },
  {
   "cell_type": "code",
   "execution_count": 14,
   "id": "f6fe6942",
   "metadata": {},
   "outputs": [],
   "source": [
    "phe2 %>% filter(group=='High') %>% select(sample) %>% .[,1] -> high_names\n",
    "phe2 %>% filter(group=='Low') %>% select(sample) %>% .[,1] -> low_names\n",
    "phe2 %>% filter(group=='negative') %>% select(sample) %>% .[,1] -> neg_names"
   ]
  },
  {
   "cell_type": "code",
   "execution_count": 10,
   "id": "53449ee8",
   "metadata": {},
   "outputs": [
    {
     "data": {
      "text/html": [
       "<style>\n",
       ".list-inline {list-style: none; margin:0; padding: 0}\n",
       ".list-inline>li {display: inline-block}\n",
       ".list-inline>li:not(:last-child)::after {content: \"\\00b7\"; padding: 0 .5ex}\n",
       "</style>\n",
       "<ol class=list-inline><li>'9DW0073'</li><li>'9DW0079'</li><li>'9DW0076'</li><li>'9DW0126'</li><li>'9DW0169'</li><li>'9DW0192'</li><li>'9DW0193'</li><li>'9DW0201'</li><li>'9DW0219'</li><li>'9DW0227'</li><li>'9DW0230'</li><li>'9DW0274'</li><li>'9DW0312'</li><li>'9DW0330'</li><li>'9DW0344'</li><li>'9DW0351'</li><li>'9DW0362'</li><li>'9DW0368'</li><li>'9DW0383'</li></ol>\n"
      ],
      "text/latex": [
       "\\begin{enumerate*}\n",
       "\\item '9DW0073'\n",
       "\\item '9DW0079'\n",
       "\\item '9DW0076'\n",
       "\\item '9DW0126'\n",
       "\\item '9DW0169'\n",
       "\\item '9DW0192'\n",
       "\\item '9DW0193'\n",
       "\\item '9DW0201'\n",
       "\\item '9DW0219'\n",
       "\\item '9DW0227'\n",
       "\\item '9DW0230'\n",
       "\\item '9DW0274'\n",
       "\\item '9DW0312'\n",
       "\\item '9DW0330'\n",
       "\\item '9DW0344'\n",
       "\\item '9DW0351'\n",
       "\\item '9DW0362'\n",
       "\\item '9DW0368'\n",
       "\\item '9DW0383'\n",
       "\\end{enumerate*}\n"
      ],
      "text/markdown": [
       "1. '9DW0073'\n",
       "2. '9DW0079'\n",
       "3. '9DW0076'\n",
       "4. '9DW0126'\n",
       "5. '9DW0169'\n",
       "6. '9DW0192'\n",
       "7. '9DW0193'\n",
       "8. '9DW0201'\n",
       "9. '9DW0219'\n",
       "10. '9DW0227'\n",
       "11. '9DW0230'\n",
       "12. '9DW0274'\n",
       "13. '9DW0312'\n",
       "14. '9DW0330'\n",
       "15. '9DW0344'\n",
       "16. '9DW0351'\n",
       "17. '9DW0362'\n",
       "18. '9DW0368'\n",
       "19. '9DW0383'\n",
       "\n",
       "\n"
      ],
      "text/plain": [
       " [1] \"9DW0073\" \"9DW0079\" \"9DW0076\" \"9DW0126\" \"9DW0169\" \"9DW0192\" \"9DW0193\"\n",
       " [8] \"9DW0201\" \"9DW0219\" \"9DW0227\" \"9DW0230\" \"9DW0274\" \"9DW0312\" \"9DW0330\"\n",
       "[15] \"9DW0344\" \"9DW0351\" \"9DW0362\" \"9DW0368\" \"9DW0383\""
      ]
     },
     "metadata": {},
     "output_type": "display_data"
    }
   ],
   "source": [
    "high_names"
   ]
  },
  {
   "cell_type": "code",
   "execution_count": 162,
   "id": "be51d7d9",
   "metadata": {},
   "outputs": [],
   "source": [
    "data <- data[,c(high_names,low_names,neg_names)]"
   ]
  },
  {
   "cell_type": "code",
   "execution_count": 192,
   "id": "7ab69323",
   "metadata": {},
   "outputs": [],
   "source": [
    "data2 <- log2(data)"
   ]
  },
  {
   "cell_type": "code",
   "execution_count": 193,
   "id": "61af38af",
   "metadata": {},
   "outputs": [],
   "source": [
    "data_high <- data2[,high_names]\n",
    "data_low <- data2[,low_names]\n",
    "data_neg <- data2[,neg_names]"
   ]
  },
  {
   "cell_type": "code",
   "execution_count": 211,
   "id": "a3b15ea4",
   "metadata": {},
   "outputs": [],
   "source": [
    "get_cor <- function(data_in){\n",
    "    ERBB2 <- data_in['ERBB2',]\n",
    "    ERBB2 <- as.numeric(ERBB2)\n",
    "    rlt <- as.data.frame(matrix(data = 0,nrow = nrow(data_in),ncol = 1))\n",
    "    rownames(rlt) <- rownames(data_in)\n",
    "    colnames(rlt) <- 'Corr'\n",
    "    for(i in 1:nrow(data_in)){\n",
    "        temp = as.numeric(data_in[i,])\n",
    "        rlt[i,1] = cor(ERBB2,temp)\n",
    "    }\n",
    "    rlt2 <- rlt %>% arrange(desc(Corr))\n",
    "    return(rlt2)\n",
    "}"
   ]
  },
  {
   "cell_type": "code",
   "execution_count": 1,
   "id": "7d6b8d9e",
   "metadata": {},
   "outputs": [
    {
     "data": {
      "text/html": [
       "1"
      ],
      "text/latex": [
       "1"
      ],
      "text/markdown": [
       "1"
      ],
      "text/plain": [
       "[1] 1"
      ]
     },
     "metadata": {},
     "output_type": "display_data"
    }
   ],
   "source": [
    "cor(c(1,2,3,4,5),c(1,2,3,4,5))"
   ]
  },
  {
   "cell_type": "code",
   "execution_count": 212,
   "id": "e3f9ec21",
   "metadata": {
    "scrolled": true
   },
   "outputs": [],
   "source": [
    "rlt <- get_cor(data2)"
   ]
  },
  {
   "cell_type": "code",
   "execution_count": 213,
   "id": "995bb01b",
   "metadata": {
    "scrolled": true
   },
   "outputs": [],
   "source": [
    "rlt_high <- get_cor(data_high)"
   ]
  },
  {
   "cell_type": "code",
   "execution_count": 214,
   "id": "d70ba30f",
   "metadata": {
    "scrolled": true
   },
   "outputs": [],
   "source": [
    "rlt_low <- get_cor(data_low)"
   ]
  },
  {
   "cell_type": "code",
   "execution_count": 215,
   "id": "ce47774c",
   "metadata": {
    "scrolled": true
   },
   "outputs": [],
   "source": [
    "rlt_neg <- get_cor(data_neg)"
   ]
  },
  {
   "cell_type": "code",
   "execution_count": 216,
   "id": "26f58b9d",
   "metadata": {},
   "outputs": [],
   "source": [
    "rlt_high2 <- rlt_high[rownames(rlt),,drop=FALSE] "
   ]
  },
  {
   "cell_type": "code",
   "execution_count": 217,
   "id": "95830a36",
   "metadata": {},
   "outputs": [],
   "source": [
    "rlt_low2 <- rlt_low[rownames(rlt),,drop=FALSE] "
   ]
  },
  {
   "cell_type": "code",
   "execution_count": 218,
   "id": "355a8257",
   "metadata": {},
   "outputs": [],
   "source": [
    "rlt_neg2 <- rlt_neg[rownames(rlt),,drop=FALSE] "
   ]
  },
  {
   "cell_type": "code",
   "execution_count": 219,
   "id": "8d72c45b",
   "metadata": {
    "scrolled": true
   },
   "outputs": [],
   "source": [
    "ERBB2_coexp <- cbind(rlt,rlt_high2,rlt_low2,rlt_neg2)"
   ]
  },
  {
   "cell_type": "code",
   "execution_count": 220,
   "id": "164e7ab4",
   "metadata": {},
   "outputs": [],
   "source": [
    "colnames(ERBB2_coexp) <- c(\"all\",'high','low','neg')"
   ]
  },
  {
   "cell_type": "code",
   "execution_count": null,
   "id": "da4c90fa",
   "metadata": {
    "scrolled": true
   },
   "outputs": [],
   "source": [
    "ERBB2_coexp"
   ]
  },
  {
   "cell_type": "code",
   "execution_count": 222,
   "id": "f5c8f8d2",
   "metadata": {},
   "outputs": [],
   "source": [
    "openxlsx::write.xlsx(ERBB2_coexp, file = \"03.data_matrix/ERBB2_Coamp.log2.xlsx\",rowNames = TRUE)"
   ]
  },
  {
   "cell_type": "code",
   "execution_count": 157,
   "id": "2d9cfa25",
   "metadata": {
    "scrolled": true
   },
   "outputs": [],
   "source": [
    "data_high[c('CHRNE','HJV','ERBB2'),] %>% t() -> a"
   ]
  },
  {
   "cell_type": "code",
   "execution_count": 158,
   "id": "8853a0c5",
   "metadata": {
    "scrolled": true
   },
   "outputs": [],
   "source": [
    "data_low[c('CHRNE','HJV','ERBB2'),] %>% t() -> b"
   ]
  },
  {
   "cell_type": "code",
   "execution_count": 159,
   "id": "e9af347b",
   "metadata": {
    "scrolled": true
   },
   "outputs": [],
   "source": [
    "data_neg[c('CHRNE','HJV','ERBB2'),] %>% t() -> c"
   ]
  },
  {
   "cell_type": "code",
   "execution_count": 191,
   "id": "cc3f6632",
   "metadata": {},
   "outputs": [
    {
     "data": {
      "image/png": "[encoded data removed]",
      "text/plain": [
       "plot without title"
      ]
     },
     "metadata": {
      "image/png": {
       "height": 420,
       "width": 420
      }
     },
     "output_type": "display_data"
    }
   ],
   "source": [
    "plot(log(a[,1]),log(a[,3]))"
   ]
  },
  {
   "cell_type": "code",
   "execution_count": 190,
   "id": "b24c33e8",
   "metadata": {},
   "outputs": [
    {
     "data": {
      "text/html": [
       "0.705568066447298"
      ],
      "text/latex": [
       "0.705568066447298"
      ],
      "text/markdown": [
       "0.705568066447298"
      ],
      "text/plain": [
       "[1] 0.7055681"
      ]
     },
     "metadata": {},
     "output_type": "display_data"
    }
   ],
   "source": [
    "cor(log(a[,1]),log(a[,3]))"
   ]
  },
  {
   "cell_type": "code",
   "execution_count": 173,
   "id": "3829a07c",
   "metadata": {},
   "outputs": [
    {
     "data": {
      "image/png": "[encoded data removed]",
      "text/plain": [
       "plot without title"
      ]
     },
     "metadata": {
      "image/png": {
       "height": 420,
       "width": 420
      }
     },
     "output_type": "display_data"
    }
   ],
   "source": [
    "plot(b[,1],b[,3])"
   ]
  },
  {
   "cell_type": "code",
   "execution_count": 174,
   "id": "097612ee",
   "metadata": {},
   "outputs": [
    {
     "data": {
      "image/png": "[encoded data removed]",
      "text/plain": [
       "plot without title"
      ]
     },
     "metadata": {
      "image/png": {
       "height": 420,
       "width": 420
      }
     },
     "output_type": "display_data"
    }
   ],
   "source": [
    "plot(c[,1],c[,3])"
   ]
  },
  {
   "cell_type": "code",
   "execution_count": null,
   "id": "acd07b7e",
   "metadata": {},
   "outputs": [],
   "source": []
  },
  {
   "cell_type": "code",
   "execution_count": 2,
   "id": "e8b64949",
   "metadata": {},
   "outputs": [],
   "source": [
    "a = c('a','b','a','c','b')"
   ]
  },
  {
   "cell_type": "code",
   "execution_count": 5,
   "id": "dcea4526",
   "metadata": {},
   "outputs": [
    {
     "data": {
      "text/html": [
       "<style>\n",
       ".list-inline {list-style: none; margin:0; padding: 0}\n",
       ".list-inline>li {display: inline-block}\n",
       ".list-inline>li:not(:last-child)::after {content: \"\\00b7\"; padding: 0 .5ex}\n",
       "</style>\n",
       "<ol class=list-inline><li>FALSE</li><li>FALSE</li><li>TRUE</li><li>FALSE</li><li>TRUE</li></ol>\n"
      ],
      "text/latex": [
       "\\begin{enumerate*}\n",
       "\\item FALSE\n",
       "\\item FALSE\n",
       "\\item TRUE\n",
       "\\item FALSE\n",
       "\\item TRUE\n",
       "\\end{enumerate*}\n"
      ],
      "text/markdown": [
       "1. FALSE\n",
       "2. FALSE\n",
       "3. TRUE\n",
       "4. FALSE\n",
       "5. TRUE\n",
       "\n",
       "\n"
      ],
      "text/plain": [
       "[1] FALSE FALSE  TRUE FALSE  TRUE"
      ]
     },
     "metadata": {},
     "output_type": "display_data"
    }
   ],
   "source": [
    "duplicated(a)"
   ]
  },
  {
   "cell_type": "code",
   "execution_count": 4,
   "id": "f50c54a2",
   "metadata": {},
   "outputs": [
    {
     "data": {
      "text/html": [
       "<style>\n",
       ".list-inline {list-style: none; margin:0; padding: 0}\n",
       ".list-inline>li {display: inline-block}\n",
       ".list-inline>li:not(:last-child)::after {content: \"\\00b7\"; padding: 0 .5ex}\n",
       "</style>\n",
       "<ol class=list-inline><li>0</li><li>0</li><li>-1</li><li>0</li><li>-1</li></ol>\n"
      ],
      "text/latex": [
       "\\begin{enumerate*}\n",
       "\\item 0\n",
       "\\item 0\n",
       "\\item -1\n",
       "\\item 0\n",
       "\\item -1\n",
       "\\end{enumerate*}\n"
      ],
      "text/markdown": [
       "1. 0\n",
       "2. 0\n",
       "3. -1\n",
       "4. 0\n",
       "5. -1\n",
       "\n",
       "\n"
      ],
      "text/plain": [
       "[1]  0  0 -1  0 -1"
      ]
     },
     "metadata": {},
     "output_type": "display_data"
    }
   ],
   "source": [
    "-duplicated(a)"
   ]
  },
  {
   "cell_type": "code",
   "execution_count": 7,
   "id": "819b37dd",
   "metadata": {},
   "outputs": [
    {
     "data": {
      "text/html": [
       "<style>\n",
       ".list-inline {list-style: none; margin:0; padding: 0}\n",
       ".list-inline>li {display: inline-block}\n",
       ".list-inline>li:not(:last-child)::after {content: \"\\00b7\"; padding: 0 .5ex}\n",
       "</style>\n",
       "<ol class=list-inline><li>'b'</li><li>'a'</li><li>'c'</li><li>'b'</li></ol>\n"
      ],
      "text/latex": [
       "\\begin{enumerate*}\n",
       "\\item 'b'\n",
       "\\item 'a'\n",
       "\\item 'c'\n",
       "\\item 'b'\n",
       "\\end{enumerate*}\n"
      ],
      "text/markdown": [
       "1. 'b'\n",
       "2. 'a'\n",
       "3. 'c'\n",
       "4. 'b'\n",
       "\n",
       "\n"
      ],
      "text/plain": [
       "[1] \"b\" \"a\" \"c\" \"b\""
      ]
     },
     "metadata": {},
     "output_type": "display_data"
    }
   ],
   "source": [
    "a[c(0,-1)]"
   ]
  },
  {
   "cell_type": "code",
   "execution_count": null,
   "id": "67282dcd",
   "metadata": {},
   "outputs": [],
   "source": [
    "a[c]"
   ]
  },
  {
   "cell_type": "code",
   "execution_count": null,
   "id": "abcce99c",
   "metadata": {},
   "outputs": [],
   "source": []
  },
  {
   "cell_type": "code",
   "execution_count": null,
   "id": "bdae457f",
   "metadata": {},
   "outputs": [],
   "source": []
  },
  {
   "cell_type": "code",
   "execution_count": null,
   "id": "2f3ad327",
   "metadata": {},
   "outputs": [],
   "source": []
  },
  {
   "cell_type": "code",
   "execution_count": null,
   "id": "95ffd728",
   "metadata": {},
   "outputs": [],
   "source": []
  },
  {
   "cell_type": "code",
   "execution_count": null,
   "id": "1478c728",
   "metadata": {},
   "outputs": [],
   "source": []
  },
  {
   "cell_type": "code",
   "execution_count": null,
   "id": "7a223a97",
   "metadata": {},
   "outputs": [],
   "source": []
  }
 ],
 "metadata": {
  "kernelspec": {
   "display_name": "R",
   "language": "R",
   "name": "ir"
  },
  "language_info": {
   "codemirror_mode": "r",
   "file_extension": ".r",
   "mimetype": "text/x-r-source",
   "name": "R",
   "pygments_lexer": "r",
   "version": "4.2.2"
  }
 },
 "nbformat": 4,
 "nbformat_minor": 5
}
